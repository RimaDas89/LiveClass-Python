{
 "cells": [
  {
   "cell_type": "code",
   "execution_count": 1,
   "id": "b08c691b",
   "metadata": {},
   "outputs": [],
   "source": [
    "#Class\n",
    "\n",
    "class Complex:\n",
    "    def __init__(self, realpart, imagpart):\n",
    "        self.realpart=realpart\n",
    "        self.imagpart=imagpart\n",
    "        "
   ]
  },
  {
   "cell_type": "code",
   "execution_count": 2,
   "id": "04574192",
   "metadata": {},
   "outputs": [
    {
     "data": {
      "text/plain": [
       "(3.0, -4.5)"
      ]
     },
     "execution_count": 2,
     "metadata": {},
     "output_type": "execute_result"
    }
   ],
   "source": [
    "x = Complex(3.0, -4.5)\n",
    "\n",
    "x.realpart,x.imagpart"
   ]
  },
  {
   "cell_type": "code",
   "execution_count": 3,
   "id": "a786c6c7",
   "metadata": {},
   "outputs": [],
   "source": [
    "class Lion:\n",
    "    kind = 'canine' # global class variable shared by all instances\n",
    "\n",
    "    def __init__(self, name):\n",
    "        self.name = name # instance variable unique to each instance"
   ]
  },
  {
   "cell_type": "code",
   "execution_count": 4,
   "id": "aa0dd36b",
   "metadata": {},
   "outputs": [],
   "source": [
    "d=Lion('Fido')"
   ]
  },
  {
   "cell_type": "code",
   "execution_count": 5,
   "id": "76efef5d",
   "metadata": {},
   "outputs": [],
   "source": [
    "e=Lion('Buddy')"
   ]
  },
  {
   "cell_type": "code",
   "execution_count": 6,
   "id": "d9415ea5",
   "metadata": {},
   "outputs": [
    {
     "data": {
      "text/plain": [
       "'canine'"
      ]
     },
     "execution_count": 6,
     "metadata": {},
     "output_type": "execute_result"
    }
   ],
   "source": [
    "# shared by all lion\n",
    "d.kind"
   ]
  },
  {
   "cell_type": "code",
   "execution_count": 7,
   "id": "756a6fef",
   "metadata": {},
   "outputs": [
    {
     "data": {
      "text/plain": [
       "'canine'"
      ]
     },
     "execution_count": 7,
     "metadata": {},
     "output_type": "execute_result"
    }
   ],
   "source": [
    "# shared by all lion\n",
    "e.kind"
   ]
  },
  {
   "cell_type": "code",
   "execution_count": 8,
   "id": "c5521074",
   "metadata": {},
   "outputs": [
    {
     "data": {
      "text/plain": [
       "'Fido'"
      ]
     },
     "execution_count": 8,
     "metadata": {},
     "output_type": "execute_result"
    }
   ],
   "source": [
    "# unique to d\n",
    "d.name"
   ]
  },
  {
   "cell_type": "code",
   "execution_count": 9,
   "id": "93847746",
   "metadata": {},
   "outputs": [
    {
     "data": {
      "text/plain": [
       "'Buddy'"
      ]
     },
     "execution_count": 9,
     "metadata": {},
     "output_type": "execute_result"
    }
   ],
   "source": [
    "e.name"
   ]
  },
  {
   "cell_type": "code",
   "execution_count": 10,
   "id": "757eeed5",
   "metadata": {},
   "outputs": [],
   "source": [
    "class Pet:\n",
    "    def __init__(self,name):\n",
    "        self.name=name\n",
    "        self.tricks = [] # creates a new empty list for each dog\n",
    "\n",
    "    def add_trick(self, trick):\n",
    "        self.tricks.append(trick)"
   ]
  },
  {
   "cell_type": "code",
   "execution_count": 11,
   "id": "7fc18db9",
   "metadata": {},
   "outputs": [],
   "source": [
    "d = Pet('Fido')"
   ]
  },
  {
   "cell_type": "code",
   "execution_count": 12,
   "id": "ef791ccd",
   "metadata": {},
   "outputs": [],
   "source": [
    "e = Pet('Buddy')"
   ]
  },
  {
   "cell_type": "code",
   "execution_count": 13,
   "id": "3f53033d",
   "metadata": {},
   "outputs": [],
   "source": [
    "d.add_trick('roll over')"
   ]
  },
  {
   "cell_type": "code",
   "execution_count": 14,
   "id": "ccb07b24",
   "metadata": {},
   "outputs": [],
   "source": [
    "e.add_trick('play dead')"
   ]
  },
  {
   "cell_type": "code",
   "execution_count": 15,
   "id": "08a67c93",
   "metadata": {},
   "outputs": [
    {
     "data": {
      "text/plain": [
       "['roll over']"
      ]
     },
     "execution_count": 15,
     "metadata": {},
     "output_type": "execute_result"
    }
   ],
   "source": [
    "d.tricks"
   ]
  },
  {
   "cell_type": "code",
   "execution_count": 16,
   "id": "587609da",
   "metadata": {},
   "outputs": [
    {
     "data": {
      "text/plain": [
       "['play dead']"
      ]
     },
     "execution_count": 16,
     "metadata": {},
     "output_type": "execute_result"
    }
   ],
   "source": [
    "e.tricks"
   ]
  },
  {
   "cell_type": "code",
   "execution_count": 7,
   "id": "cffd66a8",
   "metadata": {},
   "outputs": [],
   "source": [
    "# In class Methods may call other methods by using method attributes of the self argument:\n",
    "\n",
    "class Bag:\n",
    "    def __init__(self):\n",
    "        self.data = []\n",
    "    \n",
    "    def add(self, x):\n",
    "        self.data.append(x)\n",
    "\n",
    "    def addtwice(self, x):\n",
    "        self.add(x)\n",
    "        self.add(x)\n",
    "\n",
    "bg=Bag()\n",
    "\n",
    "bg.addtwice('Cricket')"
   ]
  },
  {
   "cell_type": "markdown",
   "id": "efc73f20",
   "metadata": {},
   "source": [
    "# file Input/output operations"
   ]
  },
  {
   "cell_type": "code",
   "execution_count": 6,
   "id": "ffae2013",
   "metadata": {},
   "outputs": [],
   "source": [
    "f=open('workfile.txt','w')\n",
    "# make workfile and write any content inside it\n",
    "\n",
    "with open('workfile.txt') as f:\n",
    "    read_data = f.read()"
   ]
  },
  {
   "cell_type": "code",
   "execution_count": 9,
   "id": "be7d75f2",
   "metadata": {},
   "outputs": [
    {
     "ename": "SyntaxError",
     "evalue": "invalid syntax (3440746093.py, line 6)",
     "output_type": "error",
     "traceback": [
      "\u001b[1;36m  File \u001b[1;32m\"C:\\Users\\Rima Das\\AppData\\Local\\Temp\\ipykernel_5432\\3440746093.py\"\u001b[1;36m, line \u001b[1;32m6\u001b[0m\n\u001b[1;33m    break\u001b[0m\n\u001b[1;37m    ^\u001b[0m\n\u001b[1;31mSyntaxError\u001b[0m\u001b[1;31m:\u001b[0m invalid syntax\n"
     ]
    }
   ],
   "source": [
    "# Exception Handling\n",
    "\n",
    "while True:\n",
    "    try:\n",
    "        x = int(input(\"Please enter a number: \"))\n",
    "    break\n",
    "    except ValueError:\n",
    "    print(\"Oops! That was no valid number. Try again...\")"
   ]
  },
  {
   "cell_type": "code",
   "execution_count": 10,
   "id": "723fb158",
   "metadata": {},
   "outputs": [],
   "source": [
    "import math"
   ]
  },
  {
   "cell_type": "code",
   "execution_count": 11,
   "id": "8306024c",
   "metadata": {},
   "outputs": [
    {
     "data": {
      "text/plain": [
       "0.7071067811865476"
      ]
     },
     "execution_count": 11,
     "metadata": {},
     "output_type": "execute_result"
    }
   ],
   "source": [
    "math.cos(math.pi / 4)"
   ]
  },
  {
   "cell_type": "code",
   "execution_count": 12,
   "id": "8eebf97c",
   "metadata": {},
   "outputs": [
    {
     "data": {
      "text/plain": [
       "10.0"
      ]
     },
     "execution_count": 12,
     "metadata": {},
     "output_type": "execute_result"
    }
   ],
   "source": [
    "math.log(1024, 2)"
   ]
  },
  {
   "cell_type": "code",
   "execution_count": 13,
   "id": "2a55a1fd",
   "metadata": {},
   "outputs": [],
   "source": [
    "import statistics"
   ]
  },
  {
   "cell_type": "code",
   "execution_count": 14,
   "id": "2383e205",
   "metadata": {},
   "outputs": [
    {
     "data": {
      "text/plain": [
       "1.6071428571428572"
      ]
     },
     "execution_count": 14,
     "metadata": {},
     "output_type": "execute_result"
    }
   ],
   "source": [
    "data = [2.75, 1.75, 1.25, 0.25, 0.5, 1.25, 3.5]\n",
    "\n",
    "statistics.mean(data)"
   ]
  },
  {
   "cell_type": "code",
   "execution_count": 15,
   "id": "c1db0544",
   "metadata": {},
   "outputs": [
    {
     "data": {
      "text/plain": [
       "1.25"
      ]
     },
     "execution_count": 15,
     "metadata": {},
     "output_type": "execute_result"
    }
   ],
   "source": [
    "statistics.median(data)"
   ]
  },
  {
   "cell_type": "code",
   "execution_count": 16,
   "id": "97a99b5f",
   "metadata": {},
   "outputs": [],
   "source": [
    "# Task: write a function to append the numbers 1 to 8 in a list using for loop inside it.\n",
    "\n",
    "def f1():\n",
    "    s=[]\n",
    "    for i in range(1,8):\n",
    "        s.append(i)\n",
    "        print(s)"
   ]
  },
  {
   "cell_type": "code",
   "execution_count": 17,
   "id": "32dfb6a8",
   "metadata": {},
   "outputs": [
    {
     "name": "stdout",
     "output_type": "stream",
     "text": [
      "[1]\n",
      "[1, 2]\n",
      "[1, 2, 3]\n",
      "[1, 2, 3, 4]\n",
      "[1, 2, 3, 4, 5]\n",
      "[1, 2, 3, 4, 5, 6]\n",
      "[1, 2, 3, 4, 5, 6, 7]\n"
     ]
    }
   ],
   "source": [
    "f1()"
   ]
  },
  {
   "cell_type": "code",
   "execution_count": 18,
   "id": "f5e77b8c",
   "metadata": {},
   "outputs": [],
   "source": [
    "#Task: Write a function to generate the table by using user input.\n",
    "\n",
    "def f2():\n",
    "    p=int(input(\"Enter any number to generate the table \"))\n",
    "\n",
    "    for i in range(1,11):\n",
    "\n",
    "        print(p,\"*\",i,\"=\",p*i)\n",
    "\n",
    "    print(\"Table completed\")"
   ]
  },
  {
   "cell_type": "code",
   "execution_count": 19,
   "id": "836d8cfb",
   "metadata": {},
   "outputs": [
    {
     "name": "stdout",
     "output_type": "stream",
     "text": [
      "Enter any number to generate the table 5\n",
      "5 * 1 = 5\n",
      "5 * 2 = 10\n",
      "5 * 3 = 15\n",
      "5 * 4 = 20\n",
      "5 * 5 = 25\n",
      "5 * 6 = 30\n",
      "5 * 7 = 35\n",
      "5 * 8 = 40\n",
      "5 * 9 = 45\n",
      "5 * 10 = 50\n",
      "Table completed\n"
     ]
    }
   ],
   "source": [
    "f2()"
   ]
  },
  {
   "cell_type": "code",
   "execution_count": 20,
   "id": "969abc51",
   "metadata": {},
   "outputs": [
    {
     "name": "stdout",
     "output_type": "stream",
     "text": [
      "enter value24\n",
      "enter value30\n",
      "enter value5\n"
     ]
    },
    {
     "data": {
      "text/plain": [
       "3600"
      ]
     },
     "execution_count": 20,
     "metadata": {},
     "output_type": "execute_result"
    }
   ],
   "source": [
    "#Task: Write a parametric function to pass user input values and find simple interest.\n",
    "\n",
    "def si(p,r,t):\n",
    "\n",
    "    sip=p*r*t\n",
    "\n",
    "    return sip\n",
    "\n",
    "p=int(input(\"enter value\"))\n",
    "\n",
    "r=int(input(\"enter value\"))\n",
    "\n",
    "t=int(input(\"enter value\"))\n",
    "\n",
    "si(p,r,t)"
   ]
  },
  {
   "cell_type": "code",
   "execution_count": 21,
   "id": "f5a29748",
   "metadata": {},
   "outputs": [],
   "source": [
    "#Task: Write a function to take user input and append the data in a list.\n",
    "\n",
    "def s2():\n",
    "\n",
    "    s=[]\n",
    "\n",
    "    for i in range(1,5):\n",
    "\n",
    "        p=input(\"enter val\")\n",
    "\n",
    "        s.append(p)\n",
    "\n",
    "    print(s)"
   ]
  },
  {
   "cell_type": "code",
   "execution_count": 22,
   "id": "d232996d",
   "metadata": {},
   "outputs": [
    {
     "name": "stdout",
     "output_type": "stream",
     "text": [
      "enter val2\n",
      "enter val5\n",
      "enter val6\n",
      "enter val60\n",
      "['2', '5', '6', '60']\n"
     ]
    }
   ],
   "source": [
    "s2()"
   ]
  },
  {
   "cell_type": "code",
   "execution_count": null,
   "id": "2b20ac34",
   "metadata": {},
   "outputs": [],
   "source": []
  }
 ],
 "metadata": {
  "kernelspec": {
   "display_name": "Python 3 (ipykernel)",
   "language": "python",
   "name": "python3"
  },
  "language_info": {
   "codemirror_mode": {
    "name": "ipython",
    "version": 3
   },
   "file_extension": ".py",
   "mimetype": "text/x-python",
   "name": "python",
   "nbconvert_exporter": "python",
   "pygments_lexer": "ipython3",
   "version": "3.9.13"
  }
 },
 "nbformat": 4,
 "nbformat_minor": 5
}
