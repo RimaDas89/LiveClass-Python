{
 "cells": [
  {
   "cell_type": "markdown",
   "id": "d2972a01",
   "metadata": {},
   "source": [
    "# Data Structures"
   ]
  },
  {
   "cell_type": "code",
   "execution_count": 1,
   "id": "6b45a769",
   "metadata": {},
   "outputs": [
    {
     "data": {
      "text/plain": [
       "[1, 4, 9, 16, 25]"
      ]
     },
     "execution_count": 1,
     "metadata": {},
     "output_type": "execute_result"
    }
   ],
   "source": [
    "#Do practice the code given below and complete the task .\n",
    "\n",
    "squares = [1, 4, 9, 16, 25]\n",
    "squares"
   ]
  },
  {
   "cell_type": "code",
   "execution_count": 2,
   "id": "5f02c41b",
   "metadata": {},
   "outputs": [
    {
     "data": {
      "text/plain": [
       "1"
      ]
     },
     "execution_count": 2,
     "metadata": {},
     "output_type": "execute_result"
    }
   ],
   "source": [
    "# indexing returns the item\n",
    "squares[0]"
   ]
  },
  {
   "cell_type": "code",
   "execution_count": 6,
   "id": "6230f82f",
   "metadata": {},
   "outputs": [
    {
     "data": {
      "text/plain": [
       "25"
      ]
     },
     "execution_count": 6,
     "metadata": {},
     "output_type": "execute_result"
    }
   ],
   "source": [
    "squares[-1]"
   ]
  },
  {
   "cell_type": "code",
   "execution_count": 4,
   "id": "bc3dfc46",
   "metadata": {},
   "outputs": [
    {
     "data": {
      "text/plain": [
       "[9, 16, 25]"
      ]
     },
     "execution_count": 4,
     "metadata": {},
     "output_type": "execute_result"
    }
   ],
   "source": [
    "squares[-3:]"
   ]
  },
  {
   "cell_type": "code",
   "execution_count": 7,
   "id": "dedc1725",
   "metadata": {},
   "outputs": [
    {
     "data": {
      "text/plain": [
       "[1, 4, 9, 16, 25]"
      ]
     },
     "execution_count": 7,
     "metadata": {},
     "output_type": "execute_result"
    }
   ],
   "source": [
    "squares[:]"
   ]
  },
  {
   "cell_type": "code",
   "execution_count": 8,
   "id": "73af01de",
   "metadata": {},
   "outputs": [
    {
     "data": {
      "text/plain": [
       "[1, 4, 9, 16, 25, 36, 49, 64, 81, 100]"
      ]
     },
     "execution_count": 8,
     "metadata": {},
     "output_type": "execute_result"
    }
   ],
   "source": [
    "squares + [36, 49, 64, 81, 100]"
   ]
  },
  {
   "cell_type": "code",
   "execution_count": 3,
   "id": "9dbd42ba",
   "metadata": {},
   "outputs": [],
   "source": [
    "cubes= [1, 8, 27, 65, 125]"
   ]
  },
  {
   "cell_type": "code",
   "execution_count": 6,
   "id": "71c48950",
   "metadata": {},
   "outputs": [
    {
     "data": {
      "text/plain": [
       "65"
      ]
     },
     "execution_count": 6,
     "metadata": {},
     "output_type": "execute_result"
    }
   ],
   "source": [
    "#to check the data in 3rd index of the list\n",
    "cubes[3]"
   ]
  },
  {
   "cell_type": "code",
   "execution_count": 5,
   "id": "37c9ba8b",
   "metadata": {},
   "outputs": [
    {
     "data": {
      "text/plain": [
       "[1, 8, 27, 65, 125]"
      ]
     },
     "execution_count": 5,
     "metadata": {},
     "output_type": "execute_result"
    }
   ],
   "source": [
    "cubes"
   ]
  },
  {
   "cell_type": "code",
   "execution_count": 7,
   "id": "ed0b1597",
   "metadata": {},
   "outputs": [
    {
     "data": {
      "text/plain": [
       "[1, 8, 27, 65, 125, 216]"
      ]
     },
     "execution_count": 7,
     "metadata": {},
     "output_type": "execute_result"
    }
   ],
   "source": [
    "cubes.append(216) # add the cube of 6\n",
    "cubes"
   ]
  },
  {
   "cell_type": "code",
   "execution_count": 13,
   "id": "adf2d5f6",
   "metadata": {},
   "outputs": [],
   "source": [
    "cubes.append(7 ** 3) # and the cube of 7"
   ]
  },
  {
   "cell_type": "code",
   "execution_count": 14,
   "id": "886a5ceb",
   "metadata": {},
   "outputs": [
    {
     "data": {
      "text/plain": [
       "[1, 8, 27, 64, 125, 216, 343]"
      ]
     },
     "execution_count": 14,
     "metadata": {},
     "output_type": "execute_result"
    }
   ],
   "source": [
    "cubes"
   ]
  },
  {
   "cell_type": "code",
   "execution_count": 15,
   "id": "5fe169aa",
   "metadata": {},
   "outputs": [
    {
     "data": {
      "text/plain": [
       "['a', 'b', 'c', 'd', 'e', 'f', 'g']"
      ]
     },
     "execution_count": 15,
     "metadata": {},
     "output_type": "execute_result"
    }
   ],
   "source": [
    "letters = ['a', 'b', 'c', 'd', 'e', 'f', 'g']\n",
    "\n",
    "letters"
   ]
  },
  {
   "cell_type": "code",
   "execution_count": 16,
   "id": "c9f2bb58",
   "metadata": {},
   "outputs": [
    {
     "data": {
      "text/plain": [
       "['a', 'b', 'C', 'D', 'E', 'f', 'g']"
      ]
     },
     "execution_count": 16,
     "metadata": {},
     "output_type": "execute_result"
    }
   ],
   "source": [
    " # replace some values\n",
    "\n",
    "letters[2:5] = ['C', 'D', 'E']\n",
    "\n",
    "letters"
   ]
  },
  {
   "cell_type": "code",
   "execution_count": 17,
   "id": "729cdc83",
   "metadata": {},
   "outputs": [
    {
     "data": {
      "text/plain": [
       "7"
      ]
     },
     "execution_count": 17,
     "metadata": {},
     "output_type": "execute_result"
    }
   ],
   "source": [
    "len(letters)"
   ]
  },
  {
   "cell_type": "code",
   "execution_count": 18,
   "id": "1a9250b3",
   "metadata": {},
   "outputs": [
    {
     "data": {
      "text/plain": [
       "2"
      ]
     },
     "execution_count": 18,
     "metadata": {},
     "output_type": "execute_result"
    }
   ],
   "source": [
    "fruits = ['orange', 'apple', 'pear', 'banana', 'kiwi', 'apple', 'banana']\n",
    "\n",
    "fruits.count('apple')"
   ]
  },
  {
   "cell_type": "code",
   "execution_count": 19,
   "id": "d7a7bf54",
   "metadata": {},
   "outputs": [
    {
     "data": {
      "text/plain": [
       "0"
      ]
     },
     "execution_count": 19,
     "metadata": {},
     "output_type": "execute_result"
    }
   ],
   "source": [
    "fruits.count('tangerine') #Return the number of times x appears in the list"
   ]
  },
  {
   "cell_type": "code",
   "execution_count": 21,
   "id": "9f582ee4",
   "metadata": {},
   "outputs": [
    {
     "data": {
      "text/plain": [
       "3"
      ]
     },
     "execution_count": 21,
     "metadata": {},
     "output_type": "execute_result"
    }
   ],
   "source": [
    "fruits.index('banana')"
   ]
  },
  {
   "cell_type": "code",
   "execution_count": 22,
   "id": "5a9e33cb",
   "metadata": {},
   "outputs": [
    {
     "data": {
      "text/plain": [
       "6"
      ]
     },
     "execution_count": 22,
     "metadata": {},
     "output_type": "execute_result"
    }
   ],
   "source": [
    "fruits.index('banana', 4) # Find next banana starting a position 4"
   ]
  },
  {
   "cell_type": "code",
   "execution_count": 26,
   "id": "305a9e00",
   "metadata": {},
   "outputs": [],
   "source": [
    "fruits.reverse()"
   ]
  },
  {
   "cell_type": "code",
   "execution_count": 27,
   "id": "e2ebe195",
   "metadata": {},
   "outputs": [
    {
     "data": {
      "text/plain": [
       "['orange', 'apple', 'pear', 'banana', 'kiwi', 'apple', 'banana']"
      ]
     },
     "execution_count": 27,
     "metadata": {},
     "output_type": "execute_result"
    }
   ],
   "source": [
    "fruits"
   ]
  },
  {
   "cell_type": "code",
   "execution_count": 28,
   "id": "59bad1c7",
   "metadata": {},
   "outputs": [],
   "source": [
    "fruits.append('grape')"
   ]
  },
  {
   "cell_type": "code",
   "execution_count": 29,
   "id": "510402fd",
   "metadata": {},
   "outputs": [
    {
     "data": {
      "text/plain": [
       "['orange', 'apple', 'pear', 'banana', 'kiwi', 'apple', 'banana', 'grape']"
      ]
     },
     "execution_count": 29,
     "metadata": {},
     "output_type": "execute_result"
    }
   ],
   "source": [
    "fruits"
   ]
  },
  {
   "cell_type": "code",
   "execution_count": 31,
   "id": "ea533889",
   "metadata": {},
   "outputs": [
    {
     "data": {
      "text/plain": [
       "['apple', 'apple', 'banana', 'banana', 'grape', 'kiwi', 'orange', 'pear']"
      ]
     },
     "execution_count": 31,
     "metadata": {},
     "output_type": "execute_result"
    }
   ],
   "source": [
    "fruits.sort()\n",
    "fruits"
   ]
  },
  {
   "cell_type": "code",
   "execution_count": 32,
   "id": "4577d913",
   "metadata": {},
   "outputs": [
    {
     "data": {
      "text/plain": [
       "'pear'"
      ]
     },
     "execution_count": 32,
     "metadata": {},
     "output_type": "execute_result"
    }
   ],
   "source": [
    "fruits.pop()"
   ]
  },
  {
   "cell_type": "code",
   "execution_count": 33,
   "id": "243da7c8",
   "metadata": {},
   "outputs": [],
   "source": [
    "stack = [3, 4, 5]"
   ]
  },
  {
   "cell_type": "code",
   "execution_count": 34,
   "id": "1cc9f6da",
   "metadata": {},
   "outputs": [],
   "source": [
    "stack.append(6)"
   ]
  },
  {
   "cell_type": "code",
   "execution_count": 39,
   "id": "7ab8579d",
   "metadata": {},
   "outputs": [],
   "source": [
    "stack.append(7)"
   ]
  },
  {
   "cell_type": "code",
   "execution_count": 40,
   "id": "613f26b9",
   "metadata": {},
   "outputs": [
    {
     "data": {
      "text/plain": [
       "[3, 4, 5, 6, 7]"
      ]
     },
     "execution_count": 40,
     "metadata": {},
     "output_type": "execute_result"
    }
   ],
   "source": [
    "stack"
   ]
  },
  {
   "cell_type": "code",
   "execution_count": 41,
   "id": "b04a3c50",
   "metadata": {},
   "outputs": [
    {
     "data": {
      "text/plain": [
       "7"
      ]
     },
     "execution_count": 41,
     "metadata": {},
     "output_type": "execute_result"
    }
   ],
   "source": [
    "stack.pop()"
   ]
  },
  {
   "cell_type": "code",
   "execution_count": 42,
   "id": "784d83ac",
   "metadata": {},
   "outputs": [
    {
     "data": {
      "text/plain": [
       "[3, 4, 5, 6]"
      ]
     },
     "execution_count": 42,
     "metadata": {},
     "output_type": "execute_result"
    }
   ],
   "source": [
    "stack"
   ]
  },
  {
   "cell_type": "code",
   "execution_count": 43,
   "id": "f2cc0035",
   "metadata": {},
   "outputs": [
    {
     "data": {
      "text/plain": [
       "6"
      ]
     },
     "execution_count": 43,
     "metadata": {},
     "output_type": "execute_result"
    }
   ],
   "source": [
    "stack.pop()"
   ]
  },
  {
   "cell_type": "code",
   "execution_count": 44,
   "id": "d7197834",
   "metadata": {},
   "outputs": [
    {
     "data": {
      "text/plain": [
       "[3, 4, 5]"
      ]
     },
     "execution_count": 44,
     "metadata": {},
     "output_type": "execute_result"
    }
   ],
   "source": [
    "stack"
   ]
  },
  {
   "cell_type": "code",
   "execution_count": 45,
   "id": "a35fcd8a",
   "metadata": {},
   "outputs": [
    {
     "data": {
      "text/plain": [
       "[100, 200, 300, 400, 500]"
      ]
     },
     "execution_count": 45,
     "metadata": {},
     "output_type": "execute_result"
    }
   ],
   "source": [
    "#Task: 1.Reverse a list in Python.\n",
    "\n",
    "List=[100,200,300,400,500]\n",
    "List"
   ]
  },
  {
   "cell_type": "code",
   "execution_count": 47,
   "id": "02c07c0e",
   "metadata": {},
   "outputs": [
    {
     "data": {
      "text/plain": [
       "[500, 400, 300, 200, 100]"
      ]
     },
     "execution_count": 47,
     "metadata": {},
     "output_type": "execute_result"
    }
   ],
   "source": [
    "List.reverse()\n",
    "List"
   ]
  },
  {
   "cell_type": "code",
   "execution_count": 50,
   "id": "fe9fc90e",
   "metadata": {},
   "outputs": [],
   "source": [
    "#Another reverse the list method"
   ]
  },
  {
   "cell_type": "code",
   "execution_count": 48,
   "id": "c24dd384",
   "metadata": {},
   "outputs": [],
   "source": [
    "list1 = [100, 200, 300, 400, 500]"
   ]
  },
  {
   "cell_type": "code",
   "execution_count": 49,
   "id": "54ad484e",
   "metadata": {},
   "outputs": [
    {
     "name": "stdout",
     "output_type": "stream",
     "text": [
      "[500, 400, 300, 200, 100]\n"
     ]
    }
   ],
   "source": [
    "list1 = list1[::-1]\n",
    "\n",
    "print(list1)"
   ]
  },
  {
   "cell_type": "code",
   "execution_count": 48,
   "id": "97e782a7",
   "metadata": {},
   "outputs": [
    {
     "name": "stdout",
     "output_type": "stream",
     "text": [
      "{'banana', 'orange', 'pear', 'apple'}\n"
     ]
    }
   ],
   "source": [
    "#sets\n",
    "\n",
    "basket = {'apple', 'orange', 'apple', 'pear', 'orange', 'banana'}\n",
    "\n",
    "print(basket)"
   ]
  },
  {
   "cell_type": "code",
   "execution_count": 52,
   "id": "bdd533f6",
   "metadata": {},
   "outputs": [],
   "source": [
    "#Task:1 . Perform all basic set operation such as-add,remove,pop"
   ]
  },
  {
   "cell_type": "code",
   "execution_count": 49,
   "id": "175ba49f",
   "metadata": {},
   "outputs": [
    {
     "ename": "TypeError",
     "evalue": "'set' object does not support item assignment",
     "output_type": "error",
     "traceback": [
      "\u001b[1;31m---------------------------------------------------------------------------\u001b[0m",
      "\u001b[1;31mTypeError\u001b[0m                                 Traceback (most recent call last)",
      "\u001b[1;32m~\\AppData\\Local\\Temp\\ipykernel_8396\\1727897028.py\u001b[0m in \u001b[0;36m<module>\u001b[1;34m\u001b[0m\n\u001b[0;32m      1\u001b[0m \u001b[1;31m#set dont allow to update any data\u001b[0m\u001b[1;33m\u001b[0m\u001b[1;33m\u001b[0m\u001b[0m\n\u001b[0;32m      2\u001b[0m \u001b[1;33m\u001b[0m\u001b[0m\n\u001b[1;32m----> 3\u001b[1;33m \u001b[0mbasket\u001b[0m\u001b[1;33m[\u001b[0m\u001b[1;36m4\u001b[0m\u001b[1;33m]\u001b[0m\u001b[1;33m=\u001b[0m\u001b[1;34m\"mango\"\u001b[0m\u001b[1;33m\u001b[0m\u001b[1;33m\u001b[0m\u001b[0m\n\u001b[0m",
      "\u001b[1;31mTypeError\u001b[0m: 'set' object does not support item assignment"
     ]
    }
   ],
   "source": [
    "#set dont allow to update any data\n",
    "\n",
    "basket[4]=\"mango\""
   ]
  },
  {
   "cell_type": "code",
   "execution_count": 51,
   "id": "a626eefe",
   "metadata": {},
   "outputs": [
    {
     "data": {
      "text/plain": [
       "{'apple', 'banana', 'mango', 'orange', 'pear'}"
      ]
     },
     "execution_count": 51,
     "metadata": {},
     "output_type": "execute_result"
    }
   ],
   "source": [
    "#add values in set (it is unordered so value will be added in random place)\n",
    "basket.add(\"mango\")\n",
    "basket"
   ]
  },
  {
   "cell_type": "code",
   "execution_count": 54,
   "id": "f95fcf37",
   "metadata": {},
   "outputs": [],
   "source": [
    "basket.remove(\"pear\")"
   ]
  },
  {
   "cell_type": "code",
   "execution_count": 55,
   "id": "e329f377",
   "metadata": {},
   "outputs": [
    {
     "data": {
      "text/plain": [
       "{'apple', 'banana', 'mango', 'orange'}"
      ]
     },
     "execution_count": 55,
     "metadata": {},
     "output_type": "execute_result"
    }
   ],
   "source": [
    "basket"
   ]
  },
  {
   "cell_type": "code",
   "execution_count": 56,
   "id": "181fa7bb",
   "metadata": {},
   "outputs": [
    {
     "data": {
      "text/plain": [
       "'orange'"
      ]
     },
     "execution_count": 56,
     "metadata": {},
     "output_type": "execute_result"
    }
   ],
   "source": [
    "#pop in sets will randomly delete data\n",
    "basket.pop()"
   ]
  },
  {
   "cell_type": "code",
   "execution_count": 57,
   "id": "bfff70bb",
   "metadata": {},
   "outputs": [
    {
     "data": {
      "text/plain": [
       "{'apple', 'banana', 'mango'}"
      ]
     },
     "execution_count": 57,
     "metadata": {},
     "output_type": "execute_result"
    }
   ],
   "source": [
    "basket"
   ]
  },
  {
   "cell_type": "code",
   "execution_count": 17,
   "id": "22665d37",
   "metadata": {},
   "outputs": [
    {
     "data": {
      "text/plain": [
       "{'jack': 4098, 'sape': 4139}"
      ]
     },
     "execution_count": 17,
     "metadata": {},
     "output_type": "execute_result"
    }
   ],
   "source": [
    "#Dictionary\n",
    "tel = {'jack': 4098, 'sape': 4139}\n",
    "tel"
   ]
  },
  {
   "cell_type": "code",
   "execution_count": 18,
   "id": "a1b193b0",
   "metadata": {},
   "outputs": [
    {
     "data": {
      "text/plain": [
       "{'jack': 4098, 'sape': 4139, 'guido': 4127}"
      ]
     },
     "execution_count": 18,
     "metadata": {},
     "output_type": "execute_result"
    }
   ],
   "source": [
    "tel['guido'] = 4127\n",
    "\n",
    "tel"
   ]
  },
  {
   "cell_type": "code",
   "execution_count": 19,
   "id": "9b5c851e",
   "metadata": {},
   "outputs": [
    {
     "data": {
      "text/plain": [
       "4098"
      ]
     },
     "execution_count": 19,
     "metadata": {},
     "output_type": "execute_result"
    }
   ],
   "source": [
    "tel['jack']"
   ]
  },
  {
   "cell_type": "code",
   "execution_count": 21,
   "id": "2736daf4",
   "metadata": {},
   "outputs": [
    {
     "ename": "KeyError",
     "evalue": "'sape'",
     "output_type": "error",
     "traceback": [
      "\u001b[1;31m---------------------------------------------------------------------------\u001b[0m",
      "\u001b[1;31mKeyError\u001b[0m                                  Traceback (most recent call last)",
      "\u001b[1;32m~\\AppData\\Local\\Temp\\ipykernel_8396\\1497654863.py\u001b[0m in \u001b[0;36m<module>\u001b[1;34m\u001b[0m\n\u001b[1;32m----> 1\u001b[1;33m \u001b[1;32mdel\u001b[0m \u001b[0mtel\u001b[0m\u001b[1;33m[\u001b[0m\u001b[1;34m'sape'\u001b[0m\u001b[1;33m]\u001b[0m\u001b[1;33m\u001b[0m\u001b[1;33m\u001b[0m\u001b[0m\n\u001b[0m\u001b[0;32m      2\u001b[0m \u001b[0mtel\u001b[0m\u001b[1;33m\u001b[0m\u001b[1;33m\u001b[0m\u001b[0m\n",
      "\u001b[1;31mKeyError\u001b[0m: 'sape'"
     ]
    }
   ],
   "source": [
    "del tel['sape']"
   ]
  },
  {
   "cell_type": "code",
   "execution_count": 22,
   "id": "bf6ad8a5",
   "metadata": {},
   "outputs": [
    {
     "data": {
      "text/plain": [
       "{'jack': 4098, 'guido': 4127}"
      ]
     },
     "execution_count": 22,
     "metadata": {},
     "output_type": "execute_result"
    }
   ],
   "source": [
    "tel"
   ]
  },
  {
   "cell_type": "code",
   "execution_count": 23,
   "id": "0eed810e",
   "metadata": {},
   "outputs": [],
   "source": [
    "tel['irv'] = 4127"
   ]
  },
  {
   "cell_type": "code",
   "execution_count": 24,
   "id": "be83fda5",
   "metadata": {},
   "outputs": [
    {
     "data": {
      "text/plain": [
       "{'jack': 4098, 'guido': 4127, 'irv': 4127}"
      ]
     },
     "execution_count": 24,
     "metadata": {},
     "output_type": "execute_result"
    }
   ],
   "source": [
    "tel"
   ]
  },
  {
   "cell_type": "code",
   "execution_count": 58,
   "id": "aef3d0ec",
   "metadata": {},
   "outputs": [
    {
     "name": "stdout",
     "output_type": "stream",
     "text": [
      "username : XYZ\n",
      "email :  xyz@gmail.com\n",
      "location :  Mumbai\n"
     ]
    }
   ],
   "source": [
    "my_dict = {\"username\": \"XYZ\", \"email\": \"xyz@gmail.com\", \"location\":\"Mumbai\"}\n",
    "\n",
    "print(\"username :\", my_dict['username'])\n",
    "\n",
    "print(\"email : \", my_dict[\"email\"])\n",
    "\n",
    "print(\"location : \", my_dict[\"location\"])"
   ]
  },
  {
   "cell_type": "code",
   "execution_count": 59,
   "id": "b840d046",
   "metadata": {},
   "outputs": [],
   "source": [
    "# adding key\n",
    "my_dict['name']='Nick'"
   ]
  },
  {
   "cell_type": "code",
   "execution_count": 60,
   "id": "a05897ce",
   "metadata": {},
   "outputs": [
    {
     "data": {
      "text/plain": [
       "{'username': 'XYZ',\n",
       " 'email': 'xyz@gmail.com',\n",
       " 'location': 'Mumbai',\n",
       " 'name': 'Nick'}"
      ]
     },
     "execution_count": 60,
     "metadata": {},
     "output_type": "execute_result"
    }
   ],
   "source": [
    "my_dict"
   ]
  },
  {
   "cell_type": "code",
   "execution_count": 61,
   "id": "0de829b5",
   "metadata": {},
   "outputs": [],
   "source": [
    "#updating value\n",
    "my_dict[\"username\"]=\"ABC\""
   ]
  },
  {
   "cell_type": "code",
   "execution_count": 62,
   "id": "cfe1f57c",
   "metadata": {},
   "outputs": [
    {
     "data": {
      "text/plain": [
       "{'username': 'ABC',\n",
       " 'email': 'xyz@gmail.com',\n",
       " 'location': 'Mumbai',\n",
       " 'name': 'Nick'}"
      ]
     },
     "execution_count": 62,
     "metadata": {},
     "output_type": "execute_result"
    }
   ],
   "source": [
    "my_dict"
   ]
  },
  {
   "cell_type": "code",
   "execution_count": 63,
   "id": "d09a291d",
   "metadata": {},
   "outputs": [
    {
     "data": {
      "text/plain": [
       "{'username': 'ABC', 'email': 'xyz@gmail.com', 'name': 'Nick'}"
      ]
     },
     "execution_count": 63,
     "metadata": {},
     "output_type": "execute_result"
    }
   ],
   "source": [
    "del my_dict['location'] # This will remove the element with your key.\n",
    "\n",
    "my_dict"
   ]
  },
  {
   "cell_type": "code",
   "execution_count": 64,
   "id": "7480e533",
   "metadata": {},
   "outputs": [
    {
     "data": {
      "text/plain": [
       "'ABC'"
      ]
     },
     "execution_count": 64,
     "metadata": {},
     "output_type": "execute_result"
    }
   ],
   "source": [
    "my_dict.pop(\"username\")"
   ]
  },
  {
   "cell_type": "code",
   "execution_count": 65,
   "id": "eafaf13e",
   "metadata": {},
   "outputs": [],
   "source": [
    "my_dict.clear()"
   ]
  },
  {
   "cell_type": "code",
   "execution_count": 66,
   "id": "2e0ed59e",
   "metadata": {},
   "outputs": [],
   "source": [
    "del my_dict"
   ]
  },
  {
   "cell_type": "code",
   "execution_count": null,
   "id": "f3b0647f",
   "metadata": {},
   "outputs": [],
   "source": []
  },
  {
   "cell_type": "markdown",
   "id": "4c75d97f",
   "metadata": {},
   "source": [
    "#Task : Do create dictionary with keys : Sportsid ,Sportname ,playername and give related values .\n",
    "\n",
    "Perform add,update with new key : country with value , delete and clear operation on this dictionary"
   ]
  },
  {
   "cell_type": "code",
   "execution_count": 25,
   "id": "fed5040a",
   "metadata": {},
   "outputs": [
    {
     "data": {
      "text/plain": [
       "{'Sportsid': 1, 'Sportname': 'Cricket', 'playername': 'Avijit'}"
      ]
     },
     "execution_count": 25,
     "metadata": {},
     "output_type": "execute_result"
    }
   ],
   "source": [
    "sport={\"Sportsid\":1,\"Sportname\":\"Cricket\",\"playername\":\"Avijit\"}\n",
    "sport"
   ]
  },
  {
   "cell_type": "code",
   "execution_count": 26,
   "id": "878343d2",
   "metadata": {},
   "outputs": [
    {
     "data": {
      "text/plain": [
       "dict_keys(['Sportsid', 'Sportname', 'playername'])"
      ]
     },
     "execution_count": 26,
     "metadata": {},
     "output_type": "execute_result"
    }
   ],
   "source": [
    "sport.keys()"
   ]
  },
  {
   "cell_type": "code",
   "execution_count": 27,
   "id": "aae37fed",
   "metadata": {},
   "outputs": [
    {
     "data": {
      "text/plain": [
       "{'Sportsid': 1,\n",
       " 'Sportname': 'Cricket',\n",
       " 'playername': 'Avijit',\n",
       " 'country': 'India'}"
      ]
     },
     "execution_count": 27,
     "metadata": {},
     "output_type": "execute_result"
    }
   ],
   "source": [
    "sport.update({\"country\":\"India\"})\n",
    "sport"
   ]
  },
  {
   "cell_type": "code",
   "execution_count": 37,
   "id": "f8a36d40",
   "metadata": {},
   "outputs": [],
   "source": [
    "sport[\"country\"]=\"UAE\""
   ]
  },
  {
   "cell_type": "code",
   "execution_count": 38,
   "id": "0095bb72",
   "metadata": {},
   "outputs": [
    {
     "data": {
      "text/plain": [
       "{'Sportsid': 1,\n",
       " 'Sportname': 'Cricket',\n",
       " 'playername': 'Avijit',\n",
       " 'country': 'UAE'}"
      ]
     },
     "execution_count": 38,
     "metadata": {},
     "output_type": "execute_result"
    }
   ],
   "source": [
    "sport"
   ]
  },
  {
   "cell_type": "code",
   "execution_count": 39,
   "id": "713ed975",
   "metadata": {},
   "outputs": [
    {
     "data": {
      "text/plain": [
       "'UAE'"
      ]
     },
     "execution_count": 39,
     "metadata": {},
     "output_type": "execute_result"
    }
   ],
   "source": [
    "sport.pop(\"country\")"
   ]
  },
  {
   "cell_type": "code",
   "execution_count": 40,
   "id": "750f8ce4",
   "metadata": {},
   "outputs": [],
   "source": [
    "sport.clear()"
   ]
  },
  {
   "cell_type": "code",
   "execution_count": 41,
   "id": "51485217",
   "metadata": {},
   "outputs": [],
   "source": [
    "del sport"
   ]
  },
  {
   "cell_type": "code",
   "execution_count": 42,
   "id": "d5916be4",
   "metadata": {},
   "outputs": [
    {
     "ename": "NameError",
     "evalue": "name 'sport' is not defined",
     "output_type": "error",
     "traceback": [
      "\u001b[1;31m---------------------------------------------------------------------------\u001b[0m",
      "\u001b[1;31mNameError\u001b[0m                                 Traceback (most recent call last)",
      "\u001b[1;32m~\\AppData\\Local\\Temp\\ipykernel_8396\\755401219.py\u001b[0m in \u001b[0;36m<module>\u001b[1;34m\u001b[0m\n\u001b[1;32m----> 1\u001b[1;33m \u001b[0msport\u001b[0m\u001b[1;33m\u001b[0m\u001b[1;33m\u001b[0m\u001b[0m\n\u001b[0m",
      "\u001b[1;31mNameError\u001b[0m: name 'sport' is not defined"
     ]
    }
   ],
   "source": [
    "sport"
   ]
  },
  {
   "cell_type": "code",
   "execution_count": null,
   "id": "d3dd7d04",
   "metadata": {},
   "outputs": [],
   "source": []
  }
 ],
 "metadata": {
  "kernelspec": {
   "display_name": "Python 3 (ipykernel)",
   "language": "python",
   "name": "python3"
  },
  "language_info": {
   "codemirror_mode": {
    "name": "ipython",
    "version": 3
   },
   "file_extension": ".py",
   "mimetype": "text/x-python",
   "name": "python",
   "nbconvert_exporter": "python",
   "pygments_lexer": "ipython3",
   "version": "3.9.13"
  }
 },
 "nbformat": 4,
 "nbformat_minor": 5
}
