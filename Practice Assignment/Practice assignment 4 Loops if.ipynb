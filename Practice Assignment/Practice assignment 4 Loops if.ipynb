{
 "cells": [
  {
   "cell_type": "markdown",
   "id": "ab1fbb3c",
   "metadata": {},
   "source": [
    "Loops /if"
   ]
  },
  {
   "cell_type": "code",
   "execution_count": 1,
   "id": "8cd33034",
   "metadata": {},
   "outputs": [
    {
     "name": "stdout",
     "output_type": "stream",
     "text": [
      "0\n",
      "1\n",
      "2\n",
      "3\n"
     ]
    }
   ],
   "source": [
    "x=0\n",
    "\n",
    "#define a while loop\n",
    "\n",
    "while(x <4):\n",
    "\n",
    "  print(x)\n",
    "\n",
    "  x = x+1"
   ]
  },
  {
   "cell_type": "code",
   "execution_count": 3,
   "id": "7dbe3467",
   "metadata": {},
   "outputs": [
    {
     "name": "stdout",
     "output_type": "stream",
     "text": [
      "1\n",
      "2\n",
      "3\n",
      "4\n",
      "5\n",
      "6\n",
      "7\n",
      "8\n",
      "9\n"
     ]
    }
   ],
   "source": [
    "#Task: Print First 10 natural numbers using while loop\n",
    "\n",
    "i=1\n",
    "while(i<10):\n",
    "    print(i)\n",
    "    i=i+1"
   ]
  },
  {
   "cell_type": "code",
   "execution_count": 4,
   "id": "63eb0ecf",
   "metadata": {},
   "outputs": [
    {
     "name": "stdout",
     "output_type": "stream",
     "text": [
      "2\n",
      "3\n",
      "4\n",
      "5\n",
      "6\n"
     ]
    }
   ],
   "source": [
    "for x in range(2,7):\n",
    "\n",
    "  print(x)"
   ]
  },
  {
   "cell_type": "code",
   "execution_count": 5,
   "id": "fd5590e7",
   "metadata": {},
   "outputs": [
    {
     "name": "stdout",
     "output_type": "stream",
     "text": [
      "Jan\n",
      "Feb\n",
      "Mar\n",
      "April\n",
      "May\n",
      "June\n"
     ]
    }
   ],
   "source": [
    "Months = [\"Jan\",\"Feb\",\"Mar\",\"April\",\"May\",\"June\"]\n",
    "\n",
    "for m in Months:\n",
    "\n",
    "  print(m)"
   ]
  },
  {
   "cell_type": "code",
   "execution_count": 6,
   "id": "888e88b2",
   "metadata": {},
   "outputs": [
    {
     "name": "stdout",
     "output_type": "stream",
     "text": [
      "cat\n",
      "window\n",
      "defenestrate\n",
      "cat 3\n",
      "window 6\n",
      "defenestrate 12\n"
     ]
    }
   ],
   "source": [
    "# Measure some strings:\n",
    "\n",
    "words = ['cat', 'window', 'defenestrate']\n",
    "\n",
    "for w in words:\n",
    "    print(w)\n",
    "\n",
    "for w in words:\n",
    "    print(w, len(w))"
   ]
  },
  {
   "cell_type": "code",
   "execution_count": 7,
   "id": "e776d096",
   "metadata": {},
   "outputs": [
    {
     "data": {
      "text/plain": [
       "range(5, 10)"
      ]
     },
     "execution_count": 7,
     "metadata": {},
     "output_type": "execute_result"
    }
   ],
   "source": [
    "# Range\n",
    "\n",
    "range(5, 10)"
   ]
  },
  {
   "cell_type": "code",
   "execution_count": 8,
   "id": "13202a93",
   "metadata": {},
   "outputs": [
    {
     "data": {
      "text/plain": [
       "range(0, 10, 3)"
      ]
     },
     "execution_count": 8,
     "metadata": {},
     "output_type": "execute_result"
    }
   ],
   "source": [
    "range(0, 10, 3)"
   ]
  },
  {
   "cell_type": "code",
   "execution_count": 9,
   "id": "e843f415",
   "metadata": {},
   "outputs": [
    {
     "data": {
      "text/plain": [
       "[0, 1, 2, 3, 4, 5, 6, 7, 8]"
      ]
     },
     "execution_count": 9,
     "metadata": {},
     "output_type": "execute_result"
    }
   ],
   "source": [
    "list(range(9))"
   ]
  },
  {
   "cell_type": "code",
   "execution_count": 10,
   "id": "8236cf73",
   "metadata": {},
   "outputs": [
    {
     "name": "stdout",
     "output_type": "stream",
     "text": [
      "0\n",
      "1\n",
      "2\n",
      "3\n",
      "4\n"
     ]
    }
   ],
   "source": [
    "a = ['Mary', 'had', 'a', 'little', 'lamb']\n",
    "\n",
    "for i in range(len(a)):\n",
    "\n",
    " print(i)"
   ]
  },
  {
   "cell_type": "code",
   "execution_count": 13,
   "id": "471d7f06",
   "metadata": {},
   "outputs": [
    {
     "name": "stdout",
     "output_type": "stream",
     "text": [
      "x is greater than y\n"
     ]
    }
   ],
   "source": [
    "x=8\n",
    "y=4\n",
    "\n",
    "if(x < y):\n",
    "    st= \"x is less than y\"\n",
    "else:\n",
    "    st= \"x is greater than y\"\n",
    "\n",
    "print (st)"
   ]
  },
  {
   "cell_type": "code",
   "execution_count": 15,
   "id": "fd35c7d2",
   "metadata": {},
   "outputs": [
    {
     "name": "stdout",
     "output_type": "stream",
     "text": [
      "Please enter an integer: 42\n",
      "More\n"
     ]
    }
   ],
   "source": [
    "x = int(input(\"Please enter an integer: \"))\n",
    "\n",
    "#Please enter an integer: 42\n",
    "\n",
    "if x < 0:\n",
    "    x = 0\n",
    "    print('Negative changed to zero')\n",
    "\n",
    "elif x == 0:\n",
    "    print('Zero')\n",
    "\n",
    "elif x == 1:\n",
    "    print('Single')\n",
    "\n",
    "else:\n",
    "    print('More')"
   ]
  },
  {
   "cell_type": "code",
   "execution_count": 1,
   "id": "7f41d681",
   "metadata": {},
   "outputs": [
    {
     "name": "stdout",
     "output_type": "stream",
     "text": [
      "Shipping Cost is $25\n"
     ]
    }
   ],
   "source": [
    "#Task :write a program using if-elif with different country value and total values.\n",
    "\n",
    "total = 100\n",
    "\n",
    "#country = \"US\"\n",
    "\n",
    "country = \"AU\"\n",
    "\n",
    "if country == \"US\":\n",
    "\n",
    "    if total <= 50:\n",
    "\n",
    "        print(\"Shipping Cost is $50\")\n",
    "\n",
    "elif total <= 100:\n",
    "    print(\"Shipping Cost is $25\")\n",
    "\n",
    "elif total <= 150:\n",
    "\n",
    "     print(\"Shipping Costs $5\")\n",
    "\n",
    "else:\n",
    "\n",
    "        print(\"FREE\")\n",
    "\n",
    "if country == \"AU\":\n",
    "\n",
    "   if total <= 50:\n",
    "\n",
    "     print(\"Shipping Cost is $100\")\n",
    "\n",
    "else:\n",
    "\n",
    "     print(\"FREE\")"
   ]
  },
  {
   "cell_type": "code",
   "execution_count": 17,
   "id": "12da68f1",
   "metadata": {},
   "outputs": [
    {
     "name": "stdout",
     "output_type": "stream",
     "text": [
      "Found an even number 2\n",
      "Found an even number 4\n",
      "Found an even number 6\n",
      "Found an even number 8\n"
     ]
    }
   ],
   "source": [
    "#Task : write a program to find even or odd using for loop /range function.\n",
    "\n",
    "for num in range(2, 10):\n",
    "    if num % 2 == 0:\n",
    "        print(\"Found an even number\", num)\n",
    "        continue\n",
    "        print(\"Found a number\", num)"
   ]
  },
  {
   "cell_type": "code",
   "execution_count": 4,
   "id": "aee23665",
   "metadata": {},
   "outputs": [],
   "source": [
    "#Task :write two different loops for break if x is even number and continue when the number is divide by 5.\n",
    "\n",
    "# use the break and continue statements\n",
    "for x in range(10,20):\n",
    "    if (x==15):\n",
    "        break\n",
    "        #if (x % 2 == 0) : continue\n",
    "        print(x)"
   ]
  },
  {
   "cell_type": "code",
   "execution_count": 5,
   "id": "f9f21086",
   "metadata": {},
   "outputs": [
    {
     "name": "stdout",
     "output_type": "stream",
     "text": [
      "11\n",
      "12\n",
      "13\n",
      "14\n",
      "16\n",
      "17\n",
      "18\n",
      "19\n"
     ]
    }
   ],
   "source": [
    "# use the break and continue statements\n",
    "\n",
    "for x in range (10,20):\n",
    "\n",
    "   #if (x == 15): break\n",
    "\n",
    "   if (x % 5 == 0) : continue\n",
    "\n",
    "   print(x)"
   ]
  },
  {
   "cell_type": "code",
   "execution_count": 6,
   "id": "000847ea",
   "metadata": {},
   "outputs": [
    {
     "name": "stdout",
     "output_type": "stream",
     "text": [
      "Given list: [10, 20, 33, 46, 55]\n",
      "Divisible by 5:\n",
      "10\n",
      "20\n",
      "55\n"
     ]
    }
   ],
   "source": [
    "#Task:Display numbers divisible by 5 from a list.Iterate the given list of numbers and print only those numbers which are divisible by 5.\n",
    "\n",
    "\n",
    "num_list = [10, 20, 33, 46, 55]\n",
    "\n",
    "print(\"Given list:\", num_list)\n",
    "\n",
    "print('Divisible by 5:')\n",
    "\n",
    "for num in num_list:\n",
    "\n",
    "    if num % 5 == 0:\n",
    "\n",
    "        print(num)"
   ]
  },
  {
   "cell_type": "code",
   "execution_count": 7,
   "id": "8366be73",
   "metadata": {},
   "outputs": [
    {
     "name": "stdout",
     "output_type": "stream",
     "text": [
      "Enter number 2\n",
      "\n",
      "\n",
      "Sum is:  3\n"
     ]
    }
   ],
   "source": [
    "#Task: Calculate the sum of all numbers from 1 to a given number\n",
    "\n",
    "# s: store sum of all numbers\n",
    "\n",
    "s = 0\n",
    "\n",
    "n = int(input(\"Enter number \"))\n",
    "\n",
    "# run loop n times\n",
    "\n",
    "# stop: n+1 (because range never include stop number in result)\n",
    "\n",
    "for i in range(1, n + 1, 1):\n",
    "\n",
    "    # add current number to sum variable\n",
    "\n",
    "    s =s+i\n",
    "\n",
    "print(\"\\n\")\n",
    "\n",
    "print(\"Sum is: \", s)\n",
    "\n"
   ]
  },
  {
   "cell_type": "code",
   "execution_count": 8,
   "id": "70f3aa22",
   "metadata": {},
   "outputs": [
    {
     "name": "stdout",
     "output_type": "stream",
     "text": [
      "2\n",
      "4\n",
      "6\n",
      "8\n",
      "10\n",
      "12\n",
      "14\n",
      "16\n",
      "18\n",
      "20\n"
     ]
    }
   ],
   "source": [
    "#Task: Write a program to print multiplication table of a given number\n",
    "\n",
    "\n",
    "n = 2\n",
    "\n",
    "# stop: 11 (because range never include stop number in result)\n",
    "\n",
    "# run loop 10 times\n",
    "\n",
    "for i in range(1, 11, 1):\n",
    "\n",
    "    # 2 *i (current number)\n",
    "\n",
    "    product = n * i\n",
    "\n",
    "    print(product)"
   ]
  },
  {
   "cell_type": "markdown",
   "id": "377e0c6f",
   "metadata": {},
   "source": [
    "Practice below codes for list comprehension"
   ]
  },
  {
   "cell_type": "code",
   "execution_count": 10,
   "id": "b84e9af7",
   "metadata": {},
   "outputs": [
    {
     "data": {
      "text/plain": [
       "[-8, -4, 0, 4, 8]"
      ]
     },
     "execution_count": 10,
     "metadata": {},
     "output_type": "execute_result"
    }
   ],
   "source": [
    "vec = [-4, -2, 0, 2, 4]\n",
    "\n",
    "# create a new list with the values doubled\n",
    "\n",
    "[x*2 for x in vec]\n",
    "\n"
   ]
  },
  {
   "cell_type": "code",
   "execution_count": 11,
   "id": "ea7de10d",
   "metadata": {},
   "outputs": [
    {
     "data": {
      "text/plain": [
       "[0, 2, 4]"
      ]
     },
     "execution_count": 11,
     "metadata": {},
     "output_type": "execute_result"
    }
   ],
   "source": [
    "# filter the list to exclude negative numbers\n",
    "\n",
    "[x for x in vec if x >= 0]"
   ]
  },
  {
   "cell_type": "code",
   "execution_count": 12,
   "id": "caf9fae9",
   "metadata": {},
   "outputs": [
    {
     "data": {
      "text/plain": [
       "[4, 2, 0, 2, 4]"
      ]
     },
     "execution_count": 12,
     "metadata": {},
     "output_type": "execute_result"
    }
   ],
   "source": [
    "# apply a function to all the elements\n",
    "\n",
    "[abs(x) for x in vec]"
   ]
  },
  {
   "cell_type": "code",
   "execution_count": 14,
   "id": "9175ec80",
   "metadata": {},
   "outputs": [
    {
     "data": {
      "text/plain": [
       "['banana', 'loganberry', 'passion fruit']"
      ]
     },
     "execution_count": 14,
     "metadata": {},
     "output_type": "execute_result"
    }
   ],
   "source": [
    "# call a method on each element\n",
    "\n",
    "freshfruit = [' banana', ' loganberry ', 'passion fruit ']\n",
    "\n",
    "[weapon.strip() for weapon in freshfruit]"
   ]
  },
  {
   "cell_type": "code",
   "execution_count": 15,
   "id": "b7275a92",
   "metadata": {},
   "outputs": [
    {
     "data": {
      "text/plain": [
       "[(0, 0), (1, 1), (2, 4), (3, 9), (4, 16), (5, 25)]"
      ]
     },
     "execution_count": 15,
     "metadata": {},
     "output_type": "execute_result"
    }
   ],
   "source": [
    "# create a list of 2-tuples like (number, square)\n",
    "\n",
    "[(x, x**2) for x in range(6)]"
   ]
  },
  {
   "cell_type": "code",
   "execution_count": 16,
   "id": "6afad816",
   "metadata": {},
   "outputs": [
    {
     "name": "stdout",
     "output_type": "stream",
     "text": [
      "apple\n",
      "banana\n",
      "orange\n",
      "pear\n"
     ]
    }
   ],
   "source": [
    "#To loop over a sequence in sorted order, use the sorted() function which returns a new sorted list while leaving the source unaltered.\n",
    "\n",
    "basket = ['apple', 'orange', 'apple', 'pear', 'orange', 'banana']\n",
    "\n",
    "for f in sorted(set(basket)):\n",
    "    print(f)"
   ]
  },
  {
   "cell_type": "code",
   "execution_count": 17,
   "id": "f7941862",
   "metadata": {},
   "outputs": [
    {
     "name": "stdout",
     "output_type": "stream",
     "text": [
      "9\n",
      "7\n",
      "5\n",
      "3\n",
      "1\n"
     ]
    }
   ],
   "source": [
    "#To loop over a sequence in reverse, first specify the sequence in a forward direction and then call the reversed() function.\n",
    "\n",
    "for i in reversed(range(1, 10, 2)):\n",
    "    print(i)"
   ]
  },
  {
   "cell_type": "markdown",
   "id": "602af965",
   "metadata": {},
   "source": [
    "### If -Elif practice"
   ]
  },
  {
   "cell_type": "code",
   "execution_count": 18,
   "id": "d786ceb0",
   "metadata": {},
   "outputs": [
    {
     "name": "stdout",
     "output_type": "stream",
     "text": [
      "Today is the day of Odin, the supreme diety.\n"
     ]
    }
   ],
   "source": [
    "today = 'Wednesday'\n",
    "\n",
    " \n",
    "\n",
    "if today == 'Sunday':\n",
    "\n",
    "    print(\"Today is the day of the sun.\")\n",
    "\n",
    "elif today == 'Monday':\n",
    "\n",
    "    print(\"Today is the day of the moon.\")\n",
    "\n",
    "elif today == 'Tuesday':\n",
    "\n",
    "    print(\"Today is the day of Tyr, the god of war.\")\n",
    "\n",
    "elif today == 'Wednesday':\n",
    "\n",
    "    print(\"Today is the day of Odin, the supreme diety.\")\n",
    "\n",
    "elif today == 'Thursday':\n",
    "\n",
    "    print(\"Today is the day of Thor, the god of thunder.\")\n",
    "\n",
    "elif today == 'Friday':\n",
    "\n",
    "    print(\"Today is the day of Frigga, the goddess of beauty.\")\n",
    "\n",
    "elif today == 'Saturday':\n",
    "\n",
    "    print(\"Today is the day of Saturn, the god of fun and feasting.\")"
   ]
  },
  {
   "cell_type": "markdown",
   "id": "65b68a64",
   "metadata": {},
   "source": [
    "### Using `if`, `elif`, and `else` together"
   ]
  },
  {
   "cell_type": "markdown",
   "id": "6b47356a",
   "metadata": {},
   "source": [
    "You can also include an `else` statement at the end of a chain of `if`, `elif`... statements. This code within the `else` block is evaluated when none of the conditions hold true."
   ]
  },
  {
   "cell_type": "code",
   "execution_count": 20,
   "id": "7c11c4a3",
   "metadata": {},
   "outputs": [
    {
     "name": "stdout",
     "output_type": "stream",
     "text": [
      "All checks failed!\n",
      "49 is not divisible by 2, 3 or 5\n"
     ]
    }
   ],
   "source": [
    "a_number = 49\n",
    "\n",
    " \n",
    "\n",
    "if a_number % 2 == 0:\n",
    "\n",
    "    print('{} is divisible by 2'.format(a_number))\n",
    "\n",
    "elif a_number % 3 == 0:\n",
    "\n",
    "    print('{} is divisible by 3'.format(a_number))\n",
    "\n",
    "elif a_number % 5 == 0:\n",
    "\n",
    "    print('{} is divisible by 5'.format(a_number))\n",
    "\n",
    "else:\n",
    "\n",
    "    print('All checks failed!')\n",
    "\n",
    "    print('{} is not divisible by 2, 3 or 5'.format(a_number))"
   ]
  },
  {
   "cell_type": "code",
   "execution_count": 21,
   "id": "31ec901c",
   "metadata": {},
   "outputs": [
    {
     "name": "stdout",
     "output_type": "stream",
     "text": [
      "The value at position 0 is Monday.\n",
      "The value at position 1 is Tuesday.\n",
      "The value at position 2 is Wednesday.\n",
      "The value at position 3 is Thursday.\n",
      "The value at position 4 is Friday.\n"
     ]
    }
   ],
   "source": [
    "#Ranges are used for iterating over lists when you need to track the index of elements while iterating.\n",
    "\n",
    "a_list = ['Monday', 'Tuesday', 'Wednesday', 'Thursday', 'Friday']\n",
    "\n",
    " \n",
    "\n",
    "for i in range(len(a_list)):\n",
    "\n",
    "    print('The value at position {} is {}.'.format(i, a_list[i]))"
   ]
  },
  {
   "cell_type": "markdown",
   "id": "c7355b09",
   "metadata": {},
   "source": [
    "### break, continue and pass statements"
   ]
  },
  {
   "cell_type": "markdown",
   "id": "1110d5ae",
   "metadata": {},
   "source": [
    "Similar to while loops, for loops also support the break and continue statements. break is used for breaking out of the loop and continue is used for skipping ahead to the next iteration."
   ]
  },
  {
   "cell_type": "code",
   "execution_count": 22,
   "id": "e7602d7f",
   "metadata": {},
   "outputs": [
    {
     "name": "stdout",
     "output_type": "stream",
     "text": [
      "Today is Monday\n",
      "Today is Tuesday\n",
      "Today is Wednesday\n",
      "I don't work beyond Wednesday!\n"
     ]
    }
   ],
   "source": [
    "weekdays = ['Monday', 'Tuesday', 'Wednesday', 'Thursday', 'Friday']\n",
    "\n",
    " \n",
    "\n",
    "for day in weekdays:\n",
    "\n",
    "    print('Today is {}'.format(day))\n",
    "\n",
    "    if (day == 'Wednesday'):\n",
    "\n",
    "        print(\"I don't work beyond Wednesday!\")\n",
    "\n",
    "        break"
   ]
  },
  {
   "cell_type": "code",
   "execution_count": 23,
   "id": "ab3297e1",
   "metadata": {},
   "outputs": [
    {
     "name": "stdout",
     "output_type": "stream",
     "text": [
      "Today is Monday\n",
      "Today is Tuesday\n",
      "I don't work on Wednesday!\n",
      "Today is Thursday\n",
      "Today is Friday\n"
     ]
    }
   ],
   "source": [
    "for day in weekdays:\n",
    "\n",
    "    if (day == 'Wednesday'):\n",
    "\n",
    "        print(\"I don't work on Wednesday!\")\n",
    "\n",
    "        continue\n",
    "\n",
    "    print('Today is {}'.format(day))"
   ]
  },
  {
   "cell_type": "code",
   "execution_count": null,
   "id": "8f04829b",
   "metadata": {},
   "outputs": [],
   "source": []
  }
 ],
 "metadata": {
  "kernelspec": {
   "display_name": "Python 3 (ipykernel)",
   "language": "python",
   "name": "python3"
  },
  "language_info": {
   "codemirror_mode": {
    "name": "ipython",
    "version": 3
   },
   "file_extension": ".py",
   "mimetype": "text/x-python",
   "name": "python",
   "nbconvert_exporter": "python",
   "pygments_lexer": "ipython3",
   "version": "3.9.13"
  }
 },
 "nbformat": 4,
 "nbformat_minor": 5
}
