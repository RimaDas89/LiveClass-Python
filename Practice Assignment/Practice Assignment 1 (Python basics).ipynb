{
 "cells": [
  {
   "cell_type": "code",
   "execution_count": 1,
   "id": "a473d7b3",
   "metadata": {},
   "outputs": [
    {
     "data": {
      "text/plain": [
       "12"
      ]
     },
     "execution_count": 1,
     "metadata": {},
     "output_type": "execute_result"
    }
   ],
   "source": [
    "8+4"
   ]
  },
  {
   "cell_type": "code",
   "execution_count": 2,
   "id": "f60d5348",
   "metadata": {},
   "outputs": [
    {
     "data": {
      "text/plain": [
       "80"
      ]
     },
     "execution_count": 2,
     "metadata": {},
     "output_type": "execute_result"
    }
   ],
   "source": [
    "16*5"
   ]
  },
  {
   "cell_type": "code",
   "execution_count": 3,
   "id": "5dccc22c",
   "metadata": {},
   "outputs": [
    {
     "data": {
      "text/plain": [
       "20"
      ]
     },
     "execution_count": 3,
     "metadata": {},
     "output_type": "execute_result"
    }
   ],
   "source": [
    "50 - 5*6"
   ]
  },
  {
   "cell_type": "code",
   "execution_count": 4,
   "id": "f49b913b",
   "metadata": {},
   "outputs": [
    {
     "data": {
      "text/plain": [
       "5.0"
      ]
     },
     "execution_count": 4,
     "metadata": {},
     "output_type": "execute_result"
    }
   ],
   "source": [
    "(50 - 5*6) / 4"
   ]
  },
  {
   "cell_type": "markdown",
   "id": "9f29e788",
   "metadata": {},
   "source": [
    "#Now Write comment"
   ]
  },
  {
   "cell_type": "markdown",
   "id": "e469b548",
   "metadata": {},
   "source": [
    "#This is my first program."
   ]
  },
  {
   "cell_type": "code",
   "execution_count": 5,
   "id": "ac120391",
   "metadata": {},
   "outputs": [
    {
     "name": "stdout",
     "output_type": "stream",
     "text": [
      "Hello, World\n"
     ]
    }
   ],
   "source": [
    "print(\"Hello, World\")"
   ]
  },
  {
   "cell_type": "code",
   "execution_count": 6,
   "id": "87ac9634",
   "metadata": {},
   "outputs": [],
   "source": [
    "# The comments are longer than the code!"
   ]
  },
  {
   "cell_type": "code",
   "execution_count": 9,
   "id": "799decf7",
   "metadata": {},
   "outputs": [
    {
     "name": "stdout",
     "output_type": "stream",
     "text": [
      "Hello World of Python\n"
     ]
    }
   ],
   "source": [
    "greeting = \"Hello World of Python\"\n",
    "print(greeting)"
   ]
  },
  {
   "cell_type": "code",
   "execution_count": 12,
   "id": "6e00d6ff",
   "metadata": {},
   "outputs": [
    {
     "data": {
      "text/plain": [
       "1.6"
      ]
     },
     "execution_count": 12,
     "metadata": {},
     "output_type": "execute_result"
    }
   ],
   "source": [
    "# division always returns a floating point number\n",
    "\n",
    "8 / 5"
   ]
  },
  {
   "cell_type": "code",
   "execution_count": 13,
   "id": "5c4cdbb3",
   "metadata": {},
   "outputs": [
    {
     "data": {
      "text/plain": [
       "5.666666666666667"
      ]
     },
     "execution_count": 13,
     "metadata": {},
     "output_type": "execute_result"
    }
   ],
   "source": [
    "# classic division returns a float\n",
    "\n",
    "17 / 3"
   ]
  },
  {
   "cell_type": "code",
   "execution_count": 14,
   "id": "da3d7d96",
   "metadata": {},
   "outputs": [
    {
     "data": {
      "text/plain": [
       "5"
      ]
     },
     "execution_count": 14,
     "metadata": {},
     "output_type": "execute_result"
    }
   ],
   "source": [
    "# floor division discards the fractional part\n",
    "\n",
    "17 // 3"
   ]
  },
  {
   "cell_type": "code",
   "execution_count": 15,
   "id": "73d20777",
   "metadata": {},
   "outputs": [
    {
     "data": {
      "text/plain": [
       "2"
      ]
     },
     "execution_count": 15,
     "metadata": {},
     "output_type": "execute_result"
    }
   ],
   "source": [
    "# the % operator returns the remainder of the division\n",
    "\n",
    "17 % 3"
   ]
  },
  {
   "cell_type": "code",
   "execution_count": 20,
   "id": "0c32124e",
   "metadata": {},
   "outputs": [
    {
     "data": {
      "text/plain": [
       "17"
      ]
     },
     "execution_count": 20,
     "metadata": {},
     "output_type": "execute_result"
    }
   ],
   "source": [
    "# result * divisor + remainder\n",
    "\n",
    "5*3+2"
   ]
  },
  {
   "cell_type": "code",
   "execution_count": 18,
   "id": "6b1deb97",
   "metadata": {},
   "outputs": [
    {
     "data": {
      "text/plain": [
       "25"
      ]
     },
     "execution_count": 18,
     "metadata": {},
     "output_type": "execute_result"
    }
   ],
   "source": [
    "# 5 squared\n",
    "\n",
    "5**2"
   ]
  },
  {
   "cell_type": "code",
   "execution_count": 21,
   "id": "c08a326a",
   "metadata": {},
   "outputs": [
    {
     "data": {
      "text/plain": [
       "128"
      ]
     },
     "execution_count": 21,
     "metadata": {},
     "output_type": "execute_result"
    }
   ],
   "source": [
    "# 2 to the power of 7\n",
    "\n",
    "2**7"
   ]
  },
  {
   "cell_type": "code",
   "execution_count": 39,
   "id": "2cec9317",
   "metadata": {},
   "outputs": [
    {
     "name": "stdout",
     "output_type": "stream",
     "text": [
      "Width = 20\n",
      "Height = 45\n",
      "The value of width= 20\n",
      "The value of width is= 20\n",
      "Value= 900\n"
     ]
    }
   ],
   "source": [
    "#Task: Now try to print height yourself\n",
    "\n",
    "width = 20\n",
    "height = 5*9\n",
    "width * height\n",
    "\n",
    "print(\"Width =\",width)\n",
    "print (\"Height =\",height)\n",
    "print(\"The value of width=\",width) \n",
    "print(\"The value of width is=\", width) \n",
    "print(\"Value=\",width*height)"
   ]
  },
  {
   "cell_type": "code",
   "execution_count": 37,
   "id": "4270fbe8",
   "metadata": {},
   "outputs": [
    {
     "name": "stdout",
     "output_type": "stream",
     "text": [
      "0.125\n",
      "12.5625\n"
     ]
    }
   ],
   "source": [
    "#Task: Now try to print tax and price yourself\n",
    "\n",
    "tax = 12.5/100\n",
    "\n",
    "price = 100.50\n",
    "\n",
    "price*tax\n",
    "\n",
    "print(tax)\n",
    "print(price*tax)"
   ]
  },
  {
   "cell_type": "code",
   "execution_count": 33,
   "id": "2006e206",
   "metadata": {},
   "outputs": [
    {
     "data": {
      "text/plain": [
       "'The Sun'"
      ]
     },
     "execution_count": 33,
     "metadata": {},
     "output_type": "execute_result"
    }
   ],
   "source": [
    "# String concatenation\n",
    "\n",
    "\"The \"+\"Sun\""
   ]
  },
  {
   "cell_type": "code",
   "execution_count": 34,
   "id": "ed8a036f",
   "metadata": {},
   "outputs": [
    {
     "data": {
      "text/plain": [
       "'The Moon'"
      ]
     },
     "execution_count": 34,
     "metadata": {},
     "output_type": "execute_result"
    }
   ],
   "source": [
    "\"The \"+\"Moon\""
   ]
  },
  {
   "cell_type": "code",
   "execution_count": 35,
   "id": "a0034ac6",
   "metadata": {},
   "outputs": [
    {
     "data": {
      "text/plain": [
       "'Planets Universe'"
      ]
     },
     "execution_count": 35,
     "metadata": {},
     "output_type": "execute_result"
    }
   ],
   "source": [
    "\"Planets\"+\" Universe\""
   ]
  },
  {
   "cell_type": "code",
   "execution_count": 42,
   "id": "04e22999",
   "metadata": {},
   "outputs": [
    {
     "data": {
      "text/plain": [
       "'ElonMusk'"
      ]
     },
     "execution_count": 42,
     "metadata": {},
     "output_type": "execute_result"
    }
   ],
   "source": [
    "#Task: 1. Create two strings, concatenate them, and print the resulting string.\n",
    "\n",
    "string1 = \"Elon\"\n",
    "\n",
    "string2 = \"Musk\"\n",
    "\n",
    "magic_string = string1 + string2\n",
    "\n",
    "magic_string\n"
   ]
  },
  {
   "cell_type": "code",
   "execution_count": 43,
   "id": "31b55844",
   "metadata": {},
   "outputs": [
    {
     "data": {
      "text/plain": [
       "'Avijit Sur'"
      ]
     },
     "execution_count": 43,
     "metadata": {},
     "output_type": "execute_result"
    }
   ],
   "source": [
    "#Task : 2. Make variable firstname and lastname and concatnate them with space.\n",
    "\n",
    "firstname=\"Avijit\"\n",
    "lastname=\"Sur\"\n",
    "\n",
    "Name=firstname+\" \"+lastname\n",
    "Name"
   ]
  },
  {
   "cell_type": "code",
   "execution_count": 47,
   "id": "4bb081b5",
   "metadata": {},
   "outputs": [
    {
     "name": "stdout",
     "output_type": "stream",
     "text": [
      "Hey, what's up?great\n",
      "You said: great\n"
     ]
    }
   ],
   "source": [
    "# User Input\n",
    "\n",
    "prompt = \"Hey, what's up?\"\n",
    "user_input = input(prompt)\n",
    "print(\"You said: \" + user_input)"
   ]
  },
  {
   "cell_type": "code",
   "execution_count": 48,
   "id": "dde1b752",
   "metadata": {},
   "outputs": [
    {
     "name": "stdout",
     "output_type": "stream",
     "text": [
      "Enter any number8\n",
      "88\n"
     ]
    }
   ],
   "source": [
    "#Task: Take user input and make twice of that number\n",
    "\n",
    "num=input(\"Enter any number\")\n",
    "doubled_num = num * 2\n",
    "\n",
    "print(doubled_num)"
   ]
  },
  {
   "cell_type": "code",
   "execution_count": 49,
   "id": "e8f4a8c7",
   "metadata": {},
   "outputs": [
    {
     "name": "stdout",
     "output_type": "stream",
     "text": [
      "Enter a number to be doubled: 5\n",
      "10.0\n"
     ]
    }
   ],
   "source": [
    "#Task: Take user input and make twice of that number and typecast it to float.\n",
    "num = input(\"Enter a number to be doubled: \")\n",
    "\n",
    "doubled_num = float(num) * 2\n",
    "\n",
    "print(doubled_num)"
   ]
  },
  {
   "cell_type": "markdown",
   "id": "30deef4d",
   "metadata": {},
   "source": [
    "#Task : 1\n",
    "Write a program that uses input() twice to get two numbers from\n",
    "the user, multiplies the numbers together, and displays the result.\n",
    "If the user enters 2 and 4, then your program should print the\n",
    "following text:\n",
    "\n",
    "    The product of 2 and 4 is 8.0."
   ]
  },
  {
   "cell_type": "code",
   "execution_count": 52,
   "id": "08bbcb6a",
   "metadata": {},
   "outputs": [
    {
     "name": "stdout",
     "output_type": "stream",
     "text": [
      "Enter your first number2\n",
      "Enter your second number4\n",
      "The product of 2  and 4  is 8\n"
     ]
    }
   ],
   "source": [
    "num1=input(\"Enter your first number\")\n",
    "num2=input(\"Enter your second number\")\n",
    "\n",
    "product=int(num1)*int(num2)\n",
    "print(\"The product of\",num1,\" and\",num2,\" is\",product)\n",
    "\n",
    "\n"
   ]
  },
  {
   "cell_type": "markdown",
   "id": "e36c30e4",
   "metadata": {},
   "source": [
    "2.Calculate simple interest by taking user input for priciple,rate and time .\n",
    "p=int(input(\"Enter principle\"))\n",
    "\n",
    "----\n",
    "\n",
    "----\n",
    "\n",
    "---\n",
    "\n",
    "simple_interest=(p*r*t)/100"
   ]
  },
  {
   "cell_type": "code",
   "execution_count": 57,
   "id": "f54cb837",
   "metadata": {},
   "outputs": [
    {
     "name": "stdout",
     "output_type": "stream",
     "text": [
      "Enter principle7000\n",
      "Enter the rate8\n",
      "enter the time5\n",
      "Principle = 7000\n",
      "Rate = 8\n",
      "Time = 5\n",
      "Simple Interest is  2800.0\n"
     ]
    }
   ],
   "source": [
    "P=int(input(\"Enter principle\"))\n",
    "R=int(input(\"Enter the rate\"))\n",
    "T=int(input(\"enter the time\"))\n",
    "\n",
    "SI=(P*R*T)/100\n",
    "\n",
    "print(\"Principle =\",P)\n",
    "print(\"Rate =\",R)\n",
    "print(\"Time =\",T)\n",
    "print(\"Simple Interest is \",SI)"
   ]
  },
  {
   "cell_type": "code",
   "execution_count": 58,
   "id": "46895386",
   "metadata": {},
   "outputs": [
    {
     "data": {
      "text/plain": [
       "3"
      ]
     },
     "execution_count": 58,
     "metadata": {},
     "output_type": "execute_result"
    }
   ],
   "source": [
    "# Find length\n",
    "\n",
    "len(\"abc\")\n",
    "\n",
    "letters = \"abc\"\n",
    "\n",
    "len(letters)"
   ]
  },
  {
   "cell_type": "code",
   "execution_count": 60,
   "id": "75869f04",
   "metadata": {},
   "outputs": [
    {
     "data": {
      "text/plain": [
       "16"
      ]
     },
     "execution_count": 60,
     "metadata": {},
     "output_type": "execute_result"
    }
   ],
   "source": [
    "#Task: Create a string and print its length using len().\n",
    "\n",
    "String=\"My name is Amita\"\n",
    "len(String)"
   ]
  },
  {
   "cell_type": "markdown",
   "id": "51d2c992",
   "metadata": {},
   "source": [
    "EXERCISE:\n",
    "\n",
    "A travel company wants to fly a plane to the Bahamas. Flying the plane costs 5000 dollars.\n",
    "So far, 29 people have signed up for the trip. If the company charges 200 dollars per ticket,\n",
    "what is the profit made by the company? Create variables for each numeric quantity and use appropriate arithmetic operations."
   ]
  },
  {
   "cell_type": "code",
   "execution_count": 65,
   "id": "60c54605",
   "metadata": {},
   "outputs": [
    {
     "name": "stdout",
     "output_type": "stream",
     "text": [
      "5800\n",
      "800\n"
     ]
    }
   ],
   "source": [
    "Plane_cost= 5000\n",
    "People=29\n",
    "Charges = 200\n",
    "\n",
    "Total_Charges_company_collect=People*Charges\n",
    "print(Total_Charges_company_collect)\n",
    "Total_Profit=Total_Charges_company_collect-Plane_cost\n",
    "print(Total_Profit)"
   ]
  },
  {
   "cell_type": "markdown",
   "id": "f8f87178",
   "metadata": {},
   "source": [
    "# Questions"
   ]
  },
  {
   "cell_type": "markdown",
   "id": "1222abd9",
   "metadata": {},
   "source": [
    "What is a Jupyter notebook?\n",
    "\n",
    "How do you add a new code cell below an existing cell?\n",
    "\n",
    "How do you add a new Markdown cell below an existing cell?\n",
    "\n",
    "How do you convert a code cell to a Markdown cell or vice versa?\n",
    "\n",
    "How do you execute a code cell within Jupyter?\n",
    "\n",
    "What the different arithmetic operations supported in Python?\n",
    "\n",
    "How do you perform arithmetic operations using Python?\n",
    "\n",
    "What is the difference between the / and the // operators?\n",
    "\n",
    "What is the difference between the * and the ** operators?\n",
    "\n",
    "What is the order of precedence for arithmetic operators in Python?\n",
    "\n",
    "How do you specify the order in which arithmetic operations are performed in an expression involving multiple operators?\n",
    "\n",
    "How do you solve a multi-step arithmetic word problem using Python?\n",
    "\n",
    "What are variables? Why are they useful?\n",
    "\n",
    "How do you create a variable in Python?\n",
    "\n",
    "What is the assignment operator in Python?\n",
    "\n",
    "What are the rules for naming a variable in Python?\n",
    "\n",
    "How do you view the value of a variable?\n",
    "\n",
    "How do you store the result of an arithmetic expression in a variable?\n",
    "\n",
    "What happens if you try to access a variable that has not been defined?\n",
    "\n",
    "How do you display messages in Python?\n",
    "\n",
    "What type of inputs can the print function accept?\n",
    "\n",
    "What are code comments? How are they useful?\n",
    "\n",
    "What are the different ways of creating comments in Python code?\n",
    "\n",
    "What are the different comparison operations supported in Python?\n",
    "\n",
    "What is the result of a comparison operation?\n",
    "\n",
    "What is the difference between = and == in Python?\n",
    "\n",
    "What are the logical operators supported in Python?\n",
    "\n",
    "What is the difference between the and and or operators?\n",
    "\n",
    "Can you use comparison and logical operators in the same expression?\n",
    "\n",
    "What is the purpose of using parentheses in arithmetic or logical expressions?\n",
    "\n",
    "What is Markdown? Why is it useful?"
   ]
  },
  {
   "cell_type": "markdown",
   "id": "7e1fa05c",
   "metadata": {},
   "source": [
    "**1. What is a Jupyter notebook?**\n",
    "\n",
    "The Jupyter Notebook is an open source web application that you can use to create and share documents that contain live code, equations, visualizations, and text. "
   ]
  },
  {
   "cell_type": "markdown",
   "id": "d7a56ac8",
   "metadata": {},
   "source": [
    "**2. How do you add a new code cell below an existing cell?**\n",
    "\n",
    "We can use either the Menu tools or Keyboard Shortcuts to create new cells.\n",
    "\n",
    "* Keyboard shortcut: Esc + a (above), Esc + b (below)\n",
    "* Menu Toolbar: Insert→ Insert Cell Above OR Insert → Insert Cell Below"
   ]
  },
  {
   "cell_type": "markdown",
   "id": "00699ee3",
   "metadata": {},
   "source": [
    "**3. How do you add a new Markdown cell below an existing cell?**\n",
    "\n",
    "The default cell type for new cells is Code, you can change the cell type of any existing cell by clicking in the cell and selecting a new cell type (e.g. Markdown) in the cell type menu in the toolbar.\n",
    "\n"
   ]
  },
  {
   "cell_type": "code",
   "execution_count": null,
   "id": "d8bf03e2",
   "metadata": {},
   "outputs": [],
   "source": []
  }
 ],
 "metadata": {
  "kernelspec": {
   "display_name": "Python 3 (ipykernel)",
   "language": "python",
   "name": "python3"
  },
  "language_info": {
   "codemirror_mode": {
    "name": "ipython",
    "version": 3
   },
   "file_extension": ".py",
   "mimetype": "text/x-python",
   "name": "python",
   "nbconvert_exporter": "python",
   "pygments_lexer": "ipython3",
   "version": "3.9.13"
  }
 },
 "nbformat": 4,
 "nbformat_minor": 5
}
