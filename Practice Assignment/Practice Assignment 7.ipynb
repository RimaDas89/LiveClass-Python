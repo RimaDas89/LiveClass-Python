{
 "cells": [
  {
   "cell_type": "code",
   "execution_count": 1,
   "id": "98d3c63a",
   "metadata": {},
   "outputs": [
    {
     "name": "stdout",
     "output_type": "stream",
     "text": [
      "x is greater than y\n"
     ]
    }
   ],
   "source": [
    "def main():\n",
    "\n",
    " x,y =8,4\n",
    "\n",
    " if(x < y):\n",
    "\n",
    "  st= \"x is less than y\"\n",
    "\n",
    " else:\n",
    "\n",
    "  st= \"x is greater than y\"\n",
    "\n",
    " print (st)\n",
    "\n",
    "if __name__ == \"__main__\":\n",
    "\n",
    " main()"
   ]
  },
  {
   "cell_type": "code",
   "execution_count": 2,
   "id": "e24d004f",
   "metadata": {},
   "outputs": [
    {
     "name": "stdout",
     "output_type": "stream",
     "text": [
      "x is greater than y\n"
     ]
    }
   ],
   "source": [
    "def main():\n",
    "\n",
    " x,y =8,8\n",
    "\n",
    " if(x < y):\n",
    "\n",
    "  st= \"x is less than y\"\n",
    "\n",
    " else:\n",
    "\n",
    "  st= \"x is greater than y\"\n",
    "\n",
    " print(st)\n",
    "\n",
    "if __name__ == \"__main__\":\n",
    "\n",
    " main()"
   ]
  },
  {
   "cell_type": "code",
   "execution_count": 3,
   "id": "a51cf40a",
   "metadata": {},
   "outputs": [
    {
     "name": "stdout",
     "output_type": "stream",
     "text": [
      "x is same as y\n"
     ]
    }
   ],
   "source": [
    "def main():\n",
    "\n",
    " x,y =8,8\n",
    "\n",
    " if(x < y):\n",
    "\n",
    "  st= \"x is less than y\"\n",
    "\n",
    " elif (x == y):\n",
    "\n",
    "  st= \"x is same as y\"\n",
    "\n",
    " else:\n",
    "\n",
    "  st=\"x is greater than y\"\n",
    "\n",
    " print(st)\n",
    "\n",
    "if __name__ == \"__main__\":\n",
    "\n",
    " main()"
   ]
  },
  {
   "cell_type": "code",
   "execution_count": null,
   "id": "2e337199",
   "metadata": {},
   "outputs": [],
   "source": []
  }
 ],
 "metadata": {
  "kernelspec": {
   "display_name": "Python 3 (ipykernel)",
   "language": "python",
   "name": "python3"
  },
  "language_info": {
   "codemirror_mode": {
    "name": "ipython",
    "version": 3
   },
   "file_extension": ".py",
   "mimetype": "text/x-python",
   "name": "python",
   "nbconvert_exporter": "python",
   "pygments_lexer": "ipython3",
   "version": "3.9.13"
  }
 },
 "nbformat": 4,
 "nbformat_minor": 5
}
