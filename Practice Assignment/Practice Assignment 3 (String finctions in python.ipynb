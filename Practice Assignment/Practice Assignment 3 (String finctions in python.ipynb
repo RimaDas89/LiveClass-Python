{
 "cells": [
  {
   "cell_type": "markdown",
   "id": "81c12088",
   "metadata": {},
   "source": [
    "# String functions"
   ]
  },
  {
   "cell_type": "code",
   "execution_count": 1,
   "id": "2dcffe7b",
   "metadata": {},
   "outputs": [],
   "source": [
    "name = \"Tesla\""
   ]
  },
  {
   "cell_type": "code",
   "execution_count": 2,
   "id": "8650d256",
   "metadata": {},
   "outputs": [
    {
     "data": {
      "text/plain": [
       "'tesla'"
      ]
     },
     "execution_count": 2,
     "metadata": {},
     "output_type": "execute_result"
    }
   ],
   "source": [
    "name.lower()"
   ]
  },
  {
   "cell_type": "code",
   "execution_count": 3,
   "id": "e0d3f796",
   "metadata": {},
   "outputs": [
    {
     "data": {
      "text/plain": [
       "'TESLA'"
      ]
     },
     "execution_count": 3,
     "metadata": {},
     "output_type": "execute_result"
    }
   ],
   "source": [
    "name.upper()"
   ]
  },
  {
   "cell_type": "code",
   "execution_count": 4,
   "id": "1e1bed51",
   "metadata": {},
   "outputs": [
    {
     "data": {
      "text/plain": [
       "5"
      ]
     },
     "execution_count": 4,
     "metadata": {},
     "output_type": "execute_result"
    }
   ],
   "source": [
    "len(name)"
   ]
  },
  {
   "cell_type": "code",
   "execution_count": 5,
   "id": "4c8e324a",
   "metadata": {},
   "outputs": [
    {
     "data": {
      "text/plain": [
       "'Tesla'"
      ]
     },
     "execution_count": 5,
     "metadata": {},
     "output_type": "execute_result"
    }
   ],
   "source": [
    "name.capitalize()"
   ]
  },
  {
   "cell_type": "code",
   "execution_count": 6,
   "id": "be8b1a73",
   "metadata": {},
   "outputs": [
    {
     "data": {
      "text/plain": [
       "True"
      ]
     },
     "execution_count": 6,
     "metadata": {},
     "output_type": "execute_result"
    }
   ],
   "source": [
    "name.isalpha()"
   ]
  },
  {
   "cell_type": "code",
   "execution_count": 1,
   "id": "1f3b38a0",
   "metadata": {},
   "outputs": [
    {
     "data": {
      "text/plain": [
       "'Enterprise'"
      ]
     },
     "execution_count": 1,
     "metadata": {},
     "output_type": "execute_result"
    }
   ],
   "source": [
    "starship = \"Enterprise\"\n",
    "starship"
   ]
  },
  {
   "cell_type": "code",
   "execution_count": 2,
   "id": "ec63b730",
   "metadata": {},
   "outputs": [
    {
     "data": {
      "text/plain": [
       "False"
      ]
     },
     "execution_count": 2,
     "metadata": {},
     "output_type": "execute_result"
    }
   ],
   "source": [
    "starship.startswith(\"en\")"
   ]
  },
  {
   "cell_type": "code",
   "execution_count": 3,
   "id": "0291cd01",
   "metadata": {},
   "outputs": [
    {
     "data": {
      "text/plain": [
       "True"
      ]
     },
     "execution_count": 3,
     "metadata": {},
     "output_type": "execute_result"
    }
   ],
   "source": [
    "starship.endswith(\"rise\")"
   ]
  },
  {
   "cell_type": "code",
   "execution_count": 4,
   "id": "42591dbf",
   "metadata": {},
   "outputs": [
    {
     "name": "stdout",
     "output_type": "stream",
     "text": [
      "Welcome Sir\n"
     ]
    }
   ],
   "source": [
    "# replace\n",
    "\n",
    "#str.replace(old, new)\n",
    "\n",
    "str=\"Welcome Sir\"\n",
    "print(str)"
   ]
  },
  {
   "cell_type": "code",
   "execution_count": 5,
   "id": "395b1b03",
   "metadata": {},
   "outputs": [
    {
     "name": "stdout",
     "output_type": "stream",
     "text": [
      "GoodBye Sir\n"
     ]
    }
   ],
   "source": [
    "# with two Parameters\n",
    "\n",
    "print(str.replace(\"Welcome\",\"GoodBye\"))"
   ]
  },
  {
   "cell_type": "code",
   "execution_count": 6,
   "id": "5ed51530",
   "metadata": {},
   "outputs": [
    {
     "name": "stdout",
     "output_type": "stream",
     "text": [
      "I like apples\n"
     ]
    }
   ],
   "source": [
    "txt = \"I like bananas\"\n",
    "\n",
    "x = txt.replace(\"bananas\", \"apples\")\n",
    "\n",
    "print(x)"
   ]
  },
  {
   "cell_type": "code",
   "execution_count": 7,
   "id": "61287c18",
   "metadata": {},
   "outputs": [
    {
     "data": {
      "text/plain": [
       "4"
      ]
     },
     "execution_count": 7,
     "metadata": {},
     "output_type": "execute_result"
    }
   ],
   "source": [
    "phrase = \"the surprise is in here somewhere\"\n",
    "\n",
    "phrase.find(\"surprise\")"
   ]
  },
  {
   "cell_type": "code",
   "execution_count": 8,
   "id": "7d67cfb6",
   "metadata": {},
   "outputs": [
    {
     "name": "stdout",
     "output_type": "stream",
     "text": [
      "['Hello', 'World', 'DataTrained']\n"
     ]
    }
   ],
   "source": [
    "text = \"Hello World DataTrained\"\n",
    "\n",
    "# splits at space\n",
    "\n",
    "print(text.split())"
   ]
  },
  {
   "cell_type": "code",
   "execution_count": 9,
   "id": "898cf311",
   "metadata": {},
   "outputs": [
    {
     "name": "stdout",
     "output_type": "stream",
     "text": [
      "['Hello,World', 'DataTrained']\n"
     ]
    }
   ],
   "source": [
    "text = \"Hello,World, DataTrained\"\n",
    "\n",
    "# splits at ','\n",
    "\n",
    "print(text.split(\", \"))"
   ]
  },
  {
   "cell_type": "code",
   "execution_count": 10,
   "id": "e0be8c58",
   "metadata": {},
   "outputs": [
    {
     "name": "stdout",
     "output_type": "stream",
     "text": [
      "['Hello,World', ', DataTrained']\n"
     ]
    }
   ],
   "source": [
    "text = \"Hello,World:, DataTrained\"\n",
    "\n",
    "# Splits at ':'\n",
    "\n",
    "print(text.split(\":\"))\n"
   ]
  },
  {
   "cell_type": "markdown",
   "id": "af2aec20",
   "metadata": {},
   "source": [
    "#Task: 1 Write a program that converts the following strings to lowercase:\n",
    "\n",
    "\"Animals\", \"Badger\", \"Honey Bee\", \"Honey Badger\". Print each lowercase string on a separate line.\n",
    "\n"
   ]
  },
  {
   "cell_type": "code",
   "execution_count": 12,
   "id": "8c5e465c",
   "metadata": {},
   "outputs": [
    {
     "name": "stdout",
     "output_type": "stream",
     "text": [
      "animal\n"
     ]
    }
   ],
   "source": [
    "a=\"Animal\"\n",
    "\n",
    "aa=a.lower()\n",
    "print(aa)"
   ]
  },
  {
   "cell_type": "code",
   "execution_count": 13,
   "id": "b1f70306",
   "metadata": {},
   "outputs": [
    {
     "name": "stdout",
     "output_type": "stream",
     "text": [
      "badger\n"
     ]
    }
   ],
   "source": [
    "b=\"badger\"\n",
    "\n",
    "bb=b.lower()\n",
    "print(bb)"
   ]
  },
  {
   "cell_type": "code",
   "execution_count": 14,
   "id": "a40da8d0",
   "metadata": {},
   "outputs": [
    {
     "name": "stdout",
     "output_type": "stream",
     "text": [
      "honey bee\n"
     ]
    }
   ],
   "source": [
    "c=\"Honey Bee\"\n",
    "cc=c.lower()\n",
    "print(cc)"
   ]
  },
  {
   "cell_type": "code",
   "execution_count": 15,
   "id": "d63edc67",
   "metadata": {},
   "outputs": [
    {
     "name": "stdout",
     "output_type": "stream",
     "text": [
      "honey badger\n"
     ]
    }
   ],
   "source": [
    "d=\"Honey Badger\"\n",
    "dd=d.lower()\n",
    "print(dd)"
   ]
  },
  {
   "cell_type": "code",
   "execution_count": 18,
   "id": "2bfa5447",
   "metadata": {},
   "outputs": [],
   "source": [
    "# 2 Write a program that prints out the result of .startswith(\"be\") on each of the following strings:\n",
    "\n",
    "string1 = \"Becomes\""
   ]
  },
  {
   "cell_type": "code",
   "execution_count": 19,
   "id": "74921222",
   "metadata": {},
   "outputs": [
    {
     "data": {
      "text/plain": [
       "False"
      ]
     },
     "execution_count": 19,
     "metadata": {},
     "output_type": "execute_result"
    }
   ],
   "source": [
    "string1.startswith(\"be\")"
   ]
  },
  {
   "cell_type": "code",
   "execution_count": 20,
   "id": "9d660778",
   "metadata": {},
   "outputs": [],
   "source": [
    "string2 = \"becomes\""
   ]
  },
  {
   "cell_type": "code",
   "execution_count": 22,
   "id": "9855e397",
   "metadata": {},
   "outputs": [
    {
     "data": {
      "text/plain": [
       "True"
      ]
     },
     "execution_count": 22,
     "metadata": {},
     "output_type": "execute_result"
    }
   ],
   "source": [
    "string2.startswith(\"be\")"
   ]
  },
  {
   "cell_type": "code",
   "execution_count": 23,
   "id": "f581bea4",
   "metadata": {},
   "outputs": [],
   "source": [
    "string3 = \"BEAR\""
   ]
  },
  {
   "cell_type": "code",
   "execution_count": 24,
   "id": "0d7a10f7",
   "metadata": {},
   "outputs": [
    {
     "data": {
      "text/plain": [
       "False"
      ]
     },
     "execution_count": 24,
     "metadata": {},
     "output_type": "execute_result"
    }
   ],
   "source": [
    "string3.startswith(\"be\")"
   ]
  },
  {
   "cell_type": "code",
   "execution_count": 25,
   "id": "1e7a9b94",
   "metadata": {},
   "outputs": [],
   "source": [
    "string4 = \" bEautiful\""
   ]
  },
  {
   "cell_type": "code",
   "execution_count": 26,
   "id": "e9235922",
   "metadata": {},
   "outputs": [
    {
     "data": {
      "text/plain": [
       "False"
      ]
     },
     "execution_count": 26,
     "metadata": {},
     "output_type": "execute_result"
    }
   ],
   "source": [
    "string4.startswith(\"be\")"
   ]
  },
  {
   "cell_type": "markdown",
   "id": "012aed18",
   "metadata": {},
   "source": [
    "#3 Using the same four strings from above, write a program that uses string methods to alter each string so that .startswith(\"be\") returns True for all of them"
   ]
  },
  {
   "cell_type": "code",
   "execution_count": 55,
   "id": "89fb91c8",
   "metadata": {},
   "outputs": [
    {
     "name": "stdout",
     "output_type": "stream",
     "text": [
      "string1 startswith be  True\n",
      "string2 startswith be  True\n",
      "string3 startswith be  True\n",
      "string4 startswith be  True\n"
     ]
    }
   ],
   "source": [
    "string1 = \"Becomes\"\n",
    "string2 = \"becomes\"\n",
    "string3 = \"BEAR\"\n",
    "string4 = \" bEautiful\"\n",
    "\n",
    "string1=string1.lower().startswith('be')\n",
    "print (\"string1 startswith be \",string1)\n",
    "\n",
    "string2=string2.startswith(\"be\")\n",
    "print (\"string2 startswith be \",string2)\n",
    "\n",
    "string3=string3.lower().startswith(\"be\")\n",
    "print (\"string3 startswith be \",string3)\n",
    "\n",
    "string4=string4.lower().strip().startswith(\"be\")\n",
    "print (\"string4 startswith be \",string4)"
   ]
  },
  {
   "cell_type": "code",
   "execution_count": 34,
   "id": "535b7f71",
   "metadata": {},
   "outputs": [
    {
     "name": "stdout",
     "output_type": "stream",
     "text": [
      "write what you want to sayhellow world\n",
      "you wrote : hellow world\n"
     ]
    }
   ],
   "source": [
    "#4 Write a program that takes input from the user and displays that input back.\n",
    "\n",
    "i=input(\"write what you want to say\")\n",
    "print(\"you wrote :\",i)"
   ]
  },
  {
   "cell_type": "code",
   "execution_count": 36,
   "id": "c7af7eb0",
   "metadata": {},
   "outputs": [
    {
     "name": "stdout",
     "output_type": "stream",
     "text": [
      "What u want to say?Avijit is my husband\n",
      "avijit is my husband\n"
     ]
    }
   ],
   "source": [
    "#5 Write a program that takes input from the user and displays the input in lowercase.\n",
    "\n",
    "i=input(\"What u want to say?\")\n",
    "\n",
    "j=i.lower()\n",
    "print(j)"
   ]
  },
  {
   "cell_type": "code",
   "execution_count": 37,
   "id": "0c5ad3f5",
   "metadata": {},
   "outputs": [
    {
     "name": "stdout",
     "output_type": "stream",
     "text": [
      "write any thing.My name is Amita\n",
      "The length og the character is  16\n"
     ]
    }
   ],
   "source": [
    "#6 Write a program that takes input from the user and displays the number of characters/len in the input.\n",
    "\n",
    "i=input(\"write any thing.\")\n",
    "j=len(i)\n",
    "print(\"The length og the character is \",j)"
   ]
  },
  {
   "cell_type": "code",
   "execution_count": null,
   "id": "d80a5983",
   "metadata": {},
   "outputs": [],
   "source": []
  }
 ],
 "metadata": {
  "kernelspec": {
   "display_name": "Python 3 (ipykernel)",
   "language": "python",
   "name": "python3"
  },
  "language_info": {
   "codemirror_mode": {
    "name": "ipython",
    "version": 3
   },
   "file_extension": ".py",
   "mimetype": "text/x-python",
   "name": "python",
   "nbconvert_exporter": "python",
   "pygments_lexer": "ipython3",
   "version": "3.9.13"
  }
 },
 "nbformat": 4,
 "nbformat_minor": 5
}
