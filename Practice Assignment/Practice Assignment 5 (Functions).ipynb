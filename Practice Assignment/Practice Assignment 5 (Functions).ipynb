{
 "cells": [
  {
   "cell_type": "markdown",
   "id": "d7377c2e",
   "metadata": {},
   "source": [
    "# Functions"
   ]
  },
  {
   "cell_type": "code",
   "execution_count": 1,
   "id": "38473e8b",
   "metadata": {},
   "outputs": [
    {
     "name": "stdout",
     "output_type": "stream",
     "text": [
      "16\n"
     ]
    }
   ],
   "source": [
    "#Practice the code given below\n",
    "\n",
    "def square(x):\n",
    "   return x*x\n",
    "print(square(4))"
   ]
  },
  {
   "cell_type": "code",
   "execution_count": 2,
   "id": "15c94433",
   "metadata": {},
   "outputs": [
    {
     "name": "stdout",
     "output_type": "stream",
     "text": [
      "The sum is 11\n"
     ]
    }
   ],
   "source": [
    "def add_numbers(x,y):\n",
    "   sum = x + y\n",
    "   return sum\n",
    "num1 = 5\n",
    "num2 = 6\n",
    "print(\"The sum is\", add_numbers(num1, num2))"
   ]
  },
  {
   "cell_type": "code",
   "execution_count": 3,
   "id": "276d3775",
   "metadata": {},
   "outputs": [
    {
     "name": "stdout",
     "output_type": "stream",
     "text": [
      "Hello Andrew, Good morning!\n"
     ]
    }
   ],
   "source": [
    "def greet(name, msg):\n",
    "    \"\"\"This function greets to\n",
    "    the person with the provided message\"\"\"\n",
    "    print(\"Hello\", name + ', ' + msg)\n",
    "greet(\"Andrew\", \"Good morning!\")"
   ]
  },
  {
   "cell_type": "code",
   "execution_count": 4,
   "id": "dea70d99",
   "metadata": {},
   "outputs": [],
   "source": [
    "#Task: Write a program to create a function that takes two arguments, name and age, and print their value.\n",
    "\n",
    "def nameage():\n",
    "    name=input(\"enter name\")\n",
    "    age=input(\"enter name\")\n",
    "    return (name,age)"
   ]
  },
  {
   "cell_type": "code",
   "execution_count": 5,
   "id": "81e1a87c",
   "metadata": {},
   "outputs": [
    {
     "name": "stdout",
     "output_type": "stream",
     "text": [
      "enter nameAvijit\n",
      "enter name36\n"
     ]
    },
    {
     "data": {
      "text/plain": [
       "('Avijit', '36')"
      ]
     },
     "execution_count": 5,
     "metadata": {},
     "output_type": "execute_result"
    }
   ],
   "source": [
    "nameage()"
   ]
  },
  {
   "cell_type": "code",
   "execution_count": 6,
   "id": "ae3e416a",
   "metadata": {},
   "outputs": [
    {
     "name": "stdout",
     "output_type": "stream",
     "text": [
      "2\n",
      "4\n"
     ]
    }
   ],
   "source": [
    "#Task : Write a function absolute_value to find absolute of a given number.\n",
    "\n",
    "def absolute_value(num):\n",
    "    \"\"\"This function returns the absolute\n",
    "    value of the entered number\"\"\"\n",
    "    if num >= 0:\n",
    "        return num\n",
    "    else:\n",
    "        return -num\n",
    "print(absolute_value(2))\n",
    "print(absolute_value(-4))"
   ]
  },
  {
   "cell_type": "code",
   "execution_count": 17,
   "id": "54568c5a",
   "metadata": {},
   "outputs": [
    {
     "name": "stdout",
     "output_type": "stream",
     "text": [
      "value of x= 2\n",
      "value of y= 4\n",
      "multiply = 8\n"
     ]
    }
   ],
   "source": [
    "#Task : write a function multiply to calculate multiplication of two numbers by taking as a arguments.\n",
    "\n",
    "def multiply(x,y):\n",
    " print(\"value of x=\",x)\n",
    " print(\"value of y=\",y)\n",
    " return x*y\n",
    "print(\"multiply =\",multiply(2,4))"
   ]
  },
  {
   "cell_type": "code",
   "execution_count": 10,
   "id": "19a55fc3",
   "metadata": {},
   "outputs": [
    {
     "name": "stdout",
     "output_type": "stream",
     "text": [
      "Value inside function: 10\n",
      "Value outside function: 20\n"
     ]
    }
   ],
   "source": [
    "#Task : write a function division to calculate division of two numbers by taking as a arguments.\n",
    "\n",
    "# local variables and global variables\n",
    "\n",
    "def my_func():\n",
    " x = 10\n",
    " print(\"Value inside function:\",x)\n",
    "x = 20\n",
    "my_func()\n",
    "print(\"Value outside function:\",x)\n",
    "squares = list(map(lambda x: x**2, range(10)))\n",
    "squares = [x**2 for x in range(10)]"
   ]
  },
  {
   "cell_type": "code",
   "execution_count": 12,
   "id": "b77013ce",
   "metadata": {},
   "outputs": [
    {
     "name": "stdout",
     "output_type": "stream",
     "text": [
      "Value inside function: 10\n",
      "Value outside function: 20\n"
     ]
    }
   ],
   "source": [
    "#Task : write a function division to calculate division of two numbers by taking as a arguments.\n",
    "\n",
    "# local variables and global variables\n",
    "def my_func():\n",
    " x = 10\n",
    " print(\"Value inside function:\",x)\n",
    "x = 20\n",
    "my_func()\n",
    "print(\"Value outside function:\",x)\n",
    "squares = list(map(lambda x: x**2, range(10)))\n",
    "squares = [x**2 for x in range(10)]"
   ]
  },
  {
   "cell_type": "code",
   "execution_count": 14,
   "id": "b1cd9e6b",
   "metadata": {},
   "outputs": [
    {
     "name": "stdout",
     "output_type": "stream",
     "text": [
      "[100, 4, 64, 49, 25, 16, 9, 121, 0, 1]\n"
     ]
    }
   ],
   "source": [
    "#Task : Write the above code to find cube of x.\n",
    "\n",
    "sequences = [10,2,8,7,5,4,3,11,0, 1]\n",
    "filtered_result = map (lambda x: x*x, sequences)\n",
    "print(list(filtered_result))"
   ]
  },
  {
   "cell_type": "code",
   "execution_count": 18,
   "id": "8357d6a0",
   "metadata": {},
   "outputs": [
    {
     "name": "stdout",
     "output_type": "stream",
     "text": [
      "[10, 8, 7, 5, 11]\n"
     ]
    }
   ],
   "source": [
    "#Task : write the above code for the expression x**3\n",
    "\n",
    "sequences = [10,2,8,7,5,4,3,11,0, 1]\n",
    "filtered_result = filter (lambda x: x > 4, sequences)\n",
    "print(list(filtered_result))"
   ]
  },
  {
   "cell_type": "code",
   "execution_count": 19,
   "id": "179f55d5",
   "metadata": {},
   "outputs": [
    {
     "name": "stdout",
     "output_type": "stream",
     "text": [
      "[0, 1, 4, 9, 16, 25, 36, 49, 64, 81]\n"
     ]
    }
   ],
   "source": [
    "#Task : write the above code for the expression x>5.\n",
    "\n",
    "squares = []\n",
    "for x in range(10):\n",
    "    squares.append(x**2)\n",
    "print(squares)"
   ]
  },
  {
   "cell_type": "code",
   "execution_count": null,
   "id": "b0facf33",
   "metadata": {},
   "outputs": [],
   "source": [
    "#Task : 1. Put the above 4 lines in as user defined function and call the function"
   ]
  },
  {
   "cell_type": "code",
   "execution_count": 20,
   "id": "3a0b450d",
   "metadata": {},
   "outputs": [
    {
     "name": "stdout",
     "output_type": "stream",
     "text": [
      "The result is 600\n",
      "The result is 70\n"
     ]
    }
   ],
   "source": [
    "#2.Given two integer numbers return their product only if the product is equal to or lower than 1000, else return their sum.\n",
    "\n",
    "\"\"\"HINT:\n",
    "Create a function that will take two numbers as parameters\n",
    "Next, Inside a function, multiply two numbers and save their product in a product variable\n",
    "Next, use the if condition to check if the product >1000. If yes, return the product\n",
    "Otherwise, use the else block to calculate the sum of two numbers and return it.\"\"\"\n",
    "\n",
    "def multiplication_or_sum(num1, num2):\n",
    "    # calculate product of two number\n",
    "    product = num1 * num2\n",
    "    # check if product is less then 1000\n",
    "    if product <= 1000:\n",
    "        return product\n",
    "    else:\n",
    "        # product is greater than 1000 calculate sum\n",
    "        return num1 + num2\n",
    "# first condition\n",
    "result = multiplication_or_sum(20, 30)\n",
    "print(\"The result is\", result)\n",
    "# Second condition\n",
    "result = multiplication_or_sum(40, 30)\n",
    "print(\"The result is\", result)"
   ]
  },
  {
   "cell_type": "code",
   "execution_count": 21,
   "id": "d0cc1f0c",
   "metadata": {},
   "outputs": [
    {
     "name": "stdout",
     "output_type": "stream",
     "text": [
      "Given list: [10, 20, 30, 40, 10]\n",
      "result is True\n",
      "Given list: [75, 65, 35, 75, 30]\n",
      "result is False\n"
     ]
    }
   ],
   "source": [
    "#3 .Task: Check if the first and last number of a list is the same.\n",
    "\"\"\"Write a function to return True if the first and last number of a given list is same.\n",
    "If numbers are different then return False.\"\"\"\n",
    "\n",
    "def first_last_same(numberList):\n",
    "    print(\"Given list:\", numberList)\n",
    "    first_num = numberList[0]\n",
    "    last_num = numberList[-1]\n",
    "    if first_num == last_num:\n",
    "        return True\n",
    "    else:\n",
    "        return False\n",
    "numbers_x = [10, 20, 30, 40, 10]\n",
    "print(\"result is\", first_last_same(numbers_x))\n",
    "numbers_y = [75, 65, 35, 75, 30]\n",
    "print(\"result is\", first_last_same(numbers_y))"
   ]
  },
  {
   "cell_type": "code",
   "execution_count": null,
   "id": "735864d6",
   "metadata": {},
   "outputs": [],
   "source": []
  }
 ],
 "metadata": {
  "kernelspec": {
   "display_name": "Python 3 (ipykernel)",
   "language": "python",
   "name": "python3"
  },
  "language_info": {
   "codemirror_mode": {
    "name": "ipython",
    "version": 3
   },
   "file_extension": ".py",
   "mimetype": "text/x-python",
   "name": "python",
   "nbconvert_exporter": "python",
   "pygments_lexer": "ipython3",
   "version": "3.9.13"
  }
 },
 "nbformat": 4,
 "nbformat_minor": 5
}
