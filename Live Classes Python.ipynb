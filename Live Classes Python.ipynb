{
 "cells": [
  {
   "cell_type": "markdown",
   "id": "ed47a5aa",
   "metadata": {},
   "source": [
    "# 11 March Live Class"
   ]
  },
  {
   "cell_type": "markdown",
   "id": "3a5d6d4e",
   "metadata": {},
   "source": [
    "### Learning Python with Fun (First Class)"
   ]
  },
  {
   "cell_type": "code",
   "execution_count": 1,
   "id": "eb3a2632",
   "metadata": {},
   "outputs": [
    {
     "data": {
      "text/plain": [
       "2"
      ]
     },
     "execution_count": 1,
     "metadata": {},
     "output_type": "execute_result"
    }
   ],
   "source": [
    "#normal Addition\n",
    "1+1"
   ]
  },
  {
   "cell_type": "code",
   "execution_count": 2,
   "id": "68aabd9e",
   "metadata": {},
   "outputs": [
    {
     "data": {
      "text/plain": [
       "1"
      ]
     },
     "execution_count": 2,
     "metadata": {},
     "output_type": "execute_result"
    }
   ],
   "source": [
    "#normal subtraction\n",
    "2-1"
   ]
  },
  {
   "cell_type": "code",
   "execution_count": 3,
   "id": "4279ff1b",
   "metadata": {},
   "outputs": [
    {
     "data": {
      "text/plain": [
       "6"
      ]
     },
     "execution_count": 3,
     "metadata": {},
     "output_type": "execute_result"
    }
   ],
   "source": [
    "#normal Multiplication\n",
    "2*3"
   ]
  },
  {
   "cell_type": "code",
   "execution_count": 4,
   "id": "b8603aae",
   "metadata": {},
   "outputs": [
    {
     "data": {
      "text/plain": [
       "5.0"
      ]
     },
     "execution_count": 4,
     "metadata": {},
     "output_type": "execute_result"
    }
   ],
   "source": [
    "#normal Divide\n",
    "10/2"
   ]
  },
  {
   "cell_type": "code",
   "execution_count": 5,
   "id": "793859e9",
   "metadata": {},
   "outputs": [
    {
     "data": {
      "text/plain": [
       "5"
      ]
     },
     "execution_count": 5,
     "metadata": {},
     "output_type": "execute_result"
    }
   ],
   "source": [
    "#Floor Division is reprensted by // and if we use floor division it will cut the decimal part \n",
    "\n",
    "10//2"
   ]
  },
  {
   "cell_type": "code",
   "execution_count": 6,
   "id": "44809b62",
   "metadata": {},
   "outputs": [
    {
     "data": {
      "text/plain": [
       "8"
      ]
     },
     "execution_count": 6,
     "metadata": {},
     "output_type": "execute_result"
    }
   ],
   "source": [
    "#Power Function is represnted by ** sign\n",
    "\n",
    "2**3"
   ]
  },
  {
   "cell_type": "markdown",
   "id": "c284ed92",
   "metadata": {},
   "source": [
    "Variables\n",
    "#variables are container which is used to store any data"
   ]
  },
  {
   "cell_type": "code",
   "execution_count": 7,
   "id": "de436a53",
   "metadata": {},
   "outputs": [],
   "source": [
    "a=50"
   ]
  },
  {
   "cell_type": "code",
   "execution_count": 8,
   "id": "e89b8969",
   "metadata": {},
   "outputs": [
    {
     "data": {
      "text/plain": [
       "50"
      ]
     },
     "execution_count": 8,
     "metadata": {},
     "output_type": "execute_result"
    }
   ],
   "source": [
    "a"
   ]
  },
  {
   "cell_type": "code",
   "execution_count": 9,
   "id": "c2979f98",
   "metadata": {},
   "outputs": [],
   "source": [
    "b=10"
   ]
  },
  {
   "cell_type": "code",
   "execution_count": 10,
   "id": "5bc658f1",
   "metadata": {},
   "outputs": [
    {
     "data": {
      "text/plain": [
       "10"
      ]
     },
     "execution_count": 10,
     "metadata": {},
     "output_type": "execute_result"
    }
   ],
   "source": [
    "b"
   ]
  },
  {
   "cell_type": "code",
   "execution_count": 11,
   "id": "12914cdd",
   "metadata": {},
   "outputs": [],
   "source": [
    "c=a+b"
   ]
  },
  {
   "cell_type": "code",
   "execution_count": 12,
   "id": "d9246f82",
   "metadata": {},
   "outputs": [
    {
     "data": {
      "text/plain": [
       "60"
      ]
     },
     "execution_count": 12,
     "metadata": {},
     "output_type": "execute_result"
    }
   ],
   "source": [
    "c"
   ]
  },
  {
   "cell_type": "code",
   "execution_count": 13,
   "id": "f669c034",
   "metadata": {},
   "outputs": [
    {
     "data": {
      "text/plain": [
       "40"
      ]
     },
     "execution_count": 13,
     "metadata": {},
     "output_type": "execute_result"
    }
   ],
   "source": [
    "d=a-b\n",
    "d"
   ]
  },
  {
   "cell_type": "code",
   "execution_count": 14,
   "id": "07e8f3e9",
   "metadata": {},
   "outputs": [
    {
     "data": {
      "text/plain": [
       "500"
      ]
     },
     "execution_count": 14,
     "metadata": {},
     "output_type": "execute_result"
    }
   ],
   "source": [
    "e=a*b\n",
    "e"
   ]
  },
  {
   "cell_type": "markdown",
   "id": "eb6463b3",
   "metadata": {},
   "source": [
    "Area of rectangle"
   ]
  },
  {
   "cell_type": "code",
   "execution_count": 15,
   "id": "77a452b7",
   "metadata": {},
   "outputs": [
    {
     "name": "stdout",
     "output_type": "stream",
     "text": [
      "area of rectangle = 200\n"
     ]
    }
   ],
   "source": [
    "Length=10\n",
    "Width=20\n",
    "\n",
    "Area=Length*Width\n",
    "print(\"area of rectangle =\",Area)"
   ]
  },
  {
   "cell_type": "code",
   "execution_count": 16,
   "id": "d7865750",
   "metadata": {},
   "outputs": [
    {
     "data": {
      "text/plain": [
       "6"
      ]
     },
     "execution_count": 16,
     "metadata": {},
     "output_type": "execute_result"
    }
   ],
   "source": [
    "#Len Function will give us the length of the string\n",
    "len(\"Mumbai\")"
   ]
  },
  {
   "cell_type": "markdown",
   "id": "9cd54162",
   "metadata": {},
   "source": [
    "Comparison Operator"
   ]
  },
  {
   "cell_type": "code",
   "execution_count": 17,
   "id": "0215e676",
   "metadata": {},
   "outputs": [
    {
     "data": {
      "text/plain": [
       "True"
      ]
     },
     "execution_count": 17,
     "metadata": {},
     "output_type": "execute_result"
    }
   ],
   "source": [
    "100==100"
   ]
  },
  {
   "cell_type": "code",
   "execution_count": 18,
   "id": "a3464bda",
   "metadata": {},
   "outputs": [
    {
     "data": {
      "text/plain": [
       "True"
      ]
     },
     "execution_count": 18,
     "metadata": {},
     "output_type": "execute_result"
    }
   ],
   "source": [
    "100>80"
   ]
  },
  {
   "cell_type": "code",
   "execution_count": 19,
   "id": "928e99a3",
   "metadata": {},
   "outputs": [
    {
     "data": {
      "text/plain": [
       "True"
      ]
     },
     "execution_count": 19,
     "metadata": {},
     "output_type": "execute_result"
    }
   ],
   "source": [
    "90<500"
   ]
  },
  {
   "cell_type": "code",
   "execution_count": 20,
   "id": "277f6958",
   "metadata": {},
   "outputs": [
    {
     "data": {
      "text/plain": [
       "True"
      ]
     },
     "execution_count": 20,
     "metadata": {},
     "output_type": "execute_result"
    }
   ],
   "source": [
    "40!=50"
   ]
  },
  {
   "cell_type": "code",
   "execution_count": 21,
   "id": "e77f25de",
   "metadata": {},
   "outputs": [
    {
     "data": {
      "text/plain": [
       "True"
      ]
     },
     "execution_count": 21,
     "metadata": {},
     "output_type": "execute_result"
    }
   ],
   "source": [
    "100<=100"
   ]
  },
  {
   "cell_type": "markdown",
   "id": "8d13f04d",
   "metadata": {},
   "source": [
    "# 12March Live Class Python"
   ]
  },
  {
   "cell_type": "markdown",
   "id": "81622365",
   "metadata": {},
   "source": [
    "### String Concetenation"
   ]
  },
  {
   "cell_type": "code",
   "execution_count": 22,
   "id": "9ae18af3",
   "metadata": {},
   "outputs": [
    {
     "data": {
      "text/plain": [
       "'hello Python'"
      ]
     },
     "execution_count": 22,
     "metadata": {},
     "output_type": "execute_result"
    }
   ],
   "source": [
    "\"hello\"+\" Python\""
   ]
  },
  {
   "cell_type": "code",
   "execution_count": 23,
   "id": "d772b3f3",
   "metadata": {},
   "outputs": [
    {
     "data": {
      "text/plain": [
       "'Elon Mask Ceo of Twitter.'"
      ]
     },
     "execution_count": 23,
     "metadata": {},
     "output_type": "execute_result"
    }
   ],
   "source": [
    "\"Elon\" + \" Mask\"+\" Ceo of\"+\" Twitter.\""
   ]
  },
  {
   "cell_type": "code",
   "execution_count": 24,
   "id": "099e0874",
   "metadata": {},
   "outputs": [
    {
     "data": {
      "text/plain": [
       "16"
      ]
     },
     "execution_count": 24,
     "metadata": {},
     "output_type": "execute_result"
    }
   ],
   "source": [
    "8+8"
   ]
  },
  {
   "cell_type": "code",
   "execution_count": 25,
   "id": "3b3582c5",
   "metadata": {},
   "outputs": [
    {
     "data": {
      "text/plain": [
       "'88'"
      ]
     },
     "execution_count": 25,
     "metadata": {},
     "output_type": "execute_result"
    }
   ],
   "source": [
    "\"8\"+\"8\""
   ]
  },
  {
   "cell_type": "markdown",
   "id": "4e113b2c",
   "metadata": {},
   "source": [
    "### Data Types (char/string, Integer, Float, boolean)"
   ]
  },
  {
   "cell_type": "markdown",
   "id": "d35f2476",
   "metadata": {},
   "source": [
    "Type Casting"
   ]
  },
  {
   "cell_type": "code",
   "execution_count": 26,
   "id": "717d69c7",
   "metadata": {},
   "outputs": [
    {
     "name": "stdout",
     "output_type": "stream",
     "text": [
      "Avijit\n"
     ]
    }
   ],
   "source": [
    "name=\"Avijit\"\n",
    "print(name)"
   ]
  },
  {
   "cell_type": "code",
   "execution_count": 28,
   "id": "ec514a87",
   "metadata": {},
   "outputs": [
    {
     "data": {
      "text/plain": [
       "102.5"
      ]
     },
     "execution_count": 28,
     "metadata": {},
     "output_type": "execute_result"
    }
   ],
   "source": [
    "tem=102.5\n",
    "tem"
   ]
  },
  {
   "cell_type": "code",
   "execution_count": 29,
   "id": "c5048096",
   "metadata": {},
   "outputs": [
    {
     "data": {
      "text/plain": [
       "float"
      ]
     },
     "execution_count": 29,
     "metadata": {},
     "output_type": "execute_result"
    }
   ],
   "source": [
    "type(tem)"
   ]
  },
  {
   "cell_type": "code",
   "execution_count": 30,
   "id": "535f292f",
   "metadata": {},
   "outputs": [
    {
     "data": {
      "text/plain": [
       "37"
      ]
     },
     "execution_count": 30,
     "metadata": {},
     "output_type": "execute_result"
    }
   ],
   "source": [
    "Age=37\n",
    "Age"
   ]
  },
  {
   "cell_type": "code",
   "execution_count": 31,
   "id": "0a66ddf8",
   "metadata": {},
   "outputs": [
    {
     "data": {
      "text/plain": [
       "int"
      ]
     },
     "execution_count": 31,
     "metadata": {},
     "output_type": "execute_result"
    }
   ],
   "source": [
    "type(Age)"
   ]
  },
  {
   "cell_type": "code",
   "execution_count": 32,
   "id": "fd498a57",
   "metadata": {},
   "outputs": [],
   "source": [
    "a=45"
   ]
  },
  {
   "cell_type": "code",
   "execution_count": 33,
   "id": "efaf0cc4",
   "metadata": {},
   "outputs": [
    {
     "data": {
      "text/plain": [
       "45"
      ]
     },
     "execution_count": 33,
     "metadata": {},
     "output_type": "execute_result"
    }
   ],
   "source": [
    "a"
   ]
  },
  {
   "cell_type": "code",
   "execution_count": 34,
   "id": "ba9733ff",
   "metadata": {},
   "outputs": [
    {
     "data": {
      "text/plain": [
       "int"
      ]
     },
     "execution_count": 34,
     "metadata": {},
     "output_type": "execute_result"
    }
   ],
   "source": [
    "type(a)"
   ]
  },
  {
   "cell_type": "code",
   "execution_count": 35,
   "id": "3f1eace0",
   "metadata": {},
   "outputs": [
    {
     "data": {
      "text/plain": [
       "45.0"
      ]
     },
     "execution_count": 35,
     "metadata": {},
     "output_type": "execute_result"
    }
   ],
   "source": [
    "#Converting Int into float\n",
    "\n",
    "AF=float(a)\n",
    "AF"
   ]
  },
  {
   "cell_type": "code",
   "execution_count": 36,
   "id": "89b0c9ca",
   "metadata": {},
   "outputs": [
    {
     "data": {
      "text/plain": [
       "float"
      ]
     },
     "execution_count": 36,
     "metadata": {},
     "output_type": "execute_result"
    }
   ],
   "source": [
    "type(AF)"
   ]
  },
  {
   "cell_type": "code",
   "execution_count": 37,
   "id": "f2170d6a",
   "metadata": {},
   "outputs": [],
   "source": [
    "# to convert any datatype in python, it should be hold in a new variable, suppose\n",
    "\n",
    "X=\"20\""
   ]
  },
  {
   "cell_type": "code",
   "execution_count": 38,
   "id": "3ba60765",
   "metadata": {},
   "outputs": [
    {
     "data": {
      "text/plain": [
       "str"
      ]
     },
     "execution_count": 38,
     "metadata": {},
     "output_type": "execute_result"
    }
   ],
   "source": [
    "type(X)"
   ]
  },
  {
   "cell_type": "code",
   "execution_count": 39,
   "id": "e06d0323",
   "metadata": {},
   "outputs": [
    {
     "data": {
      "text/plain": [
       "20"
      ]
     },
     "execution_count": 39,
     "metadata": {},
     "output_type": "execute_result"
    }
   ],
   "source": [
    "#to Convert the datatype we need to hold the value in any new variable, such as\n",
    "\n",
    "Integer=int(X)\n",
    "Integer"
   ]
  },
  {
   "cell_type": "code",
   "execution_count": 40,
   "id": "394269ee",
   "metadata": {},
   "outputs": [
    {
     "data": {
      "text/plain": [
       "int"
      ]
     },
     "execution_count": 40,
     "metadata": {},
     "output_type": "execute_result"
    }
   ],
   "source": [
    "type(Integer)"
   ]
  },
  {
   "cell_type": "code",
   "execution_count": 41,
   "id": "52e022cc",
   "metadata": {},
   "outputs": [
    {
     "data": {
      "text/plain": [
       "'5'"
      ]
     },
     "execution_count": 41,
     "metadata": {},
     "output_type": "execute_result"
    }
   ],
   "source": [
    "m=\"5\"\n",
    "m"
   ]
  },
  {
   "cell_type": "code",
   "execution_count": 42,
   "id": "af9a98d4",
   "metadata": {},
   "outputs": [
    {
     "data": {
      "text/plain": [
       "'2'"
      ]
     },
     "execution_count": 42,
     "metadata": {},
     "output_type": "execute_result"
    }
   ],
   "source": [
    "n=\"2\"\n",
    "n"
   ]
  },
  {
   "cell_type": "code",
   "execution_count": 43,
   "id": "8e02f80c",
   "metadata": {},
   "outputs": [
    {
     "data": {
      "text/plain": [
       "'52'"
      ]
     },
     "execution_count": 43,
     "metadata": {},
     "output_type": "execute_result"
    }
   ],
   "source": [
    "m+n"
   ]
  },
  {
   "cell_type": "markdown",
   "id": "eade7460",
   "metadata": {},
   "source": [
    "#In typecasting we have to write the value int(m)+int(n) or you can convert the m and n seperately then do the mathematicaloperation\n",
    "\n",
    "int(m)+int(n)"
   ]
  },
  {
   "cell_type": "markdown",
   "id": "7bbfbafb",
   "metadata": {},
   "source": [
    "### User Input"
   ]
  },
  {
   "cell_type": "code",
   "execution_count": 44,
   "id": "59ca360a",
   "metadata": {},
   "outputs": [
    {
     "name": "stdout",
     "output_type": "stream",
     "text": [
      "Enter any country nameDubai\n"
     ]
    },
    {
     "data": {
      "text/plain": [
       "'Dubai'"
      ]
     },
     "execution_count": 44,
     "metadata": {},
     "output_type": "execute_result"
    }
   ],
   "source": [
    "country=input(\"Enter any country name\")\n",
    "country"
   ]
  },
  {
   "cell_type": "code",
   "execution_count": 45,
   "id": "0452d903",
   "metadata": {},
   "outputs": [
    {
     "name": "stdout",
     "output_type": "stream",
     "text": [
      "Enter first number24\n"
     ]
    },
    {
     "data": {
      "text/plain": [
       "'24'"
      ]
     },
     "execution_count": 45,
     "metadata": {},
     "output_type": "execute_result"
    }
   ],
   "source": [
    "x=input(\"Enter first number\")\n",
    "x"
   ]
  },
  {
   "cell_type": "code",
   "execution_count": 46,
   "id": "5d05ef26",
   "metadata": {},
   "outputs": [
    {
     "name": "stdout",
     "output_type": "stream",
     "text": [
      "Enter second number23\n"
     ]
    },
    {
     "data": {
      "text/plain": [
       "'23'"
      ]
     },
     "execution_count": 46,
     "metadata": {},
     "output_type": "execute_result"
    }
   ],
   "source": [
    "y=input(\"Enter second number\")\n",
    "y"
   ]
  },
  {
   "cell_type": "code",
   "execution_count": 47,
   "id": "b1a3f7ce",
   "metadata": {},
   "outputs": [
    {
     "data": {
      "text/plain": [
       "47"
      ]
     },
     "execution_count": 47,
     "metadata": {},
     "output_type": "execute_result"
    }
   ],
   "source": [
    "#to do the addition of user input number we need to convert the values in integar(int) as user input in python always takes values in string\n",
    "\n",
    "int(x)+int(y)"
   ]
  },
  {
   "cell_type": "code",
   "execution_count": 48,
   "id": "8dcb43cf",
   "metadata": {},
   "outputs": [
    {
     "name": "stdout",
     "output_type": "stream",
     "text": [
      "Enter first number24\n"
     ]
    }
   ],
   "source": [
    "#another way of doing it is:\n",
    "\n",
    "x=int(input(\"Enter first number\"))"
   ]
  },
  {
   "cell_type": "code",
   "execution_count": 49,
   "id": "e989ed5e",
   "metadata": {},
   "outputs": [
    {
     "name": "stdout",
     "output_type": "stream",
     "text": [
      "Enter second number23\n"
     ]
    }
   ],
   "source": [
    "y=int(input(\"Enter second number\"))"
   ]
  },
  {
   "cell_type": "code",
   "execution_count": 50,
   "id": "b8c9a87a",
   "metadata": {},
   "outputs": [
    {
     "data": {
      "text/plain": [
       "47"
      ]
     },
     "execution_count": 50,
     "metadata": {},
     "output_type": "execute_result"
    }
   ],
   "source": [
    "x+y"
   ]
  },
  {
   "cell_type": "markdown",
   "id": "ac400f22",
   "metadata": {},
   "source": [
    "Area of rectangle"
   ]
  },
  {
   "cell_type": "code",
   "execution_count": 51,
   "id": "a1c47c68",
   "metadata": {},
   "outputs": [
    {
     "name": "stdout",
     "output_type": "stream",
     "text": [
      "Enter length 24\n",
      "Length= 24\n",
      "Enter Breadth 23\n",
      "Breadth 23\n",
      "Area of the rectancle is 552\n"
     ]
    }
   ],
   "source": [
    "Length=int(input(\"Enter length \"))\n",
    "print(\"Length=\",Length)\n",
    "\n",
    "Breadth=int(input(\"Enter Breadth \"))\n",
    "print(\"Breadth\",Breadth)\n",
    "\n",
    "area=Length*Breadth\n",
    "print(\"Area of the rectancle is\",area)"
   ]
  },
  {
   "cell_type": "markdown",
   "id": "0db39162",
   "metadata": {},
   "source": [
    "Area of circle"
   ]
  },
  {
   "cell_type": "code",
   "execution_count": 52,
   "id": "a88f4500",
   "metadata": {},
   "outputs": [
    {
     "name": "stdout",
     "output_type": "stream",
     "text": [
      "enter the radius23\n",
      "Radius of circle is  23 Area of Circle is 1661.0600000000002\n"
     ]
    }
   ],
   "source": [
    "radius=int(input(\"enter the radius\"))\n",
    "pi=3.14\n",
    "area_of_circle=pi*(radius**2)\n",
    "print(\"Radius of circle is \",radius,\"Area of Circle is\",area_of_circle)"
   ]
  },
  {
   "cell_type": "code",
   "execution_count": 53,
   "id": "77b0610e",
   "metadata": {},
   "outputs": [
    {
     "data": {
      "text/plain": [
       "1661.06"
      ]
     },
     "execution_count": 53,
     "metadata": {},
     "output_type": "execute_result"
    }
   ],
   "source": [
    "#round function helps to control after decimal values\n",
    "\n",
    "round(area_of_circle,2)"
   ]
  },
  {
   "cell_type": "code",
   "execution_count": 54,
   "id": "7177d13f",
   "metadata": {},
   "outputs": [
    {
     "name": "stdout",
     "output_type": "stream",
     "text": [
      "144.44\n",
      "144.44\n"
     ]
    }
   ],
   "source": [
    "#circumference_of_circle=2pir\n",
    "\n",
    "cirmcumference=2*pi*radius\n",
    "print(cirmcumference)\n",
    "print(round(cirmcumference,2))"
   ]
  },
  {
   "cell_type": "markdown",
   "id": "7ef8e1ca",
   "metadata": {},
   "source": [
    "# 18 Mar 2023 Live Class Python"
   ]
  },
  {
   "cell_type": "markdown",
   "id": "59908c76",
   "metadata": {},
   "source": [
    "Data Structures ( List, Tuples, Dictionary, Sets)"
   ]
  },
  {
   "cell_type": "markdown",
   "id": "b7dd7479",
   "metadata": {},
   "source": [
    "### List"
   ]
  },
  {
   "cell_type": "markdown",
   "id": "807d53e2",
   "metadata": {},
   "source": [
    "List are mentiond with square bracet [ ]\n",
    "Ordered collection of items\n",
    "List are index\n",
    "List are mutable"
   ]
  },
  {
   "cell_type": "code",
   "execution_count": 55,
   "id": "3f654d55",
   "metadata": {},
   "outputs": [
    {
     "data": {
      "text/plain": [
       "[1, 2, 3]"
      ]
     },
     "execution_count": 55,
     "metadata": {},
     "output_type": "execute_result"
    }
   ],
   "source": [
    "#Homogeneous list\n",
    "List1=[1,2,3]\n",
    "List1"
   ]
  },
  {
   "cell_type": "code",
   "execution_count": 56,
   "id": "0cb959ca",
   "metadata": {},
   "outputs": [
    {
     "data": {
      "text/plain": [
       "[1, 2, 3, 4, 4]"
      ]
     },
     "execution_count": 56,
     "metadata": {},
     "output_type": "execute_result"
    }
   ],
   "source": [
    "List2=[1,2,3,4,4]\n",
    "List2"
   ]
  },
  {
   "cell_type": "code",
   "execution_count": 57,
   "id": "7bf90bc4",
   "metadata": {},
   "outputs": [
    {
     "data": {
      "text/plain": [
       "[11, 22, 33, 44, 55]"
      ]
     },
     "execution_count": 57,
     "metadata": {},
     "output_type": "execute_result"
    }
   ],
   "source": [
    "List3=[11,22,33,44,55]\n",
    "List3"
   ]
  },
  {
   "cell_type": "code",
   "execution_count": 58,
   "id": "f3df53f6",
   "metadata": {},
   "outputs": [
    {
     "data": {
      "text/plain": [
       "[87, 89, 55, 11, 44]"
      ]
     },
     "execution_count": 58,
     "metadata": {},
     "output_type": "execute_result"
    }
   ],
   "source": [
    "List4=[87,89,55,11,44]\n",
    "List4"
   ]
  },
  {
   "cell_type": "code",
   "execution_count": 59,
   "id": "162d3edb",
   "metadata": {},
   "outputs": [
    {
     "data": {
      "text/plain": [
       "[11.11, 22.22, 33.33, 89.22]"
      ]
     },
     "execution_count": 59,
     "metadata": {},
     "output_type": "execute_result"
    }
   ],
   "source": [
    "L1=[11.11,22.22,33.33,89.22]\n",
    "L1"
   ]
  },
  {
   "cell_type": "code",
   "execution_count": 60,
   "id": "37b6bf47",
   "metadata": {},
   "outputs": [
    {
     "data": {
      "text/plain": [
       "['a', 'b', 'c', 'd', 'e', 'f']"
      ]
     },
     "execution_count": 60,
     "metadata": {},
     "output_type": "execute_result"
    }
   ],
   "source": [
    "L2=[\"a\",\"b\",\"c\",\"d\",\"e\",\"f\"]\n",
    "L2"
   ]
  },
  {
   "cell_type": "code",
   "execution_count": 61,
   "id": "93b8d0ea",
   "metadata": {},
   "outputs": [
    {
     "data": {
      "text/plain": [
       "['apple', 'grapes', 'Kiwi', 'mango']"
      ]
     },
     "execution_count": 61,
     "metadata": {},
     "output_type": "execute_result"
    }
   ],
   "source": [
    "fruitlist=[\"apple\",\"grapes\",\"Kiwi\",\"mango\"]\n",
    "fruitlist"
   ]
  },
  {
   "cell_type": "code",
   "execution_count": 62,
   "id": "1526159e",
   "metadata": {},
   "outputs": [
    {
     "data": {
      "text/plain": [
       "4"
      ]
     },
     "execution_count": 62,
     "metadata": {},
     "output_type": "execute_result"
    }
   ],
   "source": [
    "len(fruitlist)   #len function gives the length of the list"
   ]
  },
  {
   "cell_type": "code",
   "execution_count": 63,
   "id": "cca24406",
   "metadata": {},
   "outputs": [
    {
     "data": {
      "text/plain": [
       "[1, 55.99, 'apple', 88, 'l']"
      ]
     },
     "execution_count": 63,
     "metadata": {},
     "output_type": "execute_result"
    }
   ],
   "source": [
    "#heterogeneous list\n",
    "Mixedlist=[1,55.99,\"apple\",88,\"l\"]\n",
    "Mixedlist"
   ]
  },
  {
   "cell_type": "code",
   "execution_count": 64,
   "id": "27fdcd68",
   "metadata": {},
   "outputs": [
    {
     "data": {
      "text/plain": [
       "['apple', 'grapes', 'Kiwi', 'mango']"
      ]
     },
     "execution_count": 64,
     "metadata": {},
     "output_type": "execute_result"
    }
   ],
   "source": [
    "# indexing returns the item\n",
    "fruitlist"
   ]
  },
  {
   "cell_type": "code",
   "execution_count": 65,
   "id": "f4676f90",
   "metadata": {},
   "outputs": [
    {
     "data": {
      "text/plain": [
       "'apple'"
      ]
     },
     "execution_count": 65,
     "metadata": {},
     "output_type": "execute_result"
    }
   ],
   "source": [
    "fruitlist[0]"
   ]
  },
  {
   "cell_type": "code",
   "execution_count": 66,
   "id": "816cc7f4",
   "metadata": {},
   "outputs": [],
   "source": [
    "#to add data in the list we need to perform append function\n",
    "\n",
    "fruitlist.append(\"pineapple\")"
   ]
  },
  {
   "cell_type": "code",
   "execution_count": 67,
   "id": "62574f5f",
   "metadata": {},
   "outputs": [
    {
     "data": {
      "text/plain": [
       "['apple', 'grapes', 'Kiwi', 'mango', 'pineapple']"
      ]
     },
     "execution_count": 67,
     "metadata": {},
     "output_type": "execute_result"
    }
   ],
   "source": [
    "fruitlist"
   ]
  },
  {
   "cell_type": "code",
   "execution_count": 68,
   "id": "4811b7a6",
   "metadata": {},
   "outputs": [],
   "source": [
    "#to add multiple data in list to need to use extend function\n",
    "\n",
    "fruitlist.extend([\"guava\",\"jackfruit\",\"Papaya\"])"
   ]
  },
  {
   "cell_type": "code",
   "execution_count": 69,
   "id": "7414e3f0",
   "metadata": {},
   "outputs": [
    {
     "data": {
      "text/plain": [
       "['apple',\n",
       " 'grapes',\n",
       " 'Kiwi',\n",
       " 'mango',\n",
       " 'pineapple',\n",
       " 'guava',\n",
       " 'jackfruit',\n",
       " 'Papaya']"
      ]
     },
     "execution_count": 69,
     "metadata": {},
     "output_type": "execute_result"
    }
   ],
   "source": [
    "fruitlist"
   ]
  },
  {
   "cell_type": "code",
   "execution_count": 70,
   "id": "290f08db",
   "metadata": {},
   "outputs": [],
   "source": [
    "#if we use append method to add more than one data in the list than it will create another list inside the existence list"
   ]
  },
  {
   "cell_type": "code",
   "execution_count": 71,
   "id": "7a69de6f",
   "metadata": {},
   "outputs": [],
   "source": [
    "#to add the data in certain position (index,\"value\")\n",
    "fruitlist.insert(2,\"lichi\")"
   ]
  },
  {
   "cell_type": "code",
   "execution_count": 72,
   "id": "efc6f082",
   "metadata": {},
   "outputs": [
    {
     "data": {
      "text/plain": [
       "['apple',\n",
       " 'grapes',\n",
       " 'lichi',\n",
       " 'Kiwi',\n",
       " 'mango',\n",
       " 'pineapple',\n",
       " 'guava',\n",
       " 'jackfruit',\n",
       " 'Papaya']"
      ]
     },
     "execution_count": 72,
     "metadata": {},
     "output_type": "execute_result"
    }
   ],
   "source": [
    "fruitlist"
   ]
  },
  {
   "cell_type": "code",
   "execution_count": 73,
   "id": "926712b2",
   "metadata": {},
   "outputs": [
    {
     "data": {
      "text/plain": [
       "['apple',\n",
       " 'grapes',\n",
       " 'lichi',\n",
       " 'Kiwi',\n",
       " 'Dragonfruit',\n",
       " 'mango',\n",
       " 'pineapple',\n",
       " 'guava',\n",
       " 'jackfruit',\n",
       " 'Papaya']"
      ]
     },
     "execution_count": 73,
     "metadata": {},
     "output_type": "execute_result"
    }
   ],
   "source": [
    "fruitlist.insert(4,\"Dragonfruit\")\n",
    "fruitlist"
   ]
  },
  {
   "cell_type": "code",
   "execution_count": 74,
   "id": "34e349ad",
   "metadata": {},
   "outputs": [
    {
     "data": {
      "text/plain": [
       "3"
      ]
     },
     "execution_count": 74,
     "metadata": {},
     "output_type": "execute_result"
    }
   ],
   "source": [
    "#if we would like to view the index of any particular item in the list we can use\n",
    "\n",
    "fruitlist.index(\"Kiwi\")"
   ]
  },
  {
   "cell_type": "code",
   "execution_count": 75,
   "id": "e43c45af",
   "metadata": {},
   "outputs": [
    {
     "data": {
      "text/plain": [
       "['Dragonfruit',\n",
       " 'Kiwi',\n",
       " 'Papaya',\n",
       " 'apple',\n",
       " 'grapes',\n",
       " 'guava',\n",
       " 'jackfruit',\n",
       " 'lichi',\n",
       " 'mango',\n",
       " 'pineapple']"
      ]
     },
     "execution_count": 75,
     "metadata": {},
     "output_type": "execute_result"
    }
   ],
   "source": [
    "#sort function will sort the data in the list\n",
    "fruitlist.sort()\n",
    "fruitlist"
   ]
  },
  {
   "cell_type": "code",
   "execution_count": 76,
   "id": "6c2e448f",
   "metadata": {},
   "outputs": [
    {
     "data": {
      "text/plain": [
       "['pineapple',\n",
       " 'mango',\n",
       " 'lichi',\n",
       " 'jackfruit',\n",
       " 'guava',\n",
       " 'grapes',\n",
       " 'apple',\n",
       " 'Papaya',\n",
       " 'Kiwi',\n",
       " 'Dragonfruit']"
      ]
     },
     "execution_count": 76,
     "metadata": {},
     "output_type": "execute_result"
    }
   ],
   "source": [
    "#to view the data in desecnding order in the list\n",
    "fruitlist.reverse()\n",
    "fruitlist"
   ]
  },
  {
   "cell_type": "code",
   "execution_count": 77,
   "id": "5cf02c84",
   "metadata": {},
   "outputs": [
    {
     "data": {
      "text/plain": [
       "'Dragonfruit'"
      ]
     },
     "execution_count": 77,
     "metadata": {},
     "output_type": "execute_result"
    }
   ],
   "source": [
    "#To remove data from the list, we need to use pop function\n",
    "fruitlist.pop()"
   ]
  },
  {
   "cell_type": "code",
   "execution_count": 78,
   "id": "c8d40903",
   "metadata": {},
   "outputs": [
    {
     "data": {
      "text/plain": [
       "'jackfruit'"
      ]
     },
     "execution_count": 78,
     "metadata": {},
     "output_type": "execute_result"
    }
   ],
   "source": [
    "#suppose we need to delete data from certain position from the list we need to use index number\n",
    "fruitlist.pop(3)"
   ]
  },
  {
   "cell_type": "code",
   "execution_count": 79,
   "id": "ede66c47",
   "metadata": {},
   "outputs": [
    {
     "data": {
      "text/plain": [
       "['pineapple', 'mango', 'lichi', 'guava', 'grapes', 'apple', 'Papaya', 'Kiwi']"
      ]
     },
     "execution_count": 79,
     "metadata": {},
     "output_type": "execute_result"
    }
   ],
   "source": [
    "fruitlist"
   ]
  },
  {
   "cell_type": "code",
   "execution_count": 80,
   "id": "696716ef",
   "metadata": {},
   "outputs": [],
   "source": [
    "#Another way to remove certain data from the list, we can use remove finction\n",
    "fruitlist.remove(\"guava\")"
   ]
  },
  {
   "cell_type": "code",
   "execution_count": 81,
   "id": "e868ed4f",
   "metadata": {},
   "outputs": [
    {
     "data": {
      "text/plain": [
       "['pineapple', 'mango', 'lichi', 'grapes', 'apple', 'Papaya', 'Kiwi']"
      ]
     },
     "execution_count": 81,
     "metadata": {},
     "output_type": "execute_result"
    }
   ],
   "source": [
    "fruitlist"
   ]
  },
  {
   "cell_type": "code",
   "execution_count": 82,
   "id": "95bc0f5d",
   "metadata": {},
   "outputs": [
    {
     "data": {
      "text/plain": [
       "[]"
      ]
     },
     "execution_count": 82,
     "metadata": {},
     "output_type": "execute_result"
    }
   ],
   "source": [
    "#to remove all the data from the list, we can use clearfunction\n",
    "fruitlist.clear()\n",
    "fruitlist"
   ]
  },
  {
   "cell_type": "code",
   "execution_count": 83,
   "id": "741cda23",
   "metadata": {},
   "outputs": [
    {
     "data": {
      "text/plain": [
       "['Mango']"
      ]
     },
     "execution_count": 83,
     "metadata": {},
     "output_type": "execute_result"
    }
   ],
   "source": [
    "#Now if we one to add data insite the list we can use, append or extend function\n",
    "fruitlist.append(\"Mango\")\n",
    "fruitlist"
   ]
  },
  {
   "cell_type": "code",
   "execution_count": 84,
   "id": "9147e3f2",
   "metadata": {},
   "outputs": [
    {
     "data": {
      "text/plain": [
       "['Mango', 'Lichi', 'Peach', 'Water_melon', 'Sugar_cane']"
      ]
     },
     "execution_count": 84,
     "metadata": {},
     "output_type": "execute_result"
    }
   ],
   "source": [
    "fruitlist.extend([\"Lichi\",\"Peach\",\"Water_melon\",\"Sugar_cane\"])\n",
    "fruitlist"
   ]
  },
  {
   "cell_type": "code",
   "execution_count": 85,
   "id": "b76d4525",
   "metadata": {},
   "outputs": [
    {
     "data": {
      "text/plain": [
       "['Mango',\n",
       " 'Lichi',\n",
       " 'Peach',\n",
       " 'Water_melon',\n",
       " 'Sugar_cane',\n",
       " 'Banana',\n",
       " 'Cherry',\n",
       " 'Strawberry']"
      ]
     },
     "execution_count": 85,
     "metadata": {},
     "output_type": "execute_result"
    }
   ],
   "source": [
    "fruitlist+[\"Banana\",\"Cherry\",\"Strawberry\"] \n",
    "#this will not change the List, to hold the changes we need to keep it inside variable"
   ]
  },
  {
   "cell_type": "code",
   "execution_count": 86,
   "id": "5bd8022c",
   "metadata": {},
   "outputs": [
    {
     "data": {
      "text/plain": [
       "['Mango', 'Lichi', 'Peach', 'Water_melon', 'Sugar_cane']"
      ]
     },
     "execution_count": 86,
     "metadata": {},
     "output_type": "execute_result"
    }
   ],
   "source": [
    "fruitlist"
   ]
  },
  {
   "cell_type": "markdown",
   "id": "1f58f34b",
   "metadata": {},
   "source": [
    "Slicing Operation"
   ]
  },
  {
   "cell_type": "code",
   "execution_count": 87,
   "id": "b7f19993",
   "metadata": {},
   "outputs": [
    {
     "data": {
      "text/plain": [
       "['Mango']"
      ]
     },
     "execution_count": 87,
     "metadata": {},
     "output_type": "execute_result"
    }
   ],
   "source": [
    "fruitlist[0:1]"
   ]
  },
  {
   "cell_type": "code",
   "execution_count": 88,
   "id": "686aff56",
   "metadata": {},
   "outputs": [
    {
     "data": {
      "text/plain": [
       "['Mango', 'Lichi']"
      ]
     },
     "execution_count": 88,
     "metadata": {},
     "output_type": "execute_result"
    }
   ],
   "source": [
    "fruitlist[0:2]"
   ]
  },
  {
   "cell_type": "code",
   "execution_count": 89,
   "id": "4761bf20",
   "metadata": {},
   "outputs": [
    {
     "data": {
      "text/plain": [
       "['Peach', 'Water_melon', 'Sugar_cane']"
      ]
     },
     "execution_count": 89,
     "metadata": {},
     "output_type": "execute_result"
    }
   ],
   "source": [
    "fruitlist[2:]"
   ]
  },
  {
   "cell_type": "code",
   "execution_count": 90,
   "id": "040e7cda",
   "metadata": {},
   "outputs": [
    {
     "data": {
      "text/plain": [
       "['Water_melon', 'Sugar_cane']"
      ]
     },
     "execution_count": 90,
     "metadata": {},
     "output_type": "execute_result"
    }
   ],
   "source": [
    "fruitlist[3:5]"
   ]
  },
  {
   "cell_type": "code",
   "execution_count": 91,
   "id": "e5758efc",
   "metadata": {},
   "outputs": [
    {
     "data": {
      "text/plain": [
       "['Mango', 'Lichi', 'Peach', 'Water_melon']"
      ]
     },
     "execution_count": 91,
     "metadata": {},
     "output_type": "execute_result"
    }
   ],
   "source": [
    "fruitlist[:4]"
   ]
  },
  {
   "cell_type": "code",
   "execution_count": 92,
   "id": "a1333dc1",
   "metadata": {},
   "outputs": [
    {
     "data": {
      "text/plain": [
       "['Mango', 'Lichi', 'Peach', 'Water_melon', 'Sugar_cane']"
      ]
     },
     "execution_count": 92,
     "metadata": {},
     "output_type": "execute_result"
    }
   ],
   "source": [
    "\n",
    "fruitlist"
   ]
  },
  {
   "cell_type": "code",
   "execution_count": 93,
   "id": "5cec1bc4",
   "metadata": {},
   "outputs": [
    {
     "data": {
      "text/plain": [
       "2"
      ]
     },
     "execution_count": 93,
     "metadata": {},
     "output_type": "execute_result"
    }
   ],
   "source": [
    "fruitlist.index(\"Peach\")"
   ]
  },
  {
   "cell_type": "code",
   "execution_count": 94,
   "id": "2123572b",
   "metadata": {},
   "outputs": [],
   "source": [
    "#to change any data from the particular list we can use.\n",
    "#you can see Peach is replaced with Pear\n",
    "\n",
    "fruitlist[2]=\"Pear\""
   ]
  },
  {
   "cell_type": "code",
   "execution_count": 95,
   "id": "12b83418",
   "metadata": {},
   "outputs": [
    {
     "data": {
      "text/plain": [
       "['Mango', 'Lichi', 'Pear', 'Water_melon', 'Sugar_cane']"
      ]
     },
     "execution_count": 95,
     "metadata": {},
     "output_type": "execute_result"
    }
   ],
   "source": [
    "fruitlist"
   ]
  },
  {
   "cell_type": "code",
   "execution_count": 96,
   "id": "ee4858da",
   "metadata": {},
   "outputs": [],
   "source": [
    "#to Delete the entire list with all the data inside it\n",
    "\n",
    "del fruitlist"
   ]
  },
  {
   "cell_type": "code",
   "execution_count": 97,
   "id": "b39f3041",
   "metadata": {},
   "outputs": [
    {
     "ename": "NameError",
     "evalue": "name 'fruitlist' is not defined",
     "output_type": "error",
     "traceback": [
      "\u001b[1;31m---------------------------------------------------------------------------\u001b[0m",
      "\u001b[1;31mNameError\u001b[0m                                 Traceback (most recent call last)",
      "\u001b[1;32m~\\AppData\\Local\\Temp\\ipykernel_8672\\83626785.py\u001b[0m in \u001b[0;36m<module>\u001b[1;34m\u001b[0m\n\u001b[1;32m----> 1\u001b[1;33m \u001b[0mfruitlist\u001b[0m\u001b[1;33m\u001b[0m\u001b[1;33m\u001b[0m\u001b[0m\n\u001b[0m",
      "\u001b[1;31mNameError\u001b[0m: name 'fruitlist' is not defined"
     ]
    }
   ],
   "source": [
    "fruitlist"
   ]
  },
  {
   "cell_type": "markdown",
   "id": "e899f22d",
   "metadata": {},
   "source": [
    "### Tuples"
   ]
  },
  {
   "cell_type": "markdown",
   "id": "c7e777d0",
   "metadata": {},
   "source": [
    "Tuples are represented by round bracet()\n",
    "\n",
    "Tuples are ordered collection of items\n",
    "\n",
    "Tuples are indexed\n",
    "\n",
    "Tuples are immutable(not editable)\n",
    "\n",
    "Tupples allows duplicacy"
   ]
  },
  {
   "cell_type": "code",
   "execution_count": 98,
   "id": "7c9e0dc4",
   "metadata": {},
   "outputs": [
    {
     "data": {
      "text/plain": [
       "(1, 2, 3, 4, 5)"
      ]
     },
     "execution_count": 98,
     "metadata": {},
     "output_type": "execute_result"
    }
   ],
   "source": [
    "t1=(1,2,3,4,5)\n",
    "t1"
   ]
  },
  {
   "cell_type": "code",
   "execution_count": 99,
   "id": "807e1b72",
   "metadata": {},
   "outputs": [
    {
     "data": {
      "text/plain": [
       "(11, 44, 66, 88, 34)"
      ]
     },
     "execution_count": 99,
     "metadata": {},
     "output_type": "execute_result"
    }
   ],
   "source": [
    "t2=(11,44,66,88,34)\n",
    "t2"
   ]
  },
  {
   "cell_type": "code",
   "execution_count": 100,
   "id": "690d59d0",
   "metadata": {},
   "outputs": [
    {
     "data": {
      "text/plain": [
       "(99, 55, 34, 23, 87, 36)"
      ]
     },
     "execution_count": 100,
     "metadata": {},
     "output_type": "execute_result"
    }
   ],
   "source": [
    "t3=(99,55,34,23,87,36)\n",
    "t3"
   ]
  },
  {
   "cell_type": "code",
   "execution_count": 101,
   "id": "6a7961bf",
   "metadata": {},
   "outputs": [
    {
     "data": {
      "text/plain": [
       "('a', 'b', 'C')"
      ]
     },
     "execution_count": 101,
     "metadata": {},
     "output_type": "execute_result"
    }
   ],
   "source": [
    "t4=(\"a\",\"b\",\"C\")\n",
    "t4"
   ]
  },
  {
   "cell_type": "code",
   "execution_count": 102,
   "id": "a5665b55",
   "metadata": {},
   "outputs": [
    {
     "data": {
      "text/plain": [
       "36"
      ]
     },
     "execution_count": 102,
     "metadata": {},
     "output_type": "execute_result"
    }
   ],
   "source": [
    "#check index\n",
    "t3[5]"
   ]
  },
  {
   "cell_type": "markdown",
   "id": "5f5c5fc6",
   "metadata": {},
   "source": [
    "# 19 March 2023 Live class"
   ]
  },
  {
   "cell_type": "markdown",
   "id": "8b743d36",
   "metadata": {},
   "source": [
    "### Dictionary"
   ]
  },
  {
   "cell_type": "markdown",
   "id": "9010369c",
   "metadata": {},
   "source": [
    "Dicitionary is Key-value pair"
   ]
  },
  {
   "cell_type": "markdown",
   "id": "8d8678ac",
   "metadata": {},
   "source": [
    "#dict1={key1:Value1,key2:Value2,key2:Value2,}"
   ]
  },
  {
   "cell_type": "code",
   "execution_count": 103,
   "id": "74b82ab7",
   "metadata": {},
   "outputs": [
    {
     "data": {
      "text/plain": [
       "{'id': 1, 'name': 'Avijit', 'grade': 5}"
      ]
     },
     "execution_count": 103,
     "metadata": {},
     "output_type": "execute_result"
    }
   ],
   "source": [
    "dict1={\"id\":1,\"name\":\"Avijit\",\"grade\":5}\n",
    "dict1"
   ]
  },
  {
   "cell_type": "code",
   "execution_count": 104,
   "id": "91015369",
   "metadata": {},
   "outputs": [
    {
     "data": {
      "text/plain": [
       "dict_keys(['id', 'name', 'grade'])"
      ]
     },
     "execution_count": 104,
     "metadata": {},
     "output_type": "execute_result"
    }
   ],
   "source": [
    "#this function will show only the keys\n",
    "dict1.keys()"
   ]
  },
  {
   "cell_type": "code",
   "execution_count": 105,
   "id": "7305d06b",
   "metadata": {},
   "outputs": [
    {
     "data": {
      "text/plain": [
       "dict_values([1, 'Avijit', 5])"
      ]
     },
     "execution_count": 105,
     "metadata": {},
     "output_type": "execute_result"
    }
   ],
   "source": [
    "#this function will show only the values\n",
    "dict1.values()"
   ]
  },
  {
   "cell_type": "code",
   "execution_count": 106,
   "id": "b9e1b1fd",
   "metadata": {},
   "outputs": [
    {
     "data": {
      "text/plain": [
       "dict_items([('id', 1), ('name', 'Avijit'), ('grade', 5)])"
      ]
     },
     "execution_count": 106,
     "metadata": {},
     "output_type": "execute_result"
    }
   ],
   "source": [
    "#this function will show both keys & values\n",
    "dict1.items()"
   ]
  },
  {
   "cell_type": "code",
   "execution_count": 107,
   "id": "9c534b99",
   "metadata": {},
   "outputs": [
    {
     "data": {
      "text/plain": [
       "5"
      ]
     },
     "execution_count": 107,
     "metadata": {},
     "output_type": "execute_result"
    }
   ],
   "source": [
    "#We can also view particular data with this function\n",
    "dict1[\"grade\"]"
   ]
  },
  {
   "cell_type": "code",
   "execution_count": 108,
   "id": "e366e180",
   "metadata": {},
   "outputs": [
    {
     "data": {
      "text/plain": [
       "{'id': 1, 'name': 'Avijit', 'grade': 9}"
      ]
     },
     "execution_count": 108,
     "metadata": {},
     "output_type": "execute_result"
    }
   ],
   "source": [
    "#dictionaries are mutable, so you acn edit any data inside it\n",
    "dict1[\"grade\"]=9\n",
    "dict1"
   ]
  },
  {
   "cell_type": "code",
   "execution_count": 109,
   "id": "1590c5c2",
   "metadata": {},
   "outputs": [
    {
     "data": {
      "text/plain": [
       "{'id': 1, 'name': 'Avijit', 'grade': 9, 'fees': 2000}"
      ]
     },
     "execution_count": 109,
     "metadata": {},
     "output_type": "execute_result"
    }
   ],
   "source": [
    "#to update any dictionary\n",
    "dict1.update({\"fees\":2000})\n",
    "dict1"
   ]
  },
  {
   "cell_type": "code",
   "execution_count": 110,
   "id": "04551061",
   "metadata": {},
   "outputs": [
    {
     "data": {
      "text/plain": [
       "'Avijit'"
      ]
     },
     "execution_count": 110,
     "metadata": {},
     "output_type": "execute_result"
    }
   ],
   "source": [
    "#We can also print the result using the values\n",
    "\n",
    "dict1[\"name\"]"
   ]
  },
  {
   "cell_type": "code",
   "execution_count": 111,
   "id": "aea8009e",
   "metadata": {},
   "outputs": [
    {
     "ename": "SyntaxError",
     "evalue": "invalid syntax (737694018.py, line 1)",
     "output_type": "error",
     "traceback": [
      "\u001b[1;36m  File \u001b[1;32m\"C:\\Users\\Rima Das\\AppData\\Local\\Temp\\ipykernel_8672\\737694018.py\"\u001b[1;36m, line \u001b[1;32m1\u001b[0m\n\u001b[1;33m    print(\"dict1[\"name\"]:\",dict1[\"name\"])\u001b[0m\n\u001b[1;37m                  ^\u001b[0m\n\u001b[1;31mSyntaxError\u001b[0m\u001b[1;31m:\u001b[0m invalid syntax\n"
     ]
    }
   ],
   "source": [
    "print(\"dict1[\"name\"]:\",dict1[\"name\"])"
   ]
  },
  {
   "cell_type": "code",
   "execution_count": 112,
   "id": "5ae7abec",
   "metadata": {},
   "outputs": [
    {
     "data": {
      "text/plain": [
       "2000"
      ]
     },
     "execution_count": 112,
     "metadata": {},
     "output_type": "execute_result"
    }
   ],
   "source": [
    "#to delete particular key from the dictionary, we need to use pop or del operation\n",
    "dict1.pop(\"fees\")"
   ]
  },
  {
   "cell_type": "code",
   "execution_count": 113,
   "id": "8f520c2d",
   "metadata": {},
   "outputs": [
    {
     "data": {
      "text/plain": [
       "{'id': 1, 'name': 'Avijit', 'grade': 9}"
      ]
     },
     "execution_count": 113,
     "metadata": {},
     "output_type": "execute_result"
    }
   ],
   "source": [
    "dict1"
   ]
  },
  {
   "cell_type": "code",
   "execution_count": 114,
   "id": "0e5b0766",
   "metadata": {},
   "outputs": [],
   "source": [
    "del dict1[\"grade\"]"
   ]
  },
  {
   "cell_type": "code",
   "execution_count": 115,
   "id": "4e63a07c",
   "metadata": {},
   "outputs": [
    {
     "data": {
      "text/plain": [
       "{'id': 1, 'name': 'Avijit'}"
      ]
     },
     "execution_count": 115,
     "metadata": {},
     "output_type": "execute_result"
    }
   ],
   "source": [
    "dict1"
   ]
  },
  {
   "cell_type": "code",
   "execution_count": 116,
   "id": "5323e26f",
   "metadata": {},
   "outputs": [],
   "source": [
    "dict1.clear()"
   ]
  },
  {
   "cell_type": "code",
   "execution_count": 117,
   "id": "26a5654e",
   "metadata": {},
   "outputs": [
    {
     "data": {
      "text/plain": [
       "{}"
      ]
     },
     "execution_count": 117,
     "metadata": {},
     "output_type": "execute_result"
    }
   ],
   "source": [
    "dict1"
   ]
  },
  {
   "cell_type": "code",
   "execution_count": 118,
   "id": "54a8e397",
   "metadata": {},
   "outputs": [],
   "source": [
    "del dict1"
   ]
  },
  {
   "cell_type": "code",
   "execution_count": 119,
   "id": "7886a34f",
   "metadata": {},
   "outputs": [
    {
     "ename": "NameError",
     "evalue": "name 'dict1' is not defined",
     "output_type": "error",
     "traceback": [
      "\u001b[1;31m---------------------------------------------------------------------------\u001b[0m",
      "\u001b[1;31mNameError\u001b[0m                                 Traceback (most recent call last)",
      "\u001b[1;32m~\\AppData\\Local\\Temp\\ipykernel_8672\\1911420973.py\u001b[0m in \u001b[0;36m<module>\u001b[1;34m\u001b[0m\n\u001b[1;32m----> 1\u001b[1;33m \u001b[0mdict1\u001b[0m\u001b[1;33m\u001b[0m\u001b[1;33m\u001b[0m\u001b[0m\n\u001b[0m",
      "\u001b[1;31mNameError\u001b[0m: name 'dict1' is not defined"
     ]
    }
   ],
   "source": [
    "dict1"
   ]
  },
  {
   "cell_type": "code",
   "execution_count": 120,
   "id": "7c80710a",
   "metadata": {},
   "outputs": [
    {
     "data": {
      "text/plain": [
       "{'id': [1, 2, 3], 'name': ['Amita', 'Avijit', 'Amy'], 'grade': [9, 8, 7]}"
      ]
     },
     "execution_count": 120,
     "metadata": {},
     "output_type": "execute_result"
    }
   ],
   "source": [
    "#to add collection of data in dictionary\n",
    "dict={\"id\":[1,2,3],\"name\":[\"Amita\",\"Avijit\",\"Amy\"],\"grade\":[9,8,7]}\n",
    "dict"
   ]
  },
  {
   "cell_type": "code",
   "execution_count": 121,
   "id": "6bca97dc",
   "metadata": {},
   "outputs": [
    {
     "data": {
      "text/plain": [
       "[1, 2, 3]"
      ]
     },
     "execution_count": 121,
     "metadata": {},
     "output_type": "execute_result"
    }
   ],
   "source": [
    "dict[\"id\"]"
   ]
  },
  {
   "cell_type": "code",
   "execution_count": 122,
   "id": "87240b3d",
   "metadata": {},
   "outputs": [
    {
     "data": {
      "text/plain": [
       "['Amita', 'Avijit', 'Amy']"
      ]
     },
     "execution_count": 122,
     "metadata": {},
     "output_type": "execute_result"
    }
   ],
   "source": [
    "dict[\"name\"]"
   ]
  },
  {
   "cell_type": "code",
   "execution_count": 123,
   "id": "fdde88a7",
   "metadata": {},
   "outputs": [
    {
     "data": {
      "text/plain": [
       "3"
      ]
     },
     "execution_count": 123,
     "metadata": {},
     "output_type": "execute_result"
    }
   ],
   "source": [
    "dict[\"id\"][2]"
   ]
  },
  {
   "cell_type": "code",
   "execution_count": 124,
   "id": "82fa7b4c",
   "metadata": {},
   "outputs": [
    {
     "data": {
      "text/plain": [
       "{'id': [1, 2, 3], 'name': ['Amita', 'Avijit', 'Rima'], 'grade': [9, 8, 7]}"
      ]
     },
     "execution_count": 124,
     "metadata": {},
     "output_type": "execute_result"
    }
   ],
   "source": [
    "#to update the dictionary we can use below function\n",
    "\n",
    "dict[\"name\"][2]=\"Rima\"\n",
    "dict"
   ]
  },
  {
   "cell_type": "code",
   "execution_count": 125,
   "id": "ab748b14",
   "metadata": {},
   "outputs": [],
   "source": [
    "dict[\"grade\"][0]=10"
   ]
  },
  {
   "cell_type": "code",
   "execution_count": 126,
   "id": "70fd44e0",
   "metadata": {},
   "outputs": [
    {
     "data": {
      "text/plain": [
       "{'id': [1, 2, 3], 'name': ['Amita', 'Avijit', 'Rima'], 'grade': [10, 8, 7]}"
      ]
     },
     "execution_count": 126,
     "metadata": {},
     "output_type": "execute_result"
    }
   ],
   "source": [
    "dict"
   ]
  },
  {
   "cell_type": "code",
   "execution_count": 127,
   "id": "2e674725",
   "metadata": {},
   "outputs": [
    {
     "data": {
      "text/plain": [
       "[10, 8, 7]"
      ]
     },
     "execution_count": 127,
     "metadata": {},
     "output_type": "execute_result"
    }
   ],
   "source": [
    "#we can use pop operation to delete\n",
    "dict.pop(\"grade\")"
   ]
  },
  {
   "cell_type": "code",
   "execution_count": 128,
   "id": "7af2d65b",
   "metadata": {},
   "outputs": [
    {
     "data": {
      "text/plain": [
       "{'id': [1, 2, 3], 'name': ['Amita', 'Avijit', 'Rima']}"
      ]
     },
     "execution_count": 128,
     "metadata": {},
     "output_type": "execute_result"
    }
   ],
   "source": [
    "dict"
   ]
  },
  {
   "cell_type": "code",
   "execution_count": 129,
   "id": "533e465a",
   "metadata": {},
   "outputs": [],
   "source": [
    "del dict"
   ]
  },
  {
   "cell_type": "code",
   "execution_count": 130,
   "id": "ba0ac3a0",
   "metadata": {},
   "outputs": [],
   "source": [
    "#another list\n",
    "\n",
    "p={10:\"java\",20:\"php\",30:\"python\"}"
   ]
  },
  {
   "cell_type": "code",
   "execution_count": 131,
   "id": "5bcfa183",
   "metadata": {},
   "outputs": [
    {
     "data": {
      "text/plain": [
       "{10: 'java', 20: 'php', 30: 'python'}"
      ]
     },
     "execution_count": 131,
     "metadata": {},
     "output_type": "execute_result"
    }
   ],
   "source": [
    "p"
   ]
  },
  {
   "cell_type": "code",
   "execution_count": 132,
   "id": "b4a9126a",
   "metadata": {},
   "outputs": [],
   "source": [
    "p.update({40:\"html\"})"
   ]
  },
  {
   "cell_type": "code",
   "execution_count": 133,
   "id": "0c8a1d48",
   "metadata": {},
   "outputs": [
    {
     "data": {
      "text/plain": [
       "{10: 'java', 20: 'php', 30: 'python', 40: 'html'}"
      ]
     },
     "execution_count": 133,
     "metadata": {},
     "output_type": "execute_result"
    }
   ],
   "source": [
    "p"
   ]
  },
  {
   "cell_type": "code",
   "execution_count": 134,
   "id": "11b872b7",
   "metadata": {},
   "outputs": [
    {
     "data": {
      "text/plain": [
       "'html'"
      ]
     },
     "execution_count": 134,
     "metadata": {},
     "output_type": "execute_result"
    }
   ],
   "source": [
    "#if we want to view the value of any data\n",
    "p[40]"
   ]
  },
  {
   "cell_type": "code",
   "execution_count": 135,
   "id": "5dd61a63",
   "metadata": {},
   "outputs": [],
   "source": [
    "#if we want to update it, we can use this function\n",
    "p[40]=\"wordpress\""
   ]
  },
  {
   "cell_type": "code",
   "execution_count": 136,
   "id": "3b787b7b",
   "metadata": {},
   "outputs": [
    {
     "data": {
      "text/plain": [
       "{10: 'java', 20: 'php', 30: 'python', 40: 'wordpress'}"
      ]
     },
     "execution_count": 136,
     "metadata": {},
     "output_type": "execute_result"
    }
   ],
   "source": [
    "p"
   ]
  },
  {
   "cell_type": "code",
   "execution_count": 137,
   "id": "ff495810",
   "metadata": {},
   "outputs": [
    {
     "data": {
      "text/plain": [
       "'java'"
      ]
     },
     "execution_count": 137,
     "metadata": {},
     "output_type": "execute_result"
    }
   ],
   "source": [
    "#to delete we can use pop\n",
    "\n",
    "p.pop(10)"
   ]
  },
  {
   "cell_type": "code",
   "execution_count": 138,
   "id": "9c53cf4c",
   "metadata": {},
   "outputs": [
    {
     "data": {
      "text/plain": [
       "{20: 'php', 30: 'python', 40: 'wordpress'}"
      ]
     },
     "execution_count": 138,
     "metadata": {},
     "output_type": "execute_result"
    }
   ],
   "source": [
    "p"
   ]
  },
  {
   "cell_type": "code",
   "execution_count": 139,
   "id": "0af66d31",
   "metadata": {},
   "outputs": [],
   "source": [
    "p.clear()"
   ]
  },
  {
   "cell_type": "code",
   "execution_count": 140,
   "id": "fcdcf6c7",
   "metadata": {},
   "outputs": [
    {
     "data": {
      "text/plain": [
       "{}"
      ]
     },
     "execution_count": 140,
     "metadata": {},
     "output_type": "execute_result"
    }
   ],
   "source": [
    "p"
   ]
  },
  {
   "cell_type": "code",
   "execution_count": 141,
   "id": "63f4289e",
   "metadata": {},
   "outputs": [],
   "source": [
    "del p"
   ]
  },
  {
   "cell_type": "markdown",
   "id": "dbc1445c",
   "metadata": {},
   "source": [
    "### Sets"
   ]
  },
  {
   "cell_type": "markdown",
   "id": "5bf5851d",
   "metadata": {},
   "source": [
    "sets are unordered collection of data set\n",
    "sets are not indexed\n",
    "No duplicates allowed\n",
    "it is immutable(non editable)"
   ]
  },
  {
   "cell_type": "code",
   "execution_count": 142,
   "id": "67766d31",
   "metadata": {},
   "outputs": [
    {
     "data": {
      "text/plain": [
       "{1, 2, 3}"
      ]
     },
     "execution_count": 142,
     "metadata": {},
     "output_type": "execute_result"
    }
   ],
   "source": [
    "s1={1,2,3}\n",
    "s1"
   ]
  },
  {
   "cell_type": "code",
   "execution_count": 143,
   "id": "7a4c8d20",
   "metadata": {},
   "outputs": [
    {
     "data": {
      "text/plain": [
       "{10, 23, 24, 55, 69, 87, 89}"
      ]
     },
     "execution_count": 143,
     "metadata": {},
     "output_type": "execute_result"
    }
   ],
   "source": [
    "#set dont allow dupicate values, for eg: u will see only once 10 is added\n",
    "s2={10,55,69,87,89,10,24,23,10}\n",
    "s2"
   ]
  },
  {
   "cell_type": "code",
   "execution_count": 144,
   "id": "815b4778",
   "metadata": {},
   "outputs": [
    {
     "ename": "TypeError",
     "evalue": "'set' object is not subscriptable",
     "output_type": "error",
     "traceback": [
      "\u001b[1;31m---------------------------------------------------------------------------\u001b[0m",
      "\u001b[1;31mTypeError\u001b[0m                                 Traceback (most recent call last)",
      "\u001b[1;32m~\\AppData\\Local\\Temp\\ipykernel_8672\\3186627875.py\u001b[0m in \u001b[0;36m<module>\u001b[1;34m\u001b[0m\n\u001b[0;32m      1\u001b[0m \u001b[1;31m#dont allow index, it will through error\u001b[0m\u001b[1;33m\u001b[0m\u001b[1;33m\u001b[0m\u001b[0m\n\u001b[1;32m----> 2\u001b[1;33m \u001b[0ms2\u001b[0m\u001b[1;33m[\u001b[0m\u001b[1;36m0\u001b[0m\u001b[1;33m]\u001b[0m\u001b[1;33m\u001b[0m\u001b[1;33m\u001b[0m\u001b[0m\n\u001b[0m",
      "\u001b[1;31mTypeError\u001b[0m: 'set' object is not subscriptable"
     ]
    }
   ],
   "source": [
    "#dont allow index, it will through error\n",
    "s2[0]"
   ]
  },
  {
   "cell_type": "code",
   "execution_count": 145,
   "id": "e94b4db4",
   "metadata": {},
   "outputs": [
    {
     "data": {
      "text/plain": [
       "{10, 23, 24, 55, 69, 87, 89}"
      ]
     },
     "execution_count": 145,
     "metadata": {},
     "output_type": "execute_result"
    }
   ],
   "source": [
    "s2"
   ]
  },
  {
   "cell_type": "code",
   "execution_count": 146,
   "id": "3b1ada8c",
   "metadata": {},
   "outputs": [
    {
     "ename": "TypeError",
     "evalue": "'set' object does not support item assignment",
     "output_type": "error",
     "traceback": [
      "\u001b[1;31m---------------------------------------------------------------------------\u001b[0m",
      "\u001b[1;31mTypeError\u001b[0m                                 Traceback (most recent call last)",
      "\u001b[1;32m~\\AppData\\Local\\Temp\\ipykernel_8672\\176039379.py\u001b[0m in \u001b[0;36m<module>\u001b[1;34m\u001b[0m\n\u001b[0;32m      1\u001b[0m \u001b[1;31m#it wont be allow to update as well in set\u001b[0m\u001b[1;33m\u001b[0m\u001b[1;33m\u001b[0m\u001b[0m\n\u001b[1;32m----> 2\u001b[1;33m \u001b[0ms2\u001b[0m\u001b[1;33m[\u001b[0m\u001b[1;36m4\u001b[0m\u001b[1;33m]\u001b[0m\u001b[1;33m=\u001b[0m\u001b[1;36m500\u001b[0m\u001b[1;33m\u001b[0m\u001b[1;33m\u001b[0m\u001b[0m\n\u001b[0m",
      "\u001b[1;31mTypeError\u001b[0m: 'set' object does not support item assignment"
     ]
    }
   ],
   "source": [
    "#it wont be allow to update as well in set\n",
    "s2[4]=500"
   ]
  },
  {
   "cell_type": "code",
   "execution_count": 147,
   "id": "d7898acc",
   "metadata": {},
   "outputs": [
    {
     "data": {
      "text/plain": [
       "{10, 23, 24, 55, 69, 87, 89}"
      ]
     },
     "execution_count": 147,
     "metadata": {},
     "output_type": "execute_result"
    }
   ],
   "source": [
    "s2"
   ]
  },
  {
   "cell_type": "code",
   "execution_count": 148,
   "id": "84a9fcd7",
   "metadata": {},
   "outputs": [
    {
     "data": {
      "text/plain": [
       "{10, 23, 24, 55, 69, 87, 89}"
      ]
     },
     "execution_count": 148,
     "metadata": {},
     "output_type": "execute_result"
    }
   ],
   "source": [
    "s2"
   ]
  },
  {
   "cell_type": "code",
   "execution_count": 149,
   "id": "32fae2c1",
   "metadata": {},
   "outputs": [
    {
     "data": {
      "text/plain": [
       "set"
      ]
     },
     "execution_count": 149,
     "metadata": {},
     "output_type": "execute_result"
    }
   ],
   "source": [
    "type(s2)"
   ]
  },
  {
   "cell_type": "code",
   "execution_count": 150,
   "id": "0f758ddd",
   "metadata": {},
   "outputs": [],
   "source": [
    "s2.remove(55)"
   ]
  },
  {
   "cell_type": "code",
   "execution_count": 151,
   "id": "8f0aadd8",
   "metadata": {},
   "outputs": [
    {
     "data": {
      "text/plain": [
       "{10, 23, 24, 69, 87, 89}"
      ]
     },
     "execution_count": 151,
     "metadata": {},
     "output_type": "execute_result"
    }
   ],
   "source": [
    "s2"
   ]
  },
  {
   "cell_type": "code",
   "execution_count": 152,
   "id": "1d1222bb",
   "metadata": {},
   "outputs": [
    {
     "data": {
      "text/plain": [
       "89"
      ]
     },
     "execution_count": 152,
     "metadata": {},
     "output_type": "execute_result"
    }
   ],
   "source": [
    "s2.pop()"
   ]
  },
  {
   "cell_type": "code",
   "execution_count": 153,
   "id": "f184b203",
   "metadata": {},
   "outputs": [],
   "source": [
    "del s2"
   ]
  },
  {
   "cell_type": "markdown",
   "id": "c401a9bd",
   "metadata": {},
   "source": [
    "# 25th March Live Class"
   ]
  },
  {
   "cell_type": "markdown",
   "id": "b727d2ea",
   "metadata": {},
   "source": [
    "### Loop"
   ]
  },
  {
   "cell_type": "markdown",
   "id": "656bab82",
   "metadata": {},
   "source": [
    "WHILE LOOP"
   ]
  },
  {
   "cell_type": "code",
   "execution_count": 154,
   "id": "1613f63f",
   "metadata": {},
   "outputs": [
    {
     "name": "stdout",
     "output_type": "stream",
     "text": [
      "0\n",
      "1\n",
      "2\n"
     ]
    }
   ],
   "source": [
    "#initialization\n",
    "i=0\n",
    "\n",
    "#condition\n",
    "while(i<3):\n",
    "    print(i)\n",
    "    i=i+1               #increment"
   ]
  },
  {
   "cell_type": "code",
   "execution_count": 155,
   "id": "97aa3359",
   "metadata": {},
   "outputs": [
    {
     "name": "stdout",
     "output_type": "stream",
     "text": [
      "0 1 2 3 4 5 6 7 8 9 "
     ]
    }
   ],
   "source": [
    "i=0\n",
    "while(i<10):\n",
    "    print(i,end=\" \")  #to get the answer in horizontal way\n",
    "    i=i+1"
   ]
  },
  {
   "cell_type": "code",
   "execution_count": 156,
   "id": "a4b32944",
   "metadata": {},
   "outputs": [
    {
     "name": "stdout",
     "output_type": "stream",
     "text": [
      "enter any number to create the table24\n",
      "0\n",
      "24\n",
      "48\n",
      "72\n",
      "96\n",
      "120\n",
      "144\n",
      "168\n",
      "192\n",
      "216\n",
      "240\n"
     ]
    }
   ],
   "source": [
    "#creating a table taking user input\n",
    "\n",
    "j=int(input('enter any number to create the table'))\n",
    "\n",
    "i=0\n",
    "while(i<=10):\n",
    "    print(j*i)\n",
    "    i=i+1"
   ]
  },
  {
   "cell_type": "code",
   "execution_count": 157,
   "id": "7192693e",
   "metadata": {},
   "outputs": [
    {
     "name": "stdout",
     "output_type": "stream",
     "text": [
      "enter any number to create the table23\n",
      "23 * 1 = 23\n",
      "23 * 2 = 46\n",
      "23 * 3 = 69\n",
      "23 * 4 = 92\n",
      "23 * 5 = 115\n",
      "23 * 6 = 138\n",
      "23 * 7 = 161\n",
      "23 * 8 = 184\n",
      "23 * 9 = 207\n",
      "23 * 10 = 230\n"
     ]
    }
   ],
   "source": [
    "#creating a table taking user input\n",
    "\n",
    "j=int(input('enter any number to create the table'))\n",
    "\n",
    "i=1\n",
    "while(i<=10):\n",
    "    print(j,\"*\",i,\"=\",j*i) #use to print (\"2*1= 2\")\n",
    "    i=i+1"
   ]
  },
  {
   "cell_type": "markdown",
   "id": "18934309",
   "metadata": {},
   "source": [
    "FOR LOOP"
   ]
  },
  {
   "cell_type": "code",
   "execution_count": 158,
   "id": "b131c88b",
   "metadata": {},
   "outputs": [
    {
     "name": "stdout",
     "output_type": "stream",
     "text": [
      "10\n",
      "20\n",
      "30\n"
     ]
    }
   ],
   "source": [
    "for index in [10,20,30]:\n",
    "    print(index)"
   ]
  },
  {
   "cell_type": "code",
   "execution_count": 159,
   "id": "3ff7dd52",
   "metadata": {},
   "outputs": [
    {
     "name": "stdout",
     "output_type": "stream",
     "text": [
      "1\n",
      "inside loop\n",
      "2\n",
      "inside loop\n",
      "3\n",
      "inside loop\n",
      "After ending the loop\n"
     ]
    }
   ],
   "source": [
    "for index in [1,2,3]:\n",
    "    print(index)\n",
    "    print(\"inside loop\")\n",
    "print(\"After ending the loop\") #not inside the loop"
   ]
  },
  {
   "cell_type": "code",
   "execution_count": 160,
   "id": "6673b89a",
   "metadata": {},
   "outputs": [
    {
     "data": {
      "text/plain": [
       "range(0, 5)"
      ]
     },
     "execution_count": 160,
     "metadata": {},
     "output_type": "execute_result"
    }
   ],
   "source": [
    "#range function\n",
    "\n",
    "range(5)"
   ]
  },
  {
   "cell_type": "code",
   "execution_count": 161,
   "id": "e79773ef",
   "metadata": {},
   "outputs": [
    {
     "data": {
      "text/plain": [
       "range(0, 2)"
      ]
     },
     "execution_count": 161,
     "metadata": {},
     "output_type": "execute_result"
    }
   ],
   "source": [
    "range(2)"
   ]
  },
  {
   "cell_type": "code",
   "execution_count": 162,
   "id": "89fee6a3",
   "metadata": {},
   "outputs": [
    {
     "data": {
      "text/plain": [
       "[0, 1, 2, 3, 4]"
      ]
     },
     "execution_count": 162,
     "metadata": {},
     "output_type": "execute_result"
    }
   ],
   "source": [
    "#range inside the list\n",
    "\n",
    "list(range(5))"
   ]
  },
  {
   "cell_type": "code",
   "execution_count": 163,
   "id": "a2f1d1fc",
   "metadata": {},
   "outputs": [
    {
     "data": {
      "text/plain": [
       "[0, 1, 2, 3, 4, 5, 6, 7]"
      ]
     },
     "execution_count": 163,
     "metadata": {},
     "output_type": "execute_result"
    }
   ],
   "source": [
    "list(range(8))"
   ]
  },
  {
   "cell_type": "code",
   "execution_count": 164,
   "id": "77d7d85d",
   "metadata": {},
   "outputs": [
    {
     "data": {
      "text/plain": [
       "[2, 3, 4, 5, 6, 7, 8, 9]"
      ]
     },
     "execution_count": 164,
     "metadata": {},
     "output_type": "execute_result"
    }
   ],
   "source": [
    "#list(range(start,end))\n",
    "\n",
    "list(range(2,10))"
   ]
  },
  {
   "cell_type": "code",
   "execution_count": 165,
   "id": "081f44b6",
   "metadata": {},
   "outputs": [
    {
     "data": {
      "text/plain": [
       "[0, 1, 2, 3, 4]"
      ]
     },
     "execution_count": 165,
     "metadata": {},
     "output_type": "execute_result"
    }
   ],
   "source": [
    "list(range(0,5))"
   ]
  },
  {
   "cell_type": "markdown",
   "id": "f6d5c667",
   "metadata": {},
   "source": [
    "#jump in range\n",
    "\n",
    "range(start,end, jump)"
   ]
  },
  {
   "cell_type": "code",
   "execution_count": 48,
   "id": "f611fa35",
   "metadata": {},
   "outputs": [
    {
     "data": {
      "text/plain": [
       "[0, 2, 4, 6, 8]"
      ]
     },
     "execution_count": 48,
     "metadata": {},
     "output_type": "execute_result"
    }
   ],
   "source": [
    "list(range(0,10,2))"
   ]
  },
  {
   "cell_type": "code",
   "execution_count": 49,
   "id": "6d161932",
   "metadata": {},
   "outputs": [
    {
     "name": "stdout",
     "output_type": "stream",
     "text": [
      "0\n",
      "1\n",
      "2\n",
      "3\n",
      "4\n"
     ]
    }
   ],
   "source": [
    "for i in range(0,5):\n",
    "    print(i)"
   ]
  },
  {
   "cell_type": "code",
   "execution_count": 50,
   "id": "16d91ea6",
   "metadata": {},
   "outputs": [
    {
     "name": "stdout",
     "output_type": "stream",
     "text": [
      "0\n",
      "5\n",
      "10\n",
      "15\n"
     ]
    }
   ],
   "source": [
    "for i in range(0,20,5):\n",
    "    print(i)"
   ]
  },
  {
   "cell_type": "code",
   "execution_count": 51,
   "id": "97049072",
   "metadata": {},
   "outputs": [
    {
     "name": "stdout",
     "output_type": "stream",
     "text": [
      "enter any number 5\n",
      "1\n",
      "2\n",
      "3\n",
      "4\n",
      "5\n",
      "6\n",
      "7\n",
      "8\n",
      "9\n",
      "10\n"
     ]
    }
   ],
   "source": [
    "#creating a table taking user input\n",
    "\n",
    "i=int(input('enter any number '))\n",
    "\n",
    "for j in range(1,11):\n",
    "    print(j)"
   ]
  },
  {
   "cell_type": "code",
   "execution_count": 52,
   "id": "87b68309",
   "metadata": {},
   "outputs": [
    {
     "name": "stdout",
     "output_type": "stream",
     "text": [
      "enter any number 2\n",
      "2 * 1 = 2\n",
      "2 * 2 = 4\n",
      "2 * 3 = 6\n",
      "2 * 4 = 8\n",
      "2 * 5 = 10\n",
      "2 * 6 = 12\n",
      "2 * 7 = 14\n",
      "2 * 8 = 16\n",
      "2 * 9 = 18\n",
      "2 * 10 = 20\n"
     ]
    }
   ],
   "source": [
    "#creating a table taking user input\n",
    "\n",
    "i=int(input('enter any number '))\n",
    "\n",
    "for j in range(1,11):\n",
    "    print(i,\"*\",j,\"=\",i*j)"
   ]
  },
  {
   "cell_type": "markdown",
   "id": "09d0d1ee",
   "metadata": {},
   "source": [
    "# 26th March Live Class"
   ]
  },
  {
   "cell_type": "markdown",
   "id": "69c65165",
   "metadata": {},
   "source": [
    "### if/elif/else constructs"
   ]
  },
  {
   "cell_type": "code",
   "execution_count": 53,
   "id": "b52d0297",
   "metadata": {},
   "outputs": [
    {
     "name": "stdout",
     "output_type": "stream",
     "text": [
      "good\n"
     ]
    }
   ],
   "source": [
    "marks=72\n",
    "\n",
    "if(marks>50):\n",
    "    print(\"good\")\n",
    "    \n",
    "else:\n",
    "    print(\"Average\")"
   ]
  },
  {
   "cell_type": "code",
   "execution_count": 54,
   "id": "6c9eed07",
   "metadata": {},
   "outputs": [
    {
     "name": "stdout",
     "output_type": "stream",
     "text": [
      "Average\n"
     ]
    }
   ],
   "source": [
    "marks=20\n",
    "\n",
    "if(marks>50):\n",
    "    print(\"good\")\n",
    "    \n",
    "else:\n",
    "    print(\"Average\")"
   ]
  },
  {
   "cell_type": "code",
   "execution_count": 55,
   "id": "655752f7",
   "metadata": {},
   "outputs": [
    {
     "name": "stdout",
     "output_type": "stream",
     "text": [
      "Enter any marks 40\n",
      "Average\n"
     ]
    }
   ],
   "source": [
    "#if/ else taking user input\n",
    "\n",
    "marks=int(input('Enter any marks '))\n",
    "\n",
    "if(marks>50):\n",
    "    print(\"good\")\n",
    "    \n",
    "else:\n",
    "    print(\"Average\")"
   ]
  },
  {
   "cell_type": "code",
   "execution_count": 56,
   "id": "9b9cce45",
   "metadata": {},
   "outputs": [
    {
     "name": "stdout",
     "output_type": "stream",
     "text": [
      "Number is Even\n"
     ]
    }
   ],
   "source": [
    "i=20\n",
    "\n",
    "if(i%2==0):\n",
    "    print('Number is Even')\n",
    "\n",
    "else:\n",
    "    print('Number is ODD')"
   ]
  },
  {
   "cell_type": "code",
   "execution_count": 57,
   "id": "2b18ae82",
   "metadata": {},
   "outputs": [
    {
     "name": "stdout",
     "output_type": "stream",
     "text": [
      "Enter any number 44\n",
      "Number is Even\n"
     ]
    }
   ],
   "source": [
    "#if/ else taking user input\n",
    "\n",
    "i=int(input('Enter any number '))\n",
    "\n",
    "if(i%2==0):\n",
    "    print('Number is Even')\n",
    "\n",
    "else:\n",
    "    print('Number is ODD')"
   ]
  },
  {
   "cell_type": "code",
   "execution_count": 58,
   "id": "4b78c359",
   "metadata": {},
   "outputs": [
    {
     "name": "stdout",
     "output_type": "stream",
     "text": [
      "Enter any number 23\n",
      "Number is ODD\n"
     ]
    }
   ],
   "source": [
    "#if/ else taking user input\n",
    "\n",
    "i=int(input('Enter any number '))\n",
    "\n",
    "if(i%2!=0):\n",
    "    print('Number is ODD')\n",
    "\n",
    "else:\n",
    "    print('Number is Even')"
   ]
  },
  {
   "cell_type": "code",
   "execution_count": null,
   "id": "7ef56cec",
   "metadata": {},
   "outputs": [],
   "source": [
    "marks=int(input(\"enter any number \"))\n",
    "\n",
    "if(marks>90):\n",
    "    print(\"Excellent\")\n",
    "\n",
    "elif(marks>80 and marks<=90):\n",
    "    print(\"Very good\")\n",
    "\n",
    "elif(marks>70 and marks<=80):\n",
    "    print(\"good\")\n",
    "    \n",
    "elif(marks>60 and marks<=70):\n",
    "    print(\"Average\")\n",
    "\n",
    "else:\n",
    "    print(\"Poor\")\n"
   ]
  },
  {
   "cell_type": "code",
   "execution_count": null,
   "id": "da98eb69",
   "metadata": {},
   "outputs": [],
   "source": [
    "for i in [\"Apple\",\"Mango\",\"Lichi\",\"Grapes\"]:\n",
    "    print(i)"
   ]
  },
  {
   "cell_type": "code",
   "execution_count": null,
   "id": "7b3d5828",
   "metadata": {},
   "outputs": [],
   "source": [
    "#break will end the iteration of the loop in between\n",
    "\n",
    "for i in [\"Apple\",\"Mango\",\"Lichi\",\"Grapes\",\"orange\",\"pineapple\"]:\n",
    "    if(i==\"Grapes\"):\n",
    "        break\n",
    "    print(i)"
   ]
  },
  {
   "cell_type": "code",
   "execution_count": null,
   "id": "8cf28411",
   "metadata": {},
   "outputs": [],
   "source": [
    "#continue  it will continue to the next iterartion\n",
    "\n",
    "for i in [\"Apple\",\"Mango\",\"Lichi\",\"Grapes\",\"orange\",\"pineapple\"]:\n",
    "    if(i==\"Grapes\"):\n",
    "        continue\n",
    "    print(i)"
   ]
  },
  {
   "cell_type": "markdown",
   "id": "a8f1b92f",
   "metadata": {},
   "source": [
    "# String Function"
   ]
  },
  {
   "cell_type": "code",
   "execution_count": null,
   "id": "59dd265e",
   "metadata": {},
   "outputs": [],
   "source": [
    "a=\"datascience\""
   ]
  },
  {
   "cell_type": "code",
   "execution_count": null,
   "id": "2000c056",
   "metadata": {},
   "outputs": [],
   "source": [
    "#it wont change the data in uppercase permanently\n",
    "a.upper()"
   ]
  },
  {
   "cell_type": "code",
   "execution_count": null,
   "id": "d68b7638",
   "metadata": {},
   "outputs": [],
   "source": [
    "a"
   ]
  },
  {
   "cell_type": "code",
   "execution_count": null,
   "id": "82d18997",
   "metadata": {},
   "outputs": [],
   "source": [
    "b=\"AVIJIT\""
   ]
  },
  {
   "cell_type": "code",
   "execution_count": null,
   "id": "2277dc67",
   "metadata": {},
   "outputs": [],
   "source": [
    "#it wont change the data in Lowercase permanently\n",
    "b.lower()"
   ]
  },
  {
   "cell_type": "code",
   "execution_count": null,
   "id": "711b204a",
   "metadata": {},
   "outputs": [],
   "source": [
    "#it wont change the data in SWApcase permanently\n",
    "c=\"NetfliX\""
   ]
  },
  {
   "cell_type": "code",
   "execution_count": null,
   "id": "fc92c912",
   "metadata": {},
   "outputs": [],
   "source": [
    "c.swapcase()"
   ]
  },
  {
   "cell_type": "code",
   "execution_count": null,
   "id": "ccc7a0ee",
   "metadata": {},
   "outputs": [],
   "source": [
    "d=\"Avijit is my husband\""
   ]
  },
  {
   "cell_type": "code",
   "execution_count": null,
   "id": "5921d73a",
   "metadata": {},
   "outputs": [],
   "source": [
    "#it will split the entire sentence\n",
    "d.split()"
   ]
  },
  {
   "cell_type": "code",
   "execution_count": null,
   "id": "9ec36e86",
   "metadata": {},
   "outputs": [],
   "source": [
    "d.capitalize()"
   ]
  },
  {
   "cell_type": "code",
   "execution_count": null,
   "id": "60e70f18",
   "metadata": {},
   "outputs": [],
   "source": [
    "d.title()"
   ]
  },
  {
   "cell_type": "code",
   "execution_count": null,
   "id": "d66d7830",
   "metadata": {},
   "outputs": [],
   "source": [
    "#The isalpha() method returns True if all the characters are alphabet letters (a-z).\n",
    "\n",
    "c.isalpha()"
   ]
  },
  {
   "cell_type": "code",
   "execution_count": null,
   "id": "f7df8d9e",
   "metadata": {},
   "outputs": [],
   "source": [
    "A=\"Avijit is deeply madly in love with me\"\n",
    "A"
   ]
  },
  {
   "cell_type": "code",
   "execution_count": null,
   "id": "f8653603",
   "metadata": {},
   "outputs": [],
   "source": []
  },
  {
   "cell_type": "code",
   "execution_count": null,
   "id": "477208ba",
   "metadata": {},
   "outputs": [],
   "source": [
    "A.endswith(\"love\")"
   ]
  },
  {
   "cell_type": "code",
   "execution_count": null,
   "id": "dcde2368",
   "metadata": {},
   "outputs": [],
   "source": [
    "#islower(), isupper() will show us whether the string is upper or lower case\n",
    "\n",
    "new=\"begining\"\n",
    "new"
   ]
  },
  {
   "cell_type": "code",
   "execution_count": null,
   "id": "54ec1a01",
   "metadata": {},
   "outputs": [],
   "source": [
    "new.islower()"
   ]
  },
  {
   "cell_type": "code",
   "execution_count": null,
   "id": "d5a52c13",
   "metadata": {},
   "outputs": [],
   "source": [
    "new.isupper()"
   ]
  },
  {
   "cell_type": "code",
   "execution_count": null,
   "id": "55e78f18",
   "metadata": {},
   "outputs": [],
   "source": [
    "#isaplha() & isdigit will show whether there is alphabets or digit inside it\n",
    "\n",
    "new.isalpha()"
   ]
  },
  {
   "cell_type": "code",
   "execution_count": null,
   "id": "1efc58a8",
   "metadata": {},
   "outputs": [],
   "source": [
    "new.isdigit()"
   ]
  },
  {
   "cell_type": "code",
   "execution_count": null,
   "id": "52e46f4a",
   "metadata": {},
   "outputs": [],
   "source": [
    "new1=\"Avijit123\"\n",
    "new1"
   ]
  },
  {
   "cell_type": "code",
   "execution_count": null,
   "id": "fd46c76c",
   "metadata": {},
   "outputs": [],
   "source": [
    "#isalnum stands for alphabet and numeric vaues\n",
    "\n",
    "new1.isalnum()"
   ]
  },
  {
   "cell_type": "code",
   "execution_count": null,
   "id": "f37ffcee",
   "metadata": {},
   "outputs": [],
   "source": [
    "A"
   ]
  },
  {
   "cell_type": "code",
   "execution_count": null,
   "id": "fcd650f2",
   "metadata": {},
   "outputs": [],
   "source": [
    "#find will look for the word where it is located\n",
    "\n",
    "A.find(\"love\")"
   ]
  },
  {
   "cell_type": "code",
   "execution_count": null,
   "id": "9c16bc20",
   "metadata": {},
   "outputs": [],
   "source": [
    "#find will look for the word where it is located With Range\n",
    "\n",
    "A.find(\"with\",20,45)"
   ]
  },
  {
   "cell_type": "code",
   "execution_count": null,
   "id": "e4520163",
   "metadata": {},
   "outputs": [],
   "source": [
    "#how many times i is present in the variable A\n",
    "\n",
    "A.count(\"i\")"
   ]
  },
  {
   "cell_type": "code",
   "execution_count": null,
   "id": "259c6831",
   "metadata": {},
   "outputs": [],
   "source": [
    "#replace function will replace the old word with new\n",
    "\n",
    "A=\"Avijit is deeply madly in love with me\""
   ]
  },
  {
   "cell_type": "code",
   "execution_count": null,
   "id": "6ae27e2a",
   "metadata": {},
   "outputs": [],
   "source": [
    "A.replace('me','amy')"
   ]
  },
  {
   "cell_type": "markdown",
   "id": "75e6a944",
   "metadata": {},
   "source": [
    "The join() string method returns by joining all the elements of an iterable(list,string,tuples), separated by a string separator"
   ]
  },
  {
   "cell_type": "code",
   "execution_count": null,
   "id": "a7ed0f64",
   "metadata": {},
   "outputs": [],
   "source": [
    "text=[\"Avijit\",\"is\",\"emotionally\",\"physically\",\"attracted\",\"to\",\"me\"]\n",
    "text"
   ]
  },
  {
   "cell_type": "code",
   "execution_count": null,
   "id": "07d99163",
   "metadata": {},
   "outputs": [],
   "source": [
    "#join element oftext with no space\n",
    "\n",
    "\"\".join(text)"
   ]
  },
  {
   "cell_type": "code",
   "execution_count": null,
   "id": "b84d6eeb",
   "metadata": {},
   "outputs": [],
   "source": [
    "#join element oftext with space\n",
    "\n",
    "\" \".join(text)"
   ]
  },
  {
   "cell_type": "code",
   "execution_count": null,
   "id": "8419f6d6",
   "metadata": {},
   "outputs": [],
   "source": [
    "#casefold ignores the matching of words by lowercase or uppercase\n",
    "\n",
    "string1=\"Tesla\"\n",
    "string2=\"tesla\"\n",
    "\n",
    "if string1.casefold()==string2.casefold():\n",
    "    print(\"Matched\")\n",
    "else:\n",
    "    print(\"not matched\")"
   ]
  },
  {
   "cell_type": "markdown",
   "id": "c238ef23",
   "metadata": {},
   "source": [
    "# 1st April"
   ]
  },
  {
   "cell_type": "markdown",
   "id": "b057fc9c",
   "metadata": {},
   "source": [
    "### List comprehension"
   ]
  },
  {
   "cell_type": "markdown",
   "id": "98936dc0",
   "metadata": {},
   "source": [
    "List comprehension offers a shorter syntax when you want to create a new list based on the values of an existing list.\n",
    "\n",
    "List comprehension only works for FOR Loop"
   ]
  },
  {
   "cell_type": "markdown",
   "id": "8409652a",
   "metadata": {},
   "source": [
    "Example:\n",
    "\n",
    "Based on a list of fruits, you want a new list, containing only the fruits with the letter \"a\" in the name.\n",
    "\n",
    "Without list comprehension you will have to write a for statement with a conditional test inside:"
   ]
  },
  {
   "cell_type": "code",
   "execution_count": null,
   "id": "a328acfe",
   "metadata": {},
   "outputs": [],
   "source": [
    "fruits = [\"apple\", \"banana\", \"cherry\", \"kiwi\", \"mango\"]\n",
    "newlist = []\n",
    "\n",
    "for x in fruits:\n",
    "  if \"a\" in x:\n",
    "    newlist.append(x)\n",
    "\n",
    "print(newlist)"
   ]
  },
  {
   "cell_type": "code",
   "execution_count": null,
   "id": "7a43e8fe",
   "metadata": {},
   "outputs": [],
   "source": [
    "#With list comprehension you can do all that with only one line of code:\n",
    "\n",
    "fruits = [\"apple\", \"banana\", \"cherry\", \"kiwi\", \"mango\"]\n",
    "\n",
    "newlist = [x for x in fruits if \"a\" in x]\n",
    "\n",
    "print(newlist)"
   ]
  },
  {
   "cell_type": "markdown",
   "id": "7cf53968",
   "metadata": {},
   "source": [
    "The Syntax for list comprehension:\n",
    "\n",
    "newlist = [expression for item in iterable if condition == True]\n",
    "\n",
    "The return value is a new list, leaving the old list unchanged."
   ]
  },
  {
   "cell_type": "markdown",
   "id": "657d0ff1",
   "metadata": {},
   "source": [
    "#Condition\n",
    "\n",
    "The condition is like a filter that only accepts the items that valuate to True."
   ]
  },
  {
   "cell_type": "code",
   "execution_count": null,
   "id": "35555f53",
   "metadata": {},
   "outputs": [],
   "source": [
    "#Example Only accept items that are not \"apple\":\n",
    "\n",
    "newlist = [x for x in fruits if x != \"apple\"]\n",
    "print(newlist)"
   ]
  },
  {
   "cell_type": "markdown",
   "id": "fd52c673",
   "metadata": {},
   "source": [
    "The condition if x != \"apple\"  will return True for all elements other than \"apple\", making the new list contain all fruits except \"apple\"."
   ]
  },
  {
   "cell_type": "code",
   "execution_count": null,
   "id": "507f55cc",
   "metadata": {},
   "outputs": [],
   "source": [
    "#Example With no if statement:\n",
    "\n",
    "newlist = [x for x in fruits]\n",
    "\n",
    "newlist"
   ]
  },
  {
   "cell_type": "markdown",
   "id": "f26bd7ac",
   "metadata": {},
   "source": [
    "### Iterable"
   ]
  },
  {
   "cell_type": "markdown",
   "id": "3a17e8da",
   "metadata": {},
   "source": [
    "The iterable can be any iterable object, like a list, tuple, set etc."
   ]
  },
  {
   "cell_type": "code",
   "execution_count": null,
   "id": "cfdd5bc9",
   "metadata": {},
   "outputs": [],
   "source": [
    "#Example: You can use the range() function to create an iterable:\n",
    "\n",
    "newlist = [x for x in range(10)]\n",
    "newlist"
   ]
  },
  {
   "cell_type": "markdown",
   "id": "d658ee01",
   "metadata": {},
   "source": [
    "Same example, but with a condition:"
   ]
  },
  {
   "cell_type": "code",
   "execution_count": null,
   "id": "a37c8094",
   "metadata": {},
   "outputs": [],
   "source": [
    "#Example: Accept only numbers lower than 5:\n",
    "\n",
    "newlist = [x for x in range(10) if x < 5]"
   ]
  },
  {
   "cell_type": "code",
   "execution_count": null,
   "id": "04f4b846",
   "metadata": {},
   "outputs": [],
   "source": [
    "newlist"
   ]
  },
  {
   "cell_type": "markdown",
   "id": "24575bb7",
   "metadata": {},
   "source": [
    "### Expression"
   ]
  },
  {
   "cell_type": "markdown",
   "id": "25da404f",
   "metadata": {},
   "source": [
    "The expression is the current item in the iteration, but it is also the outcome, which you can manipulate before it ends up like a list item in the new list:"
   ]
  },
  {
   "cell_type": "code",
   "execution_count": null,
   "id": "f68c3f1a",
   "metadata": {},
   "outputs": [],
   "source": [
    "#Example: Set the values in the new list to upper case:\n",
    "\n",
    "newlist = [x.upper() for x in fruits]\n",
    "newlist"
   ]
  },
  {
   "cell_type": "markdown",
   "id": "462484e5",
   "metadata": {},
   "source": [
    "You can set the outcome to whatever you like:"
   ]
  },
  {
   "cell_type": "code",
   "execution_count": null,
   "id": "94ab4693",
   "metadata": {},
   "outputs": [],
   "source": [
    "#Example: Set all values in the new list to 'hello':\n",
    "\n",
    "newlist = ['hello' for x in fruits]\n",
    "newlist"
   ]
  },
  {
   "cell_type": "markdown",
   "id": "8e8a7e86",
   "metadata": {},
   "source": [
    "The expression can also contain conditions, not like a filter, but as a way to manipulate the outcome:"
   ]
  },
  {
   "cell_type": "code",
   "execution_count": null,
   "id": "bf2bff10",
   "metadata": {},
   "outputs": [],
   "source": [
    "#Example: Return \"orange\" instead of \"banana\":\n",
    "\n",
    "newlist = [x if x != \"banana\" else \"orange\" for x in fruits]\n",
    "newlist"
   ]
  },
  {
   "cell_type": "markdown",
   "id": "34008838",
   "metadata": {},
   "source": [
    "The expression in the example above says:\n",
    "\n",
    "\"Return the item if it is not banana, if it is banana return orange\"."
   ]
  },
  {
   "cell_type": "code",
   "execution_count": null,
   "id": "72f2d8d0",
   "metadata": {},
   "outputs": [],
   "source": [
    "p=[index for index in [1,2,3]]"
   ]
  },
  {
   "cell_type": "code",
   "execution_count": null,
   "id": "73813cf0",
   "metadata": {},
   "outputs": [],
   "source": [
    "for i in [1,2,3]:\n",
    "    print(i)"
   ]
  },
  {
   "cell_type": "code",
   "execution_count": null,
   "id": "947aa11d",
   "metadata": {},
   "outputs": [],
   "source": [
    "p=[i for i in [1,2,3]]\n",
    "\n",
    "print(p)"
   ]
  },
  {
   "cell_type": "code",
   "execution_count": null,
   "id": "0f3a55c0",
   "metadata": {},
   "outputs": [],
   "source": [
    "k=[index for index in range(1,15) if index%2==0]\n",
    "k"
   ]
  },
  {
   "cell_type": "code",
   "execution_count": null,
   "id": "6fb9749e",
   "metadata": {},
   "outputs": [],
   "source": [
    "d=[p for p in range(1,15) if p%2!=0]"
   ]
  },
  {
   "cell_type": "code",
   "execution_count": null,
   "id": "79a216ec",
   "metadata": {},
   "outputs": [],
   "source": [
    "d"
   ]
  },
  {
   "cell_type": "markdown",
   "id": "1abf5fcc",
   "metadata": {},
   "source": [
    "## Functions"
   ]
  },
  {
   "cell_type": "markdown",
   "id": "f051bf5a",
   "metadata": {},
   "source": [
    "There are 3 types of functions:\n",
    "    \n",
    "    1.Built-in / pre-defined\n",
    "    2.User defined function\n",
    "    3.lambda / anonymus function"
   ]
  },
  {
   "cell_type": "code",
   "execution_count": null,
   "id": "49ee13c6",
   "metadata": {},
   "outputs": [],
   "source": [
    "help()"
   ]
  },
  {
   "cell_type": "markdown",
   "id": "b65a0130",
   "metadata": {},
   "source": [
    "## User Defined Functions"
   ]
  },
  {
   "cell_type": "markdown",
   "id": "dce747f8",
   "metadata": {},
   "source": [
    "Rules to create user defined function are:\n",
    "\n",
    "1. Defination of function\n",
    "2. Calling a function"
   ]
  },
  {
   "cell_type": "code",
   "execution_count": null,
   "id": "39dc72c9",
   "metadata": {},
   "outputs": [],
   "source": [
    "#define function:\n",
    "\n",
    "def function1():\n",
    "    print(\"Hello, Function\")"
   ]
  },
  {
   "cell_type": "code",
   "execution_count": null,
   "id": "5d8a77ed",
   "metadata": {},
   "outputs": [],
   "source": [
    "#call a function:\n",
    "\n",
    "function1()"
   ]
  },
  {
   "cell_type": "markdown",
   "id": "ea04f122",
   "metadata": {},
   "source": [
    "# 2nd April `Live class`"
   ]
  },
  {
   "cell_type": "code",
   "execution_count": null,
   "id": "2d19c69a",
   "metadata": {},
   "outputs": [],
   "source": [
    "#addition function example for user defined function\n",
    "\n",
    "def addfunction():\n",
    "    a=10\n",
    "    b=20\n",
    "    c=a+b\n",
    "    print(\"The value of c is \",c)"
   ]
  },
  {
   "cell_type": "code",
   "execution_count": null,
   "id": "02453483",
   "metadata": {},
   "outputs": [],
   "source": [
    "addfunction()"
   ]
  },
  {
   "cell_type": "code",
   "execution_count": null,
   "id": "a22e9113",
   "metadata": {},
   "outputs": [],
   "source": [
    "#subtract function example for user defined function:\n",
    "\n",
    "def subtract():\n",
    "    a=10\n",
    "    b=5\n",
    "    c=a-b\n",
    "    print(\"The value of c is \",c)"
   ]
  },
  {
   "cell_type": "code",
   "execution_count": null,
   "id": "6930bf1d",
   "metadata": {},
   "outputs": [],
   "source": [
    "subtract()"
   ]
  },
  {
   "cell_type": "code",
   "execution_count": null,
   "id": "b10f5ed7",
   "metadata": {},
   "outputs": [],
   "source": [
    "#square root function example for user defined function:\n",
    "\n",
    "def squareroot():\n",
    "    x=625\n",
    "    y=x**(1/2)\n",
    "    print(\"y= \",y)"
   ]
  },
  {
   "cell_type": "code",
   "execution_count": null,
   "id": "a916b218",
   "metadata": {},
   "outputs": [],
   "source": [
    "squareroot()"
   ]
  },
  {
   "cell_type": "code",
   "execution_count": null,
   "id": "ad2dcb12",
   "metadata": {},
   "outputs": [],
   "source": [
    "#area of circle\n",
    "\n",
    "def areaofcircle():\n",
    "    pi=3.14\n",
    "    radius=3.14\n",
    "    area=pi*(radius**2)\n",
    "    print(\"Area of circle is \",area)"
   ]
  },
  {
   "cell_type": "code",
   "execution_count": null,
   "id": "f7207b97",
   "metadata": {},
   "outputs": [],
   "source": [
    "areaofcircle()"
   ]
  },
  {
   "cell_type": "code",
   "execution_count": null,
   "id": "c258ef1d",
   "metadata": {},
   "outputs": [],
   "source": [
    "#taking user input addition function example for user defined function\n",
    "\n",
    "def addfunction():\n",
    "    a=int(input(\"enter the value of a\"))\n",
    "    b=int(input(\"enter the value of b\"))\n",
    "    c=a+b\n",
    "    print(\"The value of c is \",c)"
   ]
  },
  {
   "cell_type": "code",
   "execution_count": null,
   "id": "63126005",
   "metadata": {},
   "outputs": [],
   "source": [
    "addfunction()"
   ]
  },
  {
   "cell_type": "code",
   "execution_count": null,
   "id": "929bcd93",
   "metadata": {},
   "outputs": [],
   "source": [
    "#area of circle taking user input\n",
    "\n",
    "def areaofcircle():\n",
    "    pi=3.14\n",
    "    radius=float(input(\"enter the raduis\"))\n",
    "    area=pi*(radius**2)\n",
    "    print(\"Area of circle is \",area)"
   ]
  },
  {
   "cell_type": "code",
   "execution_count": null,
   "id": "c0f9d47e",
   "metadata": {},
   "outputs": [],
   "source": [
    "areaofcircle()"
   ]
  },
  {
   "cell_type": "markdown",
   "id": "4e3f8749",
   "metadata": {},
   "source": [
    "### Parametric Function"
   ]
  },
  {
   "cell_type": "code",
   "execution_count": null,
   "id": "00c32fd1",
   "metadata": {},
   "outputs": [],
   "source": [
    "#simplest parameter\n",
    "\n",
    "def addf(a,b):\n",
    "    c=a+b\n",
    "    print(\"c= \",c)"
   ]
  },
  {
   "cell_type": "code",
   "execution_count": null,
   "id": "a685b89b",
   "metadata": {},
   "outputs": [],
   "source": [
    "a=5\n",
    "b=10\n",
    "addf(a,b)"
   ]
  },
  {
   "cell_type": "code",
   "execution_count": null,
   "id": "24f1fc78",
   "metadata": {},
   "outputs": [],
   "source": [
    "#we can also do this\n",
    "\n",
    "def subt(c,d):\n",
    "    subtract=c-d\n",
    "    print(\"subtraction= \",subtract)"
   ]
  },
  {
   "cell_type": "code",
   "execution_count": null,
   "id": "ed2c4116",
   "metadata": {},
   "outputs": [],
   "source": [
    "c=100\n",
    "d=50\n",
    "\n",
    "subt(c,d)"
   ]
  },
  {
   "cell_type": "code",
   "execution_count": null,
   "id": "9f8e16e3",
   "metadata": {},
   "outputs": [],
   "source": [
    "#more simple way:\n",
    "\n",
    "def multi(m1,m2):\n",
    "    print(\"Multiply= \",m1*m2)"
   ]
  },
  {
   "cell_type": "code",
   "execution_count": null,
   "id": "5f3f50eb",
   "metadata": {},
   "outputs": [],
   "source": [
    "m1=111\n",
    "m2=222\n",
    "\n",
    "multi(m1,m2)"
   ]
  },
  {
   "cell_type": "code",
   "execution_count": null,
   "id": "b6467406",
   "metadata": {},
   "outputs": [],
   "source": [
    "#directly even we can call the function:\n",
    "\n",
    "multi(45,2)"
   ]
  },
  {
   "cell_type": "code",
   "execution_count": null,
   "id": "d15b61c2",
   "metadata": {},
   "outputs": [],
   "source": [
    "#add function using 3 variables:\n",
    "\n",
    "def add(a,b,c):\n",
    "    print:(\"Add=\",a+b+c)"
   ]
  },
  {
   "cell_type": "code",
   "execution_count": null,
   "id": "f27c11f8",
   "metadata": {},
   "outputs": [],
   "source": [
    "#directly calling the function adding values\n",
    "\n",
    "add(10,30,59)"
   ]
  },
  {
   "cell_type": "code",
   "execution_count": null,
   "id": "07830c46",
   "metadata": {},
   "outputs": [],
   "source": [
    "#multiple calculation:\n",
    "\n",
    "def test(x,y):\n",
    "    add=x+y\n",
    "    print(\"Add=\",add)\n",
    "    sub=x-y\n",
    "    print(\"Subtraction=\",sub)\n",
    "    mul=x*y\n",
    "    print(\"Multiplicati\",mul)"
   ]
  },
  {
   "cell_type": "code",
   "execution_count": null,
   "id": "b485c7ec",
   "metadata": {},
   "outputs": [],
   "source": [
    "test(50,2)"
   ]
  },
  {
   "cell_type": "code",
   "execution_count": null,
   "id": "389f0582",
   "metadata": {},
   "outputs": [],
   "source": [
    "#in parametric function, you need to desgn the code first then u can take user input:\n",
    "\n",
    "def areaofrec(length,breadth):\n",
    "    area=length*breadth\n",
    "    print(\"Area of rectangle= \",area)"
   ]
  },
  {
   "cell_type": "code",
   "execution_count": null,
   "id": "82702105",
   "metadata": {},
   "outputs": [],
   "source": [
    "length=int(input(\"enter length\"))\n",
    "breadth=int(input(\"enter breadth\"))\n",
    "\n",
    "areaofrec(length,breadth)"
   ]
  },
  {
   "cell_type": "markdown",
   "id": "f11bfc44",
   "metadata": {},
   "source": [
    "### Arguments"
   ]
  },
  {
   "cell_type": "markdown",
   "id": "bd383fb7",
   "metadata": {},
   "source": [
    "Information can be passed into functions as arguments.\n",
    "\n",
    "Arguments are specified after the function name, inside the parentheses. You can add as many arguments as you want, just separate them with a comma."
   ]
  },
  {
   "cell_type": "code",
   "execution_count": null,
   "id": "bf2d1ab5",
   "metadata": {},
   "outputs": [],
   "source": [
    "def addf(*args):\n",
    "    print(sum(args))"
   ]
  },
  {
   "cell_type": "code",
   "execution_count": null,
   "id": "0bc6295a",
   "metadata": {},
   "outputs": [],
   "source": [
    "addf(1,2)"
   ]
  },
  {
   "cell_type": "code",
   "execution_count": null,
   "id": "aff59a0e",
   "metadata": {},
   "outputs": [],
   "source": [
    "addf(1,6,9)"
   ]
  },
  {
   "cell_type": "code",
   "execution_count": null,
   "id": "1ef43ae3",
   "metadata": {},
   "outputs": [],
   "source": [
    "# another way using * numbers:\n",
    "\n",
    "def min(*num):\n",
    "    print(min(num))"
   ]
  },
  {
   "cell_type": "code",
   "execution_count": null,
   "id": "889b5826",
   "metadata": {},
   "outputs": [],
   "source": [
    "min(1,45,9,)"
   ]
  },
  {
   "cell_type": "code",
   "execution_count": null,
   "id": "a7114d5d",
   "metadata": {},
   "outputs": [],
   "source": [
    "#def with max funct:\n",
    "\n",
    "def max(*a):\n",
    "    print(max(a))"
   ]
  },
  {
   "cell_type": "code",
   "execution_count": null,
   "id": "1736863b",
   "metadata": {},
   "outputs": [],
   "source": [
    "max(45,69,88,55,2)"
   ]
  },
  {
   "cell_type": "code",
   "execution_count": null,
   "id": "0db8475f",
   "metadata": {},
   "outputs": [],
   "source": [
    "def test_func(*numbers):\n",
    "    total=0\n",
    "    for i in numbers:\n",
    "        total=total+i\n",
    "    print(total)"
   ]
  },
  {
   "cell_type": "code",
   "execution_count": null,
   "id": "b89b9369",
   "metadata": {},
   "outputs": [],
   "source": [
    "test_func(10,20,40)"
   ]
  },
  {
   "cell_type": "code",
   "execution_count": null,
   "id": "13f796f9",
   "metadata": {},
   "outputs": [],
   "source": [
    "test_func(10,20,40,50)"
   ]
  },
  {
   "cell_type": "markdown",
   "id": "ade473d8",
   "metadata": {},
   "source": [
    "### **kwargs(keyword arguments)"
   ]
  },
  {
   "cell_type": "code",
   "execution_count": 2,
   "id": "b089161f",
   "metadata": {},
   "outputs": [],
   "source": [
    "def fuc(**kwargs):\n",
    "    result=\" \"\n",
    "    for i in kwargs.values():\n",
    "        result=result+i\n",
    "    print(result)"
   ]
  },
  {
   "cell_type": "code",
   "execution_count": 3,
   "id": "b21fec62",
   "metadata": {},
   "outputs": [
    {
     "name": "stdout",
     "output_type": "stream",
     "text": [
      " AppleIphonemacbook\n"
     ]
    }
   ],
   "source": [
    "fuc(a=\"Apple\",b=\"Iphone\",c=\"macbook\" )"
   ]
  },
  {
   "cell_type": "code",
   "execution_count": 4,
   "id": "17cc1dc3",
   "metadata": {},
   "outputs": [
    {
     "name": "stdout",
     "output_type": "stream",
     "text": [
      "Avijit\n"
     ]
    }
   ],
   "source": [
    "def concatenate(**words):\n",
    "    result=\"\"\n",
    "    for arg in words.values():\n",
    "        result+=arg\n",
    "        return result\n",
    "print(concatenate(a=\"Avijit\",b=\"is\",c=\"my\",d=\"husband\"))"
   ]
  },
  {
   "cell_type": "code",
   "execution_count": null,
   "id": "dfc24034",
   "metadata": {},
   "outputs": [],
   "source": []
  },
  {
   "cell_type": "code",
   "execution_count": null,
   "id": "3dc8fbcd",
   "metadata": {},
   "outputs": [],
   "source": []
  },
  {
   "cell_type": "markdown",
   "id": "c183b96f",
   "metadata": {},
   "source": [
    "# 8th April `Live Class`"
   ]
  },
  {
   "cell_type": "code",
   "execution_count": null,
   "id": "e765a296",
   "metadata": {},
   "outputs": [],
   "source": [
    "#for loop can work in tuples and list\n",
    "\n",
    "for i in(1,2,3):\n",
    "    print(i)"
   ]
  },
  {
   "cell_type": "code",
   "execution_count": null,
   "id": "438c4117",
   "metadata": {},
   "outputs": [],
   "source": [
    "for i in [1,2,3]:\n",
    "    print(i)"
   ]
  },
  {
   "cell_type": "markdown",
   "id": "ea77d18c",
   "metadata": {},
   "source": [
    "### Global Variables & Local Variables"
   ]
  },
  {
   "cell_type": "markdown",
   "id": "4637c7b8",
   "metadata": {},
   "source": [
    "#Global Variables\n",
    "\n",
    "Variables that are created outside of a function (as in all of the examples above) are known as global variables.\n",
    "\n",
    "Global variables can be used by everyone, both inside of functions and outside."
   ]
  },
  {
   "cell_type": "code",
   "execution_count": null,
   "id": "96fd64b5",
   "metadata": {},
   "outputs": [],
   "source": [
    "#global variable\n",
    "\n",
    "marks=80"
   ]
  },
  {
   "cell_type": "code",
   "execution_count": null,
   "id": "11d25728",
   "metadata": {},
   "outputs": [],
   "source": [
    "marks"
   ]
  },
  {
   "cell_type": "code",
   "execution_count": null,
   "id": "037e2f99",
   "metadata": {},
   "outputs": [],
   "source": [
    "#if a variable is inside the function it is local variable\n",
    "\n",
    "def dunction():\n",
    "    a=10 #a,b,c are local variables\n",
    "    b=10\n",
    "    c=a+b\n",
    "    print(c)"
   ]
  },
  {
   "cell_type": "code",
   "execution_count": null,
   "id": "d9a8b401",
   "metadata": {},
   "outputs": [],
   "source": [
    "dunction()"
   ]
  },
  {
   "cell_type": "markdown",
   "id": "b036d56c",
   "metadata": {},
   "source": [
    "#### Function within a function:"
   ]
  },
  {
   "cell_type": "code",
   "execution_count": null,
   "id": "6cf218a1",
   "metadata": {},
   "outputs": [],
   "source": [
    "def innerfunction():\n",
    "    print(\"inside inner function\")"
   ]
  },
  {
   "cell_type": "code",
   "execution_count": null,
   "id": "54bf7ac4",
   "metadata": {},
   "outputs": [],
   "source": [
    "def outerfunction():\n",
    "    innerfunction()\n",
    "    print(\"outer function\")"
   ]
  },
  {
   "cell_type": "code",
   "execution_count": null,
   "id": "a01314c7",
   "metadata": {},
   "outputs": [],
   "source": [
    "outerfunction()"
   ]
  },
  {
   "cell_type": "code",
   "execution_count": null,
   "id": "14a02f13",
   "metadata": {},
   "outputs": [],
   "source": [
    "#Another example:\n",
    "\n",
    "def f1():\n",
    "    name=input(\"enter name: \")\n",
    "    age=input(\"enter age: \")\n",
    "    print(name,age)"
   ]
  },
  {
   "cell_type": "code",
   "execution_count": null,
   "id": "f78ec9f2",
   "metadata": {},
   "outputs": [],
   "source": [
    "def f2():\n",
    "    f1()\n",
    "    qualification=input(\"enter qualification: \")\n",
    "    Experience=input(\"enter Experience: \")"
   ]
  },
  {
   "cell_type": "code",
   "execution_count": null,
   "id": "149e2c69",
   "metadata": {},
   "outputs": [],
   "source": [
    "f2()"
   ]
  },
  {
   "cell_type": "markdown",
   "id": "db8f5cdc",
   "metadata": {},
   "source": [
    "#### Return"
   ]
  },
  {
   "cell_type": "markdown",
   "id": "35546063",
   "metadata": {},
   "source": [
    "Returns keyword has the capability to return the value outside of a function also"
   ]
  },
  {
   "cell_type": "code",
   "execution_count": null,
   "id": "40afadd4",
   "metadata": {},
   "outputs": [],
   "source": [
    "def addf():\n",
    "    a=5\n",
    "    b=2\n",
    "    c=a+b\n",
    "    return c"
   ]
  },
  {
   "cell_type": "code",
   "execution_count": null,
   "id": "2dd2a56d",
   "metadata": {},
   "outputs": [],
   "source": [
    "addf()"
   ]
  },
  {
   "cell_type": "code",
   "execution_count": null,
   "id": "f76ec9cc",
   "metadata": {},
   "outputs": [],
   "source": [
    "returnvalue=addf()"
   ]
  },
  {
   "cell_type": "code",
   "execution_count": null,
   "id": "f6287a19",
   "metadata": {},
   "outputs": [],
   "source": [
    "returnvalue"
   ]
  },
  {
   "cell_type": "code",
   "execution_count": null,
   "id": "afa09773",
   "metadata": {},
   "outputs": [],
   "source": [
    "def squareroot(returnvalue):\n",
    "    print(\"square= \",returnvalue**2)"
   ]
  },
  {
   "cell_type": "code",
   "execution_count": null,
   "id": "eedde813",
   "metadata": {},
   "outputs": [],
   "source": [
    "squareroot(returnvalue)"
   ]
  },
  {
   "cell_type": "code",
   "execution_count": null,
   "id": "f863ef21",
   "metadata": {},
   "outputs": [],
   "source": [
    "def newtest1():\n",
    "    for i in range(1,10):\n",
    "        print(i)"
   ]
  },
  {
   "cell_type": "code",
   "execution_count": null,
   "id": "5daf509f",
   "metadata": {},
   "outputs": [],
   "source": [
    "newtest1()"
   ]
  },
  {
   "cell_type": "code",
   "execution_count": null,
   "id": "3aaaa55a",
   "metadata": {},
   "outputs": [],
   "source": [
    "def newtest():\n",
    "    for i in range(1,10):\n",
    "        if(i==5):\n",
    "            return\n",
    "        print(i)"
   ]
  },
  {
   "cell_type": "code",
   "execution_count": null,
   "id": "6d96ee93",
   "metadata": {},
   "outputs": [],
   "source": [
    "newtest()"
   ]
  },
  {
   "cell_type": "code",
   "execution_count": null,
   "id": "d1dc72a9",
   "metadata": {},
   "outputs": [],
   "source": [
    "def anyfunc():\n",
    "    for p in range(0,30,5):\n",
    "        print(p)"
   ]
  },
  {
   "cell_type": "code",
   "execution_count": null,
   "id": "8a01ed8c",
   "metadata": {},
   "outputs": [],
   "source": [
    "anyfunc()"
   ]
  },
  {
   "cell_type": "code",
   "execution_count": null,
   "id": "ec33a561",
   "metadata": {},
   "outputs": [],
   "source": [
    "def anyfunc1():\n",
    "    for p in range(1,20):\n",
    "        if(p==11):\n",
    "            break\n",
    "        print(p)"
   ]
  },
  {
   "cell_type": "code",
   "execution_count": null,
   "id": "ebf749a8",
   "metadata": {},
   "outputs": [],
   "source": [
    "anyfunc1()"
   ]
  },
  {
   "cell_type": "markdown",
   "id": "f930b773",
   "metadata": {},
   "source": [
    "# 9th April `Live Class`"
   ]
  },
  {
   "cell_type": "markdown",
   "id": "374bd052",
   "metadata": {},
   "source": [
    "## Anonymus function or Lambda functions"
   ]
  },
  {
   "cell_type": "markdown",
   "id": "fc7eb1c0",
   "metadata": {},
   "source": [
    "lambda function is a small function containing a single expression. Lambda function can also act as anonymus functions where they don't require any name.These arecvery helpful whhen we have to perform small task with less code.\n",
    "\n",
    "The expression is composed of:\n",
    "\n",
    "The keyword: lambda\n",
    "\n",
    "A bound variable: x\n",
    "\n",
    "A body: x*2"
   ]
  },
  {
   "cell_type": "code",
   "execution_count": null,
   "id": "8eb25b78",
   "metadata": {},
   "outputs": [],
   "source": [
    "test= lambda x:x**2\n",
    "test (5)"
   ]
  },
  {
   "cell_type": "raw",
   "id": "e22be879",
   "metadata": {},
   "source": [
    "#one line expession\n",
    "\n",
    "refvariable= lambda<variable>:expression"
   ]
  },
  {
   "cell_type": "code",
   "execution_count": 4,
   "id": "5eef1591",
   "metadata": {},
   "outputs": [],
   "source": [
    "refvar=lambda a:a+1"
   ]
  },
  {
   "cell_type": "code",
   "execution_count": 5,
   "id": "69d0c33c",
   "metadata": {},
   "outputs": [
    {
     "data": {
      "text/plain": [
       "2"
      ]
     },
     "execution_count": 5,
     "metadata": {},
     "output_type": "execute_result"
    }
   ],
   "source": [
    "refvar(1)"
   ]
  },
  {
   "cell_type": "code",
   "execution_count": 6,
   "id": "3e5003e9",
   "metadata": {},
   "outputs": [
    {
     "data": {
      "text/plain": [
       "6"
      ]
     },
     "execution_count": 6,
     "metadata": {},
     "output_type": "execute_result"
    }
   ],
   "source": [
    "refvar(5)"
   ]
  },
  {
   "cell_type": "code",
   "execution_count": 7,
   "id": "31077927",
   "metadata": {},
   "outputs": [],
   "source": [
    "tvar=lambda a:a*2"
   ]
  },
  {
   "cell_type": "code",
   "execution_count": 8,
   "id": "3a0cc564",
   "metadata": {},
   "outputs": [
    {
     "data": {
      "text/plain": [
       "8"
      ]
     },
     "execution_count": 8,
     "metadata": {},
     "output_type": "execute_result"
    }
   ],
   "source": [
    "tvar(4)"
   ]
  },
  {
   "cell_type": "code",
   "execution_count": 9,
   "id": "faf8775b",
   "metadata": {},
   "outputs": [],
   "source": [
    "sqroot=lambda y:y**(1/2)"
   ]
  },
  {
   "cell_type": "code",
   "execution_count": 10,
   "id": "88e0b5c8",
   "metadata": {},
   "outputs": [
    {
     "data": {
      "text/plain": [
       "12.0"
      ]
     },
     "execution_count": 10,
     "metadata": {},
     "output_type": "execute_result"
    }
   ],
   "source": [
    "sqroot(144)"
   ]
  },
  {
   "cell_type": "code",
   "execution_count": 11,
   "id": "1671a56c",
   "metadata": {},
   "outputs": [],
   "source": [
    "#lambda function with 2 variables\n",
    "\n",
    "mvar=lambda a,b:a+b"
   ]
  },
  {
   "cell_type": "code",
   "execution_count": 12,
   "id": "6cb1a7a1",
   "metadata": {},
   "outputs": [
    {
     "data": {
      "text/plain": [
       "40"
      ]
     },
     "execution_count": 12,
     "metadata": {},
     "output_type": "execute_result"
    }
   ],
   "source": [
    "mvar(10,30)"
   ]
  },
  {
   "cell_type": "code",
   "execution_count": 13,
   "id": "ba5466ce",
   "metadata": {},
   "outputs": [],
   "source": [
    "dvar=lambda a:a**(1/3)"
   ]
  },
  {
   "cell_type": "code",
   "execution_count": 14,
   "id": "44038df7",
   "metadata": {},
   "outputs": [
    {
     "data": {
      "text/plain": [
       "3.0"
      ]
     },
     "execution_count": 14,
     "metadata": {},
     "output_type": "execute_result"
    }
   ],
   "source": [
    "dvar(27)"
   ]
  },
  {
   "cell_type": "code",
   "execution_count": 15,
   "id": "c7dbe6a9",
   "metadata": {},
   "outputs": [
    {
     "data": {
      "text/plain": [
       "3"
      ]
     },
     "execution_count": 15,
     "metadata": {},
     "output_type": "execute_result"
    }
   ],
   "source": [
    "#any one can covert it into integar by type casting\n",
    "\n",
    "int(dvar(27))"
   ]
  },
  {
   "cell_type": "code",
   "execution_count": 16,
   "id": "81889084",
   "metadata": {},
   "outputs": [
    {
     "name": "stdout",
     "output_type": "stream",
     "text": [
      "enter any num2\n"
     ]
    },
    {
     "data": {
      "text/plain": [
       "4"
      ]
     },
     "execution_count": 16,
     "metadata": {},
     "output_type": "execute_result"
    }
   ],
   "source": [
    "#taking user input\n",
    "\n",
    "num1=int(input(\"enter any num\"))\n",
    "svar=lambda t:t**2\n",
    "\n",
    "svar(num1)"
   ]
  },
  {
   "cell_type": "code",
   "execution_count": 17,
   "id": "380d71e5",
   "metadata": {},
   "outputs": [],
   "source": [
    "#lambda inside user defined function\n",
    "\n",
    "def myfunc():\n",
    "    p=int(input(\"enter number\"))\n",
    "    vvar=lambda a:a+10\n",
    "    print(vvar(p))"
   ]
  },
  {
   "cell_type": "code",
   "execution_count": 18,
   "id": "95faff37",
   "metadata": {},
   "outputs": [
    {
     "name": "stdout",
     "output_type": "stream",
     "text": [
      "enter number10\n",
      "20\n"
     ]
    }
   ],
   "source": [
    "myfunc()"
   ]
  },
  {
   "cell_type": "code",
   "execution_count": 19,
   "id": "70aa2308",
   "metadata": {},
   "outputs": [],
   "source": [
    "#lambda inside user defined function taking 2 input\n",
    "\n",
    "def myfunc():\n",
    "    a=int(input(\"enter number\"))\n",
    "    r=int(input(\"enter number\"))\n",
    "    Avar=lambda a,r:a+r\n",
    "    print(Avar(a,r))"
   ]
  },
  {
   "cell_type": "code",
   "execution_count": 20,
   "id": "ae282251",
   "metadata": {},
   "outputs": [
    {
     "name": "stdout",
     "output_type": "stream",
     "text": [
      "enter number4\n",
      "enter number5\n",
      "9\n"
     ]
    }
   ],
   "source": [
    "myfunc()"
   ]
  },
  {
   "cell_type": "code",
   "execution_count": 21,
   "id": "2ddc9788",
   "metadata": {},
   "outputs": [],
   "source": [
    "#lambda inside user defined function taking 2 input with return\n",
    "\n",
    "def myfunc():\n",
    "    num1=int(input(\"enter number\"))\n",
    "    num2=int(input(\"enter number\"))\n",
    "    Avar=lambda a,r:a+r\n",
    "    return(Avar(num1,num2))"
   ]
  },
  {
   "cell_type": "code",
   "execution_count": 22,
   "id": "1e1681e4",
   "metadata": {},
   "outputs": [
    {
     "name": "stdout",
     "output_type": "stream",
     "text": [
      "enter number4\n",
      "enter number5\n"
     ]
    },
    {
     "data": {
      "text/plain": [
       "9"
      ]
     },
     "execution_count": 22,
     "metadata": {},
     "output_type": "execute_result"
    }
   ],
   "source": [
    "myfunc()"
   ]
  },
  {
   "cell_type": "markdown",
   "id": "9868a62a",
   "metadata": {},
   "source": [
    "#### Map()"
   ]
  },
  {
   "cell_type": "code",
   "execution_count": 23,
   "id": "a2000e70",
   "metadata": {},
   "outputs": [
    {
     "data": {
      "text/plain": [
       "[4, 6, 8, 10]"
      ]
     },
     "execution_count": 23,
     "metadata": {},
     "output_type": "execute_result"
    }
   ],
   "source": [
    "#map in list\n",
    "\n",
    "List1=[2,3,4,5]\n",
    "list(map(lambda x:x*2,List1))"
   ]
  },
  {
   "cell_type": "code",
   "execution_count": 24,
   "id": "aae69401",
   "metadata": {},
   "outputs": [
    {
     "data": {
      "text/plain": [
       "[13, 14, 15, 16]"
      ]
     },
     "execution_count": 24,
     "metadata": {},
     "output_type": "execute_result"
    }
   ],
   "source": [
    "list1=[2,3,4,5]\n",
    "\n",
    "#list you should write to get the result, if u write listname then it will give error\n",
    "list(map(lambda x:x+11,List1))"
   ]
  },
  {
   "cell_type": "code",
   "execution_count": 25,
   "id": "2d711e26",
   "metadata": {},
   "outputs": [],
   "source": [
    "List2=[234.42,562.96,450.20,555.55]\n",
    "p=list(map(lambda b:b*9,List2))"
   ]
  },
  {
   "cell_type": "code",
   "execution_count": 26,
   "id": "aef7e8d6",
   "metadata": {},
   "outputs": [
    {
     "data": {
      "text/plain": [
       "[2109.7799999999997, 5066.64, 4051.7999999999997, 4999.95]"
      ]
     },
     "execution_count": 26,
     "metadata": {},
     "output_type": "execute_result"
    }
   ],
   "source": [
    "p"
   ]
  },
  {
   "cell_type": "code",
   "execution_count": 27,
   "id": "2ab723d0",
   "metadata": {},
   "outputs": [
    {
     "data": {
      "text/plain": [
       "[2109.78, 5066.64, 4051.8, 4999.95]"
      ]
     },
     "execution_count": 27,
     "metadata": {},
     "output_type": "execute_result"
    }
   ],
   "source": [
    "#List comprehension\n",
    "\n",
    "d=[round(i,2) for i in p]\n",
    "d"
   ]
  },
  {
   "cell_type": "markdown",
   "id": "ff5cc0a8",
   "metadata": {},
   "source": [
    "### Filter in lambda"
   ]
  },
  {
   "cell_type": "markdown",
   "id": "02581aee",
   "metadata": {},
   "source": [
    "filter() function\n",
    "it returns the items where function is true\n",
    "if none of the element meet condition, it will return nothing. In the code below, we are checking if value is greater than 2."
   ]
  },
  {
   "cell_type": "code",
   "execution_count": 28,
   "id": "74331505",
   "metadata": {},
   "outputs": [
    {
     "data": {
      "text/plain": [
       "[3, 4, 5]"
      ]
     },
     "execution_count": 28,
     "metadata": {},
     "output_type": "execute_result"
    }
   ],
   "source": [
    "mylist=[1,2,3,4,5]\n",
    "list(filter(lambda x:x>2,mylist))"
   ]
  },
  {
   "cell_type": "code",
   "execution_count": 29,
   "id": "18a220a5",
   "metadata": {},
   "outputs": [
    {
     "data": {
      "text/plain": [
       "[2, 4, 6, 8, 10]"
      ]
     },
     "execution_count": 29,
     "metadata": {},
     "output_type": "execute_result"
    }
   ],
   "source": [
    "#even is variable here\n",
    "\n",
    "even=lambda x:x%2==0\n",
    "list(filter(even,range(2,11)))"
   ]
  },
  {
   "cell_type": "code",
   "execution_count": 30,
   "id": "65223df8",
   "metadata": {},
   "outputs": [
    {
     "data": {
      "text/plain": [
       "[2, 4, 6, 8, 10]"
      ]
     },
     "execution_count": 30,
     "metadata": {},
     "output_type": "execute_result"
    }
   ],
   "source": [
    "#you can do it with list comprehension\n",
    "[x for x in range(2,11) if x%2==0]"
   ]
  },
  {
   "cell_type": "code",
   "execution_count": 31,
   "id": "7f119145",
   "metadata": {},
   "outputs": [],
   "source": [
    "#taking 5 data from user and create list\n",
    "\n",
    "def tstfunc():\n",
    "    list1=[]\n",
    "    for i in range(1,5):\n",
    "        city=input(\"enter city name\")\n",
    "        list1.append(city)\n",
    "        print(list1)\n",
    "    print(\"final list is :\",list1)"
   ]
  },
  {
   "cell_type": "code",
   "execution_count": 32,
   "id": "e60e9fed",
   "metadata": {},
   "outputs": [
    {
     "name": "stdout",
     "output_type": "stream",
     "text": [
      "enter city namemumbai\n",
      "['mumbai']\n",
      "enter city namekolkata\n",
      "['mumbai', 'kolkata']\n",
      "enter city namedubai\n",
      "['mumbai', 'kolkata', 'dubai']\n",
      "enter city nameabudhabi\n",
      "['mumbai', 'kolkata', 'dubai', 'abudhabi']\n",
      "final list is : ['mumbai', 'kolkata', 'dubai', 'abudhabi']\n"
     ]
    }
   ],
   "source": [
    "tstfunc()"
   ]
  },
  {
   "cell_type": "code",
   "execution_count": 44,
   "id": "5d352634",
   "metadata": {},
   "outputs": [],
   "source": [
    "def add():\n",
    "    num1=int(input(\"enter any num\"))\n",
    "    num2=int(input(\"enter any num\"))\n",
    "    return(num1+num2)"
   ]
  },
  {
   "cell_type": "code",
   "execution_count": 45,
   "id": "2776d614",
   "metadata": {},
   "outputs": [],
   "source": [
    "def sub():\n",
    "    num1=int(input(\"enter any num\"))\n",
    "    num2=int(input(\"enter any num\"))\n",
    "    return(num1-num2)"
   ]
  },
  {
   "cell_type": "code",
   "execution_count": 46,
   "id": "18564947",
   "metadata": {},
   "outputs": [],
   "source": [
    "def mul():\n",
    "    num1=int(input(\"enter any num\"))\n",
    "    num2=int(input(\"enter any num\"))\n",
    "    return(num1*num2)"
   ]
  },
  {
   "cell_type": "code",
   "execution_count": 42,
   "id": "d1f6327f",
   "metadata": {},
   "outputs": [],
   "source": [
    "def cal_funct():\n",
    "    addret=add()\n",
    "    subret=sub()\n",
    "    mulret=mul()\n",
    "    print(\"Addition =\",addret)\n",
    "    print(\"subtraction =\",subret)\n",
    "    print(\"Multiplication =\",mulret)"
   ]
  },
  {
   "cell_type": "code",
   "execution_count": 47,
   "id": "f069d441",
   "metadata": {},
   "outputs": [
    {
     "name": "stdout",
     "output_type": "stream",
     "text": [
      "enter any num4\n",
      "enter any num8\n",
      "enter any num89\n",
      "enter any num88\n",
      "enter any num23\n",
      "enter any num12\n",
      "Addition = 12\n",
      "subtraction = 1\n",
      "Multiplication = 276\n"
     ]
    }
   ],
   "source": [
    "cal_funct()"
   ]
  },
  {
   "cell_type": "markdown",
   "id": "22af2720",
   "metadata": {},
   "source": [
    "# 15th April `Live Class`"
   ]
  },
  {
   "cell_type": "markdown",
   "id": "46be79b6",
   "metadata": {},
   "source": [
    "## OOPS (object oriented programming tech)"
   ]
  },
  {
   "cell_type": "markdown",
   "id": "ae1e0070",
   "metadata": {},
   "source": [
    "Class cosists of : data members and member function"
   ]
  },
  {
   "cell_type": "code",
   "execution_count": 69,
   "id": "caf0c463",
   "metadata": {},
   "outputs": [],
   "source": [
    "class Bike():\n",
    "    #data members/attributes\n",
    "    gear=4\n",
    "    model=\"harley\"\n",
    "    \n",
    "    #member function/medthod\n",
    "    def printf(self): #self represents object name itself\n",
    "        print(\"driving bike\")"
   ]
  },
  {
   "cell_type": "code",
   "execution_count": 70,
   "id": "cfbdb040",
   "metadata": {},
   "outputs": [
    {
     "data": {
      "text/plain": [
       "4"
      ]
     },
     "execution_count": 70,
     "metadata": {},
     "output_type": "execute_result"
    }
   ],
   "source": [
    "#object/instance =class\n",
    "\n",
    "b1=Bike()\n",
    "b1.gear"
   ]
  },
  {
   "cell_type": "code",
   "execution_count": 71,
   "id": "83abc21b",
   "metadata": {},
   "outputs": [
    {
     "data": {
      "text/plain": [
       "'harley'"
      ]
     },
     "execution_count": 71,
     "metadata": {},
     "output_type": "execute_result"
    }
   ],
   "source": [
    "b1.model"
   ]
  },
  {
   "cell_type": "code",
   "execution_count": 72,
   "id": "6cee80ef",
   "metadata": {},
   "outputs": [
    {
     "name": "stdout",
     "output_type": "stream",
     "text": [
      "driving bike\n"
     ]
    }
   ],
   "source": [
    "b1.printf()"
   ]
  },
  {
   "cell_type": "code",
   "execution_count": 84,
   "id": "aea660ae",
   "metadata": {},
   "outputs": [],
   "source": [
    "class student:\n",
    "    #initializationn/defaultconstructor\n",
    "    def __init__(self,rollno,name,age):\n",
    "        self.rollno=rollno\n",
    "        self.name=name\n",
    "        self.age=age\n",
    "    def displayfunction(self):\n",
    "        print(\"student Rollno\",self.rollno,\"Name\",self.name,\"Age\",self.age)"
   ]
  },
  {
   "cell_type": "code",
   "execution_count": 85,
   "id": "5e04175c",
   "metadata": {},
   "outputs": [],
   "source": [
    "#object/instance\n",
    "\n",
    "s1=student(1,\"Avjit\",36)"
   ]
  },
  {
   "cell_type": "code",
   "execution_count": 86,
   "id": "0ff2998f",
   "metadata": {},
   "outputs": [
    {
     "name": "stdout",
     "output_type": "stream",
     "text": [
      "student Rollno 1 Name Avjit Age 36\n"
     ]
    }
   ],
   "source": [
    "s1.displayfunction()"
   ]
  },
  {
   "cell_type": "code",
   "execution_count": 87,
   "id": "b55e6687",
   "metadata": {},
   "outputs": [
    {
     "name": "stdout",
     "output_type": "stream",
     "text": [
      "student Rollno 2 Name Amita Age 35\n"
     ]
    }
   ],
   "source": [
    "s2=student(2,\"Amita\",35) # automatically call default constructor\n",
    "\n",
    "s2.displayfunction()"
   ]
  },
  {
   "cell_type": "code",
   "execution_count": 88,
   "id": "4c9c11bc",
   "metadata": {},
   "outputs": [],
   "source": [
    "class car:\n",
    "    \n",
    "    def __init__(self,year,model,price):\n",
    "        self.year=year\n",
    "        self.model=model\n",
    "        self.price=price\n",
    "        \n",
    "    def display(self):\n",
    "        print(\"year=\",self.year)\n",
    "        print(\"model=\",self.model)\n",
    "        print(\"price=\",self.price)"
   ]
  },
  {
   "cell_type": "code",
   "execution_count": 89,
   "id": "bbc6b031",
   "metadata": {},
   "outputs": [],
   "source": [
    "c1=car(2019,\"Kia\",2200000)"
   ]
  },
  {
   "cell_type": "code",
   "execution_count": 90,
   "id": "c3378778",
   "metadata": {},
   "outputs": [
    {
     "name": "stdout",
     "output_type": "stream",
     "text": [
      "year= 2019\n",
      "model= Kia\n",
      "price= 2200000\n"
     ]
    }
   ],
   "source": [
    "c1.display()"
   ]
  },
  {
   "cell_type": "code",
   "execution_count": 91,
   "id": "21cc083a",
   "metadata": {},
   "outputs": [
    {
     "name": "stdout",
     "output_type": "stream",
     "text": [
      "year= 2023\n",
      "model= nexonelectric\n",
      "price= 15000000\n"
     ]
    }
   ],
   "source": [
    "c2=car(2023,\"nexonelectric\",15000000)\n",
    "c2.display()"
   ]
  },
  {
   "cell_type": "code",
   "execution_count": 92,
   "id": "9c98adef",
   "metadata": {},
   "outputs": [
    {
     "name": "stdout",
     "output_type": "stream",
     "text": [
      "year= 2023\n",
      "model= Jaguar\n",
      "price= 92000000\n"
     ]
    }
   ],
   "source": [
    "c3=car(2023,\"Jaguar\",92000000)\n",
    "c3.display()"
   ]
  },
  {
   "cell_type": "code",
   "execution_count": 93,
   "id": "2384676a",
   "metadata": {},
   "outputs": [
    {
     "data": {
      "text/plain": [
       "2200000"
      ]
     },
     "execution_count": 93,
     "metadata": {},
     "output_type": "execute_result"
    }
   ],
   "source": [
    "c1.price"
   ]
  },
  {
   "cell_type": "code",
   "execution_count": 94,
   "id": "621b0205",
   "metadata": {},
   "outputs": [
    {
     "data": {
      "text/plain": [
       "'Jaguar'"
      ]
     },
     "execution_count": 94,
     "metadata": {},
     "output_type": "execute_result"
    }
   ],
   "source": [
    "c3.model"
   ]
  },
  {
   "cell_type": "markdown",
   "id": "6d1b39e7",
   "metadata": {},
   "source": [
    "# 16th April `Live Class`"
   ]
  },
  {
   "cell_type": "code",
   "execution_count": 20,
   "id": "09ce3e61",
   "metadata": {},
   "outputs": [],
   "source": [
    "class Employee:\n",
    "    company=\"Google\" #class variable\n",
    "    def __init__(self,empid,emp_name,emp_designation):\n",
    "        self.empid=empid\n",
    "        self.emp_name=emp_name\n",
    "        self.emp_designation=emp_designation\n",
    "        \n",
    "    def display_data(self):\n",
    "        print(\"Emp ID :\",self.empid)\n",
    "        print(\"Emp Name :\",self.emp_name)\n",
    "        print(\"Emp designation :\",self.emp_designation)\n",
    "        print(\"Emp company :\",self.company)"
   ]
  },
  {
   "cell_type": "code",
   "execution_count": 21,
   "id": "f4b8c1b2",
   "metadata": {},
   "outputs": [
    {
     "name": "stdout",
     "output_type": "stream",
     "text": [
      "Emp ID : 101\n",
      "Emp Name : Avijit\n",
      "Emp designation : Director\n",
      "Emp company : Google\n"
     ]
    }
   ],
   "source": [
    "#making object/instance\n",
    "\n",
    "emp1=Employee(101,\"Avijit\",\"Director\")\n",
    "emp1.display_data()"
   ]
  },
  {
   "cell_type": "code",
   "execution_count": 22,
   "id": "b0ffce1d",
   "metadata": {},
   "outputs": [
    {
     "name": "stdout",
     "output_type": "stream",
     "text": [
      "Emp ID : 102\n",
      "Emp Name : Amy\n",
      "Emp designation : Data Scientist\n",
      "Emp company : Google\n"
     ]
    }
   ],
   "source": [
    "emp2=Employee(102,\"Amy\",\"Data Scientist\")\n",
    "emp2.display_data()"
   ]
  },
  {
   "cell_type": "code",
   "execution_count": 23,
   "id": "5181b3fb",
   "metadata": {},
   "outputs": [
    {
     "data": {
      "text/plain": [
       "'Avijit'"
      ]
     },
     "execution_count": 23,
     "metadata": {},
     "output_type": "execute_result"
    }
   ],
   "source": [
    "#to view single data\n",
    "\n",
    "emp1.emp_name"
   ]
  },
  {
   "cell_type": "code",
   "execution_count": 24,
   "id": "49eb4c1a",
   "metadata": {},
   "outputs": [
    {
     "name": "stdout",
     "output_type": "stream",
     "text": [
      "Emp ID : 101\n",
      "Emp Name : Avijit\n",
      "Emp designation : Director\n",
      "Emp company : Google\n",
      "Emp ID : 102\n",
      "Emp Name : Amy\n",
      "Emp designation : Data Scientist\n",
      "Emp company : Google\n"
     ]
    }
   ],
   "source": [
    "#Two data you want to view:\n",
    "\n",
    "emp1.display_data()\n",
    "\n",
    "emp2.display_data()"
   ]
  },
  {
   "cell_type": "code",
   "execution_count": 25,
   "id": "3cf14657",
   "metadata": {},
   "outputs": [
    {
     "data": {
      "text/plain": [
       "('Avijit', 'Amy')"
      ]
     },
     "execution_count": 25,
     "metadata": {},
     "output_type": "execute_result"
    }
   ],
   "source": [
    "emp1.emp_name,emp2.emp_name"
   ]
  },
  {
   "cell_type": "code",
   "execution_count": 26,
   "id": "0e50fc4b",
   "metadata": {},
   "outputs": [
    {
     "data": {
      "text/plain": [
       "'Google'"
      ]
     },
     "execution_count": 26,
     "metadata": {},
     "output_type": "execute_result"
    }
   ],
   "source": [
    "#class variable\n",
    "\n",
    "Employee.company"
   ]
  },
  {
   "cell_type": "code",
   "execution_count": 27,
   "id": "6654358c",
   "metadata": {},
   "outputs": [
    {
     "data": {
      "text/plain": [
       "'Google'"
      ]
     },
     "execution_count": 27,
     "metadata": {},
     "output_type": "execute_result"
    }
   ],
   "source": [
    "emp1.company"
   ]
  },
  {
   "cell_type": "markdown",
   "id": "c84111ae",
   "metadata": {},
   "source": [
    "### Main()"
   ]
  },
  {
   "cell_type": "code",
   "execution_count": 28,
   "id": "2ba93539",
   "metadata": {},
   "outputs": [],
   "source": [
    "def sum1(x,y):\n",
    "    print('Adition :',x+y)"
   ]
  },
  {
   "cell_type": "code",
   "execution_count": 29,
   "id": "cb23db63",
   "metadata": {},
   "outputs": [],
   "source": [
    "def main():\n",
    "    sum1(20,4)\n",
    "    print(\"This is a main function\")"
   ]
  },
  {
   "cell_type": "code",
   "execution_count": 30,
   "id": "87f27440",
   "metadata": {},
   "outputs": [
    {
     "name": "stdout",
     "output_type": "stream",
     "text": [
      "Adition : 24\n",
      "This is a main function\n"
     ]
    }
   ],
   "source": [
    "main()"
   ]
  },
  {
   "cell_type": "code",
   "execution_count": 31,
   "id": "0f263cb4",
   "metadata": {},
   "outputs": [
    {
     "name": "stdout",
     "output_type": "stream",
     "text": [
      "Adition : 24\n",
      "This is a main function\n"
     ]
    }
   ],
   "source": [
    "#calling the main function in python\n",
    "\n",
    "if __name__=='__main__':\n",
    "    main()"
   ]
  },
  {
   "cell_type": "code",
   "execution_count": 32,
   "id": "6136557c",
   "metadata": {},
   "outputs": [],
   "source": [
    "class Car:\n",
    "    #A simple class for car\n",
    "    \n",
    "    #constructor to initalize\n",
    "    def __init__(self,company,color):\n",
    "        self.company=company\n",
    "        self.color=color\n",
    "        \n",
    "    #function to print car company and color:\n",
    "    def display(self):\n",
    "        print(\"this is a \",self.company,self.color)"
   ]
  },
  {
   "cell_type": "code",
   "execution_count": 39,
   "id": "c84260c5",
   "metadata": {},
   "outputs": [],
   "source": [
    "def main():\n",
    "    c=Car(\"Ferrari\",\"Red\")\n",
    "    c.display()"
   ]
  },
  {
   "cell_type": "code",
   "execution_count": 40,
   "id": "cbbf99c8",
   "metadata": {},
   "outputs": [
    {
     "name": "stdout",
     "output_type": "stream",
     "text": [
      "this is a  Ferrari Red\n"
     ]
    }
   ],
   "source": [
    "if __name__ ==\"__main__\":\n",
    "    main()"
   ]
  },
  {
   "cell_type": "code",
   "execution_count": 45,
   "id": "af5839ae",
   "metadata": {},
   "outputs": [],
   "source": [
    "class Employees:\n",
    "    \n",
    "    def __init__(self,name,age):\n",
    "        print(\"initalized method called\")\n",
    "        self.name=name\n",
    "        self.age=age\n",
    "        \n",
    "    def getdata(self,name,age):\n",
    "        print(\"getdata method called\")\n",
    "        self.name=name\n",
    "        self.age=age\n",
    "        \n",
    "    def display(self):\n",
    "        print(\"Hello!\",self.name,self.age)"
   ]
  },
  {
   "cell_type": "code",
   "execution_count": 46,
   "id": "28fd05ae",
   "metadata": {},
   "outputs": [],
   "source": [
    "def main():\n",
    "    e=Employees(\"Avijit\",36) #here initialize will work\n",
    "    e.display()\n",
    "    \n",
    "    e.getdata(\"Amy\",34)\n",
    "    e.display()"
   ]
  },
  {
   "cell_type": "code",
   "execution_count": 48,
   "id": "c7218965",
   "metadata": {},
   "outputs": [
    {
     "name": "stdout",
     "output_type": "stream",
     "text": [
      "initalized method called\n",
      "Hello! Avijit 36\n",
      "getdata method called\n",
      "Hello! Amy 34\n"
     ]
    }
   ],
   "source": [
    "if __name__==\"__main__\":\n",
    "    main()"
   ]
  },
  {
   "cell_type": "markdown",
   "id": "986c0047",
   "metadata": {},
   "source": [
    "### Create a player class with name,age,sports associated with the player"
   ]
  },
  {
   "cell_type": "code",
   "execution_count": 52,
   "id": "2f3312b2",
   "metadata": {},
   "outputs": [
    {
     "name": "stdout",
     "output_type": "stream",
     "text": [
      "Initializing data of Players\n",
      "Player Details : Avijit 36 Football\n",
      "getting data for players\n",
      "Player Details : Sourav 36 Cricket\n"
     ]
    }
   ],
   "source": [
    "class Player:\n",
    "    \n",
    "    def __init__(self,name,age,sport):\n",
    "        print(\"Initializing data of Players\")\n",
    "        self.name=name\n",
    "        self.age=age\n",
    "        self.sport=sport\n",
    "        \n",
    "    def getdata(self,name,age,sport):\n",
    "        print(\"getting data for players\")\n",
    "        self.name=name\n",
    "        self.age=age\n",
    "        self.sport=sport\n",
    "        \n",
    "    def displaydata(self):\n",
    "        print(\"Player Details :\",self.name,self.age,self.sport)\n",
    "        \n",
    "def main():\n",
    "    p=Player(\"Avijit\",36,\"Football\")\n",
    "    p.displaydata()\n",
    "    \n",
    "    p.getdata(\"Sourav\",36,\"Cricket\")\n",
    "    p.displaydata()\n",
    "    \n",
    "if __name__==\"__main__\":\n",
    "    main()"
   ]
  },
  {
   "cell_type": "markdown",
   "id": "7f038279",
   "metadata": {},
   "source": [
    "## Exceptions:"
   ]
  },
  {
   "cell_type": "raw",
   "id": "0f031784",
   "metadata": {},
   "source": [
    "An exception can be defined as an unusual condition in a program result in the interuption in the flow of the program.\n",
    "\n",
    "Whenever an exception occurs, the program stops the execution, and thus the further code isnot executed. Therefore, an exception is the run-time error that are unable to handle to Python script. An exception is a python object that represents an error.\n",
    "\n",
    "Python provides a way to handle the exception so that the code can be executed without any interruption. If we do not handle the exception, the interpreter doesn't execute all the code that exists after the exception.\n",
    "\n",
    "#Zerodivisionerror: occurs when a number is divided by 0\n",
    "#Nameerror: It occurs when a name is not found. it may be a local or global.\n",
    "#Indentationerror: if incorrect indentation is given\n",
    "#IOError: it occurs when output operation fails"
   ]
  },
  {
   "cell_type": "code",
   "execution_count": 55,
   "id": "3c476ec1",
   "metadata": {},
   "outputs": [
    {
     "name": "stdout",
     "output_type": "stream",
     "text": [
      "Handling run time error : division by zero\n"
     ]
    }
   ],
   "source": [
    "try:\n",
    "    20/0\n",
    "except ZeroDivisionError as err:\n",
    "    print(\"Handling run time error :\",err)"
   ]
  },
  {
   "cell_type": "code",
   "execution_count": 56,
   "id": "10914008",
   "metadata": {},
   "outputs": [
    {
     "name": "stdout",
     "output_type": "stream",
     "text": [
      "Handling run time error : name 'num' is not defined\n"
     ]
    }
   ],
   "source": [
    "try:\n",
    "    8+num*2\n",
    "except NameError as err:\n",
    "    print(\"Handling run time error :\",err)"
   ]
  },
  {
   "cell_type": "code",
   "execution_count": 57,
   "id": "a5bc8e02",
   "metadata": {},
   "outputs": [],
   "source": [
    "def divide(x,y):\n",
    "    try:\n",
    "        result=x/y\n",
    "    except ZeroDivisionError :\n",
    "        print(\"It is not possible to divide any number by zero\")\n",
    "    else:\n",
    "        print('result is ',result)\n",
    "    finally:\n",
    "        print(\"executed finally clause\")"
   ]
  },
  {
   "cell_type": "code",
   "execution_count": 58,
   "id": "b6120647",
   "metadata": {},
   "outputs": [
    {
     "name": "stdout",
     "output_type": "stream",
     "text": [
      "result is  5.0\n",
      "executed finally clause\n"
     ]
    }
   ],
   "source": [
    "divide(25,5)"
   ]
  },
  {
   "cell_type": "code",
   "execution_count": 59,
   "id": "bb7f533e",
   "metadata": {},
   "outputs": [
    {
     "name": "stdout",
     "output_type": "stream",
     "text": [
      "It is not possible to divide any number by zero\n",
      "executed finally clause\n"
     ]
    }
   ],
   "source": [
    "divide(25,0)"
   ]
  },
  {
   "cell_type": "markdown",
   "id": "60720a33",
   "metadata": {},
   "source": [
    "# 23rd April `Live Class`"
   ]
  },
  {
   "cell_type": "markdown",
   "id": "03dde176",
   "metadata": {},
   "source": [
    "## Inheritance"
   ]
  },
  {
   "cell_type": "markdown",
   "id": "2723d444",
   "metadata": {},
   "source": [
    "Inheritance allows us to define a class that inherits all the methods and properties from another class.\n",
    "\n",
    "**Parent** class is the class being inherited from, also called base class.\n",
    "\n",
    "**Child class** is the class that inherits from another class, also called derived class."
   ]
  },
  {
   "cell_type": "markdown",
   "id": "bbe22af6",
   "metadata": {},
   "source": [
    "## 1. Inheritance"
   ]
  },
  {
   "cell_type": "markdown",
   "id": "038f1402",
   "metadata": {},
   "source": [
    "#### Create a Parent Class"
   ]
  },
  {
   "cell_type": "code",
   "execution_count": 1,
   "id": "97b3fe2e",
   "metadata": {},
   "outputs": [],
   "source": [
    "#Any class can be a parent class, so the syntax is the same as creating any other class:\n",
    "\n",
    "class Bird:\n",
    "    def speak(self):\n",
    "        print(\"Bird Speaking\")"
   ]
  },
  {
   "cell_type": "code",
   "execution_count": 2,
   "id": "7cc952fc",
   "metadata": {},
   "outputs": [
    {
     "name": "stdout",
     "output_type": "stream",
     "text": [
      "Sparrow Chirpping\n",
      "Bird Speaking\n"
     ]
    }
   ],
   "source": [
    "#child class sparrow inherits the base class Bird'\n",
    "\n",
    "class Sparrow(Bird):\n",
    "    def chirp(self):\n",
    "        print(\"Sparrow Chirpping\")\n",
    "        \n",
    "#instances/object creation\n",
    "sp= Sparrow()\n",
    "sp.chirp()\n",
    "sp.speak()"
   ]
  },
  {
   "cell_type": "markdown",
   "id": "82da9194",
   "metadata": {},
   "source": [
    "## 1.2 multilevel inheritance"
   ]
  },
  {
   "cell_type": "code",
   "execution_count": 4,
   "id": "ad4e6e67",
   "metadata": {},
   "outputs": [
    {
     "name": "stdout",
     "output_type": "stream",
     "text": [
      "grandfather speaking\n",
      "father is sleeping\n",
      "eating bread\n"
     ]
    }
   ],
   "source": [
    "class Grandfather:\n",
    "    def speak(self):\n",
    "        print(\"grandfather speaking\")\n",
    "              \n",
    "class Father(Grandfather):\n",
    "    def sleep(self):\n",
    "        print(\"father is sleeping\")\n",
    "              \n",
    "class Child(Father):\n",
    "    def eat(self):\n",
    "        print(\"eating bread\")\n",
    "              \n",
    "              \n",
    "ch=Child()\n",
    "ch.speak()\n",
    "ch.sleep()\n",
    "ch.eat()"
   ]
  },
  {
   "cell_type": "markdown",
   "id": "56ab0e05",
   "metadata": {},
   "source": [
    "## 1.3 Multiple Level Inheritance"
   ]
  },
  {
   "cell_type": "code",
   "execution_count": 5,
   "id": "320d9704",
   "metadata": {},
   "outputs": [
    {
     "name": "stdout",
     "output_type": "stream",
     "text": [
      "30\n",
      "200\n",
      "0.5\n"
     ]
    }
   ],
   "source": [
    "class Calculation1:\n",
    "    def summation(self,a,b):\n",
    "        return a+b;\n",
    "    \n",
    "class Calculation2:\n",
    "    def multiplication(self,a,b):\n",
    "        return a*b;\n",
    "    \n",
    "class derived(Calculation1,Calculation2):\n",
    "    def divide(self,a,b):\n",
    "        return a/b;\n",
    "    \n",
    "d=derived()\n",
    "\n",
    "print(d.summation(10,20))\n",
    "print(d.multiplication(10,20))\n",
    "print(d.divide(10,20))"
   ]
  },
  {
   "cell_type": "markdown",
   "id": "eaa0d710",
   "metadata": {},
   "source": [
    "## 1.4 Hierarchical inheritance"
   ]
  },
  {
   "cell_type": "code",
   "execution_count": 10,
   "id": "0689294a",
   "metadata": {},
   "outputs": [
    {
     "name": "stdout",
     "output_type": "stream",
     "text": [
      "Peacock chirping\n",
      "Bird Speaking\n"
     ]
    }
   ],
   "source": [
    "class Peacock(Bird):\n",
    "    def chirp(self):\n",
    "        print(\"Peacock chirping\")\n",
    "        \n",
    "p=Peacock()\n",
    "p.chirp()\n",
    "p.speak()"
   ]
  },
  {
   "cell_type": "markdown",
   "id": "c0d8deba",
   "metadata": {},
   "source": [
    "### Method Overriding"
   ]
  },
  {
   "cell_type": "markdown",
   "id": "3adfaf9c",
   "metadata": {},
   "source": [
    "We can provide some specific implementation of the parent class methos in our child class. When the parent class method is defined in the child class with some specific implementation, then the concept is called method overriding. We may need to perform method overriding in the scenario where the different defination of a parent class method is needed in the child class."
   ]
  },
  {
   "cell_type": "code",
   "execution_count": 6,
   "id": "e3435443",
   "metadata": {},
   "outputs": [
    {
     "name": "stdout",
     "output_type": "stream",
     "text": [
      "barking\n"
     ]
    }
   ],
   "source": [
    "class  Animal:\n",
    "    def speak(self):\n",
    "        print(\"speaking\")\n",
    "        \n",
    "class Dog(Animal):\n",
    "    def speak(self):\n",
    "        print(\"barking\")\n",
    "        \n",
    "d=Dog()\n",
    "d.speak()"
   ]
  },
  {
   "cell_type": "code",
   "execution_count": 11,
   "id": "26aef8ac",
   "metadata": {},
   "outputs": [
    {
     "name": "stdout",
     "output_type": "stream",
     "text": [
      "Bank Rate of interest : 11\n",
      "SBI Rate of interest : 7\n",
      "ICICI Rate of interest : 8\n"
     ]
    }
   ],
   "source": [
    "#another example\n",
    "\n",
    "class Bank:\n",
    "    def getroi(self):\n",
    "        return 11;\n",
    "    \n",
    "class SBI(Bank):\n",
    "    def getroi(self):\n",
    "        return 7;\n",
    "    \n",
    "class ICICI(Bank):\n",
    "    def getroi(self):\n",
    "        return 8;\n",
    "    \n",
    "b1=Bank()\n",
    "b2=SBI()\n",
    "b3=ICICI()\n",
    "\n",
    "print(\"Bank Rate of interest :\",b1.getroi());\n",
    "print(\"SBI Rate of interest :\",b2.getroi());\n",
    "print(\"ICICI Rate of interest :\",b3.getroi());"
   ]
  },
  {
   "cell_type": "markdown",
   "id": "2152e4e7",
   "metadata": {},
   "source": [
    "# Data Abstraction"
   ]
  },
  {
   "cell_type": "markdown",
   "id": "6bd63481",
   "metadata": {},
   "source": [
    "Abstraction is an important aspect of object_oriented programming. In python, we can alsoperform data hiding by adding double underscore (__) as a prefix to the attribute which is to be hidden. After this, the attribute will not be visible outside of the class through the object."
   ]
  },
  {
   "cell_type": "code",
   "execution_count": 13,
   "id": "93657d92",
   "metadata": {},
   "outputs": [
    {
     "name": "stdout",
     "output_type": "stream",
     "text": [
      "AttributeError: Employee object has no attribute __count\n",
      "The number of employees 1\n"
     ]
    }
   ],
   "source": [
    "class Employee:\n",
    "    __count=0;\n",
    "    \n",
    "    def __init__(self):\n",
    "        Employee.__count=Employee.__count+1\n",
    "        \n",
    "    def display(self):\n",
    "        print(\"The number of employees\",Employee.__count)\n",
    "        \n",
    "emp=Employee()\n",
    "\n",
    "try:\n",
    "    print(Employee.__count)\n",
    "except(AttributeError):\n",
    "    print(\"AttributeError: Employee object has no attribute __count\")\n",
    "finally:\n",
    "    emp.display()"
   ]
  },
  {
   "cell_type": "markdown",
   "id": "4ec736da",
   "metadata": {},
   "source": [
    "# Module"
   ]
  },
  {
   "cell_type": "code",
   "execution_count": 15,
   "id": "99b119fa",
   "metadata": {},
   "outputs": [],
   "source": [
    "import keyword"
   ]
  },
  {
   "cell_type": "code",
   "execution_count": 17,
   "id": "379af4e7",
   "metadata": {},
   "outputs": [
    {
     "data": {
      "text/plain": [
       "['False',\n",
       " 'None',\n",
       " 'True',\n",
       " '__peg_parser__',\n",
       " 'and',\n",
       " 'as',\n",
       " 'assert',\n",
       " 'async',\n",
       " 'await',\n",
       " 'break',\n",
       " 'class',\n",
       " 'continue',\n",
       " 'def',\n",
       " 'del',\n",
       " 'elif',\n",
       " 'else',\n",
       " 'except',\n",
       " 'finally',\n",
       " 'for',\n",
       " 'from',\n",
       " 'global',\n",
       " 'if',\n",
       " 'import',\n",
       " 'in',\n",
       " 'is',\n",
       " 'lambda',\n",
       " 'nonlocal',\n",
       " 'not',\n",
       " 'or',\n",
       " 'pass',\n",
       " 'raise',\n",
       " 'return',\n",
       " 'try',\n",
       " 'while',\n",
       " 'with',\n",
       " 'yield']"
      ]
     },
     "execution_count": 17,
     "metadata": {},
     "output_type": "execute_result"
    }
   ],
   "source": [
    "keyword.kwlist"
   ]
  },
  {
   "cell_type": "code",
   "execution_count": 18,
   "id": "0d8390c2",
   "metadata": {},
   "outputs": [],
   "source": [
    "import sys"
   ]
  },
  {
   "cell_type": "code",
   "execution_count": 19,
   "id": "2dbc0b57",
   "metadata": {},
   "outputs": [
    {
     "data": {
      "text/plain": [
       "['C:\\\\Users\\\\Rima Das',\n",
       " 'C:\\\\Users\\\\Rima Das\\\\anaconda3\\\\python39.zip',\n",
       " 'C:\\\\Users\\\\Rima Das\\\\anaconda3\\\\DLLs',\n",
       " 'C:\\\\Users\\\\Rima Das\\\\anaconda3\\\\lib',\n",
       " 'C:\\\\Users\\\\Rima Das\\\\anaconda3',\n",
       " '',\n",
       " 'C:\\\\Users\\\\Rima Das\\\\anaconda3\\\\lib\\\\site-packages',\n",
       " 'C:\\\\Users\\\\Rima Das\\\\anaconda3\\\\lib\\\\site-packages\\\\win32',\n",
       " 'C:\\\\Users\\\\Rima Das\\\\anaconda3\\\\lib\\\\site-packages\\\\win32\\\\lib',\n",
       " 'C:\\\\Users\\\\Rima Das\\\\anaconda3\\\\lib\\\\site-packages\\\\Pythonwin',\n",
       " 'C:\\\\Users\\\\Rima Das\\\\anaconda3\\\\lib\\\\site-packages\\\\IPython\\\\extensions',\n",
       " 'C:\\\\Users\\\\Rima Das\\\\.ipython']"
      ]
     },
     "execution_count": 19,
     "metadata": {},
     "output_type": "execute_result"
    }
   ],
   "source": [
    "sys.path"
   ]
  },
  {
   "cell_type": "code",
   "execution_count": 20,
   "id": "6ea0ab0a",
   "metadata": {},
   "outputs": [],
   "source": [
    "import os"
   ]
  },
  {
   "cell_type": "code",
   "execution_count": 23,
   "id": "1f1d4705",
   "metadata": {},
   "outputs": [
    {
     "data": {
      "text/plain": [
       "'C:\\\\Users\\\\Rima Das'"
      ]
     },
     "execution_count": 23,
     "metadata": {},
     "output_type": "execute_result"
    }
   ],
   "source": [
    "# get cwd shows path\n",
    "\n",
    "os.getcwd()"
   ]
  },
  {
   "cell_type": "code",
   "execution_count": 24,
   "id": "312e85fd",
   "metadata": {},
   "outputs": [
    {
     "data": {
      "text/plain": [
       "['.conda',\n",
       " '.condarc',\n",
       " '.continuum',\n",
       " '.ipynb_checkpoints',\n",
       " '.ipython',\n",
       " '.jupyter',\n",
       " '.ms-ad',\n",
       " '3D Objects',\n",
       " 'anaconda3',\n",
       " 'AppData',\n",
       " 'Application Data',\n",
       " 'Contacts',\n",
       " 'Cookies',\n",
       " 'Desktop',\n",
       " 'Documents',\n",
       " 'Downloads',\n",
       " 'Favorites',\n",
       " 'IntelGraphicsProfiles',\n",
       " 'Learn Python Programming.ipynb',\n",
       " 'Links',\n",
       " 'Live Classes Python.ipynb',\n",
       " 'LMS Video.ipynb',\n",
       " 'Local Settings',\n",
       " 'Music',\n",
       " 'My Documents',\n",
       " 'NetHood',\n",
       " 'NTUSER.DAT',\n",
       " 'ntuser.dat.LOG1',\n",
       " 'ntuser.dat.LOG2',\n",
       " 'NTUSER.DAT{53b39e87-18c4-11ea-a811-000d3aa4692b}.TxR.0.regtrans-ms',\n",
       " 'NTUSER.DAT{53b39e87-18c4-11ea-a811-000d3aa4692b}.TxR.blf',\n",
       " 'NTUSER.DAT{53b39e88-18c4-11ea-a811-000d3aa4692b}.TM.blf',\n",
       " 'NTUSER.DAT{53b39e88-18c4-11ea-a811-000d3aa4692b}.TMContainer00000000000000000001.regtrans-ms',\n",
       " 'NTUSER.DAT{53b39e88-18c4-11ea-a811-000d3aa4692b}.TMContainer00000000000000000002.regtrans-ms',\n",
       " 'ntuser.ini',\n",
       " 'OneDrive',\n",
       " 'Practice Assignment 1 (Python basics).ipynb',\n",
       " 'Practice Assignment 2 (Data Structures).ipynb',\n",
       " 'Practice Assignment 3 (String finctions in python.ipynb',\n",
       " 'Practice assignment 4 Loops if.ipynb',\n",
       " 'Practice Assignment 5 (Functions).ipynb',\n",
       " 'PrintHood',\n",
       " 'Recent',\n",
       " 'Saved Games',\n",
       " 'Searches',\n",
       " 'SendTo',\n",
       " 'SQL in Python.ipynb',\n",
       " 'Start Menu',\n",
       " 'student_database.db',\n",
       " 'Templates',\n",
       " 'Untitled Folder',\n",
       " 'Videos']"
      ]
     },
     "execution_count": 24,
     "metadata": {},
     "output_type": "execute_result"
    }
   ],
   "source": [
    "#displays files and folders in current path\n",
    "\n",
    "os.listdir()"
   ]
  },
  {
   "cell_type": "code",
   "execution_count": 25,
   "id": "f6337244",
   "metadata": {},
   "outputs": [],
   "source": [
    "import math"
   ]
  },
  {
   "cell_type": "code",
   "execution_count": 26,
   "id": "d68e02c1",
   "metadata": {},
   "outputs": [
    {
     "data": {
      "text/plain": [
       "3.141592653589793"
      ]
     },
     "execution_count": 26,
     "metadata": {},
     "output_type": "execute_result"
    }
   ],
   "source": [
    "math.pi"
   ]
  },
  {
   "cell_type": "code",
   "execution_count": 27,
   "id": "df23b05a",
   "metadata": {},
   "outputs": [
    {
     "data": {
      "text/plain": [
       "8.0"
      ]
     },
     "execution_count": 27,
     "metadata": {},
     "output_type": "execute_result"
    }
   ],
   "source": [
    "math.sqrt(64)"
   ]
  },
  {
   "cell_type": "code",
   "execution_count": 28,
   "id": "96bbdf45",
   "metadata": {},
   "outputs": [
    {
     "data": {
      "text/plain": [
       "4.0"
      ]
     },
     "execution_count": 28,
     "metadata": {},
     "output_type": "execute_result"
    }
   ],
   "source": [
    "math.pow(2,2)"
   ]
  },
  {
   "cell_type": "code",
   "execution_count": 30,
   "id": "e9f2ba09",
   "metadata": {},
   "outputs": [
    {
     "data": {
      "text/plain": [
       "9160.884177867836"
      ]
     },
     "execution_count": 30,
     "metadata": {},
     "output_type": "execute_result"
    }
   ],
   "source": [
    "import math\n",
    "\n",
    "radius=54\n",
    "areaofcircle=math.pi*(math.pow(radius,2))\n",
    "\n",
    "areaofcircle"
   ]
  },
  {
   "cell_type": "markdown",
   "id": "334f7f4d",
   "metadata": {},
   "source": [
    "# 29th April `Live Class`"
   ]
  },
  {
   "cell_type": "markdown",
   "id": "6105feb2",
   "metadata": {},
   "source": [
    "## Library"
   ]
  },
  {
   "cell_type": "markdown",
   "id": "4935cb87",
   "metadata": {},
   "source": [
    "### datetime library"
   ]
  },
  {
   "cell_type": "markdown",
   "id": "4b417ec4",
   "metadata": {},
   "source": [
    "Commonly used classes in the datetime module are:\n",
    "    \n",
    "1. date class\n",
    "2. time class\n",
    "3. datetime class\n",
    "4. timedelta class"
   ]
  },
  {
   "cell_type": "code",
   "execution_count": 7,
   "id": "1f2bcfb5",
   "metadata": {},
   "outputs": [],
   "source": [
    "import datetime"
   ]
  },
  {
   "cell_type": "code",
   "execution_count": 8,
   "id": "1ce53ab1",
   "metadata": {},
   "outputs": [
    {
     "data": {
      "text/plain": [
       "datetime.datetime(2023, 5, 16, 11, 59, 52, 253064)"
      ]
     },
     "execution_count": 8,
     "metadata": {},
     "output_type": "execute_result"
    }
   ],
   "source": [
    "#'datetime' is a module inside it datetime class is there and inside \"datetime\" class there is a function called \"now\"\n",
    "\n",
    "\"\"\"Now will give u current date and time\"\"\"\n",
    "\n",
    "dt=datetime.datetime.now()\n",
    "dt"
   ]
  },
  {
   "cell_type": "markdown",
   "id": "27f0532a",
   "metadata": {},
   "source": [
    "#### Get Current Date"
   ]
  },
  {
   "cell_type": "code",
   "execution_count": 9,
   "id": "6353af3c",
   "metadata": {},
   "outputs": [
    {
     "data": {
      "text/plain": [
       "datetime.date(2023, 5, 16)"
      ]
     },
     "execution_count": 9,
     "metadata": {},
     "output_type": "execute_result"
    }
   ],
   "source": [
    "#Inside datetime module there is another class called Date\n",
    "\n",
    "dt1=datetime.date.today()\n",
    "dt1"
   ]
  },
  {
   "cell_type": "code",
   "execution_count": 15,
   "id": "d10b6710",
   "metadata": {},
   "outputs": [
    {
     "data": {
      "text/plain": [
       "datetime.date(2023, 4, 16)"
      ]
     },
     "execution_count": 15,
     "metadata": {},
     "output_type": "execute_result"
    }
   ],
   "source": [
    "import datetime\n",
    "d=datetime.date(2023,4,16)\n",
    "d"
   ]
  },
  {
   "cell_type": "code",
   "execution_count": 16,
   "id": "89290927",
   "metadata": {},
   "outputs": [
    {
     "data": {
      "text/plain": [
       "datetime.date(2023, 4, 16)"
      ]
     },
     "execution_count": 16,
     "metadata": {},
     "output_type": "execute_result"
    }
   ],
   "source": [
    "#if u want to import only date class from datetime module/library u can use:\n",
    "\n",
    "from datetime import date\n",
    "a=date(2023,4,16)\n",
    "a"
   ]
  },
  {
   "cell_type": "code",
   "execution_count": 20,
   "id": "23d6ab24",
   "metadata": {},
   "outputs": [
    {
     "data": {
      "text/plain": [
       "datetime.date(2023, 5, 16)"
      ]
     },
     "execution_count": 20,
     "metadata": {},
     "output_type": "execute_result"
    }
   ],
   "source": [
    "#get current date\n",
    "\"\"\"in date class there is a \"today\" function \"\"\"\n",
    "\n",
    "td=date.today()\n",
    "td"
   ]
  },
  {
   "cell_type": "code",
   "execution_count": 21,
   "id": "74db4e0e",
   "metadata": {},
   "outputs": [
    {
     "name": "stdout",
     "output_type": "stream",
     "text": [
      "Year :  2023\n",
      "Month :  5\n",
      "Day :  16\n"
     ]
    }
   ],
   "source": [
    "\"\"\"in date class there are other functions as well, which are:\n",
    "year, month,day\"\"\"\n",
    "\n",
    "print(\"Year : \",td.year)\n",
    "print(\"Month : \",td.month)\n",
    "print(\"Day : \",td.day)"
   ]
  },
  {
   "cell_type": "markdown",
   "id": "28192c34",
   "metadata": {},
   "source": [
    "A time object instantiated from the time class represents the local time"
   ]
  },
  {
   "cell_type": "code",
   "execution_count": 26,
   "id": "4499f61c",
   "metadata": {},
   "outputs": [
    {
     "name": "stdout",
     "output_type": "stream",
     "text": [
      "00:00:00\n",
      "12:13:56\n"
     ]
    }
   ],
   "source": [
    "from datetime import time\n",
    "a=time()\n",
    "print(a)\n",
    "\n",
    "# time(hours,minute,second)\n",
    "b=time(12,13,56)\n",
    "print(b)"
   ]
  },
  {
   "cell_type": "code",
   "execution_count": 25,
   "id": "506e818a",
   "metadata": {},
   "outputs": [
    {
     "name": "stdout",
     "output_type": "stream",
     "text": [
      "hours : 12\n",
      "minute : 13\n",
      "second : 56\n"
     ]
    }
   ],
   "source": [
    "print(\"hours :\",b.hour)\n",
    "print(\"minute :\",b.minute)\n",
    "print(\"second :\",b.second)"
   ]
  },
  {
   "cell_type": "code",
   "execution_count": 27,
   "id": "9e505378",
   "metadata": {},
   "outputs": [
    {
     "data": {
      "text/plain": [
       "time.struct_time(tm_year=2023, tm_mon=5, tm_mday=16, tm_hour=12, tm_min=17, tm_sec=37, tm_wday=1, tm_yday=136, tm_isdst=0)"
      ]
     },
     "execution_count": 27,
     "metadata": {},
     "output_type": "execute_result"
    }
   ],
   "source": [
    "import time\n",
    "time.localtime()"
   ]
  },
  {
   "cell_type": "code",
   "execution_count": 28,
   "id": "a430d794",
   "metadata": {},
   "outputs": [
    {
     "name": "stdout",
     "output_type": "stream",
     "text": [
      "2023-05-16 00:00:00\n"
     ]
    }
   ],
   "source": [
    "from datetime import datetime\n",
    "a=datetime(2023,5,16)\n",
    "print(a)"
   ]
  },
  {
   "cell_type": "markdown",
   "id": "df30e267",
   "metadata": {},
   "source": [
    "Pip-Python package manager\n",
    "\n",
    "The best way to manage Python's third party packages/moudules is with pip"
   ]
  },
  {
   "cell_type": "markdown",
   "id": "d9aecd79",
   "metadata": {},
   "source": [
    "# File Input/Output Operations"
   ]
  },
  {
   "cell_type": "markdown",
   "id": "a35447f4",
   "metadata": {},
   "source": [
    "f=open('E:\\Python\\files1.txt','w')\n",
    "\n",
    "f=open('E:\\Python\\files1.txt','r')"
   ]
  },
  {
   "cell_type": "code",
   "execution_count": 29,
   "id": "503a2f18",
   "metadata": {},
   "outputs": [],
   "source": [
    "f=open('E:\\\\Data Science Class\\\\test\\\\may16file.txt','w')"
   ]
  },
  {
   "cell_type": "code",
   "execution_count": 30,
   "id": "20bd7178",
   "metadata": {},
   "outputs": [
    {
     "data": {
      "text/plain": [
       "25"
      ]
     },
     "execution_count": 30,
     "metadata": {},
     "output_type": "execute_result"
    }
   ],
   "source": [
    "f.write(\"Enjoying Python Commands.\")"
   ]
  },
  {
   "cell_type": "code",
   "execution_count": 31,
   "id": "fd2ee3f0",
   "metadata": {},
   "outputs": [],
   "source": [
    "f.close()"
   ]
  },
  {
   "cell_type": "code",
   "execution_count": 32,
   "id": "8a772504",
   "metadata": {},
   "outputs": [],
   "source": [
    "readme=open('E:\\\\Data Science Class\\\\test\\\\may16file.txt','r')"
   ]
  },
  {
   "cell_type": "code",
   "execution_count": 33,
   "id": "38194d8c",
   "metadata": {},
   "outputs": [
    {
     "name": "stdout",
     "output_type": "stream",
     "text": [
      "Enjoying Python Commands.\n"
     ]
    }
   ],
   "source": [
    "print(readme.read())"
   ]
  },
  {
   "cell_type": "code",
   "execution_count": 34,
   "id": "9c3135d4",
   "metadata": {},
   "outputs": [],
   "source": [
    "readme.close()"
   ]
  },
  {
   "cell_type": "code",
   "execution_count": 36,
   "id": "0c0e90ea",
   "metadata": {},
   "outputs": [],
   "source": [
    "appendfile=open('E:\\\\Data Science Class\\\\test\\\\may16file.txt','a')"
   ]
  },
  {
   "cell_type": "code",
   "execution_count": 37,
   "id": "4afc018e",
   "metadata": {},
   "outputs": [
    {
     "data": {
      "text/plain": [
       "23"
      ]
     },
     "execution_count": 37,
     "metadata": {},
     "output_type": "execute_result"
    }
   ],
   "source": [
    "appendfile.write(\"\\n Avijit is my husband.\")"
   ]
  },
  {
   "cell_type": "code",
   "execution_count": 38,
   "id": "ae9b02ed",
   "metadata": {},
   "outputs": [],
   "source": [
    "appendfile.close()"
   ]
  },
  {
   "cell_type": "code",
   "execution_count": 39,
   "id": "7b3fb1b8",
   "metadata": {},
   "outputs": [],
   "source": [
    "readme=open('E:\\\\Data Science Class\\\\test\\\\may16file.txt','r')"
   ]
  },
  {
   "cell_type": "code",
   "execution_count": 40,
   "id": "c119b483",
   "metadata": {},
   "outputs": [
    {
     "name": "stdout",
     "output_type": "stream",
     "text": [
      "Enjoying Python Commands.\n",
      " Avijit is my husband.\n"
     ]
    }
   ],
   "source": [
    "print(readme.read())"
   ]
  },
  {
   "cell_type": "code",
   "execution_count": 41,
   "id": "fa500a0d",
   "metadata": {},
   "outputs": [],
   "source": [
    "readme.close()"
   ]
  },
  {
   "cell_type": "code",
   "execution_count": 43,
   "id": "24cde85e",
   "metadata": {},
   "outputs": [
    {
     "name": "stdout",
     "output_type": "stream",
     "text": [
      "File not found\n"
     ]
    }
   ],
   "source": [
    "#this will throw an exception if the file doesn't exist.\n",
    "\n",
    "try:\n",
    "    file=open('demofile.txt','r')\n",
    "except IOError:\n",
    "    print(\"File not found\")\n",
    "else:\n",
    "    print(\"The file is opened successfully\")\n",
    "    print(file.read())\n",
    "    file.close()"
   ]
  },
  {
   "cell_type": "markdown",
   "id": "c73b60b8",
   "metadata": {},
   "source": [
    "# 30th April `Live Class`"
   ]
  },
  {
   "cell_type": "markdown",
   "id": "5fab5ee1",
   "metadata": {},
   "source": [
    "##  Pickle in Python: object sterilization in python"
   ]
  },
  {
   "cell_type": "markdown",
   "id": "f7909345",
   "metadata": {},
   "source": [
    "*Serialization: store an object outside jupyter notebook\n",
    "*De-serialization: storing an object from outside into jupyter notebook\n",
    "\n",
    "Serialization and de-serialization can be done through a library is called pickle"
   ]
  },
  {
   "cell_type": "markdown",
   "id": "7c5d6951",
   "metadata": {},
   "source": [
    "Pickle library has two method. dump method is used to serialization and load method is used to deserialization"
   ]
  },
  {
   "cell_type": "code",
   "execution_count": 44,
   "id": "ffad8155",
   "metadata": {},
   "outputs": [],
   "source": [
    "import pickle"
   ]
  },
  {
   "cell_type": "code",
   "execution_count": 45,
   "id": "a3d4c886",
   "metadata": {},
   "outputs": [],
   "source": [
    "flower_dict={1:'Rose',2:'Lilly',3:'Lotus',4:'tulip'}"
   ]
  },
  {
   "cell_type": "raw",
   "id": "0eafcbaf",
   "metadata": {},
   "source": [
    "filename='flower'\n",
    "outfile=open(filename,'wb')"
   ]
  },
  {
   "cell_type": "markdown",
   "id": "30e926c5",
   "metadata": {},
   "source": [
    "### Serailization"
   ]
  },
  {
   "cell_type": "code",
   "execution_count": 46,
   "id": "130799eb",
   "metadata": {},
   "outputs": [],
   "source": [
    "#filename='flower'\n",
    "outfile=open('flower.obj','wb')"
   ]
  },
  {
   "cell_type": "code",
   "execution_count": 47,
   "id": "59ccd70e",
   "metadata": {},
   "outputs": [],
   "source": [
    "#pickling the file\n",
    "\n",
    "#dump method serialization\n",
    "pickle.dump(flower_dict,outfile)\n",
    "outfile.close()"
   ]
  },
  {
   "cell_type": "markdown",
   "id": "d9b3c5c0",
   "metadata": {},
   "source": [
    "### De-serialization"
   ]
  },
  {
   "cell_type": "raw",
   "id": "a245ed75",
   "metadata": {},
   "source": [
    "#unpickle the file\n",
    "infile=open(filename,'rb')"
   ]
  },
  {
   "cell_type": "code",
   "execution_count": 48,
   "id": "ee0c7768",
   "metadata": {},
   "outputs": [],
   "source": [
    "#unpickle the file\n",
    "infile=open('flower.obj','rb')"
   ]
  },
  {
   "cell_type": "code",
   "execution_count": 49,
   "id": "a5a92e54",
   "metadata": {},
   "outputs": [],
   "source": [
    "#de-serialization\n",
    "\n",
    "#load method\n",
    "\n",
    "new_dict=pickle.load(infile)"
   ]
  },
  {
   "cell_type": "code",
   "execution_count": 50,
   "id": "472d99ca",
   "metadata": {},
   "outputs": [],
   "source": [
    "infile.close()"
   ]
  },
  {
   "cell_type": "code",
   "execution_count": 51,
   "id": "fcc23578",
   "metadata": {},
   "outputs": [
    {
     "name": "stdout",
     "output_type": "stream",
     "text": [
      "{1: 'Rose', 2: 'Lilly', 3: 'Lotus', 4: 'tulip'}\n"
     ]
    }
   ],
   "source": [
    "print(new_dict)"
   ]
  },
  {
   "cell_type": "code",
   "execution_count": 53,
   "id": "1e6c7e88",
   "metadata": {},
   "outputs": [
    {
     "name": "stdout",
     "output_type": "stream",
     "text": [
      "True\n"
     ]
    }
   ],
   "source": [
    "print(new_dict==flower_dict)"
   ]
  },
  {
   "cell_type": "code",
   "execution_count": 54,
   "id": "d7e8fba2",
   "metadata": {},
   "outputs": [
    {
     "name": "stdout",
     "output_type": "stream",
     "text": [
      "<class 'dict'>\n"
     ]
    }
   ],
   "source": [
    "print(type(new_dict))"
   ]
  },
  {
   "cell_type": "markdown",
   "id": "4e10e154",
   "metadata": {},
   "source": [
    "# Database"
   ]
  },
  {
   "cell_type": "markdown",
   "id": "165a4b8d",
   "metadata": {},
   "source": [
    "Tables consists of rows(tuples) & columns (characteristics/attributes)"
   ]
  },
  {
   "cell_type": "markdown",
   "id": "00d8d707",
   "metadata": {},
   "source": [
    "Database management system(DBMS) are of two type:\n",
    "1. Relational RDBMS (eg: SQLite, MySQL, MS-SQL Server, Oracle, Postgrade SQL)\n",
    "2.Non-RDBMS (eg: social media data,Mongo DB, cassandra, amazonDb)"
   ]
  },
  {
   "cell_type": "markdown",
   "id": "aa36b16c",
   "metadata": {},
   "source": [
    "DBMS can be categorised in another two form as well:\n",
    "1. Licensed/proprieter property (oracle, MS-SQL Server etc)\n",
    "2.Open source(MySQL, SQLite,postgradeSQL etc)"
   ]
  },
  {
   "cell_type": "markdown",
   "id": "0adb2155",
   "metadata": {},
   "source": [
    "# SQL"
   ]
  },
  {
   "cell_type": "markdown",
   "id": "83c5671c",
   "metadata": {},
   "source": [
    "SQL has 3 categories:\n",
    "1. DDL (Data Defination Language) Keywords: create,alter,drop\n",
    "2. DML (Data Manipulation Language) Keywords: select,insert,update,delete\n",
    "3. DCL (Data Control Language) Keywords: commit, revoke"
   ]
  },
  {
   "cell_type": "code",
   "execution_count": 57,
   "id": "b5a71cad",
   "metadata": {},
   "outputs": [],
   "source": [
    "import sqlite3"
   ]
  },
  {
   "cell_type": "markdown",
   "id": "6ccb509b",
   "metadata": {},
   "source": [
    "working with database using SQL (structured Query Language)\n",
    "\n",
    "1. Create a connection object.\n",
    "2. From the connection object, create a cursor object\n",
    "3. Using the cursor object, call the execute method with create table query as the parameter."
   ]
  },
  {
   "cell_type": "markdown",
   "id": "11d165ec",
   "metadata": {},
   "source": [
    "## Create Database"
   ]
  },
  {
   "cell_type": "code",
   "execution_count": 58,
   "id": "55f6b241",
   "metadata": {},
   "outputs": [],
   "source": [
    "dbcon=sqlite3.connect('student_database.db')"
   ]
  },
  {
   "cell_type": "markdown",
   "id": "2306b37f",
   "metadata": {},
   "source": [
    "Cursor in sql ia a temporary work area created in system memory when sql statement is executed. A sql cursor is a set of rows together with a pointer that identifies the current row. It is a database object to retrieve data from a result set one row at a time"
   ]
  },
  {
   "cell_type": "code",
   "execution_count": 59,
   "id": "a6401136",
   "metadata": {},
   "outputs": [],
   "source": [
    "cur=dbcon.cursor()"
   ]
  },
  {
   "cell_type": "markdown",
   "id": "06f720c5",
   "metadata": {},
   "source": [
    "### Create table in student database"
   ]
  },
  {
   "cell_type": "raw",
   "id": "7d0b7858",
   "metadata": {},
   "source": [
    "SQL data types-\n",
    "integer-numeric values\n",
    "real-decimal values\n",
    "txt-character values\n",
    "char(20)-Character values"
   ]
  },
  {
   "cell_type": "code",
   "execution_count": 60,
   "id": "e5c5db00",
   "metadata": {},
   "outputs": [
    {
     "data": {
      "text/plain": [
       "<sqlite3.Cursor at 0x1a3da2eb3b0>"
      ]
     },
     "execution_count": 60,
     "metadata": {},
     "output_type": "execute_result"
    }
   ],
   "source": [
    "cur.execute('create table student(sid int primary key,name txt,marks int)')"
   ]
  },
  {
   "cell_type": "markdown",
   "id": "8d77dc7f",
   "metadata": {},
   "source": [
    "### Insert data in table"
   ]
  },
  {
   "cell_type": "code",
   "execution_count": 61,
   "id": "11a593db",
   "metadata": {},
   "outputs": [],
   "source": [
    "cur.execute(\"insert into student(sid,name,marks) values(1,'Avijit',87)\")\n",
    "dbcon.commit()"
   ]
  },
  {
   "cell_type": "code",
   "execution_count": 64,
   "id": "aac7382b",
   "metadata": {},
   "outputs": [
    {
     "name": "stdout",
     "output_type": "stream",
     "text": [
      "(1, 'Avijit', 87)\n"
     ]
    }
   ],
   "source": [
    "results=cur.execute(\"select * from student \")\n",
    "\n",
    "for i in results:\n",
    "    print(i)"
   ]
  },
  {
   "cell_type": "code",
   "execution_count": 65,
   "id": "0775455a",
   "metadata": {},
   "outputs": [
    {
     "data": {
      "text/plain": [
       "<sqlite3.Cursor at 0x1a3da2eb3b0>"
      ]
     },
     "execution_count": 65,
     "metadata": {},
     "output_type": "execute_result"
    }
   ],
   "source": [
    "cur.execute(\"insert into student(sid,name,marks) values(2,'Amy',89)\")"
   ]
  },
  {
   "cell_type": "code",
   "execution_count": 66,
   "id": "699d72e3",
   "metadata": {},
   "outputs": [
    {
     "name": "stdout",
     "output_type": "stream",
     "text": [
      "(1, 'Avijit', 87)\n",
      "(2, 'Amy', 89)\n"
     ]
    }
   ],
   "source": [
    "results=cur.execute(\"select * from student \")\n",
    "\n",
    "for i in results:\n",
    "    print(i)"
   ]
  },
  {
   "cell_type": "code",
   "execution_count": 67,
   "id": "2d113700",
   "metadata": {},
   "outputs": [],
   "source": [
    "cur.execute(\"insert into student(sid,name,marks) values(3,'Amita',89)\")\n",
    "dbcon.commit()"
   ]
  },
  {
   "cell_type": "code",
   "execution_count": 68,
   "id": "ffe678b5",
   "metadata": {},
   "outputs": [],
   "source": [
    "cur.execute(\"insert into student(sid,name,marks) values(4,'Rima',89)\")\n",
    "dbcon.commit()"
   ]
  },
  {
   "cell_type": "code",
   "execution_count": 69,
   "id": "e28f5546",
   "metadata": {},
   "outputs": [
    {
     "name": "stdout",
     "output_type": "stream",
     "text": [
      "(1, 'Avijit', 87)\n",
      "(2, 'Amy', 89)\n",
      "(3, 'Amita', 89)\n",
      "(4, 'Rima', 89)\n"
     ]
    }
   ],
   "source": [
    "results=cur.execute(\"select * from student \")\n",
    "\n",
    "for i in results:\n",
    "    print(i)"
   ]
  },
  {
   "cell_type": "code",
   "execution_count": 70,
   "id": "9653098f",
   "metadata": {},
   "outputs": [
    {
     "name": "stdout",
     "output_type": "stream",
     "text": [
      "('Avijit',)\n",
      "('Amy',)\n",
      "('Amita',)\n",
      "('Rima',)\n"
     ]
    }
   ],
   "source": [
    "results=cur.execute(\"select name from student\")\n",
    "\n",
    "for i in results:\n",
    "    print(i)"
   ]
  },
  {
   "cell_type": "code",
   "execution_count": 71,
   "id": "4ff29097",
   "metadata": {},
   "outputs": [
    {
     "name": "stdout",
     "output_type": "stream",
     "text": [
      "('Avijit', 87)\n",
      "('Amy', 89)\n",
      "('Amita', 89)\n",
      "('Rima', 89)\n"
     ]
    }
   ],
   "source": [
    "results=cur.execute(\"select name,marks from student\")\n",
    "\n",
    "for i in results:\n",
    "    print(i)"
   ]
  },
  {
   "cell_type": "code",
   "execution_count": 72,
   "id": "4dcdaf45",
   "metadata": {},
   "outputs": [
    {
     "name": "stdout",
     "output_type": "stream",
     "text": [
      "(1, 'Avijit', 87)\n"
     ]
    }
   ],
   "source": [
    "results=cur.execute(\"select * from student where sid=1\")\n",
    "\n",
    "for i in results:\n",
    "    print(i)"
   ]
  },
  {
   "cell_type": "code",
   "execution_count": 73,
   "id": "590280d4",
   "metadata": {},
   "outputs": [
    {
     "name": "stdout",
     "output_type": "stream",
     "text": [
      "(2, 'Amy', 89)\n"
     ]
    }
   ],
   "source": [
    "results=cur.execute(\"select * from student where name='Amy'\")\n",
    "\n",
    "for i in results:\n",
    "    print(i)"
   ]
  },
  {
   "cell_type": "code",
   "execution_count": 74,
   "id": "fa99dc4f",
   "metadata": {},
   "outputs": [
    {
     "name": "stdout",
     "output_type": "stream",
     "text": [
      "(2, 'Amy', 89)\n",
      "(3, 'Amita', 89)\n",
      "(4, 'Rima', 89)\n"
     ]
    }
   ],
   "source": [
    "results=cur.execute(\"select * from student where marks=89\")\n",
    "\n",
    "for i in results:\n",
    "    print(i)"
   ]
  },
  {
   "cell_type": "code",
   "execution_count": 75,
   "id": "0938bb15",
   "metadata": {},
   "outputs": [
    {
     "name": "stdout",
     "output_type": "stream",
     "text": [
      "(1, 'Avijit', 87)\n",
      "(2, 'Amy', 89)\n"
     ]
    }
   ],
   "source": [
    "results=cur.execute(\"select * from student where sid IN (1,2)\")\n",
    "\n",
    "for i in results:\n",
    "    print(i)"
   ]
  },
  {
   "cell_type": "code",
   "execution_count": 76,
   "id": "80d22616",
   "metadata": {},
   "outputs": [
    {
     "name": "stdout",
     "output_type": "stream",
     "text": [
      "(1, 'Avijit', 87)\n",
      "(4, 'Rima', 89)\n"
     ]
    }
   ],
   "source": [
    "results=cur.execute(\"select * from student where name IN ('Avijit','Rima')\")\n",
    "\n",
    "for i in results:\n",
    "    print(i)"
   ]
  },
  {
   "cell_type": "code",
   "execution_count": 77,
   "id": "4812245f",
   "metadata": {},
   "outputs": [
    {
     "name": "stdout",
     "output_type": "stream",
     "text": [
      "(1, 'Avijit', 87)\n",
      "(2, 'Amy', 89)\n",
      "(3, 'Amita', 89)\n",
      "(4, 'Rima', 89)\n"
     ]
    }
   ],
   "source": [
    "results=cur.execute(\"select * from student where marks >70\")\n",
    "\n",
    "for i in results:\n",
    "    print(i)"
   ]
  },
  {
   "cell_type": "code",
   "execution_count": 78,
   "id": "555b878a",
   "metadata": {},
   "outputs": [
    {
     "name": "stdout",
     "output_type": "stream",
     "text": [
      "(2, 'Amy', 89)\n",
      "(3, 'Amita', 89)\n",
      "(4, 'Rima', 89)\n"
     ]
    }
   ],
   "source": [
    "results=cur.execute(\"select * from student where marks >=89\")\n",
    "\n",
    "for i in results:\n",
    "    print(i)"
   ]
  },
  {
   "cell_type": "markdown",
   "id": "b07f0fd3",
   "metadata": {},
   "source": [
    "# 6th may `like class`"
   ]
  },
  {
   "cell_type": "code",
   "execution_count": 166,
   "id": "e9b94921",
   "metadata": {},
   "outputs": [],
   "source": [
    "import sqlite3"
   ]
  },
  {
   "cell_type": "code",
   "execution_count": 167,
   "id": "dfce7122",
   "metadata": {},
   "outputs": [],
   "source": [
    "dbcon=sqlite3.connect('student_database.db')"
   ]
  },
  {
   "cell_type": "code",
   "execution_count": 168,
   "id": "218b9243",
   "metadata": {},
   "outputs": [],
   "source": [
    "cur=dbcon.cursor()"
   ]
  },
  {
   "cell_type": "markdown",
   "id": "b19a2b56",
   "metadata": {},
   "source": [
    "Database will be created in the given location"
   ]
  },
  {
   "cell_type": "raw",
   "id": "25350a24",
   "metadata": {},
   "source": [
    "db1=sqlit3.connect(\"E:/MySQLite_database/student.db\")"
   ]
  },
  {
   "cell_type": "raw",
   "id": "dabf7180",
   "metadata": {},
   "source": [
    "cur1=db1.cursor()"
   ]
  },
  {
   "cell_type": "code",
   "execution_count": null,
   "id": "03784c26",
   "metadata": {},
   "outputs": [],
   "source": []
  },
  {
   "cell_type": "code",
   "execution_count": 169,
   "id": "5adbe122",
   "metadata": {},
   "outputs": [],
   "source": [
    "cur.execute(\"insert into student values (6,'Avi',23)\")\n",
    "dbcon.commit()"
   ]
  },
  {
   "cell_type": "code",
   "execution_count": 170,
   "id": "48664c97",
   "metadata": {},
   "outputs": [],
   "source": [
    "#multiple records at one time\n",
    "\n",
    "cur.execute(\"insert into student values (7,'Asur',56),(8,'Diya',76),(9,'Amit',46)\")\n",
    "dbcon.commit()"
   ]
  },
  {
   "cell_type": "code",
   "execution_count": 172,
   "id": "2b4bd086",
   "metadata": {},
   "outputs": [
    {
     "name": "stdout",
     "output_type": "stream",
     "text": [
      "(1, 'Avijit', 87)\n",
      "(2, 'Amy', 89)\n",
      "(3, 'Amita', 89)\n",
      "(4, 'Rima', 89)\n",
      "(6, 'Avi', 23)\n",
      "(7, 'Asur', 56)\n",
      "(8, 'Diya', 76)\n",
      "(9, 'Amit', 46)\n"
     ]
    }
   ],
   "source": [
    "results=cur.execute(\"select * from student \")\n",
    "\n",
    "for i in results:\n",
    "    print(i)"
   ]
  },
  {
   "cell_type": "code",
   "execution_count": 173,
   "id": "aabee5f7",
   "metadata": {},
   "outputs": [
    {
     "name": "stdout",
     "output_type": "stream",
     "text": [
      "-1 Record(s) inserted\n"
     ]
    }
   ],
   "source": [
    "#count of records inserted\n",
    "print(cur.rowcount,\"Record(s) inserted\")"
   ]
  },
  {
   "cell_type": "code",
   "execution_count": 176,
   "id": "5aaeb7fc",
   "metadata": {},
   "outputs": [
    {
     "name": "stdout",
     "output_type": "stream",
     "text": [
      "(9, 'Amit', 46)\n"
     ]
    }
   ],
   "source": [
    "results=cur.execute('select * from student where sid=9')\n",
    "\n",
    "for i in results:\n",
    "    print(i)"
   ]
  },
  {
   "cell_type": "code",
   "execution_count": 179,
   "id": "00f13f14",
   "metadata": {},
   "outputs": [
    {
     "data": {
      "text/plain": [
       "(4, 'Rima', 89)"
      ]
     },
     "execution_count": 179,
     "metadata": {},
     "output_type": "execute_result"
    }
   ],
   "source": [
    "results=cur.execute('select * from student where sid=4')\n",
    "\n",
    "results.fetchone()"
   ]
  },
  {
   "cell_type": "code",
   "execution_count": 180,
   "id": "d3ab3b9f",
   "metadata": {},
   "outputs": [
    {
     "data": {
      "text/plain": [
       "[(2, 'Amy', 89), (3, 'Amita', 89), (6, 'Avi', 23)]"
      ]
     },
     "execution_count": 180,
     "metadata": {},
     "output_type": "execute_result"
    }
   ],
   "source": [
    "results=cur.execute('select * from student where sid IN (3,2,6)')\n",
    "\n",
    "results.fetchall()"
   ]
  },
  {
   "cell_type": "code",
   "execution_count": 181,
   "id": "6b23e2f6",
   "metadata": {},
   "outputs": [
    {
     "data": {
      "text/plain": [
       "[(3, 'Amita', 89)]"
      ]
     },
     "execution_count": 181,
     "metadata": {},
     "output_type": "execute_result"
    }
   ],
   "source": [
    "results=cur.execute('select * from student where name = \"Amita\" or marks=65')\n",
    "\n",
    "results.fetchall()"
   ]
  },
  {
   "cell_type": "code",
   "execution_count": 182,
   "id": "242bcca7",
   "metadata": {},
   "outputs": [
    {
     "data": {
      "text/plain": [
       "[(1, 'Avijit', 87)]"
      ]
     },
     "execution_count": 182,
     "metadata": {},
     "output_type": "execute_result"
    }
   ],
   "source": [
    "results=cur.execute('select * from student where name =\"Avijit\" and marks=87')\n",
    "\n",
    "results.fetchall()"
   ]
  },
  {
   "cell_type": "markdown",
   "id": "bf801bc8",
   "metadata": {},
   "source": [
    "### Aggregate Function"
   ]
  },
  {
   "cell_type": "raw",
   "id": "4e5217cf",
   "metadata": {},
   "source": [
    "MIN =Find minimum\n",
    "Max= find maximum\n",
    "AVG=find average\n",
    "sum=find sum\n",
    "count=count the number of rows"
   ]
  },
  {
   "cell_type": "code",
   "execution_count": 183,
   "id": "d1e454ed",
   "metadata": {},
   "outputs": [
    {
     "name": "stdout",
     "output_type": "stream",
     "text": [
      "(23,)\n"
     ]
    }
   ],
   "source": [
    "#find minimum marks\n",
    "\n",
    "result=cur.execute(\"select min(marks)from student\")\n",
    "\n",
    "for i in result:\n",
    "    print(i)"
   ]
  },
  {
   "cell_type": "code",
   "execution_count": 184,
   "id": "1046326b",
   "metadata": {},
   "outputs": [
    {
     "name": "stdout",
     "output_type": "stream",
     "text": [
      "(89,)\n"
     ]
    }
   ],
   "source": [
    "#find maximum marks\n",
    "\n",
    "result=cur.execute(\"select max(marks)from student\")\n",
    "\n",
    "for i in result:\n",
    "    print(i)"
   ]
  },
  {
   "cell_type": "code",
   "execution_count": 186,
   "id": "4558a529",
   "metadata": {},
   "outputs": [
    {
     "name": "stdout",
     "output_type": "stream",
     "text": [
      "(555,)\n"
     ]
    }
   ],
   "source": [
    "#find sum marks\n",
    "\n",
    "result=cur.execute(\"select sum(marks)from student\")\n",
    "\n",
    "for i in result:\n",
    "    print(i)"
   ]
  },
  {
   "cell_type": "code",
   "execution_count": 187,
   "id": "d42d9976",
   "metadata": {},
   "outputs": [
    {
     "name": "stdout",
     "output_type": "stream",
     "text": [
      "(69.375,)\n"
     ]
    }
   ],
   "source": [
    "#find avg marks\n",
    "\n",
    "result=cur.execute(\"select avg(marks)from student\")\n",
    "\n",
    "for i in result:\n",
    "    print(i)"
   ]
  },
  {
   "cell_type": "code",
   "execution_count": 188,
   "id": "d5081b44",
   "metadata": {},
   "outputs": [
    {
     "name": "stdout",
     "output_type": "stream",
     "text": [
      "(8,)\n"
     ]
    }
   ],
   "source": [
    "#find count marks\n",
    "\n",
    "result=cur.execute(\"select count(sid)from student\")\n",
    "\n",
    "for i in result:\n",
    "    print(i)"
   ]
  },
  {
   "cell_type": "code",
   "execution_count": 189,
   "id": "04d3def7",
   "metadata": {},
   "outputs": [],
   "source": [
    "result=cur.execute(\"select * from student where marks is null\")\n",
    "\n",
    "for i in result:\n",
    "    print(i)"
   ]
  },
  {
   "cell_type": "code",
   "execution_count": 190,
   "id": "94f6a030",
   "metadata": {},
   "outputs": [
    {
     "name": "stdout",
     "output_type": "stream",
     "text": [
      "(1, 'Avijit', 87)\n",
      "(2, 'Amy', 89)\n",
      "(3, 'Amita', 89)\n",
      "(4, 'Rima', 89)\n",
      "(6, 'Avi', 23)\n",
      "(7, 'Asur', 56)\n",
      "(8, 'Diya', 76)\n",
      "(9, 'Amit', 46)\n"
     ]
    }
   ],
   "source": [
    "result=cur.execute(\"select * from student where marks is NOT null\")\n",
    "\n",
    "for i in result:\n",
    "    print(i)"
   ]
  },
  {
   "cell_type": "raw",
   "id": "e0e2361b",
   "metadata": {},
   "source": [
    "Like operators\n",
    "\n",
    "% -many and any character\n",
    "_ - underscore is one character"
   ]
  },
  {
   "cell_type": "code",
   "execution_count": 194,
   "id": "834ef58c",
   "metadata": {},
   "outputs": [
    {
     "data": {
      "text/plain": [
       "[(1, 'Avijit', 87),\n",
       " (2, 'Amy', 89),\n",
       " (3, 'Amita', 89),\n",
       " (6, 'Avi', 23),\n",
       " (7, 'Asur', 56),\n",
       " (9, 'Amit', 46)]"
      ]
     },
     "execution_count": 194,
     "metadata": {},
     "output_type": "execute_result"
    }
   ],
   "source": [
    "result=cur.execute(\"select * from student where name LIKE 'A%' \")\n",
    "\n",
    "result.fetchall()"
   ]
  },
  {
   "cell_type": "code",
   "execution_count": 195,
   "id": "2d00113c",
   "metadata": {},
   "outputs": [
    {
     "data": {
      "text/plain": [
       "[(3, 'Amita', 89), (4, 'Rima', 89), (8, 'Diya', 76)]"
      ]
     },
     "execution_count": 195,
     "metadata": {},
     "output_type": "execute_result"
    }
   ],
   "source": [
    "result=cur.execute(\"select * from student where name LIKE '%A' \")\n",
    "\n",
    "result.fetchall()"
   ]
  },
  {
   "cell_type": "code",
   "execution_count": 196,
   "id": "3b49ab7f",
   "metadata": {},
   "outputs": [
    {
     "data": {
      "text/plain": [
       "[(2, 'Amy', 89), (6, 'Avi', 23)]"
      ]
     },
     "execution_count": 196,
     "metadata": {},
     "output_type": "execute_result"
    }
   ],
   "source": [
    "result=cur.execute(\"select * from student where name LIKE '___' \")\n",
    "\n",
    "result.fetchall()"
   ]
  },
  {
   "cell_type": "code",
   "execution_count": 197,
   "id": "66e72122",
   "metadata": {},
   "outputs": [
    {
     "data": {
      "text/plain": [
       "[(1, 'Avijit', 87),\n",
       " (3, 'Amita', 89),\n",
       " (4, 'Rima', 89),\n",
       " (6, 'Avi', 23),\n",
       " (8, 'Diya', 76),\n",
       " (9, 'Amit', 46)]"
      ]
     },
     "execution_count": 197,
     "metadata": {},
     "output_type": "execute_result"
    }
   ],
   "source": [
    "result=cur.execute(\"select * from student where name LIKE '%i%' \")\n",
    "\n",
    "result.fetchall()"
   ]
  },
  {
   "cell_type": "code",
   "execution_count": 198,
   "id": "96c99899",
   "metadata": {},
   "outputs": [
    {
     "data": {
      "text/plain": [
       "[(1, 'Avijit', 87),\n",
       " (6, 'Avi', 23),\n",
       " (7, 'Asur', 56),\n",
       " (8, 'Diya', 76),\n",
       " (9, 'Amit', 46)]"
      ]
     },
     "execution_count": 198,
     "metadata": {},
     "output_type": "execute_result"
    }
   ],
   "source": [
    "result=cur.execute(\"select * from student where marks NOT in (89) \")\n",
    "\n",
    "result.fetchall()"
   ]
  },
  {
   "cell_type": "code",
   "execution_count": 199,
   "id": "671e164a",
   "metadata": {},
   "outputs": [
    {
     "data": {
      "text/plain": [
       "[(1, 'Avijit', 87),\n",
       " (2, 'Amy', 89),\n",
       " (3, 'Amita', 89),\n",
       " (4, 'Rima', 89),\n",
       " (6, 'Avi', 23),\n",
       " (7, 'Asur', 56),\n",
       " (9, 'Amit', 46)]"
      ]
     },
     "execution_count": 199,
     "metadata": {},
     "output_type": "execute_result"
    }
   ],
   "source": [
    "result=cur.execute(\"select * from student where name NOT in ('Diya') \")\n",
    "\n",
    "result.fetchall()"
   ]
  },
  {
   "cell_type": "markdown",
   "id": "710c9656",
   "metadata": {},
   "source": [
    "### Update Record"
   ]
  },
  {
   "cell_type": "code",
   "execution_count": 200,
   "id": "41f5003e",
   "metadata": {},
   "outputs": [],
   "source": [
    "#update the record\n",
    "\n",
    "sql=\"update student set marks= 54 where sid=6\"\n",
    "cur.execute(sql)\n",
    "dbcon.commit()"
   ]
  },
  {
   "cell_type": "code",
   "execution_count": 201,
   "id": "40843263",
   "metadata": {},
   "outputs": [],
   "source": [
    "#update multiple records\n",
    "\n",
    "sql=\"update student set marks=95 where sid in(7,6)\"\n",
    "cur.execute(sql)\n",
    "dbcon.commit()"
   ]
  },
  {
   "cell_type": "code",
   "execution_count": 202,
   "id": "1caf2ce7",
   "metadata": {},
   "outputs": [
    {
     "name": "stdout",
     "output_type": "stream",
     "text": [
      "(1, 'Avijit', 87)\n",
      "(2, 'Amy', 89)\n",
      "(3, 'Amita', 89)\n",
      "(4, 'Rima', 89)\n",
      "(6, 'Avi', 95)\n",
      "(7, 'Asur', 95)\n",
      "(8, 'Diya', 76)\n",
      "(9, 'Amit', 46)\n"
     ]
    }
   ],
   "source": [
    "results=cur.execute(\"select * from student \")\n",
    "\n",
    "for i in results:\n",
    "    print(i)"
   ]
  },
  {
   "cell_type": "markdown",
   "id": "b6b93464",
   "metadata": {},
   "source": [
    "### Delete any unwanted records"
   ]
  },
  {
   "cell_type": "code",
   "execution_count": 204,
   "id": "eabb9e9c",
   "metadata": {},
   "outputs": [
    {
     "data": {
      "text/plain": [
       "<sqlite3.Cursor at 0x20bb8ad7a40>"
      ]
     },
     "execution_count": 204,
     "metadata": {},
     "output_type": "execute_result"
    }
   ],
   "source": [
    "sql=\"delete from student where sid=8\"\n",
    "cur.execute(sql)"
   ]
  },
  {
   "cell_type": "code",
   "execution_count": 205,
   "id": "523503e9",
   "metadata": {},
   "outputs": [
    {
     "name": "stdout",
     "output_type": "stream",
     "text": [
      "(1, 'Avijit', 87)\n",
      "(2, 'Amy', 89)\n",
      "(3, 'Amita', 89)\n",
      "(4, 'Rima', 89)\n",
      "(6, 'Avi', 95)\n",
      "(7, 'Asur', 95)\n",
      "(9, 'Amit', 46)\n"
     ]
    }
   ],
   "source": [
    "results=cur.execute(\"select * from student \")\n",
    "\n",
    "for i in results:\n",
    "    print(i)"
   ]
  },
  {
   "cell_type": "code",
   "execution_count": 206,
   "id": "8630c53c",
   "metadata": {},
   "outputs": [
    {
     "data": {
      "text/plain": [
       "<sqlite3.Cursor at 0x20bb8ad7a40>"
      ]
     },
     "execution_count": 206,
     "metadata": {},
     "output_type": "execute_result"
    }
   ],
   "source": [
    "cur.execute(\"delete from student where sid=9\")"
   ]
  },
  {
   "cell_type": "code",
   "execution_count": 207,
   "id": "5a839922",
   "metadata": {},
   "outputs": [
    {
     "name": "stdout",
     "output_type": "stream",
     "text": [
      "(1, 'Avijit', 87)\n",
      "(2, 'Amy', 89)\n",
      "(3, 'Amita', 89)\n",
      "(4, 'Rima', 89)\n",
      "(6, 'Avi', 95)\n",
      "(7, 'Asur', 95)\n"
     ]
    }
   ],
   "source": [
    "results=cur.execute(\"select * from student \")\n",
    "\n",
    "for i in results:\n",
    "    print(i)"
   ]
  },
  {
   "cell_type": "markdown",
   "id": "3336ac15",
   "metadata": {},
   "source": [
    "### Drop a table"
   ]
  },
  {
   "cell_type": "code",
   "execution_count": 208,
   "id": "eb1d9932",
   "metadata": {},
   "outputs": [],
   "source": [
    "sql='drop table student'\n",
    "results=cur.execute(sql)"
   ]
  },
  {
   "cell_type": "code",
   "execution_count": 212,
   "id": "fb9e6318",
   "metadata": {},
   "outputs": [
    {
     "ename": "ProgrammingError",
     "evalue": "Cannot operate on a closed database.",
     "output_type": "error",
     "traceback": [
      "\u001b[1;31m---------------------------------------------------------------------------\u001b[0m",
      "\u001b[1;31mProgrammingError\u001b[0m                          Traceback (most recent call last)",
      "\u001b[1;32m~\\AppData\\Local\\Temp\\ipykernel_8672\\1424280489.py\u001b[0m in \u001b[0;36m<module>\u001b[1;34m\u001b[0m\n\u001b[0;32m      1\u001b[0m \u001b[1;31m# results=cur.execute('select * from student')\u001b[0m\u001b[1;33m\u001b[0m\u001b[1;33m\u001b[0m\u001b[0m\n\u001b[0;32m      2\u001b[0m \u001b[1;33m\u001b[0m\u001b[0m\n\u001b[1;32m----> 3\u001b[1;33m \u001b[0mresults\u001b[0m\u001b[1;33m.\u001b[0m\u001b[0mfetchall\u001b[0m\u001b[1;33m(\u001b[0m\u001b[1;33m)\u001b[0m\u001b[1;33m\u001b[0m\u001b[1;33m\u001b[0m\u001b[0m\n\u001b[0m",
      "\u001b[1;31mProgrammingError\u001b[0m: Cannot operate on a closed database."
     ]
    }
   ],
   "source": [
    "# results=cur.execute('select * from student')\n",
    "\n",
    "results.fetchall()"
   ]
  },
  {
   "cell_type": "code",
   "execution_count": 211,
   "id": "21576c73",
   "metadata": {},
   "outputs": [],
   "source": [
    "dbcon.close()"
   ]
  },
  {
   "cell_type": "markdown",
   "id": "3ada8373",
   "metadata": {},
   "source": [
    "# 7th May `Live Class`"
   ]
  },
  {
   "cell_type": "markdown",
   "id": "d4c6324b",
   "metadata": {},
   "source": [
    "## Adding data in table with CSV (comma separated value) files directly"
   ]
  },
  {
   "cell_type": "code",
   "execution_count": 213,
   "id": "2d09c237",
   "metadata": {},
   "outputs": [],
   "source": [
    "import sqlite3"
   ]
  },
  {
   "cell_type": "raw",
   "id": "b4d11665",
   "metadata": {},
   "source": [
    "db=sqlite3.connect(\"E:\\\\MySQLite3_database/scores_database.db\")"
   ]
  },
  {
   "cell_type": "raw",
   "id": "dedbfe86",
   "metadata": {},
   "source": [
    "#declear cursor\n",
    "\n",
    "cursor=db.cursor()"
   ]
  },
  {
   "cell_type": "raw",
   "id": "b45a9e88",
   "metadata": {},
   "source": [
    "#create table\n",
    "\n",
    "cursor.execute(\"CREATE TABLE scores(gender TEXT, student_ID INT PRIMARY KEY,marks INT)\")"
   ]
  },
  {
   "cell_type": "raw",
   "id": "7dd8e825",
   "metadata": {},
   "source": [
    "#insert records into table (single record inserting)\n",
    "cursor.execute(\"INSERT INTO scores(gender, student_ID, marks) values('male', 101, 55)\")\n",
    "\n",
    "#save the record permanently. If you don't commit, next time you will not see the records in the table\n",
    "db.commit()\n",
    "\n",
    "#count of records inserted\n",
    "print(cursor.records,\"Record(s)inserted\")"
   ]
  },
  {
   "cell_type": "markdown",
   "id": "17416a38",
   "metadata": {},
   "source": [
    "## Inserting records from csv files"
   ]
  },
  {
   "cell_type": "raw",
   "id": "f0dd63ed",
   "metadata": {},
   "source": [
    "with open('source_file.csv','r') as file:\n",
    "    total_records=0\n",
    "    for row in file:\n",
    "        cursor.execute(\"INSERT INTO scores values(?,?,?)\",row.split(\",\"))\n",
    "        db.commit()\n",
    "        total_records +=1\n",
    "    print(total_records,'Record(s) inserted')"
   ]
  },
  {
   "cell_type": "raw",
   "id": "495c9e5e",
   "metadata": {},
   "source": [
    "result=cursor.execute(\"select * from scores\")\n",
    "for row in result:\n",
    "    print(row)"
   ]
  },
  {
   "cell_type": "markdown",
   "id": "2ce32971",
   "metadata": {},
   "source": [
    "constraints:\n",
    "1. unique enter (only unique values)\n",
    "2. not null (no blank values can be inserted in table)"
   ]
  },
  {
   "cell_type": "raw",
   "id": "03b3efcc",
   "metadata": {},
   "source": [
    "cur.execute(\"create table sport(ID int primary key,sportname text unique, dateofevent date,country text not null)\")"
   ]
  },
  {
   "cell_type": "raw",
   "id": "4477b0e7",
   "metadata": {},
   "source": [
    "cur.execute(\"insert into sports values(101,'cricket','2023-06-16','Dubai')\")\n",
    "print(cur.rowcount,\"record(s) inserted\")"
   ]
  },
  {
   "cell_type": "markdown",
   "id": "a88e73c2",
   "metadata": {},
   "source": [
    "# Employee database with DB and python programmatically"
   ]
  },
  {
   "cell_type": "raw",
   "id": "57ecadce",
   "metadata": {},
   "source": [
    "import sqlite3"
   ]
  },
  {
   "cell_type": "raw",
   "id": "d04f9977",
   "metadata": {},
   "source": [
    "con=sqlite2.connect(\"E:/Mysqlite_database/emp_database.db\")"
   ]
  },
  {
   "cell_type": "raw",
   "id": "caadfbf9",
   "metadata": {},
   "source": [
    "def sql_table(con):\n",
    "    cur=con.cursor()\n",
    "    cur.execute(\"create table employee(id int primary key,name txt,salary real,department text,post txt,doj date)\")\n",
    "    con.commit()"
   ]
  },
  {
   "cell_type": "raw",
   "id": "e3ab7d53",
   "metadata": {},
   "source": [
    "#calling the function\n",
    "\n",
    "sql_table(con)"
   ]
  },
  {
   "cell_type": "raw",
   "id": "1261a66f",
   "metadata": {},
   "source": [
    "cur=con.cursor()\n",
    "cur.execute(\"insert into employee value(1,'Avijit',5000,'IT','Director',2021-05-27)\")"
   ]
  },
  {
   "cell_type": "raw",
   "id": "5a752c75",
   "metadata": {},
   "source": [
    "con.commit()"
   ]
  },
  {
   "cell_type": "markdown",
   "id": "9164867d",
   "metadata": {},
   "source": [
    "We can also pass values/arguments to an insert statement in the execute() method. You can use the question mark(?) as a placeholder for each value. The syntax of the insert will be like the following:"
   ]
  },
  {
   "cell_type": "raw",
   "id": "c2f25a79",
   "metadata": {},
   "source": [
    "cur.execute('''insert into employee (id,name,salary,department,post,doj) value(?,?,?,?,?,?)''',entities)\n",
    "entities=(2,'Amita',5000,'Development','2022-08-16')"
   ]
  },
  {
   "cell_type": "raw",
   "id": "2037d5dc",
   "metadata": {},
   "source": [
    "def sql_insert(con,entities):\n",
    "    cur=con.cursor()\n",
    "    cur.execute('insert into employee (id,name,salary,department,post,doj) value(?,?,?,?,?,?)',entities)"
   ]
  },
  {
   "cell_type": "raw",
   "id": "dd387a86",
   "metadata": {},
   "source": [
    "entities=(3,'Amy',7000,'Development','2023-03-24')"
   ]
  },
  {
   "cell_type": "markdown",
   "id": "4e9bccfa",
   "metadata": {},
   "source": [
    "#calling sql insert to insert the data\n",
    "\n",
    "sql_insert(con,entities)"
   ]
  },
  {
   "cell_type": "raw",
   "id": "9ee6b791",
   "metadata": {},
   "source": [
    "def sql_update(con):\n",
    "    cur=con.cursor()\n",
    "    cur.execute('update employee set name =\"Martin\" where id=3')\n",
    "    con.commit()"
   ]
  },
  {
   "cell_type": "raw",
   "id": "9d1ce965",
   "metadata": {},
   "source": [
    "sql_update(con)"
   ]
  },
  {
   "cell_type": "markdown",
   "id": "48dc7f43",
   "metadata": {},
   "source": [
    "### disctint function"
   ]
  },
  {
   "cell_type": "raw",
   "id": "578e320e",
   "metadata": {},
   "source": [
    "result=cur.execute(\"select distinct(department) from employee\")\n",
    "result.fetchall()"
   ]
  },
  {
   "cell_type": "raw",
   "id": "81d4e1b0",
   "metadata": {},
   "source": [
    "result=cur.execute(\"select count(distinct(department)) from employee\")\n",
    "result.fetchall()"
   ]
  },
  {
   "cell_type": "markdown",
   "id": "17fb7f9b",
   "metadata": {},
   "source": [
    "### group by"
   ]
  },
  {
   "cell_type": "raw",
   "id": "f57fe7a7",
   "metadata": {},
   "source": [
    "result=cur.execute(\"select sum(salary),position from employee group by postion\")\n",
    "result.fetchall()"
   ]
  },
  {
   "cell_type": "raw",
   "id": "71cec33c",
   "metadata": {},
   "source": [
    "result=cur.execute(\"select sum(salary),position from employee group by department\")\n",
    "result.fetchall()"
   ]
  },
  {
   "cell_type": "raw",
   "id": "206689a3",
   "metadata": {},
   "source": [
    "def sql_query(sql):\n",
    "    cur=con.cursor()\n",
    "    results=cur.execute(sql)\n",
    "    return results"
   ]
  },
  {
   "cell_type": "raw",
   "id": "f49f6b85",
   "metadata": {},
   "source": [
    "#make query\n",
    "\n",
    "sql=\"select*from employee\"\n",
    "\n",
    "#pass query in function\n",
    "respond=sql_query(sql)\n",
    "respond.fetchall()"
   ]
  },
  {
   "cell_type": "raw",
   "id": "65840a8a",
   "metadata": {},
   "source": [
    "sql=\"select sum(salary),position from employee group by department\"\n",
    "\n",
    "#pass query in the function\n",
    "respond=sql_query(sql)\n",
    "respond.fetchall()"
   ]
  },
  {
   "cell_type": "markdown",
   "id": "9ee4c0d5",
   "metadata": {},
   "source": [
    "# SQLite3 Execute many(Bulk insert)"
   ]
  },
  {
   "cell_type": "markdown",
   "id": "19b8d2d5",
   "metadata": {},
   "source": [
    "we can use the excutemany statement to insert multiple rows at once."
   ]
  },
  {
   "cell_type": "raw",
   "id": "bb7d7b99",
   "metadata": {},
   "source": [
    "entities=[(4,'Avi',7000,'ABC','2022-08-16'),(2,'Amita',5000,'Development','2022-08-16'),(2,'Amita',5000,'Development','2022-08-16')]"
   ]
  },
  {
   "cell_type": "raw",
   "id": "44493dee",
   "metadata": {},
   "source": [
    "cur.executemany('insert into employee (id,name,salary,department,post,doj) value(?,?,?,?,?,?)',entities')"
   ]
  },
  {
   "cell_type": "raw",
   "id": "f569bb1b",
   "metadata": {},
   "source": [
    "result=cur.execute(\"select*from employee\")\n",
    "for row in result:\n",
    "    print(row)"
   ]
  },
  {
   "cell_type": "raw",
   "id": "c39651ce",
   "metadata": {},
   "source": [
    "con.close()"
   ]
  },
  {
   "cell_type": "markdown",
   "id": "4793318b",
   "metadata": {},
   "source": [
    "# 13th May `Live Class`"
   ]
  },
  {
   "cell_type": "markdown",
   "id": "0e592c7b",
   "metadata": {},
   "source": [
    "## Referential Integrity"
   ]
  },
  {
   "cell_type": "code",
   "execution_count": 1,
   "id": "7d38a804",
   "metadata": {},
   "outputs": [],
   "source": [
    "import sqlite3"
   ]
  },
  {
   "cell_type": "raw",
   "id": "6f6dad1d",
   "metadata": {},
   "source": [
    "db=sqlite3.connect(\"E:/Mysqlite_database/student_course_database.db\")"
   ]
  },
  {
   "cell_type": "raw",
   "id": "a1f04069",
   "metadata": {},
   "source": [
    "cur=db.cursor()"
   ]
  },
  {
   "cell_type": "raw",
   "id": "087e38f5",
   "metadata": {},
   "source": [
    "cur.execute(\"create table course(courseid int primary key,coursename text,duration int)\")"
   ]
  },
  {
   "cell_type": "raw",
   "id": "16c9d50b",
   "metadata": {},
   "source": [
    "cur.execute(\"create table student(Roll_no int primary key, student_name text,age int, courseid int foreign key(courseid) references course(courseid))\")"
   ]
  },
  {
   "cell_type": "raw",
   "id": "a0d17938",
   "metadata": {},
   "source": [
    "cur.execute(\"insert into course values(78, Data science,12),(66, Python,12),(23, Management,6) \")\n",
    "print(cur.rowcount,\"record(s) inserted\")\n",
    "db.commit()"
   ]
  },
  {
   "cell_type": "raw",
   "id": "c1165409",
   "metadata": {},
   "source": [
    "cur.execute(\"insert into student values(101,'Amita',36,78),(102,'Avijit',38,23),(103, 'amit',23,23) \")\n",
    "print(cur.rowcount,\"record(s) inserted\")\n",
    "db.commit()"
   ]
  },
  {
   "cell_type": "raw",
   "id": "5d0add7a",
   "metadata": {},
   "source": [
    "cur.execute(\"select*from course\")\n",
    "results.fetchall()"
   ]
  },
  {
   "cell_type": "raw",
   "id": "dde345ae",
   "metadata": {},
   "source": [
    "cur.execute(\"select*from student\")\n",
    "results.fetchall()"
   ]
  },
  {
   "cell_type": "markdown",
   "id": "8e38b0ab",
   "metadata": {},
   "source": [
    "# Subquery"
   ]
  },
  {
   "cell_type": "raw",
   "id": "31d9c35e",
   "metadata": {},
   "source": [
    "result=cur.execute('select*from student where courseid=(select courseid from course where coursename=\"Data science\")')\n",
    "results.fetchall()"
   ]
  },
  {
   "cell_type": "raw",
   "id": "d6b54dad",
   "metadata": {},
   "source": [
    "result=cur.execute('select*from student where courseid=(select courseid from course where coursename=\"Python\")')\n",
    "results.fetchall()"
   ]
  },
  {
   "cell_type": "markdown",
   "id": "24dfe5ee",
   "metadata": {},
   "source": [
    "## Join"
   ]
  },
  {
   "cell_type": "markdown",
   "id": "be3b23da",
   "metadata": {},
   "source": [
    "### Different Types Of SQL Joins"
   ]
  },
  {
   "cell_type": "markdown",
   "id": "e2d8f440",
   "metadata": {},
   "source": [
    "1. (Inner)Join: Return records that have matching values in both tables\n",
    "2. Left(Outer)Join: Return all records from the left tables and matched records to the right table\n",
    "3. Right(Outer)Join: Return all records from the right tables and matched records to the left table\n",
    "4. full(Outer)Join: Return all records when there is a match in either left or right table."
   ]
  },
  {
   "cell_type": "markdown",
   "id": "a729751e",
   "metadata": {},
   "source": [
    "## INNER Join"
   ]
  },
  {
   "cell_type": "raw",
   "id": "8de7faf8",
   "metadata": {},
   "source": [
    "sql=\"selct student.roll_no, student.studentname,course.courseid,course.coursename FROM student INNER join course on student.courseid = course.courseid\"\n",
    "\n",
    "results=cur.execute(sql)\n",
    "\n",
    "for row in results:\n",
    "    print(row)"
   ]
  },
  {
   "cell_type": "markdown",
   "id": "9002c702",
   "metadata": {},
   "source": [
    "## LEFT Join"
   ]
  },
  {
   "cell_type": "raw",
   "id": "0e19d4de",
   "metadata": {},
   "source": [
    "sql=\"selct student.roll_no, student.studentname,course.courseid,course.coursename FROM student left join course on student.courseid = course.courseid\"\n",
    "\n",
    "results=cur.execute(sql)\n",
    "\n",
    "for row in results:\n",
    "    print(row)"
   ]
  },
  {
   "cell_type": "raw",
   "id": "10c68edf",
   "metadata": {},
   "source": [
    "sql=\"selct student.roll_no, student.studentname,course.courseid,course.coursename FROM course LEFT join student on student.courseid = course.courseid\"\n",
    "\n",
    "results=cur.execute(sql)\n",
    "\n",
    "for row in results:\n",
    "    print(row)"
   ]
  },
  {
   "cell_type": "markdown",
   "id": "642555d1",
   "metadata": {},
   "source": [
    "## RIGHT Join"
   ]
  },
  {
   "cell_type": "raw",
   "id": "5c45dad6",
   "metadata": {},
   "source": []
  },
  {
   "cell_type": "code",
   "execution_count": null,
   "id": "62baa7ac",
   "metadata": {},
   "outputs": [],
   "source": []
  },
  {
   "cell_type": "code",
   "execution_count": null,
   "id": "548e8cec",
   "metadata": {},
   "outputs": [],
   "source": []
  },
  {
   "cell_type": "markdown",
   "id": "35f349c1",
   "metadata": {},
   "source": [
    "# Numpy -Numerical Python"
   ]
  },
  {
   "cell_type": "markdown",
   "id": "f81721c2",
   "metadata": {},
   "source": [
    "#### Numpy is based on Multi dimensional Arrays"
   ]
  },
  {
   "cell_type": "code",
   "execution_count": 1,
   "id": "89dbd29a",
   "metadata": {},
   "outputs": [],
   "source": [
    "import numpy as np"
   ]
  },
  {
   "cell_type": "code",
   "execution_count": 3,
   "id": "6f6cc958",
   "metadata": {},
   "outputs": [
    {
     "data": {
      "text/plain": [
       "array([1, 2, 3, 4, 5])"
      ]
     },
     "execution_count": 3,
     "metadata": {},
     "output_type": "execute_result"
    }
   ],
   "source": [
    "np.array([1,2,3,4,5])"
   ]
  },
  {
   "cell_type": "code",
   "execution_count": 4,
   "id": "5473d709",
   "metadata": {},
   "outputs": [
    {
     "data": {
      "text/plain": [
       "array([22, 44, 55, 66, 77, 88])"
      ]
     },
     "execution_count": 4,
     "metadata": {},
     "output_type": "execute_result"
    }
   ],
   "source": [
    "np.array([22,44,55,66,77,88])"
   ]
  },
  {
   "cell_type": "code",
   "execution_count": 6,
   "id": "f106a4dc",
   "metadata": {},
   "outputs": [
    {
     "data": {
      "text/plain": [
       "array([45.2, 90.3, 12.3, 67.8])"
      ]
     },
     "execution_count": 6,
     "metadata": {},
     "output_type": "execute_result"
    }
   ],
   "source": [
    "np.array([45.2,90.3,12.3,67.8])"
   ]
  },
  {
   "cell_type": "code",
   "execution_count": 7,
   "id": "097fd707",
   "metadata": {},
   "outputs": [],
   "source": [
    "a=np.array([11,111,1111,11111,])"
   ]
  },
  {
   "cell_type": "code",
   "execution_count": 8,
   "id": "fd76632c",
   "metadata": {},
   "outputs": [
    {
     "data": {
      "text/plain": [
       "array([   11,   111,  1111, 11111])"
      ]
     },
     "execution_count": 8,
     "metadata": {},
     "output_type": "execute_result"
    }
   ],
   "source": [
    "a"
   ]
  },
  {
   "cell_type": "code",
   "execution_count": 9,
   "id": "229a6817",
   "metadata": {},
   "outputs": [],
   "source": [
    "b=np.array([22,66,55,44,88])"
   ]
  },
  {
   "cell_type": "code",
   "execution_count": 10,
   "id": "99f71821",
   "metadata": {},
   "outputs": [
    {
     "data": {
      "text/plain": [
       "array([22, 66, 55, 44, 88])"
      ]
     },
     "execution_count": 10,
     "metadata": {},
     "output_type": "execute_result"
    }
   ],
   "source": [
    "b"
   ]
  },
  {
   "cell_type": "code",
   "execution_count": 11,
   "id": "a611fce9",
   "metadata": {},
   "outputs": [],
   "source": [
    "c=np.array([88,56,99,101])"
   ]
  },
  {
   "cell_type": "code",
   "execution_count": 12,
   "id": "14d40a8e",
   "metadata": {},
   "outputs": [
    {
     "data": {
      "text/plain": [
       "array([ 88,  56,  99, 101])"
      ]
     },
     "execution_count": 12,
     "metadata": {},
     "output_type": "execute_result"
    }
   ],
   "source": [
    "c"
   ]
  },
  {
   "cell_type": "markdown",
   "id": "cd3e4526",
   "metadata": {},
   "source": [
    "#### See Indexing in array"
   ]
  },
  {
   "cell_type": "code",
   "execution_count": 13,
   "id": "e0230855",
   "metadata": {},
   "outputs": [
    {
     "data": {
      "text/plain": [
       "11"
      ]
     },
     "execution_count": 13,
     "metadata": {},
     "output_type": "execute_result"
    }
   ],
   "source": [
    "a[0]"
   ]
  },
  {
   "cell_type": "code",
   "execution_count": 15,
   "id": "c82f4c22",
   "metadata": {},
   "outputs": [
    {
     "data": {
      "text/plain": [
       "101"
      ]
     },
     "execution_count": 15,
     "metadata": {},
     "output_type": "execute_result"
    }
   ],
   "source": [
    "c[3]"
   ]
  },
  {
   "cell_type": "code",
   "execution_count": 16,
   "id": "c2792d34",
   "metadata": {},
   "outputs": [
    {
     "data": {
      "text/plain": [
       "4"
      ]
     },
     "execution_count": 16,
     "metadata": {},
     "output_type": "execute_result"
    }
   ],
   "source": [
    "#total number of elements\n",
    "\n",
    "a.size"
   ]
  },
  {
   "cell_type": "code",
   "execution_count": 18,
   "id": "9e23416d",
   "metadata": {},
   "outputs": [
    {
     "data": {
      "text/plain": [
       "dtype('int32')"
      ]
     },
     "execution_count": 18,
     "metadata": {},
     "output_type": "execute_result"
    }
   ],
   "source": [
    "c.dtype"
   ]
  },
  {
   "cell_type": "code",
   "execution_count": 19,
   "id": "194123fe",
   "metadata": {},
   "outputs": [],
   "source": [
    "d=np.array([10,20,30,40,50,60,70,80])"
   ]
  },
  {
   "cell_type": "code",
   "execution_count": 20,
   "id": "af139819",
   "metadata": {},
   "outputs": [
    {
     "data": {
      "text/plain": [
       "array([10, 20, 30, 40, 50, 60, 70, 80])"
      ]
     },
     "execution_count": 20,
     "metadata": {},
     "output_type": "execute_result"
    }
   ],
   "source": [
    "d"
   ]
  },
  {
   "cell_type": "code",
   "execution_count": 21,
   "id": "4ac25957",
   "metadata": {},
   "outputs": [
    {
     "data": {
      "text/plain": [
       "8"
      ]
     },
     "execution_count": 21,
     "metadata": {},
     "output_type": "execute_result"
    }
   ],
   "source": [
    "d.size"
   ]
  },
  {
   "cell_type": "code",
   "execution_count": 22,
   "id": "7bfe058e",
   "metadata": {},
   "outputs": [
    {
     "data": {
      "text/plain": [
       "dtype('int32')"
      ]
     },
     "execution_count": 22,
     "metadata": {},
     "output_type": "execute_result"
    }
   ],
   "source": [
    "#dtype means data type\n",
    "\n",
    "d.dtype"
   ]
  },
  {
   "cell_type": "markdown",
   "id": "7ca0379a",
   "metadata": {},
   "source": [
    "# 14 may `Live Class`"
   ]
  },
  {
   "cell_type": "markdown",
   "id": "773ac4a1",
   "metadata": {},
   "source": [
    "#### 2D Dimentional"
   ]
  },
  {
   "cell_type": "code",
   "execution_count": 24,
   "id": "55fd7faa",
   "metadata": {},
   "outputs": [],
   "source": [
    "import numpy as np"
   ]
  },
  {
   "cell_type": "code",
   "execution_count": 29,
   "id": "1e0384ed",
   "metadata": {},
   "outputs": [],
   "source": [
    "e=np.array([[1,2],[3,4]])"
   ]
  },
  {
   "cell_type": "code",
   "execution_count": 30,
   "id": "a4fe3e8e",
   "metadata": {},
   "outputs": [
    {
     "data": {
      "text/plain": [
       "array([[1, 2],\n",
       "       [3, 4]])"
      ]
     },
     "execution_count": 30,
     "metadata": {},
     "output_type": "execute_result"
    }
   ],
   "source": [
    "e"
   ]
  },
  {
   "cell_type": "code",
   "execution_count": 31,
   "id": "88a58d5a",
   "metadata": {},
   "outputs": [
    {
     "data": {
      "text/plain": [
       "(2, 2)"
      ]
     },
     "execution_count": 31,
     "metadata": {},
     "output_type": "execute_result"
    }
   ],
   "source": [
    "#shape gives no of rows & columns\n",
    "\n",
    "e.shape"
   ]
  },
  {
   "cell_type": "code",
   "execution_count": 32,
   "id": "896ac8f6",
   "metadata": {},
   "outputs": [
    {
     "data": {
      "text/plain": [
       "4"
      ]
     },
     "execution_count": 32,
     "metadata": {},
     "output_type": "execute_result"
    }
   ],
   "source": [
    "#numbers of elements\n",
    "\n",
    "e.size"
   ]
  },
  {
   "cell_type": "code",
   "execution_count": 33,
   "id": "d2ce02c5",
   "metadata": {},
   "outputs": [
    {
     "data": {
      "text/plain": [
       "2"
      ]
     },
     "execution_count": 33,
     "metadata": {},
     "output_type": "execute_result"
    }
   ],
   "source": [
    "#number of dimensions\n",
    "\n",
    "e.ndim"
   ]
  },
  {
   "cell_type": "markdown",
   "id": "c00540cf",
   "metadata": {},
   "source": [
    "#### 3 rows 2 column structure"
   ]
  },
  {
   "cell_type": "code",
   "execution_count": 40,
   "id": "4f37f69f",
   "metadata": {},
   "outputs": [],
   "source": [
    "a=np.array([[10,20],[40,60],[55,20]])"
   ]
  },
  {
   "cell_type": "code",
   "execution_count": 41,
   "id": "a90e78dc",
   "metadata": {},
   "outputs": [
    {
     "data": {
      "text/plain": [
       "array([[10, 20],\n",
       "       [40, 60],\n",
       "       [55, 20]])"
      ]
     },
     "execution_count": 41,
     "metadata": {},
     "output_type": "execute_result"
    }
   ],
   "source": [
    "a"
   ]
  },
  {
   "cell_type": "code",
   "execution_count": 42,
   "id": "8c465288",
   "metadata": {},
   "outputs": [
    {
     "data": {
      "text/plain": [
       "(3, 2)"
      ]
     },
     "execution_count": 42,
     "metadata": {},
     "output_type": "execute_result"
    }
   ],
   "source": [
    "a.shape"
   ]
  },
  {
   "cell_type": "code",
   "execution_count": 44,
   "id": "b67bc527",
   "metadata": {},
   "outputs": [
    {
     "data": {
      "text/plain": [
       "2"
      ]
     },
     "execution_count": 44,
     "metadata": {},
     "output_type": "execute_result"
    }
   ],
   "source": [
    "a.ndim"
   ]
  },
  {
   "cell_type": "code",
   "execution_count": 46,
   "id": "1e4fe809",
   "metadata": {},
   "outputs": [
    {
     "data": {
      "text/plain": [
       "6"
      ]
     },
     "execution_count": 46,
     "metadata": {},
     "output_type": "execute_result"
    }
   ],
   "source": [
    "a.size"
   ]
  },
  {
   "cell_type": "code",
   "execution_count": 54,
   "id": "aed276f0",
   "metadata": {},
   "outputs": [
    {
     "data": {
      "text/plain": [
       "4"
      ]
     },
     "execution_count": 54,
     "metadata": {},
     "output_type": "execute_result"
    }
   ],
   "source": [
    "# showing the bits\n",
    "\n",
    "a.itemsize"
   ]
  },
  {
   "cell_type": "code",
   "execution_count": 55,
   "id": "7c0ef866",
   "metadata": {},
   "outputs": [
    {
     "data": {
      "text/plain": [
       "dtype('int32')"
      ]
     },
     "execution_count": 55,
     "metadata": {},
     "output_type": "execute_result"
    }
   ],
   "source": [
    "a.dtype"
   ]
  },
  {
   "cell_type": "code",
   "execution_count": null,
   "id": "876e4b04",
   "metadata": {},
   "outputs": [],
   "source": []
  },
  {
   "cell_type": "markdown",
   "id": "cc3f9b6a",
   "metadata": {},
   "source": [
    "#### 2 Rows 3 column structure"
   ]
  },
  {
   "cell_type": "code",
   "execution_count": 47,
   "id": "54d560c0",
   "metadata": {},
   "outputs": [],
   "source": [
    "d=np.array([[11,44,33],[55,80,20]])"
   ]
  },
  {
   "cell_type": "code",
   "execution_count": 48,
   "id": "6a15a13c",
   "metadata": {},
   "outputs": [
    {
     "data": {
      "text/plain": [
       "array([[11, 44, 33],\n",
       "       [55, 80, 20]])"
      ]
     },
     "execution_count": 48,
     "metadata": {},
     "output_type": "execute_result"
    }
   ],
   "source": [
    "d"
   ]
  },
  {
   "cell_type": "code",
   "execution_count": 49,
   "id": "fc4cf0d8",
   "metadata": {},
   "outputs": [
    {
     "data": {
      "text/plain": [
       "2"
      ]
     },
     "execution_count": 49,
     "metadata": {},
     "output_type": "execute_result"
    }
   ],
   "source": [
    "d.ndim"
   ]
  },
  {
   "cell_type": "code",
   "execution_count": 50,
   "id": "2df79b7e",
   "metadata": {},
   "outputs": [
    {
     "data": {
      "text/plain": [
       "(2, 3)"
      ]
     },
     "execution_count": 50,
     "metadata": {},
     "output_type": "execute_result"
    }
   ],
   "source": [
    "d.shape"
   ]
  },
  {
   "cell_type": "code",
   "execution_count": 51,
   "id": "93f2cba3",
   "metadata": {},
   "outputs": [
    {
     "data": {
      "text/plain": [
       "6"
      ]
     },
     "execution_count": 51,
     "metadata": {},
     "output_type": "execute_result"
    }
   ],
   "source": [
    "d.size"
   ]
  },
  {
   "cell_type": "markdown",
   "id": "d4069c2b",
   "metadata": {},
   "source": [
    "#### 3Rows & 3 column Structure"
   ]
  },
  {
   "cell_type": "code",
   "execution_count": 34,
   "id": "d9f96ae8",
   "metadata": {},
   "outputs": [],
   "source": [
    "b=np.array([[10,20,60],[40,60,50],[55,20,90]])"
   ]
  },
  {
   "cell_type": "code",
   "execution_count": 35,
   "id": "469f1232",
   "metadata": {},
   "outputs": [
    {
     "data": {
      "text/plain": [
       "array([[10, 20, 60],\n",
       "       [40, 60, 50],\n",
       "       [55, 20, 90]])"
      ]
     },
     "execution_count": 35,
     "metadata": {},
     "output_type": "execute_result"
    }
   ],
   "source": [
    "b"
   ]
  },
  {
   "cell_type": "code",
   "execution_count": 38,
   "id": "4c0b2815",
   "metadata": {},
   "outputs": [
    {
     "data": {
      "text/plain": [
       "(3, 3)"
      ]
     },
     "execution_count": 38,
     "metadata": {},
     "output_type": "execute_result"
    }
   ],
   "source": [
    "b.shape"
   ]
  },
  {
   "cell_type": "code",
   "execution_count": 39,
   "id": "9840da15",
   "metadata": {},
   "outputs": [
    {
     "data": {
      "text/plain": [
       "2"
      ]
     },
     "execution_count": 39,
     "metadata": {},
     "output_type": "execute_result"
    }
   ],
   "source": [
    "b.ndim"
   ]
  },
  {
   "cell_type": "code",
   "execution_count": 52,
   "id": "c3968e62",
   "metadata": {},
   "outputs": [
    {
     "data": {
      "text/plain": [
       "9"
      ]
     },
     "execution_count": 52,
     "metadata": {},
     "output_type": "execute_result"
    }
   ],
   "source": [
    "b.size"
   ]
  },
  {
   "cell_type": "code",
   "execution_count": 53,
   "id": "93883fb9",
   "metadata": {},
   "outputs": [
    {
     "data": {
      "text/plain": [
       "dtype('int32')"
      ]
     },
     "execution_count": 53,
     "metadata": {},
     "output_type": "execute_result"
    }
   ],
   "source": [
    "b.dtype"
   ]
  },
  {
   "cell_type": "raw",
   "id": "94bbf5ed",
   "metadata": {},
   "source": [
    "# Min and max function\n",
    "\n",
    "b.max()"
   ]
  },
  {
   "cell_type": "code",
   "execution_count": null,
   "id": "0be62bdb",
   "metadata": {},
   "outputs": [],
   "source": [
    "#to change the dimention\n",
    "b.reshape(2,3)"
   ]
  },
  {
   "cell_type": "code",
   "execution_count": 2,
   "id": "d0a4c809",
   "metadata": {},
   "outputs": [],
   "source": [
    "import numpy as np"
   ]
  },
  {
   "cell_type": "code",
   "execution_count": 3,
   "id": "2d8a5b1e",
   "metadata": {},
   "outputs": [],
   "source": [
    "f=np.array([[10,20,60],[40,60,50],[55,20,90]],dtype='float64')"
   ]
  },
  {
   "cell_type": "code",
   "execution_count": 4,
   "id": "5f5142eb",
   "metadata": {},
   "outputs": [
    {
     "data": {
      "text/plain": [
       "array([[10., 20., 60.],\n",
       "       [40., 60., 50.],\n",
       "       [55., 20., 90.]])"
      ]
     },
     "execution_count": 4,
     "metadata": {},
     "output_type": "execute_result"
    }
   ],
   "source": [
    "f"
   ]
  },
  {
   "cell_type": "code",
   "execution_count": 5,
   "id": "d990a2dd",
   "metadata": {},
   "outputs": [
    {
     "data": {
      "text/plain": [
       "dtype('float64')"
      ]
     },
     "execution_count": 5,
     "metadata": {},
     "output_type": "execute_result"
    }
   ],
   "source": [
    "f.dtype"
   ]
  },
  {
   "cell_type": "code",
   "execution_count": 6,
   "id": "c6e7d174",
   "metadata": {},
   "outputs": [
    {
     "data": {
      "text/plain": [
       "9"
      ]
     },
     "execution_count": 6,
     "metadata": {},
     "output_type": "execute_result"
    }
   ],
   "source": [
    "f.size"
   ]
  },
  {
   "cell_type": "code",
   "execution_count": 7,
   "id": "cf4a0df4",
   "metadata": {},
   "outputs": [
    {
     "data": {
      "text/plain": [
       "8"
      ]
     },
     "execution_count": 7,
     "metadata": {},
     "output_type": "execute_result"
    }
   ],
   "source": [
    "f.itemsize"
   ]
  },
  {
   "cell_type": "markdown",
   "id": "ee8f7dec",
   "metadata": {},
   "source": [
    "#### Range function is considered as arrange in numpy"
   ]
  },
  {
   "cell_type": "code",
   "execution_count": 10,
   "id": "3dd155eb",
   "metadata": {},
   "outputs": [
    {
     "data": {
      "text/plain": [
       "array([0, 1, 2, 3, 4])"
      ]
     },
     "execution_count": 10,
     "metadata": {},
     "output_type": "execute_result"
    }
   ],
   "source": [
    "np.arange(5)"
   ]
  },
  {
   "cell_type": "code",
   "execution_count": 3,
   "id": "d918e369",
   "metadata": {},
   "outputs": [
    {
     "data": {
      "text/plain": [
       "array([0, 1, 2, 3, 4])"
      ]
     },
     "execution_count": 3,
     "metadata": {},
     "output_type": "execute_result"
    }
   ],
   "source": [
    "np.arange(5)"
   ]
  },
  {
   "cell_type": "code",
   "execution_count": 4,
   "id": "cf7779af",
   "metadata": {},
   "outputs": [
    {
     "data": {
      "text/plain": [
       "array([ 0,  1,  2,  3,  4,  5,  6,  7,  8,  9, 10, 11, 12, 13, 14, 15, 16,\n",
       "       17, 18, 19])"
      ]
     },
     "execution_count": 4,
     "metadata": {},
     "output_type": "execute_result"
    }
   ],
   "source": [
    "np.arange(0,20)"
   ]
  },
  {
   "cell_type": "code",
   "execution_count": 5,
   "id": "32344021",
   "metadata": {},
   "outputs": [
    {
     "data": {
      "text/plain": [
       "array([10, 15, 20, 25, 30, 35, 40, 45])"
      ]
     },
     "execution_count": 5,
     "metadata": {},
     "output_type": "execute_result"
    }
   ],
   "source": [
    "#start, end, skip or Jump\n",
    "\n",
    "np.arange(10,50,5)"
   ]
  },
  {
   "cell_type": "code",
   "execution_count": 11,
   "id": "1e65baed",
   "metadata": {},
   "outputs": [
    {
     "data": {
      "text/plain": [
       "array([ 0,  1,  2,  3,  4,  5,  6,  7,  8,  9, 10, 11, 12, 13, 14])"
      ]
     },
     "execution_count": 11,
     "metadata": {},
     "output_type": "execute_result"
    }
   ],
   "source": [
    "np.arange(15).reshape(5,3)"
   ]
  },
  {
   "cell_type": "code",
   "execution_count": 12,
   "id": "9f8b9530",
   "metadata": {},
   "outputs": [
    {
     "data": {
      "text/plain": [
       "array([[ 0,  1,  2],\n",
       "       [ 3,  4,  5],\n",
       "       [ 6,  7,  8],\n",
       "       [ 9, 10, 11],\n",
       "       [12, 13, 14]])"
      ]
     },
     "execution_count": 12,
     "metadata": {},
     "output_type": "execute_result"
    }
   ],
   "source": [
    "np.arange(15).reshape(5,3)"
   ]
  },
  {
   "cell_type": "code",
   "execution_count": 13,
   "id": "e1701e57",
   "metadata": {},
   "outputs": [
    {
     "data": {
      "text/plain": [
       "array([[ 0,  1,  2,  3,  4],\n",
       "       [ 5,  6,  7,  8,  9],\n",
       "       [10, 11, 12, 13, 14]])"
      ]
     },
     "execution_count": 13,
     "metadata": {},
     "output_type": "execute_result"
    }
   ],
   "source": [
    "np.arange(15).reshape(3,5)"
   ]
  },
  {
   "cell_type": "code",
   "execution_count": 14,
   "id": "62d90e65",
   "metadata": {},
   "outputs": [
    {
     "name": "stdout",
     "output_type": "stream",
     "text": [
      "[ 0  1  2  3  4  5  6  7  8  9 10 11 12 13 14 15 16 17 18 19 20 21 22 23\n",
      " 24]\n"
     ]
    }
   ],
   "source": [
    "x=np.arange(25)\n",
    "print(x)"
   ]
  },
  {
   "cell_type": "code",
   "execution_count": 15,
   "id": "5519ed7e",
   "metadata": {},
   "outputs": [
    {
     "data": {
      "text/plain": [
       "array([[ 0,  1,  2,  3,  4],\n",
       "       [ 5,  6,  7,  8,  9],\n",
       "       [10, 11, 12, 13, 14],\n",
       "       [15, 16, 17, 18, 19],\n",
       "       [20, 21, 22, 23, 24]])"
      ]
     },
     "execution_count": 15,
     "metadata": {},
     "output_type": "execute_result"
    }
   ],
   "source": [
    "a=x.reshape(5,5)\n",
    "a"
   ]
  },
  {
   "cell_type": "code",
   "execution_count": 18,
   "id": "089f3721",
   "metadata": {},
   "outputs": [
    {
     "data": {
      "text/plain": [
       "array([[ 0,  1,  2,  3,  4,  5,  6],\n",
       "       [ 7,  8,  9, 10, 11, 12, 13],\n",
       "       [14, 15, 16, 17, 18, 19, 20],\n",
       "       [21, 22, 23, 24, 25, 26, 27],\n",
       "       [28, 29, 30, 31, 32, 33, 34]])"
      ]
     },
     "execution_count": 18,
     "metadata": {},
     "output_type": "execute_result"
    }
   ],
   "source": [
    "b=np.arange(35).reshape(5,7)\n",
    "b"
   ]
  },
  {
   "cell_type": "code",
   "execution_count": 19,
   "id": "169adf4c",
   "metadata": {},
   "outputs": [
    {
     "data": {
      "text/plain": [
       "(5, 7)"
      ]
     },
     "execution_count": 19,
     "metadata": {},
     "output_type": "execute_result"
    }
   ],
   "source": [
    "b.shape"
   ]
  },
  {
   "cell_type": "code",
   "execution_count": 20,
   "id": "5a33a3d1",
   "metadata": {},
   "outputs": [
    {
     "data": {
      "text/plain": [
       "2"
      ]
     },
     "execution_count": 20,
     "metadata": {},
     "output_type": "execute_result"
    }
   ],
   "source": [
    "b.ndim"
   ]
  },
  {
   "cell_type": "code",
   "execution_count": 21,
   "id": "a519ceab",
   "metadata": {},
   "outputs": [
    {
     "data": {
      "text/plain": [
       "array([ 0,  1,  2,  3,  4,  5,  6,  7,  8,  9, 10, 11, 12, 13, 14, 15, 16,\n",
       "       17, 18, 19, 20, 21, 22, 23, 24, 25, 26, 27, 28, 29, 30, 31, 32, 33,\n",
       "       34])"
      ]
     },
     "execution_count": 21,
     "metadata": {},
     "output_type": "execute_result"
    }
   ],
   "source": [
    "#ravel( it going to show u one vector)\n",
    "\n",
    "b.ravel()"
   ]
  },
  {
   "cell_type": "code",
   "execution_count": 22,
   "id": "a07b8c93",
   "metadata": {},
   "outputs": [
    {
     "data": {
      "text/plain": [
       "array([[0., 0., 0., 0.],\n",
       "       [0., 0., 0., 0.],\n",
       "       [0., 0., 0., 0.]])"
      ]
     },
     "execution_count": 22,
     "metadata": {},
     "output_type": "execute_result"
    }
   ],
   "source": [
    "#zero function will give only zeros\n",
    "\n",
    "np.zeros([3,4])"
   ]
  },
  {
   "cell_type": "code",
   "execution_count": 23,
   "id": "7296a63e",
   "metadata": {},
   "outputs": [
    {
     "data": {
      "text/plain": [
       "array([[1., 1., 1., 1.],\n",
       "       [1., 1., 1., 1.],\n",
       "       [1., 1., 1., 1.]])"
      ]
     },
     "execution_count": 23,
     "metadata": {},
     "output_type": "execute_result"
    }
   ],
   "source": [
    "#one function will give only one\n",
    "\n",
    "np.ones([3,4])"
   ]
  },
  {
   "cell_type": "markdown",
   "id": "50934e26",
   "metadata": {},
   "source": [
    "### Broadcating in NUmpy"
   ]
  },
  {
   "cell_type": "code",
   "execution_count": 2,
   "id": "3e2b8e8d",
   "metadata": {},
   "outputs": [],
   "source": [
    "import numpy as np"
   ]
  },
  {
   "cell_type": "code",
   "execution_count": 7,
   "id": "14e2437f",
   "metadata": {},
   "outputs": [
    {
     "data": {
      "text/plain": [
       "array([ 8, 60, 64])"
      ]
     },
     "execution_count": 7,
     "metadata": {},
     "output_type": "execute_result"
    }
   ],
   "source": [
    "a=np.array([2,4,8])\n",
    "b=np.array([4,15,8])\n",
    "\n",
    "a*b"
   ]
  },
  {
   "cell_type": "code",
   "execution_count": 8,
   "id": "ccfa6be1",
   "metadata": {},
   "outputs": [
    {
     "data": {
      "text/plain": [
       "array([ -2, -11,   0])"
      ]
     },
     "execution_count": 8,
     "metadata": {},
     "output_type": "execute_result"
    }
   ],
   "source": [
    "a-b"
   ]
  },
  {
   "cell_type": "code",
   "execution_count": 9,
   "id": "9e72a597",
   "metadata": {},
   "outputs": [
    {
     "data": {
      "text/plain": [
       "array([648, 528, 276])"
      ]
     },
     "execution_count": 9,
     "metadata": {},
     "output_type": "execute_result"
    }
   ],
   "source": [
    "#another example\n",
    "\n",
    "a=np.array([54,44,23])\n",
    "b=12\n",
    "\n",
    "a*b"
   ]
  },
  {
   "cell_type": "code",
   "execution_count": 10,
   "id": "e6e38672",
   "metadata": {},
   "outputs": [
    {
     "data": {
      "text/plain": [
       "array([64, 25, 36], dtype=int32)"
      ]
     },
     "execution_count": 10,
     "metadata": {},
     "output_type": "execute_result"
    }
   ],
   "source": [
    "#square of b\n",
    "\n",
    "b=np.array([8,5,6])\n",
    "\n",
    "b**2"
   ]
  },
  {
   "cell_type": "code",
   "execution_count": 11,
   "id": "4084a2fc",
   "metadata": {},
   "outputs": [],
   "source": [
    "#to generate random data\n",
    "\n",
    "c=np.random.random([2,3])"
   ]
  },
  {
   "cell_type": "code",
   "execution_count": 12,
   "id": "655b7b79",
   "metadata": {},
   "outputs": [
    {
     "data": {
      "text/plain": [
       "array([[0.43500283, 0.50475021, 0.43340913],\n",
       "       [0.80558919, 0.61550152, 0.76768319]])"
      ]
     },
     "execution_count": 12,
     "metadata": {},
     "output_type": "execute_result"
    }
   ],
   "source": [
    "c"
   ]
  },
  {
   "cell_type": "code",
   "execution_count": 35,
   "id": "a2d9071b",
   "metadata": {},
   "outputs": [
    {
     "data": {
      "text/plain": [
       "array([[0.76811007, 0.94174705],\n",
       "       [0.47940684, 0.3119209 ]])"
      ]
     },
     "execution_count": 35,
     "metadata": {},
     "output_type": "execute_result"
    }
   ],
   "source": [
    "#uniform distribution _simiar like random\n",
    "\n",
    "np.random.rand(2,2)"
   ]
  },
  {
   "cell_type": "code",
   "execution_count": 36,
   "id": "9081ab37",
   "metadata": {},
   "outputs": [
    {
     "data": {
      "text/plain": [
       "array([[-0.4752976 , -0.57547663,  1.12628764],\n",
       "       [-0.59005372,  0.53899948,  1.0731695 ]])"
      ]
     },
     "execution_count": 36,
     "metadata": {},
     "output_type": "execute_result"
    }
   ],
   "source": [
    "#randn will give u random positive and negative data\n",
    "\n",
    "np.random.randn(2,3)"
   ]
  },
  {
   "cell_type": "code",
   "execution_count": 13,
   "id": "a7218333",
   "metadata": {},
   "outputs": [
    {
     "data": {
      "text/plain": [
       "array([[1., 1., 1.],\n",
       "       [1., 1., 1.]])"
      ]
     },
     "execution_count": 13,
     "metadata": {},
     "output_type": "execute_result"
    }
   ],
   "source": [
    "d=np.ones([2,3])\n",
    "d"
   ]
  },
  {
   "cell_type": "code",
   "execution_count": 14,
   "id": "ecc6714e",
   "metadata": {},
   "outputs": [
    {
     "data": {
      "text/plain": [
       "array([[1.43500283, 1.50475021, 1.43340913],\n",
       "       [1.80558919, 1.61550152, 1.76768319]])"
      ]
     },
     "execution_count": 14,
     "metadata": {},
     "output_type": "execute_result"
    }
   ],
   "source": [
    "c+d"
   ]
  },
  {
   "cell_type": "markdown",
   "id": "57d2e999",
   "metadata": {},
   "source": [
    "#### Universal Function"
   ]
  },
  {
   "cell_type": "code",
   "execution_count": 15,
   "id": "24beb122",
   "metadata": {},
   "outputs": [
    {
     "data": {
      "text/plain": [
       "array([0, 1, 2])"
      ]
     },
     "execution_count": 15,
     "metadata": {},
     "output_type": "execute_result"
    }
   ],
   "source": [
    "F=np.arange(3)\n",
    "F"
   ]
  },
  {
   "cell_type": "code",
   "execution_count": 16,
   "id": "fb89e29d",
   "metadata": {},
   "outputs": [
    {
     "data": {
      "text/plain": [
       "array([1.        , 2.71828183, 7.3890561 ])"
      ]
     },
     "execution_count": 16,
     "metadata": {},
     "output_type": "execute_result"
    }
   ],
   "source": [
    "np.exp(F)"
   ]
  },
  {
   "cell_type": "code",
   "execution_count": 17,
   "id": "2fb47330",
   "metadata": {},
   "outputs": [
    {
     "data": {
      "text/plain": [
       "array([0.        , 1.        , 1.41421356])"
      ]
     },
     "execution_count": 17,
     "metadata": {},
     "output_type": "execute_result"
    }
   ],
   "source": [
    "np.sqrt(F)"
   ]
  },
  {
   "cell_type": "code",
   "execution_count": 18,
   "id": "ba555a7f",
   "metadata": {},
   "outputs": [
    {
     "data": {
      "text/plain": [
       "array([[8.43500283, 5.50475021, 6.43340913],\n",
       "       [8.80558919, 5.61550152, 6.76768319]])"
      ]
     },
     "execution_count": 18,
     "metadata": {},
     "output_type": "execute_result"
    }
   ],
   "source": [
    "G=np.array([2,3,4])\n",
    "np.add(b,c)"
   ]
  },
  {
   "cell_type": "markdown",
   "id": "e24d0b69",
   "metadata": {},
   "source": [
    "#### Indexing, SLicing and iterating"
   ]
  },
  {
   "cell_type": "code",
   "execution_count": 24,
   "id": "12fa9f11",
   "metadata": {},
   "outputs": [],
   "source": [
    "h=np.arange(10)"
   ]
  },
  {
   "cell_type": "code",
   "execution_count": 25,
   "id": "be1b47b2",
   "metadata": {},
   "outputs": [
    {
     "data": {
      "text/plain": [
       "array([0, 1, 2, 3, 4, 5, 6, 7, 8, 9])"
      ]
     },
     "execution_count": 25,
     "metadata": {},
     "output_type": "execute_result"
    }
   ],
   "source": [
    "h"
   ]
  },
  {
   "cell_type": "code",
   "execution_count": 26,
   "id": "8f9f94ae",
   "metadata": {},
   "outputs": [
    {
     "data": {
      "text/plain": [
       "2"
      ]
     },
     "execution_count": 26,
     "metadata": {},
     "output_type": "execute_result"
    }
   ],
   "source": [
    "h[2]"
   ]
  },
  {
   "cell_type": "code",
   "execution_count": 28,
   "id": "a2c2f6ff",
   "metadata": {},
   "outputs": [
    {
     "data": {
      "text/plain": [
       "array([2, 3, 4, 5])"
      ]
     },
     "execution_count": 28,
     "metadata": {},
     "output_type": "execute_result"
    }
   ],
   "source": [
    "h[2:6]"
   ]
  },
  {
   "cell_type": "code",
   "execution_count": 30,
   "id": "738fc4e5",
   "metadata": {},
   "outputs": [
    {
     "data": {
      "text/plain": [
       "9"
      ]
     },
     "execution_count": 30,
     "metadata": {},
     "output_type": "execute_result"
    }
   ],
   "source": [
    "h[-1]"
   ]
  },
  {
   "cell_type": "code",
   "execution_count": 31,
   "id": "112f82e7",
   "metadata": {},
   "outputs": [
    {
     "data": {
      "text/plain": [
       "array([6, 7, 8, 9])"
      ]
     },
     "execution_count": 31,
     "metadata": {},
     "output_type": "execute_result"
    }
   ],
   "source": [
    "h[-4:]"
   ]
  },
  {
   "cell_type": "code",
   "execution_count": 32,
   "id": "c2d39b97",
   "metadata": {},
   "outputs": [
    {
     "data": {
      "text/plain": [
       "array([6, 7])"
      ]
     },
     "execution_count": 32,
     "metadata": {},
     "output_type": "execute_result"
    }
   ],
   "source": [
    "h[-4:-2]"
   ]
  },
  {
   "cell_type": "code",
   "execution_count": 34,
   "id": "4f6b8e93",
   "metadata": {},
   "outputs": [
    {
     "data": {
      "text/plain": [
       "array([nan,  4.,  8.,  2., nan,  5.,  9., 10.])"
      ]
     },
     "execution_count": 34,
     "metadata": {},
     "output_type": "execute_result"
    }
   ],
   "source": [
    "#for missing data you need to write np.nan\n",
    "\n",
    "d3=np.array([np.nan,4,8,2,np.nan,5,9,10])\n",
    "d3"
   ]
  },
  {
   "cell_type": "markdown",
   "id": "db52259a",
   "metadata": {},
   "source": [
    "# Pandas in Python"
   ]
  },
  {
   "cell_type": "markdown",
   "id": "82e9dad8",
   "metadata": {},
   "source": [
    "In Pandas we have two data frame one is series and another one is data structure"
   ]
  },
  {
   "cell_type": "code",
   "execution_count": 38,
   "id": "7890172a",
   "metadata": {},
   "outputs": [],
   "source": [
    "import pandas as pd"
   ]
  },
  {
   "cell_type": "code",
   "execution_count": 40,
   "id": "c0772d5b",
   "metadata": {},
   "outputs": [
    {
     "data": {
      "text/plain": [
       "0    1\n",
       "1    2\n",
       "2    3\n",
       "3    4\n",
       "dtype: int64"
      ]
     },
     "execution_count": 40,
     "metadata": {},
     "output_type": "execute_result"
    }
   ],
   "source": [
    "pd.Series([1,2,3,4])"
   ]
  },
  {
   "cell_type": "code",
   "execution_count": 41,
   "id": "be7b4676",
   "metadata": {},
   "outputs": [
    {
     "data": {
      "text/plain": [
       "1    111\n",
       "2    222\n",
       "3    333\n",
       "4    444\n",
       "5    555\n",
       "6    666\n",
       "dtype: int64"
      ]
     },
     "execution_count": 41,
     "metadata": {},
     "output_type": "execute_result"
    }
   ],
   "source": [
    "#to change index parameter\n",
    "\n",
    "pd.Series([111,222,333,444,555,666],index=[1,2,3,4,5,6])"
   ]
  },
  {
   "cell_type": "code",
   "execution_count": 42,
   "id": "7ed89a1c",
   "metadata": {},
   "outputs": [],
   "source": [
    "import numpy as np"
   ]
  },
  {
   "cell_type": "code",
   "execution_count": 45,
   "id": "18eac14e",
   "metadata": {},
   "outputs": [
    {
     "data": {
      "text/plain": [
       "1    34\n",
       "2    60\n",
       "3     5\n",
       "4    20\n",
       "dtype: int32"
      ]
     },
     "execution_count": 45,
     "metadata": {},
     "output_type": "execute_result"
    }
   ],
   "source": [
    "a=np.array([34,60,5,20])\n",
    "\n",
    "b=pd.Series(a,index=[1,2,3,4]) #tochange the index number parameter\n",
    "\n",
    "b"
   ]
  },
  {
   "cell_type": "code",
   "execution_count": 46,
   "id": "6100b064",
   "metadata": {},
   "outputs": [
    {
     "data": {
      "text/plain": [
       "id         101\n",
       "Name    Avijit\n",
       "Age         38\n",
       "dtype: object"
      ]
     },
     "execution_count": 46,
     "metadata": {},
     "output_type": "execute_result"
    }
   ],
   "source": [
    "#to pass any dictionary in pandas\n",
    "\n",
    "dict1={'id':101,'Name':'Avijit','Age':38}\n",
    "\n",
    "pd.Series(data=dict1)"
   ]
  },
  {
   "cell_type": "markdown",
   "id": "d07514e0",
   "metadata": {},
   "source": [
    "# 20th May `Live Class`"
   ]
  },
  {
   "cell_type": "markdown",
   "id": "7eb5207e",
   "metadata": {},
   "source": [
    "Pandas is a python library for data analysis. Pandas is a fast,powerful, flexible and easy to use open source data analysis and manipulation tool, built on top of Python Programming language."
   ]
  },
  {
   "cell_type": "code",
   "execution_count": 47,
   "id": "228daf7a",
   "metadata": {},
   "outputs": [],
   "source": [
    "import pandas as pd"
   ]
  },
  {
   "cell_type": "code",
   "execution_count": 48,
   "id": "250b91ff",
   "metadata": {},
   "outputs": [],
   "source": [
    "k=pd.Series([11,12,13,14])"
   ]
  },
  {
   "cell_type": "code",
   "execution_count": 49,
   "id": "57fa797e",
   "metadata": {},
   "outputs": [
    {
     "data": {
      "text/plain": [
       "0    11\n",
       "1    12\n",
       "2    13\n",
       "3    14\n",
       "dtype: int64"
      ]
     },
     "execution_count": 49,
     "metadata": {},
     "output_type": "execute_result"
    }
   ],
   "source": [
    "k"
   ]
  },
  {
   "cell_type": "code",
   "execution_count": 50,
   "id": "588b33e0",
   "metadata": {},
   "outputs": [
    {
     "data": {
      "text/plain": [
       "1    44\n",
       "2    23\n",
       "3    16\n",
       "4    18\n",
       "5    19\n",
       "dtype: int64"
      ]
     },
     "execution_count": 50,
     "metadata": {},
     "output_type": "execute_result"
    }
   ],
   "source": [
    "#to change index values we need to use below:\n",
    "\n",
    "b=pd.Series([44,23,16,18,19],index=[1,2,3,4,5])\n",
    "b"
   ]
  },
  {
   "cell_type": "code",
   "execution_count": 51,
   "id": "3889de19",
   "metadata": {},
   "outputs": [
    {
     "data": {
      "text/plain": [
       "1    44\n",
       "2    23\n",
       "3    16\n",
       "4    18\n",
       "5    19\n",
       "dtype: int32"
      ]
     },
     "execution_count": 51,
     "metadata": {},
     "output_type": "execute_result"
    }
   ],
   "source": [
    "#to change dtype\n",
    "\n",
    "c=pd.Series([44,23,16,18,19],index=[1,2,3,4,5],dtype='int32')\n",
    "c"
   ]
  },
  {
   "cell_type": "code",
   "execution_count": 52,
   "id": "b7a5351f",
   "metadata": {},
   "outputs": [
    {
     "data": {
      "text/plain": [
       "1    44.0\n",
       "2    23.0\n",
       "3    16.0\n",
       "4    18.0\n",
       "5    19.0\n",
       "dtype: float64"
      ]
     },
     "execution_count": 52,
     "metadata": {},
     "output_type": "execute_result"
    }
   ],
   "source": [
    "#to change dtype to float\n",
    "\n",
    "d=pd.Series([44,23,16,18,19],index=[1,2,3,4,5],dtype='float64')\n",
    "d"
   ]
  },
  {
   "cell_type": "code",
   "execution_count": 57,
   "id": "5a93f214",
   "metadata": {},
   "outputs": [
    {
     "data": {
      "text/plain": [
       "id          11\n",
       "Name    Avijit\n",
       "dtype: object"
      ]
     },
     "execution_count": 57,
     "metadata": {},
     "output_type": "execute_result"
    }
   ],
   "source": [
    "#enter data in series\n",
    "\n",
    "data={'id':11,'Name':'Avijit'}\n",
    "\n",
    "e=pd.Series(data)\n",
    "e"
   ]
  },
  {
   "cell_type": "code",
   "execution_count": 59,
   "id": "8be88047",
   "metadata": {},
   "outputs": [
    {
     "name": "stdout",
     "output_type": "stream",
     "text": [
      "10\n"
     ]
    }
   ],
   "source": [
    "#accessing data series\n",
    "\n",
    "s=pd.Series([10,20,30,40,50,60])\n",
    "print(s[0])"
   ]
  },
  {
   "cell_type": "code",
   "execution_count": 60,
   "id": "cb7e067c",
   "metadata": {},
   "outputs": [
    {
     "name": "stdout",
     "output_type": "stream",
     "text": [
      "0    10\n",
      "1    20\n",
      "2    30\n",
      "dtype: int64\n"
     ]
    }
   ],
   "source": [
    "#retrieve first three elements\n",
    "\n",
    "s=pd.Series([10,20,30,40,50,60])\n",
    "print(s[0:3])"
   ]
  },
  {
   "cell_type": "code",
   "execution_count": 61,
   "id": "e9200a31",
   "metadata": {},
   "outputs": [
    {
     "data": {
      "text/plain": [
       "0    11\n",
       "1    42\n",
       "2    34\n",
       "3    38\n",
       "4    39\n",
       "5    23\n",
       "dtype: int32"
      ]
     },
     "execution_count": 61,
     "metadata": {},
     "output_type": "execute_result"
    }
   ],
   "source": [
    "#passing data from list\n",
    "\n",
    "import numpy as np\n",
    "\n",
    "data=np.array([11,42,34,38,39,23])\n",
    "\n",
    "m=pd.Series(data)\n",
    "m"
   ]
  },
  {
   "cell_type": "code",
   "execution_count": 62,
   "id": "d1501629",
   "metadata": {},
   "outputs": [
    {
     "data": {
      "text/plain": [
       "name       Virat\n",
       "Runs         243\n",
       "innings        3\n",
       "balls         56\n",
       "dtype: object"
      ]
     },
     "execution_count": 62,
     "metadata": {},
     "output_type": "execute_result"
    }
   ],
   "source": [
    "#task create one dictionary object with cricketer name and runs and pass it to panda series print\n",
    "\n",
    "\n",
    "cricketer={'name':'Virat','Runs':243,'innings':3,'balls':56}\n",
    "\n",
    "series=pd.Series(cricketer)\n",
    "series"
   ]
  },
  {
   "cell_type": "markdown",
   "id": "e7e9465e",
   "metadata": {},
   "source": [
    "## Pandas DataFrame"
   ]
  },
  {
   "cell_type": "markdown",
   "id": "b10c0bd9",
   "metadata": {},
   "source": [
    "Dataframe is a two-dimensional data structure i.e, data is alligned in a tabular fashion in rows and columns.\n",
    "\n",
    "**Features of DataFrame:**\n",
    "1. Potentially columns are of different types.\n",
    "2. Size Mutability\n",
    "3. Labeled axes(rows and columns)\n",
    "4. can perform arithmentic operations on rows and columns\n",
    "\n",
    "**pandas.DataFrame**\n",
    "\n",
    "A pandas DataFrame can be created using the following constructor-\n",
    "pandas.DataFrame(data,index,columns,datatype,copy)"
   ]
  },
  {
   "cell_type": "code",
   "execution_count": 63,
   "id": "96659f79",
   "metadata": {},
   "outputs": [
    {
     "data": {
      "text/html": [
       "<div>\n",
       "<style scoped>\n",
       "    .dataframe tbody tr th:only-of-type {\n",
       "        vertical-align: middle;\n",
       "    }\n",
       "\n",
       "    .dataframe tbody tr th {\n",
       "        vertical-align: top;\n",
       "    }\n",
       "\n",
       "    .dataframe thead th {\n",
       "        text-align: right;\n",
       "    }\n",
       "</style>\n",
       "<table border=\"1\" class=\"dataframe\">\n",
       "  <thead>\n",
       "    <tr style=\"text-align: right;\">\n",
       "      <th></th>\n",
       "      <th>0</th>\n",
       "    </tr>\n",
       "  </thead>\n",
       "  <tbody>\n",
       "    <tr>\n",
       "      <th>0</th>\n",
       "      <td>1</td>\n",
       "    </tr>\n",
       "    <tr>\n",
       "      <th>1</th>\n",
       "      <td>2</td>\n",
       "    </tr>\n",
       "    <tr>\n",
       "      <th>2</th>\n",
       "      <td>3</td>\n",
       "    </tr>\n",
       "  </tbody>\n",
       "</table>\n",
       "</div>"
      ],
      "text/plain": [
       "   0\n",
       "0  1\n",
       "1  2\n",
       "2  3"
      ]
     },
     "execution_count": 63,
     "metadata": {},
     "output_type": "execute_result"
    }
   ],
   "source": [
    "data=[1,2,3]\n",
    "df=pd.DataFrame(data)\n",
    "df"
   ]
  },
  {
   "cell_type": "code",
   "execution_count": 64,
   "id": "6709de2f",
   "metadata": {},
   "outputs": [
    {
     "data": {
      "text/html": [
       "<div>\n",
       "<style scoped>\n",
       "    .dataframe tbody tr th:only-of-type {\n",
       "        vertical-align: middle;\n",
       "    }\n",
       "\n",
       "    .dataframe tbody tr th {\n",
       "        vertical-align: top;\n",
       "    }\n",
       "\n",
       "    .dataframe thead th {\n",
       "        text-align: right;\n",
       "    }\n",
       "</style>\n",
       "<table border=\"1\" class=\"dataframe\">\n",
       "  <thead>\n",
       "    <tr style=\"text-align: right;\">\n",
       "      <th></th>\n",
       "      <th>0</th>\n",
       "      <th>1</th>\n",
       "    </tr>\n",
       "  </thead>\n",
       "  <tbody>\n",
       "    <tr>\n",
       "      <th>0</th>\n",
       "      <td>Avijit</td>\n",
       "      <td>23</td>\n",
       "    </tr>\n",
       "    <tr>\n",
       "      <th>1</th>\n",
       "      <td>Amita</td>\n",
       "      <td>24</td>\n",
       "    </tr>\n",
       "    <tr>\n",
       "      <th>2</th>\n",
       "      <td>bipasa</td>\n",
       "      <td>25</td>\n",
       "    </tr>\n",
       "  </tbody>\n",
       "</table>\n",
       "</div>"
      ],
      "text/plain": [
       "        0   1\n",
       "0  Avijit  23\n",
       "1   Amita  24\n",
       "2  bipasa  25"
      ]
     },
     "execution_count": 64,
     "metadata": {},
     "output_type": "execute_result"
    }
   ],
   "source": [
    "#list with in list\n",
    "\n",
    "data=[['Avijit',23],['Amita',24],['bipasa',25]]\n",
    "df=pd.DataFrame(data)\n",
    "df"
   ]
  },
  {
   "cell_type": "code",
   "execution_count": 66,
   "id": "45bb174d",
   "metadata": {},
   "outputs": [
    {
     "data": {
      "text/html": [
       "<div>\n",
       "<style scoped>\n",
       "    .dataframe tbody tr th:only-of-type {\n",
       "        vertical-align: middle;\n",
       "    }\n",
       "\n",
       "    .dataframe tbody tr th {\n",
       "        vertical-align: top;\n",
       "    }\n",
       "\n",
       "    .dataframe thead th {\n",
       "        text-align: right;\n",
       "    }\n",
       "</style>\n",
       "<table border=\"1\" class=\"dataframe\">\n",
       "  <thead>\n",
       "    <tr style=\"text-align: right;\">\n",
       "      <th></th>\n",
       "      <th>Name</th>\n",
       "      <th>Day</th>\n",
       "    </tr>\n",
       "  </thead>\n",
       "  <tbody>\n",
       "    <tr>\n",
       "      <th>0</th>\n",
       "      <td>Avijit</td>\n",
       "      <td>23</td>\n",
       "    </tr>\n",
       "    <tr>\n",
       "      <th>1</th>\n",
       "      <td>Amita</td>\n",
       "      <td>24</td>\n",
       "    </tr>\n",
       "    <tr>\n",
       "      <th>2</th>\n",
       "      <td>bipasa</td>\n",
       "      <td>25</td>\n",
       "    </tr>\n",
       "  </tbody>\n",
       "</table>\n",
       "</div>"
      ],
      "text/plain": [
       "     Name  Day\n",
       "0  Avijit   23\n",
       "1   Amita   24\n",
       "2  bipasa   25"
      ]
     },
     "execution_count": 66,
     "metadata": {},
     "output_type": "execute_result"
    }
   ],
   "source": [
    "#change column name\n",
    "\n",
    "data=[['Avijit',23],['Amita',24],['bipasa',25]]\n",
    "df=pd.DataFrame(data,columns=['Name','Day'])\n",
    "df"
   ]
  },
  {
   "cell_type": "code",
   "execution_count": 70,
   "id": "ee496e09",
   "metadata": {},
   "outputs": [
    {
     "name": "stdout",
     "output_type": "stream",
     "text": [
      "     Name   Day\n",
      "0  Avijit  23.0\n",
      "1   Amita  24.0\n",
      "2  bipasa  25.0\n"
     ]
    },
    {
     "name": "stderr",
     "output_type": "stream",
     "text": [
      "C:\\Users\\Rima Das\\AppData\\Local\\Temp\\ipykernel_9680\\1616390788.py:4: FutureWarning: Could not cast to float64, falling back to object. This behavior is deprecated. In a future version, when a dtype is passed to 'DataFrame', either all columns will be cast to that dtype, or a TypeError will be raised.\n",
      "  df=pd.DataFrame(data,columns=['Name','Day'],dtype='float')\n"
     ]
    }
   ],
   "source": [
    "#Change datatype in float\n",
    "\n",
    "data=[['Avijit',23],['Amita',24],['bipasa',25]]\n",
    "df=pd.DataFrame(data,columns=['Name','Day'],dtype='float')\n",
    "print(df)"
   ]
  },
  {
   "cell_type": "code",
   "execution_count": 69,
   "id": "99e48847",
   "metadata": {},
   "outputs": [
    {
     "name": "stdout",
     "output_type": "stream",
     "text": [
      "     Name  Age\n",
      "0  Avijit   36\n",
      "1     Amy   34\n",
      "2    Asur   23\n",
      "3   Amita   24\n",
      "4     Avi   12\n",
      "5    Rima    8\n"
     ]
    }
   ],
   "source": [
    "#Dictionary data( it will take automatically Keys as column name)\n",
    "\n",
    "data={'Name':['Avijit','Amy','Asur','Amita','Avi','Rima'],'Age':[36,34,23,24,12,8]}\n",
    "df=pd.DataFrame(data)\n",
    "print(df)"
   ]
  },
  {
   "cell_type": "code",
   "execution_count": 71,
   "id": "190d3bb3",
   "metadata": {},
   "outputs": [
    {
     "name": "stdout",
     "output_type": "stream",
     "text": [
      "     a    b    c\n",
      "0  1.0  2.0  NaN\n",
      "1  5.0  2.0  6.0\n"
     ]
    }
   ],
   "source": [
    "#note-observe, nan (not a number) is appended in missing areas.\n",
    "\n",
    "data=[{'a':1,'b':2},{'a':5,'b':2,'c':6}]\n",
    "df=pd.DataFrame(data,dtype=float)\n",
    "print(df)"
   ]
  },
  {
   "cell_type": "code",
   "execution_count": 72,
   "id": "e98dbca1",
   "metadata": {},
   "outputs": [
    {
     "name": "stdout",
     "output_type": "stream",
     "text": [
      "          A    B    C\n",
      "first   1.0  2.0  NaN\n",
      "second  5.0  2.0  6.0\n"
     ]
    }
   ],
   "source": [
    "#change Row name or index \n",
    "\n",
    "data=[{'A':1,'B':2},{'A':5,'B':2,'C':6}]\n",
    "df=pd.DataFrame(data,index=['first','second'],dtype=float)\n",
    "print(df)"
   ]
  },
  {
   "cell_type": "code",
   "execution_count": 73,
   "id": "8ec08366",
   "metadata": {},
   "outputs": [
    {
     "name": "stdout",
     "output_type": "stream",
     "text": [
      "        A  B\n",
      "first   1  2\n",
      "second  5  2\n"
     ]
    }
   ],
   "source": [
    "data=[{'A':1,'B':2},{'A':5,'B':2,'C':6}]\n",
    "\n",
    "#with two column indices, values same as dictionary keys \n",
    "\n",
    "\"\"\" you can specify which columns to be displayed \"\"\"\n",
    "\n",
    "df1=pd.DataFrame(data,index=['first','second'],columns=['A','B'])\n",
    "\n",
    "print(df1)"
   ]
  },
  {
   "cell_type": "code",
   "execution_count": 74,
   "id": "231ccc35",
   "metadata": {},
   "outputs": [
    {
     "name": "stdout",
     "output_type": "stream",
     "text": [
      "        A  B1\n",
      "first   1 NaN\n",
      "second  5 NaN\n"
     ]
    }
   ],
   "source": [
    "#with two column indices with one index with other name (if the column name isnot present it will show nan values)\n",
    "\n",
    "df2=pd.DataFrame(data,index=['first','second'],columns=['A','B1'])\n",
    "\n",
    "print(df2)"
   ]
  },
  {
   "cell_type": "markdown",
   "id": "81f8881b",
   "metadata": {},
   "source": [
    "## Pandas Visualization"
   ]
  },
  {
   "cell_type": "markdown",
   "id": "55c22351",
   "metadata": {},
   "source": [
    "These methods can be provided as the kind keyword argument to plot(). These include-\n",
    "1. bar or barh for bar plot\n",
    "2. hist for Histogram\n",
    "3. box for boxplot\n",
    "4. 'scatter' for scatter plot"
   ]
  },
  {
   "cell_type": "code",
   "execution_count": 75,
   "id": "44c062da",
   "metadata": {},
   "outputs": [
    {
     "name": "stdout",
     "output_type": "stream",
     "text": [
      "          A         B         C         D\n",
      "0  0.996369  0.985476  0.566189  0.684100\n",
      "1  0.341147  0.389587  0.993151  0.488449\n",
      "2  0.929625  0.228336  0.052108  0.143913\n",
      "3  0.974373  0.325179  0.644385  0.667255\n",
      "4  0.207017  0.026329  0.196285  0.885749\n",
      "5  0.877749  0.760800  0.508551  0.819913\n",
      "6  0.978132  0.387716  0.461553  0.547915\n",
      "7  0.768393  0.456468  0.816974  0.296377\n",
      "8  0.359217  0.859219  0.317932  0.279956\n",
      "9  0.926530  0.535778  0.147980  0.117113\n"
     ]
    },
    {
     "name": "stderr",
     "output_type": "stream",
     "text": [
      "Matplotlib is building the font cache; this may take a moment.\n"
     ]
    },
    {
     "data": {
      "text/plain": [
       "<AxesSubplot:>"
      ]
     },
     "execution_count": 75,
     "metadata": {},
     "output_type": "execute_result"
    },
    {
     "data": {
      "image/png": "[encoded data removed]",
      "text/plain": [
       "<Figure size 640x480 with 1 Axes>"
      ]
     },
     "metadata": {},
     "output_type": "display_data"
    }
   ],
   "source": [
    "#bar plot\n",
    "\n",
    "df=pd.DataFrame(np.random.rand(10,4),columns=['A','B','C','D'])\n",
    "print(df)\n",
    "\n",
    "df.plot.bar()"
   ]
  },
  {
   "cell_type": "code",
   "execution_count": 76,
   "id": "01047fa8",
   "metadata": {},
   "outputs": [
    {
     "data": {
      "text/plain": [
       "<AxesSubplot:>"
      ]
     },
     "execution_count": 76,
     "metadata": {},
     "output_type": "execute_result"
    },
    {
     "data": {
      "image/png": "[encoded data removed]",
      "text/plain": [
       "<Figure size 640x480 with 1 Axes>"
      ]
     },
     "metadata": {},
     "output_type": "display_data"
    }
   ],
   "source": [
    "#if u want to view the bars in stacked view then u need to use\n",
    "\n",
    "df.plot.bar(stacked=True)"
   ]
  },
  {
   "cell_type": "code",
   "execution_count": 77,
   "id": "22583835",
   "metadata": {},
   "outputs": [
    {
     "data": {
      "text/plain": [
       "<AxesSubplot:>"
      ]
     },
     "execution_count": 77,
     "metadata": {},
     "output_type": "execute_result"
    },
    {
     "data": {
      "image/png": "[encoded data removed]",
      "text/plain": [
       "<Figure size 640x480 with 1 Axes>"
      ]
     },
     "metadata": {},
     "output_type": "display_data"
    }
   ],
   "source": [
    "#to get horizontal bar plot, use the barh method\n",
    "\n",
    "df.plot.barh(stacked=True)"
   ]
  },
  {
   "cell_type": "code",
   "execution_count": 78,
   "id": "c8d9f53d",
   "metadata": {},
   "outputs": [
    {
     "data": {
      "text/plain": [
       "<AxesSubplot:ylabel='Frequency'>"
      ]
     },
     "execution_count": 78,
     "metadata": {},
     "output_type": "execute_result"
    },
    {
     "data": {
      "image/png": "[encoded data removed]",
      "text/plain": [
       "<Figure size 640x480 with 1 Axes>"
      ]
     },
     "metadata": {},
     "output_type": "display_data"
    }
   ],
   "source": [
    "#Histogram Method hist()\n",
    "\n",
    "df.plot.hist()"
   ]
  },
  {
   "cell_type": "code",
   "execution_count": 79,
   "id": "0323a7d4",
   "metadata": {},
   "outputs": [
    {
     "data": {
      "text/plain": [
       "<AxesSubplot:>"
      ]
     },
     "execution_count": 79,
     "metadata": {},
     "output_type": "execute_result"
    },
    {
     "data": {
      "image/png": "[encoded data removed]",
      "text/plain": [
       "<Figure size 640x480 with 1 Axes>"
      ]
     },
     "metadata": {},
     "output_type": "display_data"
    }
   ],
   "source": [
    "#Box Slot(gives min and max value of each column)\n",
    "\n",
    "df.plot.box()"
   ]
  },
  {
   "cell_type": "code",
   "execution_count": 80,
   "id": "3c59b7f9",
   "metadata": {},
   "outputs": [
    {
     "data": {
      "text/plain": [
       "<AxesSubplot:xlabel='A', ylabel='B'>"
      ]
     },
     "execution_count": 80,
     "metadata": {},
     "output_type": "execute_result"
    },
    {
     "data": {
      "image/png": "[encoded data removed]",
      "text/plain": [
       "<Figure size 640x480 with 1 Axes>"
      ]
     },
     "metadata": {},
     "output_type": "display_data"
    }
   ],
   "source": [
    "#scatter plot\n",
    "\n",
    "df.plot.scatter(x='A',y='B')"
   ]
  },
  {
   "cell_type": "markdown",
   "id": "d9db0759",
   "metadata": {},
   "source": [
    "## Working with Pandas Final"
   ]
  },
  {
   "cell_type": "code",
   "execution_count": 114,
   "id": "21f6f166",
   "metadata": {},
   "outputs": [
    {
     "name": "stdout",
     "output_type": "stream",
     "text": [
      "   day  Visitors  Bounce_Rate\n",
      "0    1       200           20\n",
      "1    2       400           45\n",
      "2    3       500           60\n",
      "3    4       230           10\n"
     ]
    }
   ],
   "source": [
    "df=pd.DataFrame({\"day\":[1,2,3,4],\"Visitors\":[200,400,500,230],\"Bounce_Rate\":[20,45,60,10]})\n",
    "print(df)"
   ]
  },
  {
   "cell_type": "markdown",
   "id": "4f98b30c",
   "metadata": {},
   "source": [
    "### Change Index"
   ]
  },
  {
   "cell_type": "code",
   "execution_count": 115,
   "id": "cb7472d9",
   "metadata": {},
   "outputs": [
    {
     "data": {
      "text/html": [
       "<div>\n",
       "<style scoped>\n",
       "    .dataframe tbody tr th:only-of-type {\n",
       "        vertical-align: middle;\n",
       "    }\n",
       "\n",
       "    .dataframe tbody tr th {\n",
       "        vertical-align: top;\n",
       "    }\n",
       "\n",
       "    .dataframe thead th {\n",
       "        text-align: right;\n",
       "    }\n",
       "</style>\n",
       "<table border=\"1\" class=\"dataframe\">\n",
       "  <thead>\n",
       "    <tr style=\"text-align: right;\">\n",
       "      <th></th>\n",
       "      <th>Visitors</th>\n",
       "      <th>Bounce_Rate</th>\n",
       "    </tr>\n",
       "    <tr>\n",
       "      <th>day</th>\n",
       "      <th></th>\n",
       "      <th></th>\n",
       "    </tr>\n",
       "  </thead>\n",
       "  <tbody>\n",
       "    <tr>\n",
       "      <th>1</th>\n",
       "      <td>200</td>\n",
       "      <td>20</td>\n",
       "    </tr>\n",
       "    <tr>\n",
       "      <th>2</th>\n",
       "      <td>400</td>\n",
       "      <td>45</td>\n",
       "    </tr>\n",
       "    <tr>\n",
       "      <th>3</th>\n",
       "      <td>500</td>\n",
       "      <td>60</td>\n",
       "    </tr>\n",
       "    <tr>\n",
       "      <th>4</th>\n",
       "      <td>230</td>\n",
       "      <td>10</td>\n",
       "    </tr>\n",
       "  </tbody>\n",
       "</table>\n",
       "</div>"
      ],
      "text/plain": [
       "     Visitors  Bounce_Rate\n",
       "day                       \n",
       "1         200           20\n",
       "2         400           45\n",
       "3         500           60\n",
       "4         230           10"
      ]
     },
     "execution_count": 115,
     "metadata": {},
     "output_type": "execute_result"
    }
   ],
   "source": [
    "df1=df.set_index(\"day\")\n",
    "df1"
   ]
  },
  {
   "cell_type": "code",
   "execution_count": 116,
   "id": "04f8838b",
   "metadata": {},
   "outputs": [
    {
     "data": {
      "text/html": [
       "<div>\n",
       "<style scoped>\n",
       "    .dataframe tbody tr th:only-of-type {\n",
       "        vertical-align: middle;\n",
       "    }\n",
       "\n",
       "    .dataframe tbody tr th {\n",
       "        vertical-align: top;\n",
       "    }\n",
       "\n",
       "    .dataframe thead th {\n",
       "        text-align: right;\n",
       "    }\n",
       "</style>\n",
       "<table border=\"1\" class=\"dataframe\">\n",
       "  <thead>\n",
       "    <tr style=\"text-align: right;\">\n",
       "      <th></th>\n",
       "      <th>Visitors</th>\n",
       "      <th>Bounce_Rate</th>\n",
       "    </tr>\n",
       "    <tr>\n",
       "      <th>day</th>\n",
       "      <th></th>\n",
       "      <th></th>\n",
       "    </tr>\n",
       "  </thead>\n",
       "  <tbody>\n",
       "    <tr>\n",
       "      <th>1</th>\n",
       "      <td>200</td>\n",
       "      <td>20</td>\n",
       "    </tr>\n",
       "    <tr>\n",
       "      <th>2</th>\n",
       "      <td>400</td>\n",
       "      <td>45</td>\n",
       "    </tr>\n",
       "    <tr>\n",
       "      <th>3</th>\n",
       "      <td>500</td>\n",
       "      <td>60</td>\n",
       "    </tr>\n",
       "    <tr>\n",
       "      <th>4</th>\n",
       "      <td>230</td>\n",
       "      <td>10</td>\n",
       "    </tr>\n",
       "  </tbody>\n",
       "</table>\n",
       "</div>"
      ],
      "text/plain": [
       "     Visitors  Bounce_Rate\n",
       "day                       \n",
       "1         200           20\n",
       "2         400           45\n",
       "3         500           60\n",
       "4         230           10"
      ]
     },
     "execution_count": 116,
     "metadata": {},
     "output_type": "execute_result"
    }
   ],
   "source": [
    "#another parameter to change original dataframe\n",
    "\n",
    "df.set_index(\"day\",inplace=True)\n",
    "df"
   ]
  },
  {
   "cell_type": "code",
   "execution_count": 117,
   "id": "6f45a3d7",
   "metadata": {},
   "outputs": [
    {
     "name": "stdout",
     "output_type": "stream",
     "text": [
      "     Users  Bounce_Rate\n",
      "day                    \n",
      "1      200           20\n",
      "2      400           45\n",
      "3      500           60\n",
      "4      230           10\n"
     ]
    }
   ],
   "source": [
    "#change any column name or header name\n",
    "\n",
    "df = df.rename(columns={\"Visitors\":\"Users\"})\n",
    "\n",
    "print(df)"
   ]
  },
  {
   "cell_type": "code",
   "execution_count": 90,
   "id": "4a664dda",
   "metadata": {},
   "outputs": [
    {
     "name": "stdout",
     "output_type": "stream",
     "text": [
      "   day  Visitors  Bounce_Rate\n",
      "0    1       700           10\n",
      "1    2       200           20\n",
      "2    3       400           45\n",
      "3    4       600           60\n",
      "4    5       500           10\n",
      "5    6       230            8\n"
     ]
    }
   ],
   "source": [
    "data={\"day\":[1,2,3,4,5,6],\"Visitors\":[700,200,400,600,500,230],\"Bounce_Rate\":[10,20,45,60,10,8]}\n",
    "\n",
    "df2=pd.DataFrame(data)\n",
    "\n",
    "print(df2)"
   ]
  },
  {
   "cell_type": "code",
   "execution_count": 91,
   "id": "505920f1",
   "metadata": {},
   "outputs": [
    {
     "data": {
      "text/html": [
       "<div>\n",
       "<style scoped>\n",
       "    .dataframe tbody tr th:only-of-type {\n",
       "        vertical-align: middle;\n",
       "    }\n",
       "\n",
       "    .dataframe tbody tr th {\n",
       "        vertical-align: top;\n",
       "    }\n",
       "\n",
       "    .dataframe thead th {\n",
       "        text-align: right;\n",
       "    }\n",
       "</style>\n",
       "<table border=\"1\" class=\"dataframe\">\n",
       "  <thead>\n",
       "    <tr style=\"text-align: right;\">\n",
       "      <th></th>\n",
       "      <th>day</th>\n",
       "      <th>Visitors</th>\n",
       "      <th>Bounce_Rate</th>\n",
       "    </tr>\n",
       "  </thead>\n",
       "  <tbody>\n",
       "    <tr>\n",
       "      <th>0</th>\n",
       "      <td>1</td>\n",
       "      <td>700</td>\n",
       "      <td>10</td>\n",
       "    </tr>\n",
       "    <tr>\n",
       "      <th>1</th>\n",
       "      <td>2</td>\n",
       "      <td>200</td>\n",
       "      <td>20</td>\n",
       "    </tr>\n",
       "    <tr>\n",
       "      <th>2</th>\n",
       "      <td>3</td>\n",
       "      <td>400</td>\n",
       "      <td>45</td>\n",
       "    </tr>\n",
       "    <tr>\n",
       "      <th>3</th>\n",
       "      <td>4</td>\n",
       "      <td>600</td>\n",
       "      <td>60</td>\n",
       "    </tr>\n",
       "    <tr>\n",
       "      <th>4</th>\n",
       "      <td>5</td>\n",
       "      <td>500</td>\n",
       "      <td>10</td>\n",
       "    </tr>\n",
       "  </tbody>\n",
       "</table>\n",
       "</div>"
      ],
      "text/plain": [
       "   day  Visitors  Bounce_Rate\n",
       "0    1       700           10\n",
       "1    2       200           20\n",
       "2    3       400           45\n",
       "3    4       600           60\n",
       "4    5       500           10"
      ]
     },
     "execution_count": 91,
     "metadata": {},
     "output_type": "execute_result"
    }
   ],
   "source": [
    "#it will show u top 5 rows\n",
    "\n",
    "df2.head()"
   ]
  },
  {
   "cell_type": "code",
   "execution_count": 92,
   "id": "6aa148c4",
   "metadata": {},
   "outputs": [
    {
     "data": {
      "text/html": [
       "<div>\n",
       "<style scoped>\n",
       "    .dataframe tbody tr th:only-of-type {\n",
       "        vertical-align: middle;\n",
       "    }\n",
       "\n",
       "    .dataframe tbody tr th {\n",
       "        vertical-align: top;\n",
       "    }\n",
       "\n",
       "    .dataframe thead th {\n",
       "        text-align: right;\n",
       "    }\n",
       "</style>\n",
       "<table border=\"1\" class=\"dataframe\">\n",
       "  <thead>\n",
       "    <tr style=\"text-align: right;\">\n",
       "      <th></th>\n",
       "      <th>day</th>\n",
       "      <th>Visitors</th>\n",
       "      <th>Bounce_Rate</th>\n",
       "    </tr>\n",
       "  </thead>\n",
       "  <tbody>\n",
       "    <tr>\n",
       "      <th>1</th>\n",
       "      <td>2</td>\n",
       "      <td>200</td>\n",
       "      <td>20</td>\n",
       "    </tr>\n",
       "    <tr>\n",
       "      <th>2</th>\n",
       "      <td>3</td>\n",
       "      <td>400</td>\n",
       "      <td>45</td>\n",
       "    </tr>\n",
       "    <tr>\n",
       "      <th>3</th>\n",
       "      <td>4</td>\n",
       "      <td>600</td>\n",
       "      <td>60</td>\n",
       "    </tr>\n",
       "    <tr>\n",
       "      <th>4</th>\n",
       "      <td>5</td>\n",
       "      <td>500</td>\n",
       "      <td>10</td>\n",
       "    </tr>\n",
       "    <tr>\n",
       "      <th>5</th>\n",
       "      <td>6</td>\n",
       "      <td>230</td>\n",
       "      <td>8</td>\n",
       "    </tr>\n",
       "  </tbody>\n",
       "</table>\n",
       "</div>"
      ],
      "text/plain": [
       "   day  Visitors  Bounce_Rate\n",
       "1    2       200           20\n",
       "2    3       400           45\n",
       "3    4       600           60\n",
       "4    5       500           10\n",
       "5    6       230            8"
      ]
     },
     "execution_count": 92,
     "metadata": {},
     "output_type": "execute_result"
    }
   ],
   "source": [
    "#it will show u bottom 5 rows\n",
    "\n",
    "df2.tail()"
   ]
  },
  {
   "cell_type": "code",
   "execution_count": 96,
   "id": "3a77ff19",
   "metadata": {},
   "outputs": [
    {
     "data": {
      "text/html": [
       "<div>\n",
       "<style scoped>\n",
       "    .dataframe tbody tr th:only-of-type {\n",
       "        vertical-align: middle;\n",
       "    }\n",
       "\n",
       "    .dataframe tbody tr th {\n",
       "        vertical-align: top;\n",
       "    }\n",
       "\n",
       "    .dataframe thead th {\n",
       "        text-align: right;\n",
       "    }\n",
       "</style>\n",
       "<table border=\"1\" class=\"dataframe\">\n",
       "  <thead>\n",
       "    <tr style=\"text-align: right;\">\n",
       "      <th></th>\n",
       "      <th>day</th>\n",
       "      <th>Visitors</th>\n",
       "      <th>Bounce_Rate</th>\n",
       "    </tr>\n",
       "  </thead>\n",
       "  <tbody>\n",
       "    <tr>\n",
       "      <th>0</th>\n",
       "      <td>1</td>\n",
       "      <td>700</td>\n",
       "      <td>10</td>\n",
       "    </tr>\n",
       "    <tr>\n",
       "      <th>1</th>\n",
       "      <td>2</td>\n",
       "      <td>200</td>\n",
       "      <td>20</td>\n",
       "    </tr>\n",
       "    <tr>\n",
       "      <th>2</th>\n",
       "      <td>3</td>\n",
       "      <td>400</td>\n",
       "      <td>45</td>\n",
       "    </tr>\n",
       "  </tbody>\n",
       "</table>\n",
       "</div>"
      ],
      "text/plain": [
       "   day  Visitors  Bounce_Rate\n",
       "0    1       700           10\n",
       "1    2       200           20\n",
       "2    3       400           45"
      ]
     },
     "execution_count": 96,
     "metadata": {},
     "output_type": "execute_result"
    }
   ],
   "source": [
    "#If u want to view top 3 rows\n",
    "\n",
    "df2.head(3)"
   ]
  },
  {
   "cell_type": "code",
   "execution_count": 97,
   "id": "ca623d76",
   "metadata": {},
   "outputs": [
    {
     "data": {
      "text/html": [
       "<div>\n",
       "<style scoped>\n",
       "    .dataframe tbody tr th:only-of-type {\n",
       "        vertical-align: middle;\n",
       "    }\n",
       "\n",
       "    .dataframe tbody tr th {\n",
       "        vertical-align: top;\n",
       "    }\n",
       "\n",
       "    .dataframe thead th {\n",
       "        text-align: right;\n",
       "    }\n",
       "</style>\n",
       "<table border=\"1\" class=\"dataframe\">\n",
       "  <thead>\n",
       "    <tr style=\"text-align: right;\">\n",
       "      <th></th>\n",
       "      <th>day</th>\n",
       "      <th>Visitors</th>\n",
       "      <th>Bounce_Rate</th>\n",
       "    </tr>\n",
       "  </thead>\n",
       "  <tbody>\n",
       "    <tr>\n",
       "      <th>3</th>\n",
       "      <td>4</td>\n",
       "      <td>600</td>\n",
       "      <td>60</td>\n",
       "    </tr>\n",
       "    <tr>\n",
       "      <th>4</th>\n",
       "      <td>5</td>\n",
       "      <td>500</td>\n",
       "      <td>10</td>\n",
       "    </tr>\n",
       "    <tr>\n",
       "      <th>5</th>\n",
       "      <td>6</td>\n",
       "      <td>230</td>\n",
       "      <td>8</td>\n",
       "    </tr>\n",
       "  </tbody>\n",
       "</table>\n",
       "</div>"
      ],
      "text/plain": [
       "   day  Visitors  Bounce_Rate\n",
       "3    4       600           60\n",
       "4    5       500           10\n",
       "5    6       230            8"
      ]
     },
     "execution_count": 97,
     "metadata": {},
     "output_type": "execute_result"
    }
   ],
   "source": [
    "#If u want to view bottom 3 rows\n",
    "\n",
    "df2.tail(3)"
   ]
  },
  {
   "cell_type": "code",
   "execution_count": 98,
   "id": "edeb2f03",
   "metadata": {},
   "outputs": [
    {
     "data": {
      "text/html": [
       "<div>\n",
       "<style scoped>\n",
       "    .dataframe tbody tr th:only-of-type {\n",
       "        vertical-align: middle;\n",
       "    }\n",
       "\n",
       "    .dataframe tbody tr th {\n",
       "        vertical-align: top;\n",
       "    }\n",
       "\n",
       "    .dataframe thead th {\n",
       "        text-align: right;\n",
       "    }\n",
       "</style>\n",
       "<table border=\"1\" class=\"dataframe\">\n",
       "  <thead>\n",
       "    <tr style=\"text-align: right;\">\n",
       "      <th></th>\n",
       "      <th>day</th>\n",
       "      <th>Visitors</th>\n",
       "      <th>Bounce_Rate</th>\n",
       "    </tr>\n",
       "  </thead>\n",
       "  <tbody>\n",
       "    <tr>\n",
       "      <th>5</th>\n",
       "      <td>6</td>\n",
       "      <td>230</td>\n",
       "      <td>8</td>\n",
       "    </tr>\n",
       "  </tbody>\n",
       "</table>\n",
       "</div>"
      ],
      "text/plain": [
       "   day  Visitors  Bounce_Rate\n",
       "5    6       230            8"
      ]
     },
     "execution_count": 98,
     "metadata": {},
     "output_type": "execute_result"
    }
   ],
   "source": [
    "#if u want to see sample data\n",
    "\n",
    "df2.sample()"
   ]
  },
  {
   "cell_type": "code",
   "execution_count": 99,
   "id": "54d06430",
   "metadata": {},
   "outputs": [
    {
     "data": {
      "text/html": [
       "<div>\n",
       "<style scoped>\n",
       "    .dataframe tbody tr th:only-of-type {\n",
       "        vertical-align: middle;\n",
       "    }\n",
       "\n",
       "    .dataframe tbody tr th {\n",
       "        vertical-align: top;\n",
       "    }\n",
       "\n",
       "    .dataframe thead th {\n",
       "        text-align: right;\n",
       "    }\n",
       "</style>\n",
       "<table border=\"1\" class=\"dataframe\">\n",
       "  <thead>\n",
       "    <tr style=\"text-align: right;\">\n",
       "      <th></th>\n",
       "      <th>day</th>\n",
       "      <th>Visitors</th>\n",
       "      <th>Bounce_Rate</th>\n",
       "    </tr>\n",
       "  </thead>\n",
       "  <tbody>\n",
       "    <tr>\n",
       "      <th>2</th>\n",
       "      <td>3</td>\n",
       "      <td>400</td>\n",
       "      <td>45</td>\n",
       "    </tr>\n",
       "    <tr>\n",
       "      <th>0</th>\n",
       "      <td>1</td>\n",
       "      <td>700</td>\n",
       "      <td>10</td>\n",
       "    </tr>\n",
       "  </tbody>\n",
       "</table>\n",
       "</div>"
      ],
      "text/plain": [
       "   day  Visitors  Bounce_Rate\n",
       "2    3       400           45\n",
       "0    1       700           10"
      ]
     },
     "execution_count": 99,
     "metadata": {},
     "output_type": "execute_result"
    }
   ],
   "source": [
    "# if u want to see any two sample, u can use\n",
    "\n",
    "df2.sample(2)"
   ]
  },
  {
   "cell_type": "markdown",
   "id": "93e9f603",
   "metadata": {},
   "source": [
    "## PANDAS IO -Input/OutPut"
   ]
  },
  {
   "cell_type": "code",
   "execution_count": 100,
   "id": "5c6fb807",
   "metadata": {},
   "outputs": [
    {
     "data": {
      "text/html": [
       "<div>\n",
       "<style scoped>\n",
       "    .dataframe tbody tr th:only-of-type {\n",
       "        vertical-align: middle;\n",
       "    }\n",
       "\n",
       "    .dataframe tbody tr th {\n",
       "        vertical-align: top;\n",
       "    }\n",
       "\n",
       "    .dataframe thead th {\n",
       "        text-align: right;\n",
       "    }\n",
       "</style>\n",
       "<table border=\"1\" class=\"dataframe\">\n",
       "  <thead>\n",
       "    <tr style=\"text-align: right;\">\n",
       "      <th></th>\n",
       "      <th>modelID</th>\n",
       "      <th>modelname</th>\n",
       "      <th>price</th>\n",
       "    </tr>\n",
       "  </thead>\n",
       "  <tbody>\n",
       "    <tr>\n",
       "      <th>0</th>\n",
       "      <td>101</td>\n",
       "      <td>Tesla</td>\n",
       "      <td>12121212</td>\n",
       "    </tr>\n",
       "    <tr>\n",
       "      <th>1</th>\n",
       "      <td>102</td>\n",
       "      <td>Toyota</td>\n",
       "      <td>242424</td>\n",
       "    </tr>\n",
       "    <tr>\n",
       "      <th>2</th>\n",
       "      <td>103</td>\n",
       "      <td>Audi</td>\n",
       "      <td>11111666</td>\n",
       "    </tr>\n",
       "    <tr>\n",
       "      <th>3</th>\n",
       "      <td>104</td>\n",
       "      <td>Maruti</td>\n",
       "      <td>4545454</td>\n",
       "    </tr>\n",
       "    <tr>\n",
       "      <th>4</th>\n",
       "      <td>105</td>\n",
       "      <td>BMW</td>\n",
       "      <td>989898989</td>\n",
       "    </tr>\n",
       "    <tr>\n",
       "      <th>5</th>\n",
       "      <td>106</td>\n",
       "      <td>Kia</td>\n",
       "      <td>8888888</td>\n",
       "    </tr>\n",
       "  </tbody>\n",
       "</table>\n",
       "</div>"
      ],
      "text/plain": [
       "   modelID modelname      price\n",
       "0      101     Tesla   12121212\n",
       "1      102    Toyota     242424\n",
       "2      103      Audi   11111666\n",
       "3      104    Maruti    4545454\n",
       "4      105       BMW  989898989\n",
       "5      106       Kia    8888888"
      ]
     },
     "execution_count": 100,
     "metadata": {},
     "output_type": "execute_result"
    }
   ],
   "source": [
    "#To Read CSV File\n",
    "\n",
    "df=pd.read_csv('car.csv')\n",
    "df"
   ]
  },
  {
   "cell_type": "code",
   "execution_count": 102,
   "id": "cb2ffdbc",
   "metadata": {},
   "outputs": [
    {
     "data": {
      "text/html": [
       "<div>\n",
       "<style scoped>\n",
       "    .dataframe tbody tr th:only-of-type {\n",
       "        vertical-align: middle;\n",
       "    }\n",
       "\n",
       "    .dataframe tbody tr th {\n",
       "        vertical-align: top;\n",
       "    }\n",
       "\n",
       "    .dataframe thead th {\n",
       "        text-align: right;\n",
       "    }\n",
       "</style>\n",
       "<table border=\"1\" class=\"dataframe\">\n",
       "  <thead>\n",
       "    <tr style=\"text-align: right;\">\n",
       "      <th></th>\n",
       "      <th>ID</th>\n",
       "      <th>Car_Name</th>\n",
       "      <th>Price</th>\n",
       "      <th>PurchaseDate</th>\n",
       "    </tr>\n",
       "  </thead>\n",
       "  <tbody>\n",
       "    <tr>\n",
       "      <th>0</th>\n",
       "      <td>101</td>\n",
       "      <td>Tesla</td>\n",
       "      <td>12121212</td>\n",
       "      <td>24/08/1989</td>\n",
       "    </tr>\n",
       "    <tr>\n",
       "      <th>1</th>\n",
       "      <td>102</td>\n",
       "      <td>Toyota</td>\n",
       "      <td>242424</td>\n",
       "      <td>23/12/1987</td>\n",
       "    </tr>\n",
       "    <tr>\n",
       "      <th>2</th>\n",
       "      <td>103</td>\n",
       "      <td>Audi</td>\n",
       "      <td>11111666</td>\n",
       "      <td>13/06/2023</td>\n",
       "    </tr>\n",
       "    <tr>\n",
       "      <th>3</th>\n",
       "      <td>104</td>\n",
       "      <td>Maruti</td>\n",
       "      <td>4545454</td>\n",
       "      <td>19/12/2021</td>\n",
       "    </tr>\n",
       "    <tr>\n",
       "      <th>4</th>\n",
       "      <td>105</td>\n",
       "      <td>BMW</td>\n",
       "      <td>989898989</td>\n",
       "      <td>14/12/2022</td>\n",
       "    </tr>\n",
       "    <tr>\n",
       "      <th>5</th>\n",
       "      <td>106</td>\n",
       "      <td>Kia</td>\n",
       "      <td>8888888</td>\n",
       "      <td>02/08/2023</td>\n",
       "    </tr>\n",
       "  </tbody>\n",
       "</table>\n",
       "</div>"
      ],
      "text/plain": [
       "    ID Car_Name      Price PurchaseDate\n",
       "0  101    Tesla   12121212   24/08/1989\n",
       "1  102   Toyota     242424   23/12/1987\n",
       "2  103     Audi   11111666   13/06/2023\n",
       "3  104   Maruti    4545454   19/12/2021\n",
       "4  105      BMW  989898989   14/12/2022\n",
       "5  106      Kia    8888888   02/08/2023"
      ]
     },
     "execution_count": 102,
     "metadata": {},
     "output_type": "execute_result"
    }
   ],
   "source": [
    "#to chnage any header name\n",
    "\n",
    "df=pd.read_csv('car.csv',header=0,names=[\"ID\", \"Car_Name\", \"Price\",\"PurchaseDate\"])\n",
    "df"
   ]
  },
  {
   "cell_type": "code",
   "execution_count": 103,
   "id": "4a2651f0",
   "metadata": {},
   "outputs": [
    {
     "data": {
      "text/plain": [
       "str"
      ]
     },
     "execution_count": 103,
     "metadata": {},
     "output_type": "execute_result"
    }
   ],
   "source": [
    "#to view any data type of column\n",
    "\n",
    "type(df[\"PurchaseDate\"][0])"
   ]
  },
  {
   "cell_type": "code",
   "execution_count": 104,
   "id": "af5feb48",
   "metadata": {},
   "outputs": [
    {
     "name": "stderr",
     "output_type": "stream",
     "text": [
      "C:\\Users\\Rima Das\\anaconda3\\lib\\site-packages\\pandas\\io\\parsers\\base_parser.py:1070: UserWarning: Parsing '24/08/1989' in DD/MM/YYYY format. Provide format or specify infer_datetime_format=True for consistent parsing.\n",
      "  return tools.to_datetime(\n",
      "C:\\Users\\Rima Das\\anaconda3\\lib\\site-packages\\pandas\\io\\parsers\\base_parser.py:1070: UserWarning: Parsing '23/12/1987' in DD/MM/YYYY format. Provide format or specify infer_datetime_format=True for consistent parsing.\n",
      "  return tools.to_datetime(\n",
      "C:\\Users\\Rima Das\\anaconda3\\lib\\site-packages\\pandas\\io\\parsers\\base_parser.py:1070: UserWarning: Parsing '13/06/2023' in DD/MM/YYYY format. Provide format or specify infer_datetime_format=True for consistent parsing.\n",
      "  return tools.to_datetime(\n",
      "C:\\Users\\Rima Das\\anaconda3\\lib\\site-packages\\pandas\\io\\parsers\\base_parser.py:1070: UserWarning: Parsing '19/12/2021' in DD/MM/YYYY format. Provide format or specify infer_datetime_format=True for consistent parsing.\n",
      "  return tools.to_datetime(\n",
      "C:\\Users\\Rima Das\\anaconda3\\lib\\site-packages\\pandas\\io\\parsers\\base_parser.py:1070: UserWarning: Parsing '14/12/2022' in DD/MM/YYYY format. Provide format or specify infer_datetime_format=True for consistent parsing.\n",
      "  return tools.to_datetime(\n"
     ]
    },
    {
     "data": {
      "text/html": [
       "<div>\n",
       "<style scoped>\n",
       "    .dataframe tbody tr th:only-of-type {\n",
       "        vertical-align: middle;\n",
       "    }\n",
       "\n",
       "    .dataframe tbody tr th {\n",
       "        vertical-align: top;\n",
       "    }\n",
       "\n",
       "    .dataframe thead th {\n",
       "        text-align: right;\n",
       "    }\n",
       "</style>\n",
       "<table border=\"1\" class=\"dataframe\">\n",
       "  <thead>\n",
       "    <tr style=\"text-align: right;\">\n",
       "      <th></th>\n",
       "      <th>ID</th>\n",
       "      <th>Car_Name</th>\n",
       "      <th>Price</th>\n",
       "      <th>PurchaseDate</th>\n",
       "    </tr>\n",
       "  </thead>\n",
       "  <tbody>\n",
       "    <tr>\n",
       "      <th>0</th>\n",
       "      <td>101</td>\n",
       "      <td>Tesla</td>\n",
       "      <td>12121212</td>\n",
       "      <td>1989-08-24</td>\n",
       "    </tr>\n",
       "    <tr>\n",
       "      <th>1</th>\n",
       "      <td>102</td>\n",
       "      <td>Toyota</td>\n",
       "      <td>242424</td>\n",
       "      <td>1987-12-23</td>\n",
       "    </tr>\n",
       "    <tr>\n",
       "      <th>2</th>\n",
       "      <td>103</td>\n",
       "      <td>Audi</td>\n",
       "      <td>11111666</td>\n",
       "      <td>2023-06-13</td>\n",
       "    </tr>\n",
       "    <tr>\n",
       "      <th>3</th>\n",
       "      <td>104</td>\n",
       "      <td>Maruti</td>\n",
       "      <td>4545454</td>\n",
       "      <td>2021-12-19</td>\n",
       "    </tr>\n",
       "    <tr>\n",
       "      <th>4</th>\n",
       "      <td>105</td>\n",
       "      <td>BMW</td>\n",
       "      <td>989898989</td>\n",
       "      <td>2022-12-14</td>\n",
       "    </tr>\n",
       "    <tr>\n",
       "      <th>5</th>\n",
       "      <td>106</td>\n",
       "      <td>Kia</td>\n",
       "      <td>8888888</td>\n",
       "      <td>2023-02-08</td>\n",
       "    </tr>\n",
       "  </tbody>\n",
       "</table>\n",
       "</div>"
      ],
      "text/plain": [
       "    ID Car_Name      Price PurchaseDate\n",
       "0  101    Tesla   12121212   1989-08-24\n",
       "1  102   Toyota     242424   1987-12-23\n",
       "2  103     Audi   11111666   2023-06-13\n",
       "3  104   Maruti    4545454   2021-12-19\n",
       "4  105      BMW  989898989   2022-12-14\n",
       "5  106      Kia    8888888   2023-02-08"
      ]
     },
     "execution_count": 104,
     "metadata": {},
     "output_type": "execute_result"
    }
   ],
   "source": [
    "#to change any datatype of date, use this parse_dates\n",
    "\n",
    "df=pd.read_csv('car.csv',header=0,names=[\"ID\", \"Car_Name\", \"Price\",\"PurchaseDate\"],parse_dates=[\"PurchaseDate\"])\n",
    "df"
   ]
  },
  {
   "cell_type": "code",
   "execution_count": 105,
   "id": "741e7c0c",
   "metadata": {},
   "outputs": [
    {
     "data": {
      "text/plain": [
       "pandas._libs.tslibs.timestamps.Timestamp"
      ]
     },
     "execution_count": 105,
     "metadata": {},
     "output_type": "execute_result"
    }
   ],
   "source": [
    "type(df[\"PurchaseDate\"][0])"
   ]
  },
  {
   "cell_type": "code",
   "execution_count": 107,
   "id": "254a2891",
   "metadata": {},
   "outputs": [
    {
     "name": "stderr",
     "output_type": "stream",
     "text": [
      "C:\\Users\\Rima Das\\anaconda3\\lib\\site-packages\\pandas\\io\\parsers\\base_parser.py:1070: UserWarning: Parsing '24/08/1989' in DD/MM/YYYY format. Provide format or specify infer_datetime_format=True for consistent parsing.\n",
      "  return tools.to_datetime(\n",
      "C:\\Users\\Rima Das\\anaconda3\\lib\\site-packages\\pandas\\io\\parsers\\base_parser.py:1070: UserWarning: Parsing '23/12/1987' in DD/MM/YYYY format. Provide format or specify infer_datetime_format=True for consistent parsing.\n",
      "  return tools.to_datetime(\n",
      "C:\\Users\\Rima Das\\anaconda3\\lib\\site-packages\\pandas\\io\\parsers\\base_parser.py:1070: UserWarning: Parsing '13/06/2023' in DD/MM/YYYY format. Provide format or specify infer_datetime_format=True for consistent parsing.\n",
      "  return tools.to_datetime(\n",
      "C:\\Users\\Rima Das\\anaconda3\\lib\\site-packages\\pandas\\io\\parsers\\base_parser.py:1070: UserWarning: Parsing '19/12/2021' in DD/MM/YYYY format. Provide format or specify infer_datetime_format=True for consistent parsing.\n",
      "  return tools.to_datetime(\n",
      "C:\\Users\\Rima Das\\anaconda3\\lib\\site-packages\\pandas\\io\\parsers\\base_parser.py:1070: UserWarning: Parsing '14/12/2022' in DD/MM/YYYY format. Provide format or specify infer_datetime_format=True for consistent parsing.\n",
      "  return tools.to_datetime(\n"
     ]
    },
    {
     "data": {
      "text/html": [
       "<div>\n",
       "<style scoped>\n",
       "    .dataframe tbody tr th:only-of-type {\n",
       "        vertical-align: middle;\n",
       "    }\n",
       "\n",
       "    .dataframe tbody tr th {\n",
       "        vertical-align: top;\n",
       "    }\n",
       "\n",
       "    .dataframe thead th {\n",
       "        text-align: right;\n",
       "    }\n",
       "</style>\n",
       "<table border=\"1\" class=\"dataframe\">\n",
       "  <thead>\n",
       "    <tr style=\"text-align: right;\">\n",
       "      <th></th>\n",
       "      <th>Car_Name</th>\n",
       "      <th>Price</th>\n",
       "      <th>PurchaseDate</th>\n",
       "    </tr>\n",
       "    <tr>\n",
       "      <th>ID</th>\n",
       "      <th></th>\n",
       "      <th></th>\n",
       "      <th></th>\n",
       "    </tr>\n",
       "  </thead>\n",
       "  <tbody>\n",
       "    <tr>\n",
       "      <th>101</th>\n",
       "      <td>Tesla</td>\n",
       "      <td>12121212</td>\n",
       "      <td>1989-08-24</td>\n",
       "    </tr>\n",
       "    <tr>\n",
       "      <th>102</th>\n",
       "      <td>Toyota</td>\n",
       "      <td>242424</td>\n",
       "      <td>1987-12-23</td>\n",
       "    </tr>\n",
       "    <tr>\n",
       "      <th>103</th>\n",
       "      <td>Audi</td>\n",
       "      <td>11111666</td>\n",
       "      <td>2023-06-13</td>\n",
       "    </tr>\n",
       "    <tr>\n",
       "      <th>104</th>\n",
       "      <td>Maruti</td>\n",
       "      <td>4545454</td>\n",
       "      <td>2021-12-19</td>\n",
       "    </tr>\n",
       "    <tr>\n",
       "      <th>105</th>\n",
       "      <td>BMW</td>\n",
       "      <td>989898989</td>\n",
       "      <td>2022-12-14</td>\n",
       "    </tr>\n",
       "    <tr>\n",
       "      <th>106</th>\n",
       "      <td>Kia</td>\n",
       "      <td>8888888</td>\n",
       "      <td>2023-02-08</td>\n",
       "    </tr>\n",
       "  </tbody>\n",
       "</table>\n",
       "</div>"
      ],
      "text/plain": [
       "    Car_Name      Price PurchaseDate\n",
       "ID                                  \n",
       "101    Tesla   12121212   1989-08-24\n",
       "102   Toyota     242424   1987-12-23\n",
       "103     Audi   11111666   2023-06-13\n",
       "104   Maruti    4545454   2021-12-19\n",
       "105      BMW  989898989   2022-12-14\n",
       "106      Kia    8888888   2023-02-08"
      ]
     },
     "execution_count": 107,
     "metadata": {},
     "output_type": "execute_result"
    }
   ],
   "source": [
    "df=pd.read_csv('car.csv',index_col=[\"ID\"],header=0,names=[\"ID\", \"Car_Name\", \"Price\",\"PurchaseDate\"],parse_dates=[\"PurchaseDate\"])\n",
    "df"
   ]
  },
  {
   "cell_type": "code",
   "execution_count": 108,
   "id": "b699a33a",
   "metadata": {},
   "outputs": [],
   "source": [
    "#to save csv File\n",
    "\n",
    "df.to_csv('carmodified.csv')"
   ]
  },
  {
   "cell_type": "code",
   "execution_count": 109,
   "id": "4b302243",
   "metadata": {},
   "outputs": [
    {
     "data": {
      "text/html": [
       "<div>\n",
       "<style scoped>\n",
       "    .dataframe tbody tr th:only-of-type {\n",
       "        vertical-align: middle;\n",
       "    }\n",
       "\n",
       "    .dataframe tbody tr th {\n",
       "        vertical-align: top;\n",
       "    }\n",
       "\n",
       "    .dataframe thead th {\n",
       "        text-align: right;\n",
       "    }\n",
       "</style>\n",
       "<table border=\"1\" class=\"dataframe\">\n",
       "  <thead>\n",
       "    <tr style=\"text-align: right;\">\n",
       "      <th></th>\n",
       "      <th>ID</th>\n",
       "      <th>Car_Name</th>\n",
       "      <th>Price</th>\n",
       "      <th>PurchaseDate</th>\n",
       "    </tr>\n",
       "  </thead>\n",
       "  <tbody>\n",
       "    <tr>\n",
       "      <th>0</th>\n",
       "      <td>101</td>\n",
       "      <td>Tesla</td>\n",
       "      <td>12121212</td>\n",
       "      <td>1989-08-24</td>\n",
       "    </tr>\n",
       "    <tr>\n",
       "      <th>1</th>\n",
       "      <td>102</td>\n",
       "      <td>Toyota</td>\n",
       "      <td>242424</td>\n",
       "      <td>1987-12-23</td>\n",
       "    </tr>\n",
       "    <tr>\n",
       "      <th>2</th>\n",
       "      <td>103</td>\n",
       "      <td>Audi</td>\n",
       "      <td>11111666</td>\n",
       "      <td>2023-06-13</td>\n",
       "    </tr>\n",
       "    <tr>\n",
       "      <th>3</th>\n",
       "      <td>104</td>\n",
       "      <td>Maruti</td>\n",
       "      <td>4545454</td>\n",
       "      <td>2021-12-19</td>\n",
       "    </tr>\n",
       "    <tr>\n",
       "      <th>4</th>\n",
       "      <td>105</td>\n",
       "      <td>BMW</td>\n",
       "      <td>989898989</td>\n",
       "      <td>2022-12-14</td>\n",
       "    </tr>\n",
       "    <tr>\n",
       "      <th>5</th>\n",
       "      <td>106</td>\n",
       "      <td>Kia</td>\n",
       "      <td>8888888</td>\n",
       "      <td>2023-02-08</td>\n",
       "    </tr>\n",
       "  </tbody>\n",
       "</table>\n",
       "</div>"
      ],
      "text/plain": [
       "    ID Car_Name      Price PurchaseDate\n",
       "0  101    Tesla   12121212   1989-08-24\n",
       "1  102   Toyota     242424   1987-12-23\n",
       "2  103     Audi   11111666   2023-06-13\n",
       "3  104   Maruti    4545454   2021-12-19\n",
       "4  105      BMW  989898989   2022-12-14\n",
       "5  106      Kia    8888888   2023-02-08"
      ]
     },
     "execution_count": 109,
     "metadata": {},
     "output_type": "execute_result"
    }
   ],
   "source": [
    "#to read cvs \n",
    "\n",
    "df=pd.read_csv('carmodified.csv')\n",
    "df"
   ]
  },
  {
   "cell_type": "code",
   "execution_count": 110,
   "id": "1d274c86",
   "metadata": {},
   "outputs": [
    {
     "data": {
      "text/plain": [
       "242424"
      ]
     },
     "execution_count": 110,
     "metadata": {},
     "output_type": "execute_result"
    }
   ],
   "source": [
    "#to view min value\n",
    "\n",
    "df['Price'].min()"
   ]
  },
  {
   "cell_type": "code",
   "execution_count": 111,
   "id": "356abf92",
   "metadata": {},
   "outputs": [
    {
     "data": {
      "text/plain": [
       "989898989"
      ]
     },
     "execution_count": 111,
     "metadata": {},
     "output_type": "execute_result"
    }
   ],
   "source": [
    "#to view max value\n",
    "\n",
    "df['Price'].max()"
   ]
  },
  {
   "cell_type": "code",
   "execution_count": 112,
   "id": "91d0ca61",
   "metadata": {},
   "outputs": [
    {
     "data": {
      "text/plain": [
       "<AxesSubplot:>"
      ]
     },
     "execution_count": 112,
     "metadata": {},
     "output_type": "execute_result"
    },
    {
     "data": {
      "image/png": "[encoded data removed]",
      "text/plain": [
       "<Figure size 640x480 with 1 Axes>"
      ]
     },
     "metadata": {},
     "output_type": "display_data"
    }
   ],
   "source": [
    "df[\"Price\"].plot.bar()"
   ]
  },
  {
   "cell_type": "markdown",
   "id": "11b9044c",
   "metadata": {},
   "source": [
    "# 22nd May `Live Class'"
   ]
  },
  {
   "cell_type": "markdown",
   "id": "1793d343",
   "metadata": {},
   "source": [
    "## Indexing and slicing in Pandas"
   ]
  },
  {
   "cell_type": "markdown",
   "id": "c26d1eee",
   "metadata": {},
   "source": [
    "There are two function to do slicing:\n",
    "1. loc (label based/location based)\n",
    "2. iloc (index location based indexing)"
   ]
  },
  {
   "cell_type": "markdown",
   "id": "48d60efa",
   "metadata": {},
   "source": [
    "### loc (location Based)"
   ]
  },
  {
   "cell_type": "raw",
   "id": "08c8d385",
   "metadata": {},
   "source": [
    "loc[row_start:row_end,label_name or column_name]"
   ]
  },
  {
   "cell_type": "code",
   "execution_count": 1,
   "id": "590f7922",
   "metadata": {},
   "outputs": [],
   "source": [
    "import pandas as pd\n",
    "import numpy as np"
   ]
  },
  {
   "cell_type": "code",
   "execution_count": 3,
   "id": "4cb57f96",
   "metadata": {},
   "outputs": [
    {
     "name": "stdout",
     "output_type": "stream",
     "text": [
      "          A         B         C         D\n",
      "0  0.366782  0.208497  0.722600 -1.368594\n",
      "1  0.567277 -0.844600  0.192143 -0.490315\n",
      "2 -0.039250 -0.280804  1.648463 -0.853690\n",
      "3  1.475731 -0.365661 -0.051053  1.089490\n",
      "4  0.488688  0.819857  1.673325  0.447099\n",
      "5 -0.257256  0.704390 -0.695860  0.787586\n",
      "6 -1.691852  1.554639 -0.708927 -0.946746\n",
      "7  0.522660 -0.217033 -1.888047  1.453887\n"
     ]
    }
   ],
   "source": [
    "#df=pd.DataFrame(np.random.randn(8,4),index=['a','b','c','d'],columns=['A','B','C','D'])\n",
    "\n",
    "df=pd.DataFrame(np.random.randn(8,4),columns=[\"A\",\"B\",\"C\",\"D\"])\n",
    "\n",
    "print(df)"
   ]
  },
  {
   "cell_type": "markdown",
   "id": "0061da56",
   "metadata": {},
   "source": [
    "##### loc operation"
   ]
  },
  {
   "cell_type": "code",
   "execution_count": 4,
   "id": "9b4a8a11",
   "metadata": {},
   "outputs": [
    {
     "name": "stdout",
     "output_type": "stream",
     "text": [
      "0    0.366782\n",
      "1    0.567277\n",
      "2   -0.039250\n",
      "3    1.475731\n",
      "4    0.488688\n",
      "5   -0.257256\n",
      "6   -1.691852\n",
      "7    0.522660\n",
      "Name: A, dtype: float64\n"
     ]
    }
   ],
   "source": [
    "print(df.loc[:,\"A\"])"
   ]
  },
  {
   "cell_type": "code",
   "execution_count": 7,
   "id": "4d685ab7",
   "metadata": {},
   "outputs": [
    {
     "name": "stdout",
     "output_type": "stream",
     "text": [
      "          B         D\n",
      "0  0.208497 -1.368594\n",
      "1 -0.844600 -0.490315\n",
      "2 -0.280804 -0.853690\n",
      "3 -0.365661  1.089490\n",
      "4  0.819857  0.447099\n",
      "5  0.704390  0.787586\n",
      "6  1.554639 -0.946746\n",
      "7 -0.217033  1.453887\n"
     ]
    }
   ],
   "source": [
    "#two view two columns with loc operation\n",
    "\n",
    "print(df.loc[:,[\"B\",\"D\"]])"
   ]
  },
  {
   "cell_type": "markdown",
   "id": "549b64e1",
   "metadata": {},
   "source": [
    "### iloc operation"
   ]
  },
  {
   "cell_type": "raw",
   "id": "e646e5df",
   "metadata": {},
   "source": [
    "df.iloc[rowstart:rowend,columnstart:columnend]"
   ]
  },
  {
   "cell_type": "code",
   "execution_count": 8,
   "id": "208417d8",
   "metadata": {},
   "outputs": [
    {
     "name": "stdout",
     "output_type": "stream",
     "text": [
      "          A         B         C         D\n",
      "0  0.366782  0.208497  0.722600 -1.368594\n",
      "1  0.567277 -0.844600  0.192143 -0.490315\n",
      "2 -0.039250 -0.280804  1.648463 -0.853690\n",
      "3  1.475731 -0.365661 -0.051053  1.089490\n"
     ]
    }
   ],
   "source": [
    "print(df.iloc[:4,:])"
   ]
  },
  {
   "cell_type": "code",
   "execution_count": 9,
   "id": "7ac15e75",
   "metadata": {},
   "outputs": [
    {
     "name": "stdout",
     "output_type": "stream",
     "text": [
      "0    0.366782\n",
      "1    0.567277\n",
      "2   -0.039250\n",
      "3    1.475731\n",
      "4    0.488688\n",
      "5   -0.257256\n",
      "6   -1.691852\n",
      "7    0.522660\n",
      "Name: A, dtype: float64\n"
     ]
    }
   ],
   "source": [
    "print(df.iloc[:,0])"
   ]
  },
  {
   "cell_type": "code",
   "execution_count": 10,
   "id": "4833240a",
   "metadata": {},
   "outputs": [
    {
     "name": "stdout",
     "output_type": "stream",
     "text": [
      "2    1.648463\n",
      "3   -0.051053\n",
      "4    1.673325\n",
      "5   -0.695860\n",
      "Name: C, dtype: float64\n"
     ]
    }
   ],
   "source": [
    "print(df.iloc[2:6,2])"
   ]
  },
  {
   "cell_type": "code",
   "execution_count": 11,
   "id": "c1c72909",
   "metadata": {},
   "outputs": [
    {
     "name": "stdout",
     "output_type": "stream",
     "text": [
      "          C         D\n",
      "1  0.192143 -0.490315\n",
      "2  1.648463 -0.853690\n",
      "3 -0.051053  1.089490\n",
      "4  1.673325  0.447099\n"
     ]
    }
   ],
   "source": [
    "print(df.iloc[1:5,2:4])"
   ]
  },
  {
   "cell_type": "markdown",
   "id": "33edb8a1",
   "metadata": {},
   "source": [
    "### Negative Indexing"
   ]
  },
  {
   "cell_type": "code",
   "execution_count": 12,
   "id": "e1a3f958",
   "metadata": {},
   "outputs": [
    {
     "data": {
      "text/html": [
       "<div>\n",
       "<style scoped>\n",
       "    .dataframe tbody tr th:only-of-type {\n",
       "        vertical-align: middle;\n",
       "    }\n",
       "\n",
       "    .dataframe tbody tr th {\n",
       "        vertical-align: top;\n",
       "    }\n",
       "\n",
       "    .dataframe thead th {\n",
       "        text-align: right;\n",
       "    }\n",
       "</style>\n",
       "<table border=\"1\" class=\"dataframe\">\n",
       "  <thead>\n",
       "    <tr style=\"text-align: right;\">\n",
       "      <th></th>\n",
       "      <th>A</th>\n",
       "      <th>B</th>\n",
       "      <th>C</th>\n",
       "    </tr>\n",
       "  </thead>\n",
       "  <tbody>\n",
       "    <tr>\n",
       "      <th>2</th>\n",
       "      <td>-0.039250</td>\n",
       "      <td>-0.280804</td>\n",
       "      <td>1.648463</td>\n",
       "    </tr>\n",
       "    <tr>\n",
       "      <th>3</th>\n",
       "      <td>1.475731</td>\n",
       "      <td>-0.365661</td>\n",
       "      <td>-0.051053</td>\n",
       "    </tr>\n",
       "    <tr>\n",
       "      <th>4</th>\n",
       "      <td>0.488688</td>\n",
       "      <td>0.819857</td>\n",
       "      <td>1.673325</td>\n",
       "    </tr>\n",
       "  </tbody>\n",
       "</table>\n",
       "</div>"
      ],
      "text/plain": [
       "          A         B         C\n",
       "2 -0.039250 -0.280804  1.648463\n",
       "3  1.475731 -0.365661 -0.051053\n",
       "4  0.488688  0.819857  1.673325"
      ]
     },
     "execution_count": 12,
     "metadata": {},
     "output_type": "execute_result"
    }
   ],
   "source": [
    "df.iloc[2:5,-4:-1]"
   ]
  },
  {
   "cell_type": "code",
   "execution_count": 13,
   "id": "bc838139",
   "metadata": {},
   "outputs": [
    {
     "data": {
      "text/html": [
       "<div>\n",
       "<style scoped>\n",
       "    .dataframe tbody tr th:only-of-type {\n",
       "        vertical-align: middle;\n",
       "    }\n",
       "\n",
       "    .dataframe tbody tr th {\n",
       "        vertical-align: top;\n",
       "    }\n",
       "\n",
       "    .dataframe thead th {\n",
       "        text-align: right;\n",
       "    }\n",
       "</style>\n",
       "<table border=\"1\" class=\"dataframe\">\n",
       "  <thead>\n",
       "    <tr style=\"text-align: right;\">\n",
       "      <th></th>\n",
       "      <th>A</th>\n",
       "      <th>B</th>\n",
       "    </tr>\n",
       "  </thead>\n",
       "  <tbody>\n",
       "    <tr>\n",
       "      <th>2</th>\n",
       "      <td>-0.039250</td>\n",
       "      <td>-0.280804</td>\n",
       "    </tr>\n",
       "    <tr>\n",
       "      <th>3</th>\n",
       "      <td>1.475731</td>\n",
       "      <td>-0.365661</td>\n",
       "    </tr>\n",
       "    <tr>\n",
       "      <th>4</th>\n",
       "      <td>0.488688</td>\n",
       "      <td>0.819857</td>\n",
       "    </tr>\n",
       "    <tr>\n",
       "      <th>5</th>\n",
       "      <td>-0.257256</td>\n",
       "      <td>0.704390</td>\n",
       "    </tr>\n",
       "  </tbody>\n",
       "</table>\n",
       "</div>"
      ],
      "text/plain": [
       "          A         B\n",
       "2 -0.039250 -0.280804\n",
       "3  1.475731 -0.365661\n",
       "4  0.488688  0.819857\n",
       "5 -0.257256  0.704390"
      ]
     },
     "execution_count": 13,
     "metadata": {},
     "output_type": "execute_result"
    }
   ],
   "source": [
    "df.iloc[2:6,-4:-2]"
   ]
  },
  {
   "cell_type": "code",
   "execution_count": 14,
   "id": "8692e693",
   "metadata": {},
   "outputs": [
    {
     "data": {
      "text/html": [
       "<div>\n",
       "<style scoped>\n",
       "    .dataframe tbody tr th:only-of-type {\n",
       "        vertical-align: middle;\n",
       "    }\n",
       "\n",
       "    .dataframe tbody tr th {\n",
       "        vertical-align: top;\n",
       "    }\n",
       "\n",
       "    .dataframe thead th {\n",
       "        text-align: right;\n",
       "    }\n",
       "</style>\n",
       "<table border=\"1\" class=\"dataframe\">\n",
       "  <thead>\n",
       "    <tr style=\"text-align: right;\">\n",
       "      <th></th>\n",
       "      <th>B</th>\n",
       "      <th>C</th>\n",
       "    </tr>\n",
       "  </thead>\n",
       "  <tbody>\n",
       "    <tr>\n",
       "      <th>3</th>\n",
       "      <td>-0.365661</td>\n",
       "      <td>-0.051053</td>\n",
       "    </tr>\n",
       "    <tr>\n",
       "      <th>4</th>\n",
       "      <td>0.819857</td>\n",
       "      <td>1.673325</td>\n",
       "    </tr>\n",
       "    <tr>\n",
       "      <th>5</th>\n",
       "      <td>0.704390</td>\n",
       "      <td>-0.695860</td>\n",
       "    </tr>\n",
       "    <tr>\n",
       "      <th>6</th>\n",
       "      <td>1.554639</td>\n",
       "      <td>-0.708927</td>\n",
       "    </tr>\n",
       "  </tbody>\n",
       "</table>\n",
       "</div>"
      ],
      "text/plain": [
       "          B         C\n",
       "3 -0.365661 -0.051053\n",
       "4  0.819857  1.673325\n",
       "5  0.704390 -0.695860\n",
       "6  1.554639 -0.708927"
      ]
     },
     "execution_count": 14,
     "metadata": {},
     "output_type": "execute_result"
    }
   ],
   "source": [
    "df.iloc[3:7,-3:-1]"
   ]
  },
  {
   "cell_type": "code",
   "execution_count": 15,
   "id": "82cab8c0",
   "metadata": {},
   "outputs": [
    {
     "data": {
      "text/html": [
       "<div>\n",
       "<style scoped>\n",
       "    .dataframe tbody tr th:only-of-type {\n",
       "        vertical-align: middle;\n",
       "    }\n",
       "\n",
       "    .dataframe tbody tr th {\n",
       "        vertical-align: top;\n",
       "    }\n",
       "\n",
       "    .dataframe thead th {\n",
       "        text-align: right;\n",
       "    }\n",
       "</style>\n",
       "<table border=\"1\" class=\"dataframe\">\n",
       "  <thead>\n",
       "    <tr style=\"text-align: right;\">\n",
       "      <th></th>\n",
       "      <th>A</th>\n",
       "      <th>B</th>\n",
       "      <th>C</th>\n",
       "    </tr>\n",
       "  </thead>\n",
       "  <tbody>\n",
       "    <tr>\n",
       "      <th>0</th>\n",
       "      <td>0.366782</td>\n",
       "      <td>0.208497</td>\n",
       "      <td>0.722600</td>\n",
       "    </tr>\n",
       "    <tr>\n",
       "      <th>1</th>\n",
       "      <td>0.567277</td>\n",
       "      <td>-0.844600</td>\n",
       "      <td>0.192143</td>\n",
       "    </tr>\n",
       "    <tr>\n",
       "      <th>2</th>\n",
       "      <td>-0.039250</td>\n",
       "      <td>-0.280804</td>\n",
       "      <td>1.648463</td>\n",
       "    </tr>\n",
       "    <tr>\n",
       "      <th>3</th>\n",
       "      <td>1.475731</td>\n",
       "      <td>-0.365661</td>\n",
       "      <td>-0.051053</td>\n",
       "    </tr>\n",
       "    <tr>\n",
       "      <th>4</th>\n",
       "      <td>0.488688</td>\n",
       "      <td>0.819857</td>\n",
       "      <td>1.673325</td>\n",
       "    </tr>\n",
       "    <tr>\n",
       "      <th>5</th>\n",
       "      <td>-0.257256</td>\n",
       "      <td>0.704390</td>\n",
       "      <td>-0.695860</td>\n",
       "    </tr>\n",
       "    <tr>\n",
       "      <th>6</th>\n",
       "      <td>-1.691852</td>\n",
       "      <td>1.554639</td>\n",
       "      <td>-0.708927</td>\n",
       "    </tr>\n",
       "    <tr>\n",
       "      <th>7</th>\n",
       "      <td>0.522660</td>\n",
       "      <td>-0.217033</td>\n",
       "      <td>-1.888047</td>\n",
       "    </tr>\n",
       "  </tbody>\n",
       "</table>\n",
       "</div>"
      ],
      "text/plain": [
       "          A         B         C\n",
       "0  0.366782  0.208497  0.722600\n",
       "1  0.567277 -0.844600  0.192143\n",
       "2 -0.039250 -0.280804  1.648463\n",
       "3  1.475731 -0.365661 -0.051053\n",
       "4  0.488688  0.819857  1.673325\n",
       "5 -0.257256  0.704390 -0.695860\n",
       "6 -1.691852  1.554639 -0.708927\n",
       "7  0.522660 -0.217033 -1.888047"
      ]
     },
     "execution_count": 15,
     "metadata": {},
     "output_type": "execute_result"
    }
   ],
   "source": [
    "df.iloc[:,-4:-1]"
   ]
  },
  {
   "cell_type": "code",
   "execution_count": 16,
   "id": "14f8699d",
   "metadata": {},
   "outputs": [
    {
     "data": {
      "text/html": [
       "<div>\n",
       "<style scoped>\n",
       "    .dataframe tbody tr th:only-of-type {\n",
       "        vertical-align: middle;\n",
       "    }\n",
       "\n",
       "    .dataframe tbody tr th {\n",
       "        vertical-align: top;\n",
       "    }\n",
       "\n",
       "    .dataframe thead th {\n",
       "        text-align: right;\n",
       "    }\n",
       "</style>\n",
       "<table border=\"1\" class=\"dataframe\">\n",
       "  <thead>\n",
       "    <tr style=\"text-align: right;\">\n",
       "      <th></th>\n",
       "      <th>C</th>\n",
       "    </tr>\n",
       "  </thead>\n",
       "  <tbody>\n",
       "    <tr>\n",
       "      <th>0</th>\n",
       "      <td>0.722600</td>\n",
       "    </tr>\n",
       "    <tr>\n",
       "      <th>1</th>\n",
       "      <td>0.192143</td>\n",
       "    </tr>\n",
       "    <tr>\n",
       "      <th>2</th>\n",
       "      <td>1.648463</td>\n",
       "    </tr>\n",
       "    <tr>\n",
       "      <th>3</th>\n",
       "      <td>-0.051053</td>\n",
       "    </tr>\n",
       "    <tr>\n",
       "      <th>4</th>\n",
       "      <td>1.673325</td>\n",
       "    </tr>\n",
       "    <tr>\n",
       "      <th>5</th>\n",
       "      <td>-0.695860</td>\n",
       "    </tr>\n",
       "    <tr>\n",
       "      <th>6</th>\n",
       "      <td>-0.708927</td>\n",
       "    </tr>\n",
       "    <tr>\n",
       "      <th>7</th>\n",
       "      <td>-1.888047</td>\n",
       "    </tr>\n",
       "  </tbody>\n",
       "</table>\n",
       "</div>"
      ],
      "text/plain": [
       "          C\n",
       "0  0.722600\n",
       "1  0.192143\n",
       "2  1.648463\n",
       "3 -0.051053\n",
       "4  1.673325\n",
       "5 -0.695860\n",
       "6 -0.708927\n",
       "7 -1.888047"
      ]
     },
     "execution_count": 16,
     "metadata": {},
     "output_type": "execute_result"
    }
   ],
   "source": [
    "df.iloc[:,-2:-1]"
   ]
  },
  {
   "cell_type": "code",
   "execution_count": 17,
   "id": "cedd6386",
   "metadata": {},
   "outputs": [
    {
     "data": {
      "text/html": [
       "<div>\n",
       "<style scoped>\n",
       "    .dataframe tbody tr th:only-of-type {\n",
       "        vertical-align: middle;\n",
       "    }\n",
       "\n",
       "    .dataframe tbody tr th {\n",
       "        vertical-align: top;\n",
       "    }\n",
       "\n",
       "    .dataframe thead th {\n",
       "        text-align: right;\n",
       "    }\n",
       "</style>\n",
       "<table border=\"1\" class=\"dataframe\">\n",
       "  <thead>\n",
       "    <tr style=\"text-align: right;\">\n",
       "      <th></th>\n",
       "      <th>A</th>\n",
       "      <th>B</th>\n",
       "      <th>C</th>\n",
       "      <th>D</th>\n",
       "    </tr>\n",
       "  </thead>\n",
       "  <tbody>\n",
       "    <tr>\n",
       "      <th>1</th>\n",
       "      <td>0.567277</td>\n",
       "      <td>-0.844600</td>\n",
       "      <td>0.192143</td>\n",
       "      <td>-0.490315</td>\n",
       "    </tr>\n",
       "    <tr>\n",
       "      <th>2</th>\n",
       "      <td>-0.039250</td>\n",
       "      <td>-0.280804</td>\n",
       "      <td>1.648463</td>\n",
       "      <td>-0.853690</td>\n",
       "    </tr>\n",
       "    <tr>\n",
       "      <th>3</th>\n",
       "      <td>1.475731</td>\n",
       "      <td>-0.365661</td>\n",
       "      <td>-0.051053</td>\n",
       "      <td>1.089490</td>\n",
       "    </tr>\n",
       "  </tbody>\n",
       "</table>\n",
       "</div>"
      ],
      "text/plain": [
       "          A         B         C         D\n",
       "1  0.567277 -0.844600  0.192143 -0.490315\n",
       "2 -0.039250 -0.280804  1.648463 -0.853690\n",
       "3  1.475731 -0.365661 -0.051053  1.089490"
      ]
     },
     "execution_count": 17,
     "metadata": {},
     "output_type": "execute_result"
    }
   ],
   "source": [
    "df.iloc[1:4,-4:]"
   ]
  },
  {
   "cell_type": "markdown",
   "id": "401b4fa3",
   "metadata": {},
   "source": [
    "## Reading TSV format file"
   ]
  },
  {
   "cell_type": "markdown",
   "id": "64951e0b",
   "metadata": {},
   "source": [
    "TSV means Tab separated Values"
   ]
  },
  {
   "cell_type": "code",
   "execution_count": 18,
   "id": "5b4bb2d8",
   "metadata": {},
   "outputs": [
    {
     "data": {
      "text/html": [
       "<div>\n",
       "<style scoped>\n",
       "    .dataframe tbody tr th:only-of-type {\n",
       "        vertical-align: middle;\n",
       "    }\n",
       "\n",
       "    .dataframe tbody tr th {\n",
       "        vertical-align: top;\n",
       "    }\n",
       "\n",
       "    .dataframe thead th {\n",
       "        text-align: right;\n",
       "    }\n",
       "</style>\n",
       "<table border=\"1\" class=\"dataframe\">\n",
       "  <thead>\n",
       "    <tr style=\"text-align: right;\">\n",
       "      <th></th>\n",
       "      <th>Sno</th>\n",
       "      <th>Name</th>\n",
       "      <th>Age</th>\n",
       "    </tr>\n",
       "  </thead>\n",
       "  <tbody>\n",
       "    <tr>\n",
       "      <th>0</th>\n",
       "      <td>1</td>\n",
       "      <td>John</td>\n",
       "      <td>5</td>\n",
       "    </tr>\n",
       "    <tr>\n",
       "      <th>1</th>\n",
       "      <td>2</td>\n",
       "      <td>Jack</td>\n",
       "      <td>10</td>\n",
       "    </tr>\n",
       "    <tr>\n",
       "      <th>2</th>\n",
       "      <td>3</td>\n",
       "      <td>Lisa</td>\n",
       "      <td>8</td>\n",
       "    </tr>\n",
       "    <tr>\n",
       "      <th>3</th>\n",
       "      <td>4</td>\n",
       "      <td>Sweta</td>\n",
       "      <td>11</td>\n",
       "    </tr>\n",
       "    <tr>\n",
       "      <th>4</th>\n",
       "      <td>5</td>\n",
       "      <td>Bret</td>\n",
       "      <td>14</td>\n",
       "    </tr>\n",
       "    <tr>\n",
       "      <th>5</th>\n",
       "      <td>6</td>\n",
       "      <td>Nikolus</td>\n",
       "      <td>10</td>\n",
       "    </tr>\n",
       "  </tbody>\n",
       "</table>\n",
       "</div>"
      ],
      "text/plain": [
       "   Sno     Name  Age\n",
       "0    1     John    5\n",
       "1    2     Jack   10\n",
       "2    3     Lisa    8\n",
       "3    4    Sweta   11\n",
       "4    5     Bret   14\n",
       "5    6  Nikolus   10"
      ]
     },
     "execution_count": 18,
     "metadata": {},
     "output_type": "execute_result"
    }
   ],
   "source": [
    "df1=pd.read_csv(\"agedata.csv\",sep='\\t')\n",
    "df1"
   ]
  },
  {
   "cell_type": "raw",
   "id": "a207f019",
   "metadata": {},
   "source": [
    "#write in tsv format\n",
    "\n",
    "df.to_csv(\"agedata.csv\",sep=\"\\t\")"
   ]
  },
  {
   "cell_type": "markdown",
   "id": "fc0dba6f",
   "metadata": {},
   "source": [
    "## Reading Excel File"
   ]
  },
  {
   "cell_type": "raw",
   "id": "5f10dec7",
   "metadata": {},
   "source": [
    "df2=pd.read_excel(\"salarydata.xlsx\")\n",
    "df2"
   ]
  },
  {
   "cell_type": "raw",
   "id": "654c02e5",
   "metadata": {},
   "source": [
    "#write in xlsx format\n",
    "\n",
    "df.to_csv(\"salarydata.xlsx\")"
   ]
  },
  {
   "cell_type": "markdown",
   "id": "33079ac5",
   "metadata": {},
   "source": [
    "## Read HTML File"
   ]
  },
  {
   "cell_type": "raw",
   "id": "065230f2",
   "metadata": {},
   "source": [
    "url=\n",
    "df3=pd.read_html(url)\n",
    "df3"
   ]
  },
  {
   "cell_type": "raw",
   "id": "57b709d3",
   "metadata": {},
   "source": [
    "##write in xlsx format\n",
    "\n",
    "df.to_html(\"newfile.html\")"
   ]
  },
  {
   "cell_type": "markdown",
   "id": "c27b7008",
   "metadata": {},
   "source": [
    "## Web API-Application Programming Interface"
   ]
  },
  {
   "cell_type": "code",
   "execution_count": 20,
   "id": "19207552",
   "metadata": {},
   "outputs": [
    {
     "name": "stdout",
     "output_type": "stream",
     "text": [
      "Requirement already satisfied: requests in c:\\users\\rima das\\anaconda3\\lib\\site-packages (2.28.1)\n",
      "Requirement already satisfied: idna<4,>=2.5 in c:\\users\\rima das\\anaconda3\\lib\\site-packages (from requests) (3.3)\n",
      "Requirement already satisfied: charset-normalizer<3,>=2 in c:\\users\\rima das\\anaconda3\\lib\\site-packages (from requests) (2.0.4)\n",
      "Requirement already satisfied: certifi>=2017.4.17 in c:\\users\\rima das\\anaconda3\\lib\\site-packages (from requests) (2022.9.14)\n",
      "Requirement already satisfied: urllib3<1.27,>=1.21.1 in c:\\users\\rima das\\anaconda3\\lib\\site-packages (from requests) (1.26.11)\n",
      "Note: you may need to restart the kernel to use updated packages.\n"
     ]
    }
   ],
   "source": [
    "pip install requests"
   ]
  },
  {
   "cell_type": "code",
   "execution_count": 1,
   "id": "89d5ba9a",
   "metadata": {},
   "outputs": [],
   "source": [
    "import requests"
   ]
  },
  {
   "cell_type": "code",
   "execution_count": 2,
   "id": "1c2cda26",
   "metadata": {},
   "outputs": [],
   "source": [
    "response=requests.get(\"https://en.wikipedia.org/wiki/Data_science\")"
   ]
  },
  {
   "cell_type": "code",
   "execution_count": 3,
   "id": "4402a237",
   "metadata": {},
   "outputs": [
    {
     "data": {
      "text/plain": [
       "200"
      ]
     },
     "execution_count": 3,
     "metadata": {},
     "output_type": "execute_result"
    }
   ],
   "source": [
    "response.status_code"
   ]
  },
  {
   "cell_type": "code",
   "execution_count": 4,
   "id": "c2723a08",
   "metadata": {},
   "outputs": [
    {
     "data": {
      "text/plain": [
       "200"
      ]
     },
     "execution_count": 4,
     "metadata": {},
     "output_type": "execute_result"
    }
   ],
   "source": [
    "response=requests.get(\"https://www.flipkart.com/mobile-phones-store?fm=neo%2Fmerchandising&iid=M_f6316c1a-869d-4af4-bb07-3d46b89fd785_1_372UD5BXDFYS_MC.ZRQ4DKH28K8J&otracker=hp_rich_navigation_2_1.navigationCard.RICH_NAVIGATION_Mobiles_ZRQ4DKH28K8J&otracker1=hp_rich_navigation_PINNED_neo%2Fmerchandising_NA_NAV_EXPANDABLE_navigationCard_cc_2_L0_view-all&cid=ZRQ4DKH28K8J\")\n",
    "response.status_code"
   ]
  },
  {
   "cell_type": "markdown",
   "id": "fd646198",
   "metadata": {},
   "source": [
    "**Status Code**\n",
    "\n",
    "* 200: Everthing went ok, and the result has been returned(if any)\n",
    "* 404: The resource you tried to access wasn't found on the server"
   ]
  },
  {
   "cell_type": "markdown",
   "id": "9d28777a",
   "metadata": {},
   "source": [
    "IO tools ps.read_csv(data,index_col,dtype,names)"
   ]
  },
  {
   "cell_type": "code",
   "execution_count": 6,
   "id": "8233cd8e",
   "metadata": {},
   "outputs": [
    {
     "name": "stdout",
     "output_type": "stream",
     "text": [
      "    SNo    Name   Age       City  Country   Salary\n",
      "0     1     Tom  28.0    Toronto   Canada  20000.0\n",
      "1     2     Lee  31.0    Edmonto   Canada   3900.0\n",
      "2     3    Dave  34.0    Toronto   Canada   8000.0\n",
      "3     4    Anik  26.0   HongKong     Asia  66672.0\n",
      "4     5   kamal  30.0        NaN  America      NaN\n",
      "5     6    Geet   NaN   HongKong     Asia  30007.0\n",
      "6     7  Steven  43.0    BayArea  America   8300.0\n",
      "7     8     Ram  38.0  Hyderabad     Asia  54666.0\n",
      "8     9    hari  50.0    newyork  America  67666.0\n",
      "9    11    yami   NaN    newyork  America   8888.0\n",
      "10   12    Anik  26.0   HongKong     Asia  66672.0\n",
      "11   13   kamal  30.0        NaN  America  34344.0\n",
      "12   14    Geet  22.0   HongKong     Asia  30007.0\n",
      "13   15  Steven  43.0        NaN  America   8300.0\n",
      "14   16     Ram  38.0  Hyderabad     Asia  54666.0\n",
      "15   17    hari   NaN    newyork  America  67666.0\n",
      "16   18    yami  27.0    newyork  America   8888.0\n",
      "17   19     Lee  31.0    Edmonto   Canada      NaN\n",
      "18   20  Andrew  34.0      Congo   Africa  34432.0\n",
      "19   21   soham  32.0     Angola   Africa  34534.0\n",
      "20   22    Grig  26.0    Finland   Europe  33451.0\n",
      "21   23   Kiara  27.0     London   Europe      NaN\n"
     ]
    }
   ],
   "source": [
    "#df=pd.read_csv(\"c:\\myfolder\\empl.csv\")\n",
    "\n",
    "import pandas as pd\n",
    "\n",
    "df=pd.read_csv(\"empl.csv\")\n",
    "print(df)"
   ]
  },
  {
   "cell_type": "code",
   "execution_count": 11,
   "id": "96f46376",
   "metadata": {},
   "outputs": [
    {
     "name": "stdout",
     "output_type": "stream",
     "text": [
      "       Name   Age       City  Country   Salary\n",
      "SNo                                           \n",
      "1       Tom  28.0    Toronto   Canada  20000.0\n",
      "2       Lee  31.0    Edmonto   Canada   3900.0\n",
      "3      Dave  34.0    Toronto   Canada   8000.0\n",
      "4      Anik  26.0   HongKong     Asia  66672.0\n",
      "5     kamal  30.0        NaN  America      NaN\n",
      "6      Geet   NaN   HongKong     Asia  30007.0\n",
      "7    Steven  43.0    BayArea  America   8300.0\n",
      "8       Ram  38.0  Hyderabad     Asia  54666.0\n",
      "9      hari  50.0    newyork  America  67666.0\n",
      "11     yami   NaN    newyork  America   8888.0\n",
      "12     Anik  26.0   HongKong     Asia  66672.0\n",
      "13    kamal  30.0        NaN  America  34344.0\n",
      "14     Geet  22.0   HongKong     Asia  30007.0\n",
      "15   Steven  43.0        NaN  America   8300.0\n",
      "16      Ram  38.0  Hyderabad     Asia  54666.0\n",
      "17     hari   NaN    newyork  America  67666.0\n",
      "18     yami  27.0    newyork  America   8888.0\n",
      "19      Lee  31.0    Edmonto   Canada      NaN\n",
      "20   Andrew  34.0      Congo   Africa  34432.0\n",
      "21    soham  32.0     Angola   Africa  34534.0\n",
      "22     Grig  26.0    Finland   Europe  33451.0\n",
      "23    Kiara  27.0     London   Europe      NaN\n"
     ]
    }
   ],
   "source": [
    "#to make serial index column as serial no\n",
    "\n",
    "df=pd.read_csv('empl.csv',index_col='SNo')\n",
    "print(df)"
   ]
  },
  {
   "cell_type": "code",
   "execution_count": 37,
   "id": "ebd17983",
   "metadata": {},
   "outputs": [
    {
     "name": "stdout",
     "output_type": "stream",
     "text": [
      "SNo          int64\n",
      "Name        object\n",
      "Age        float64\n",
      "City        object\n",
      "Country     object\n",
      "Salary     float64\n",
      "dtype: object\n"
     ]
    },
    {
     "data": {
      "text/html": [
       "<div>\n",
       "<style scoped>\n",
       "    .dataframe tbody tr th:only-of-type {\n",
       "        vertical-align: middle;\n",
       "    }\n",
       "\n",
       "    .dataframe tbody tr th {\n",
       "        vertical-align: top;\n",
       "    }\n",
       "\n",
       "    .dataframe thead th {\n",
       "        text-align: right;\n",
       "    }\n",
       "</style>\n",
       "<table border=\"1\" class=\"dataframe\">\n",
       "  <thead>\n",
       "    <tr style=\"text-align: right;\">\n",
       "      <th></th>\n",
       "      <th>SNo</th>\n",
       "      <th>Name</th>\n",
       "      <th>Age</th>\n",
       "      <th>City</th>\n",
       "      <th>Country</th>\n",
       "      <th>Salary</th>\n",
       "    </tr>\n",
       "  </thead>\n",
       "  <tbody>\n",
       "    <tr>\n",
       "      <th>0</th>\n",
       "      <td>1</td>\n",
       "      <td>Tom</td>\n",
       "      <td>28.0</td>\n",
       "      <td>Toronto</td>\n",
       "      <td>Canada</td>\n",
       "      <td>20000.0</td>\n",
       "    </tr>\n",
       "    <tr>\n",
       "      <th>1</th>\n",
       "      <td>2</td>\n",
       "      <td>Lee</td>\n",
       "      <td>31.0</td>\n",
       "      <td>Edmonto</td>\n",
       "      <td>Canada</td>\n",
       "      <td>3900.0</td>\n",
       "    </tr>\n",
       "    <tr>\n",
       "      <th>2</th>\n",
       "      <td>3</td>\n",
       "      <td>Dave</td>\n",
       "      <td>34.0</td>\n",
       "      <td>Toronto</td>\n",
       "      <td>Canada</td>\n",
       "      <td>8000.0</td>\n",
       "    </tr>\n",
       "    <tr>\n",
       "      <th>3</th>\n",
       "      <td>4</td>\n",
       "      <td>Anik</td>\n",
       "      <td>26.0</td>\n",
       "      <td>HongKong</td>\n",
       "      <td>Asia</td>\n",
       "      <td>66672.0</td>\n",
       "    </tr>\n",
       "    <tr>\n",
       "      <th>4</th>\n",
       "      <td>5</td>\n",
       "      <td>kamal</td>\n",
       "      <td>30.0</td>\n",
       "      <td>NaN</td>\n",
       "      <td>America</td>\n",
       "      <td>NaN</td>\n",
       "    </tr>\n",
       "    <tr>\n",
       "      <th>5</th>\n",
       "      <td>6</td>\n",
       "      <td>Geet</td>\n",
       "      <td>NaN</td>\n",
       "      <td>HongKong</td>\n",
       "      <td>Asia</td>\n",
       "      <td>30007.0</td>\n",
       "    </tr>\n",
       "    <tr>\n",
       "      <th>6</th>\n",
       "      <td>7</td>\n",
       "      <td>Steven</td>\n",
       "      <td>43.0</td>\n",
       "      <td>BayArea</td>\n",
       "      <td>America</td>\n",
       "      <td>8300.0</td>\n",
       "    </tr>\n",
       "    <tr>\n",
       "      <th>7</th>\n",
       "      <td>8</td>\n",
       "      <td>Ram</td>\n",
       "      <td>38.0</td>\n",
       "      <td>Hyderabad</td>\n",
       "      <td>Asia</td>\n",
       "      <td>54666.0</td>\n",
       "    </tr>\n",
       "    <tr>\n",
       "      <th>8</th>\n",
       "      <td>9</td>\n",
       "      <td>hari</td>\n",
       "      <td>50.0</td>\n",
       "      <td>newyork</td>\n",
       "      <td>America</td>\n",
       "      <td>67666.0</td>\n",
       "    </tr>\n",
       "    <tr>\n",
       "      <th>9</th>\n",
       "      <td>11</td>\n",
       "      <td>yami</td>\n",
       "      <td>NaN</td>\n",
       "      <td>newyork</td>\n",
       "      <td>America</td>\n",
       "      <td>8888.0</td>\n",
       "    </tr>\n",
       "    <tr>\n",
       "      <th>10</th>\n",
       "      <td>12</td>\n",
       "      <td>Anik</td>\n",
       "      <td>26.0</td>\n",
       "      <td>HongKong</td>\n",
       "      <td>Asia</td>\n",
       "      <td>66672.0</td>\n",
       "    </tr>\n",
       "    <tr>\n",
       "      <th>11</th>\n",
       "      <td>13</td>\n",
       "      <td>kamal</td>\n",
       "      <td>30.0</td>\n",
       "      <td>NaN</td>\n",
       "      <td>America</td>\n",
       "      <td>34344.0</td>\n",
       "    </tr>\n",
       "    <tr>\n",
       "      <th>12</th>\n",
       "      <td>14</td>\n",
       "      <td>Geet</td>\n",
       "      <td>22.0</td>\n",
       "      <td>HongKong</td>\n",
       "      <td>Asia</td>\n",
       "      <td>30007.0</td>\n",
       "    </tr>\n",
       "    <tr>\n",
       "      <th>13</th>\n",
       "      <td>15</td>\n",
       "      <td>Steven</td>\n",
       "      <td>43.0</td>\n",
       "      <td>NaN</td>\n",
       "      <td>America</td>\n",
       "      <td>8300.0</td>\n",
       "    </tr>\n",
       "    <tr>\n",
       "      <th>14</th>\n",
       "      <td>16</td>\n",
       "      <td>Ram</td>\n",
       "      <td>38.0</td>\n",
       "      <td>Hyderabad</td>\n",
       "      <td>Asia</td>\n",
       "      <td>54666.0</td>\n",
       "    </tr>\n",
       "    <tr>\n",
       "      <th>15</th>\n",
       "      <td>17</td>\n",
       "      <td>hari</td>\n",
       "      <td>NaN</td>\n",
       "      <td>newyork</td>\n",
       "      <td>America</td>\n",
       "      <td>67666.0</td>\n",
       "    </tr>\n",
       "    <tr>\n",
       "      <th>16</th>\n",
       "      <td>18</td>\n",
       "      <td>yami</td>\n",
       "      <td>27.0</td>\n",
       "      <td>newyork</td>\n",
       "      <td>America</td>\n",
       "      <td>8888.0</td>\n",
       "    </tr>\n",
       "    <tr>\n",
       "      <th>17</th>\n",
       "      <td>19</td>\n",
       "      <td>Lee</td>\n",
       "      <td>31.0</td>\n",
       "      <td>Edmonto</td>\n",
       "      <td>Canada</td>\n",
       "      <td>NaN</td>\n",
       "    </tr>\n",
       "    <tr>\n",
       "      <th>18</th>\n",
       "      <td>20</td>\n",
       "      <td>Andrew</td>\n",
       "      <td>34.0</td>\n",
       "      <td>Congo</td>\n",
       "      <td>Africa</td>\n",
       "      <td>34432.0</td>\n",
       "    </tr>\n",
       "    <tr>\n",
       "      <th>19</th>\n",
       "      <td>21</td>\n",
       "      <td>soham</td>\n",
       "      <td>32.0</td>\n",
       "      <td>Angola</td>\n",
       "      <td>Africa</td>\n",
       "      <td>34534.0</td>\n",
       "    </tr>\n",
       "    <tr>\n",
       "      <th>20</th>\n",
       "      <td>22</td>\n",
       "      <td>Grig</td>\n",
       "      <td>26.0</td>\n",
       "      <td>Finland</td>\n",
       "      <td>Europe</td>\n",
       "      <td>33451.0</td>\n",
       "    </tr>\n",
       "    <tr>\n",
       "      <th>21</th>\n",
       "      <td>23</td>\n",
       "      <td>Kiara</td>\n",
       "      <td>27.0</td>\n",
       "      <td>London</td>\n",
       "      <td>Europe</td>\n",
       "      <td>NaN</td>\n",
       "    </tr>\n",
       "  </tbody>\n",
       "</table>\n",
       "</div>"
      ],
      "text/plain": [
       "    SNo    Name   Age       City  Country   Salary\n",
       "0     1     Tom  28.0    Toronto   Canada  20000.0\n",
       "1     2     Lee  31.0    Edmonto   Canada   3900.0\n",
       "2     3    Dave  34.0    Toronto   Canada   8000.0\n",
       "3     4    Anik  26.0   HongKong     Asia  66672.0\n",
       "4     5   kamal  30.0        NaN  America      NaN\n",
       "5     6    Geet   NaN   HongKong     Asia  30007.0\n",
       "6     7  Steven  43.0    BayArea  America   8300.0\n",
       "7     8     Ram  38.0  Hyderabad     Asia  54666.0\n",
       "8     9    hari  50.0    newyork  America  67666.0\n",
       "9    11    yami   NaN    newyork  America   8888.0\n",
       "10   12    Anik  26.0   HongKong     Asia  66672.0\n",
       "11   13   kamal  30.0        NaN  America  34344.0\n",
       "12   14    Geet  22.0   HongKong     Asia  30007.0\n",
       "13   15  Steven  43.0        NaN  America   8300.0\n",
       "14   16     Ram  38.0  Hyderabad     Asia  54666.0\n",
       "15   17    hari   NaN    newyork  America  67666.0\n",
       "16   18    yami  27.0    newyork  America   8888.0\n",
       "17   19     Lee  31.0    Edmonto   Canada      NaN\n",
       "18   20  Andrew  34.0      Congo   Africa  34432.0\n",
       "19   21   soham  32.0     Angola   Africa  34534.0\n",
       "20   22    Grig  26.0    Finland   Europe  33451.0\n",
       "21   23   Kiara  27.0     London   Europe      NaN"
      ]
     },
     "execution_count": 37,
     "metadata": {},
     "output_type": "execute_result"
    }
   ],
   "source": [
    "#to change any datatype from int to float\n",
    "\n",
    "import numpy as np\n",
    "df6 = pd.read_csv(\"empl.csv\", dtype={'Salary': np.float64})\n",
    "print (df.dtypes)\n",
    "df6"
   ]
  },
  {
   "cell_type": "code",
   "execution_count": 38,
   "id": "d56ddc3c",
   "metadata": {},
   "outputs": [
    {
     "data": {
      "text/plain": [
       "3900.0"
      ]
     },
     "execution_count": 38,
     "metadata": {},
     "output_type": "execute_result"
    }
   ],
   "source": [
    "#to find minimum salary\n",
    "\n",
    "df6[\"Salary\"].min()"
   ]
  },
  {
   "cell_type": "code",
   "execution_count": 39,
   "id": "1d71cb01",
   "metadata": {},
   "outputs": [
    {
     "data": {
      "text/plain": [
       "67666.0"
      ]
     },
     "execution_count": 39,
     "metadata": {},
     "output_type": "execute_result"
    }
   ],
   "source": [
    "#to find maximum salary\n",
    "df6[\"Salary\"].max()"
   ]
  },
  {
   "cell_type": "code",
   "execution_count": 26,
   "id": "b844c5b3",
   "metadata": {},
   "outputs": [
    {
     "data": {
      "text/plain": [
       "<AxesSubplot:>"
      ]
     },
     "execution_count": 26,
     "metadata": {},
     "output_type": "execute_result"
    },
    {
     "data": {
      "image/png": "[encoded data removed]",
      "text/plain": [
       "<Figure size 640x480 with 1 Axes>"
      ]
     },
     "metadata": {},
     "output_type": "display_data"
    }
   ],
   "source": [
    "#To plot salary in bar()\n",
    "\n",
    "df[\"Salary\"].plot.bar()"
   ]
  },
  {
   "cell_type": "code",
   "execution_count": 40,
   "id": "27dd8475",
   "metadata": {},
   "outputs": [
    {
     "data": {
      "text/html": [
       "<div>\n",
       "<style scoped>\n",
       "    .dataframe tbody tr th:only-of-type {\n",
       "        vertical-align: middle;\n",
       "    }\n",
       "\n",
       "    .dataframe tbody tr th {\n",
       "        vertical-align: top;\n",
       "    }\n",
       "\n",
       "    .dataframe thead th {\n",
       "        text-align: right;\n",
       "    }\n",
       "</style>\n",
       "<table border=\"1\" class=\"dataframe\">\n",
       "  <thead>\n",
       "    <tr style=\"text-align: right;\">\n",
       "      <th></th>\n",
       "      <th>SNo</th>\n",
       "      <th>Name</th>\n",
       "      <th>Age</th>\n",
       "      <th>City</th>\n",
       "      <th>Country</th>\n",
       "      <th>Salary</th>\n",
       "    </tr>\n",
       "  </thead>\n",
       "  <tbody>\n",
       "    <tr>\n",
       "      <th>0</th>\n",
       "      <td>1</td>\n",
       "      <td>Tom</td>\n",
       "      <td>28.0</td>\n",
       "      <td>Toronto</td>\n",
       "      <td>Canada</td>\n",
       "      <td>20000.0</td>\n",
       "    </tr>\n",
       "    <tr>\n",
       "      <th>1</th>\n",
       "      <td>2</td>\n",
       "      <td>Lee</td>\n",
       "      <td>31.0</td>\n",
       "      <td>Edmonto</td>\n",
       "      <td>Canada</td>\n",
       "      <td>3900.0</td>\n",
       "    </tr>\n",
       "    <tr>\n",
       "      <th>2</th>\n",
       "      <td>3</td>\n",
       "      <td>Dave</td>\n",
       "      <td>34.0</td>\n",
       "      <td>Toronto</td>\n",
       "      <td>Canada</td>\n",
       "      <td>8000.0</td>\n",
       "    </tr>\n",
       "    <tr>\n",
       "      <th>3</th>\n",
       "      <td>4</td>\n",
       "      <td>Anik</td>\n",
       "      <td>26.0</td>\n",
       "      <td>HongKong</td>\n",
       "      <td>Asia</td>\n",
       "      <td>66672.0</td>\n",
       "    </tr>\n",
       "    <tr>\n",
       "      <th>4</th>\n",
       "      <td>5</td>\n",
       "      <td>kamal</td>\n",
       "      <td>30.0</td>\n",
       "      <td>NaN</td>\n",
       "      <td>America</td>\n",
       "      <td>NaN</td>\n",
       "    </tr>\n",
       "    <tr>\n",
       "      <th>5</th>\n",
       "      <td>6</td>\n",
       "      <td>Geet</td>\n",
       "      <td>NaN</td>\n",
       "      <td>HongKong</td>\n",
       "      <td>Asia</td>\n",
       "      <td>30007.0</td>\n",
       "    </tr>\n",
       "    <tr>\n",
       "      <th>6</th>\n",
       "      <td>7</td>\n",
       "      <td>Steven</td>\n",
       "      <td>43.0</td>\n",
       "      <td>BayArea</td>\n",
       "      <td>America</td>\n",
       "      <td>8300.0</td>\n",
       "    </tr>\n",
       "    <tr>\n",
       "      <th>7</th>\n",
       "      <td>8</td>\n",
       "      <td>Ram</td>\n",
       "      <td>38.0</td>\n",
       "      <td>Hyderabad</td>\n",
       "      <td>Asia</td>\n",
       "      <td>54666.0</td>\n",
       "    </tr>\n",
       "    <tr>\n",
       "      <th>8</th>\n",
       "      <td>9</td>\n",
       "      <td>hari</td>\n",
       "      <td>50.0</td>\n",
       "      <td>newyork</td>\n",
       "      <td>America</td>\n",
       "      <td>67666.0</td>\n",
       "    </tr>\n",
       "    <tr>\n",
       "      <th>9</th>\n",
       "      <td>11</td>\n",
       "      <td>yami</td>\n",
       "      <td>NaN</td>\n",
       "      <td>newyork</td>\n",
       "      <td>America</td>\n",
       "      <td>8888.0</td>\n",
       "    </tr>\n",
       "    <tr>\n",
       "      <th>10</th>\n",
       "      <td>12</td>\n",
       "      <td>Anik</td>\n",
       "      <td>26.0</td>\n",
       "      <td>HongKong</td>\n",
       "      <td>Asia</td>\n",
       "      <td>66672.0</td>\n",
       "    </tr>\n",
       "    <tr>\n",
       "      <th>11</th>\n",
       "      <td>13</td>\n",
       "      <td>kamal</td>\n",
       "      <td>30.0</td>\n",
       "      <td>NaN</td>\n",
       "      <td>America</td>\n",
       "      <td>34344.0</td>\n",
       "    </tr>\n",
       "    <tr>\n",
       "      <th>12</th>\n",
       "      <td>14</td>\n",
       "      <td>Geet</td>\n",
       "      <td>22.0</td>\n",
       "      <td>HongKong</td>\n",
       "      <td>Asia</td>\n",
       "      <td>30007.0</td>\n",
       "    </tr>\n",
       "    <tr>\n",
       "      <th>13</th>\n",
       "      <td>15</td>\n",
       "      <td>Steven</td>\n",
       "      <td>43.0</td>\n",
       "      <td>NaN</td>\n",
       "      <td>America</td>\n",
       "      <td>8300.0</td>\n",
       "    </tr>\n",
       "    <tr>\n",
       "      <th>14</th>\n",
       "      <td>16</td>\n",
       "      <td>Ram</td>\n",
       "      <td>38.0</td>\n",
       "      <td>Hyderabad</td>\n",
       "      <td>Asia</td>\n",
       "      <td>54666.0</td>\n",
       "    </tr>\n",
       "    <tr>\n",
       "      <th>15</th>\n",
       "      <td>17</td>\n",
       "      <td>hari</td>\n",
       "      <td>NaN</td>\n",
       "      <td>newyork</td>\n",
       "      <td>America</td>\n",
       "      <td>67666.0</td>\n",
       "    </tr>\n",
       "    <tr>\n",
       "      <th>16</th>\n",
       "      <td>18</td>\n",
       "      <td>yami</td>\n",
       "      <td>27.0</td>\n",
       "      <td>newyork</td>\n",
       "      <td>America</td>\n",
       "      <td>8888.0</td>\n",
       "    </tr>\n",
       "    <tr>\n",
       "      <th>17</th>\n",
       "      <td>19</td>\n",
       "      <td>Lee</td>\n",
       "      <td>31.0</td>\n",
       "      <td>Edmonto</td>\n",
       "      <td>Canada</td>\n",
       "      <td>NaN</td>\n",
       "    </tr>\n",
       "    <tr>\n",
       "      <th>18</th>\n",
       "      <td>20</td>\n",
       "      <td>Andrew</td>\n",
       "      <td>34.0</td>\n",
       "      <td>Congo</td>\n",
       "      <td>Africa</td>\n",
       "      <td>34432.0</td>\n",
       "    </tr>\n",
       "    <tr>\n",
       "      <th>19</th>\n",
       "      <td>21</td>\n",
       "      <td>soham</td>\n",
       "      <td>32.0</td>\n",
       "      <td>Angola</td>\n",
       "      <td>Africa</td>\n",
       "      <td>34534.0</td>\n",
       "    </tr>\n",
       "    <tr>\n",
       "      <th>20</th>\n",
       "      <td>22</td>\n",
       "      <td>Grig</td>\n",
       "      <td>26.0</td>\n",
       "      <td>Finland</td>\n",
       "      <td>Europe</td>\n",
       "      <td>33451.0</td>\n",
       "    </tr>\n",
       "    <tr>\n",
       "      <th>21</th>\n",
       "      <td>23</td>\n",
       "      <td>Kiara</td>\n",
       "      <td>27.0</td>\n",
       "      <td>London</td>\n",
       "      <td>Europe</td>\n",
       "      <td>NaN</td>\n",
       "    </tr>\n",
       "  </tbody>\n",
       "</table>\n",
       "</div>"
      ],
      "text/plain": [
       "    SNo    Name   Age       City  Country   Salary\n",
       "0     1     Tom  28.0    Toronto   Canada  20000.0\n",
       "1     2     Lee  31.0    Edmonto   Canada   3900.0\n",
       "2     3    Dave  34.0    Toronto   Canada   8000.0\n",
       "3     4    Anik  26.0   HongKong     Asia  66672.0\n",
       "4     5   kamal  30.0        NaN  America      NaN\n",
       "5     6    Geet   NaN   HongKong     Asia  30007.0\n",
       "6     7  Steven  43.0    BayArea  America   8300.0\n",
       "7     8     Ram  38.0  Hyderabad     Asia  54666.0\n",
       "8     9    hari  50.0    newyork  America  67666.0\n",
       "9    11    yami   NaN    newyork  America   8888.0\n",
       "10   12    Anik  26.0   HongKong     Asia  66672.0\n",
       "11   13   kamal  30.0        NaN  America  34344.0\n",
       "12   14    Geet  22.0   HongKong     Asia  30007.0\n",
       "13   15  Steven  43.0        NaN  America   8300.0\n",
       "14   16     Ram  38.0  Hyderabad     Asia  54666.0\n",
       "15   17    hari   NaN    newyork  America  67666.0\n",
       "16   18    yami  27.0    newyork  America   8888.0\n",
       "17   19     Lee  31.0    Edmonto   Canada      NaN\n",
       "18   20  Andrew  34.0      Congo   Africa  34432.0\n",
       "19   21   soham  32.0     Angola   Africa  34534.0\n",
       "20   22    Grig  26.0    Finland   Europe  33451.0\n",
       "21   23   Kiara  27.0     London   Europe      NaN"
      ]
     },
     "execution_count": 40,
     "metadata": {},
     "output_type": "execute_result"
    }
   ],
   "source": [
    "#loading data in dataframe\n",
    "\n",
    "df7=pd.DataFrame(data=df6)\n",
    "df"
   ]
  },
  {
   "cell_type": "code",
   "execution_count": 41,
   "id": "a6846f91",
   "metadata": {},
   "outputs": [
    {
     "data": {
      "text/plain": [
       "0      Canada\n",
       "1      Canada\n",
       "2      Canada\n",
       "3        Asia\n",
       "4     America\n",
       "5        Asia\n",
       "6     America\n",
       "7        Asia\n",
       "8     America\n",
       "9     America\n",
       "10       Asia\n",
       "11    America\n",
       "12       Asia\n",
       "13    America\n",
       "14       Asia\n",
       "15    America\n",
       "16    America\n",
       "17     Canada\n",
       "18     Africa\n",
       "19     Africa\n",
       "20     Europe\n",
       "21     Europe\n",
       "Name: Country, dtype: object"
      ]
     },
     "execution_count": 41,
     "metadata": {},
     "output_type": "execute_result"
    }
   ],
   "source": [
    "df7.loc[:,\"Country\"]"
   ]
  },
  {
   "cell_type": "code",
   "execution_count": 32,
   "id": "977c790a",
   "metadata": {},
   "outputs": [
    {
     "data": {
      "text/html": [
       "<div>\n",
       "<style scoped>\n",
       "    .dataframe tbody tr th:only-of-type {\n",
       "        vertical-align: middle;\n",
       "    }\n",
       "\n",
       "    .dataframe tbody tr th {\n",
       "        vertical-align: top;\n",
       "    }\n",
       "\n",
       "    .dataframe thead th {\n",
       "        text-align: right;\n",
       "    }\n",
       "</style>\n",
       "<table border=\"1\" class=\"dataframe\">\n",
       "  <thead>\n",
       "    <tr style=\"text-align: right;\">\n",
       "      <th></th>\n",
       "      <th>Name</th>\n",
       "      <th>City</th>\n",
       "    </tr>\n",
       "  </thead>\n",
       "  <tbody>\n",
       "    <tr>\n",
       "      <th>0</th>\n",
       "      <td>Tom</td>\n",
       "      <td>Toronto</td>\n",
       "    </tr>\n",
       "    <tr>\n",
       "      <th>1</th>\n",
       "      <td>Lee</td>\n",
       "      <td>Edmonto</td>\n",
       "    </tr>\n",
       "    <tr>\n",
       "      <th>2</th>\n",
       "      <td>Dave</td>\n",
       "      <td>Toronto</td>\n",
       "    </tr>\n",
       "    <tr>\n",
       "      <th>3</th>\n",
       "      <td>Anik</td>\n",
       "      <td>HongKong</td>\n",
       "    </tr>\n",
       "    <tr>\n",
       "      <th>4</th>\n",
       "      <td>kamal</td>\n",
       "      <td>NaN</td>\n",
       "    </tr>\n",
       "    <tr>\n",
       "      <th>5</th>\n",
       "      <td>Geet</td>\n",
       "      <td>HongKong</td>\n",
       "    </tr>\n",
       "    <tr>\n",
       "      <th>6</th>\n",
       "      <td>Steven</td>\n",
       "      <td>BayArea</td>\n",
       "    </tr>\n",
       "    <tr>\n",
       "      <th>7</th>\n",
       "      <td>Ram</td>\n",
       "      <td>Hyderabad</td>\n",
       "    </tr>\n",
       "    <tr>\n",
       "      <th>8</th>\n",
       "      <td>hari</td>\n",
       "      <td>newyork</td>\n",
       "    </tr>\n",
       "    <tr>\n",
       "      <th>9</th>\n",
       "      <td>yami</td>\n",
       "      <td>newyork</td>\n",
       "    </tr>\n",
       "    <tr>\n",
       "      <th>10</th>\n",
       "      <td>Anik</td>\n",
       "      <td>HongKong</td>\n",
       "    </tr>\n",
       "    <tr>\n",
       "      <th>11</th>\n",
       "      <td>kamal</td>\n",
       "      <td>NaN</td>\n",
       "    </tr>\n",
       "    <tr>\n",
       "      <th>12</th>\n",
       "      <td>Geet</td>\n",
       "      <td>HongKong</td>\n",
       "    </tr>\n",
       "    <tr>\n",
       "      <th>13</th>\n",
       "      <td>Steven</td>\n",
       "      <td>NaN</td>\n",
       "    </tr>\n",
       "    <tr>\n",
       "      <th>14</th>\n",
       "      <td>Ram</td>\n",
       "      <td>Hyderabad</td>\n",
       "    </tr>\n",
       "    <tr>\n",
       "      <th>15</th>\n",
       "      <td>hari</td>\n",
       "      <td>newyork</td>\n",
       "    </tr>\n",
       "    <tr>\n",
       "      <th>16</th>\n",
       "      <td>yami</td>\n",
       "      <td>newyork</td>\n",
       "    </tr>\n",
       "    <tr>\n",
       "      <th>17</th>\n",
       "      <td>Lee</td>\n",
       "      <td>Edmonto</td>\n",
       "    </tr>\n",
       "    <tr>\n",
       "      <th>18</th>\n",
       "      <td>Andrew</td>\n",
       "      <td>Congo</td>\n",
       "    </tr>\n",
       "    <tr>\n",
       "      <th>19</th>\n",
       "      <td>soham</td>\n",
       "      <td>Angola</td>\n",
       "    </tr>\n",
       "    <tr>\n",
       "      <th>20</th>\n",
       "      <td>Grig</td>\n",
       "      <td>Finland</td>\n",
       "    </tr>\n",
       "    <tr>\n",
       "      <th>21</th>\n",
       "      <td>Kiara</td>\n",
       "      <td>London</td>\n",
       "    </tr>\n",
       "  </tbody>\n",
       "</table>\n",
       "</div>"
      ],
      "text/plain": [
       "      Name       City\n",
       "0      Tom    Toronto\n",
       "1      Lee    Edmonto\n",
       "2     Dave    Toronto\n",
       "3     Anik   HongKong\n",
       "4    kamal        NaN\n",
       "5     Geet   HongKong\n",
       "6   Steven    BayArea\n",
       "7      Ram  Hyderabad\n",
       "8     hari    newyork\n",
       "9     yami    newyork\n",
       "10    Anik   HongKong\n",
       "11   kamal        NaN\n",
       "12    Geet   HongKong\n",
       "13  Steven        NaN\n",
       "14     Ram  Hyderabad\n",
       "15    hari    newyork\n",
       "16    yami    newyork\n",
       "17     Lee    Edmonto\n",
       "18  Andrew      Congo\n",
       "19   soham     Angola\n",
       "20    Grig    Finland\n",
       "21   Kiara     London"
      ]
     },
     "execution_count": 32,
     "metadata": {},
     "output_type": "execute_result"
    }
   ],
   "source": [
    "#to view two column\n",
    "\n",
    "df.loc[:,['Name','City']]"
   ]
  },
  {
   "cell_type": "code",
   "execution_count": 42,
   "id": "4693a0e2",
   "metadata": {},
   "outputs": [
    {
     "data": {
      "text/html": [
       "<div>\n",
       "<style scoped>\n",
       "    .dataframe tbody tr th:only-of-type {\n",
       "        vertical-align: middle;\n",
       "    }\n",
       "\n",
       "    .dataframe tbody tr th {\n",
       "        vertical-align: top;\n",
       "    }\n",
       "\n",
       "    .dataframe thead th {\n",
       "        text-align: right;\n",
       "    }\n",
       "</style>\n",
       "<table border=\"1\" class=\"dataframe\">\n",
       "  <thead>\n",
       "    <tr style=\"text-align: right;\">\n",
       "      <th></th>\n",
       "      <th>Name</th>\n",
       "      <th>Age</th>\n",
       "      <th>City</th>\n",
       "    </tr>\n",
       "  </thead>\n",
       "  <tbody>\n",
       "    <tr>\n",
       "      <th>0</th>\n",
       "      <td>Tom</td>\n",
       "      <td>28.0</td>\n",
       "      <td>Toronto</td>\n",
       "    </tr>\n",
       "    <tr>\n",
       "      <th>1</th>\n",
       "      <td>Lee</td>\n",
       "      <td>31.0</td>\n",
       "      <td>Edmonto</td>\n",
       "    </tr>\n",
       "    <tr>\n",
       "      <th>2</th>\n",
       "      <td>Dave</td>\n",
       "      <td>34.0</td>\n",
       "      <td>Toronto</td>\n",
       "    </tr>\n",
       "    <tr>\n",
       "      <th>3</th>\n",
       "      <td>Anik</td>\n",
       "      <td>26.0</td>\n",
       "      <td>HongKong</td>\n",
       "    </tr>\n",
       "    <tr>\n",
       "      <th>4</th>\n",
       "      <td>kamal</td>\n",
       "      <td>30.0</td>\n",
       "      <td>NaN</td>\n",
       "    </tr>\n",
       "    <tr>\n",
       "      <th>5</th>\n",
       "      <td>Geet</td>\n",
       "      <td>NaN</td>\n",
       "      <td>HongKong</td>\n",
       "    </tr>\n",
       "    <tr>\n",
       "      <th>6</th>\n",
       "      <td>Steven</td>\n",
       "      <td>43.0</td>\n",
       "      <td>BayArea</td>\n",
       "    </tr>\n",
       "    <tr>\n",
       "      <th>7</th>\n",
       "      <td>Ram</td>\n",
       "      <td>38.0</td>\n",
       "      <td>Hyderabad</td>\n",
       "    </tr>\n",
       "    <tr>\n",
       "      <th>8</th>\n",
       "      <td>hari</td>\n",
       "      <td>50.0</td>\n",
       "      <td>newyork</td>\n",
       "    </tr>\n",
       "    <tr>\n",
       "      <th>9</th>\n",
       "      <td>yami</td>\n",
       "      <td>NaN</td>\n",
       "      <td>newyork</td>\n",
       "    </tr>\n",
       "    <tr>\n",
       "      <th>10</th>\n",
       "      <td>Anik</td>\n",
       "      <td>26.0</td>\n",
       "      <td>HongKong</td>\n",
       "    </tr>\n",
       "    <tr>\n",
       "      <th>11</th>\n",
       "      <td>kamal</td>\n",
       "      <td>30.0</td>\n",
       "      <td>NaN</td>\n",
       "    </tr>\n",
       "    <tr>\n",
       "      <th>12</th>\n",
       "      <td>Geet</td>\n",
       "      <td>22.0</td>\n",
       "      <td>HongKong</td>\n",
       "    </tr>\n",
       "    <tr>\n",
       "      <th>13</th>\n",
       "      <td>Steven</td>\n",
       "      <td>43.0</td>\n",
       "      <td>NaN</td>\n",
       "    </tr>\n",
       "    <tr>\n",
       "      <th>14</th>\n",
       "      <td>Ram</td>\n",
       "      <td>38.0</td>\n",
       "      <td>Hyderabad</td>\n",
       "    </tr>\n",
       "    <tr>\n",
       "      <th>15</th>\n",
       "      <td>hari</td>\n",
       "      <td>NaN</td>\n",
       "      <td>newyork</td>\n",
       "    </tr>\n",
       "    <tr>\n",
       "      <th>16</th>\n",
       "      <td>yami</td>\n",
       "      <td>27.0</td>\n",
       "      <td>newyork</td>\n",
       "    </tr>\n",
       "    <tr>\n",
       "      <th>17</th>\n",
       "      <td>Lee</td>\n",
       "      <td>31.0</td>\n",
       "      <td>Edmonto</td>\n",
       "    </tr>\n",
       "    <tr>\n",
       "      <th>18</th>\n",
       "      <td>Andrew</td>\n",
       "      <td>34.0</td>\n",
       "      <td>Congo</td>\n",
       "    </tr>\n",
       "    <tr>\n",
       "      <th>19</th>\n",
       "      <td>soham</td>\n",
       "      <td>32.0</td>\n",
       "      <td>Angola</td>\n",
       "    </tr>\n",
       "    <tr>\n",
       "      <th>20</th>\n",
       "      <td>Grig</td>\n",
       "      <td>26.0</td>\n",
       "      <td>Finland</td>\n",
       "    </tr>\n",
       "    <tr>\n",
       "      <th>21</th>\n",
       "      <td>Kiara</td>\n",
       "      <td>27.0</td>\n",
       "      <td>London</td>\n",
       "    </tr>\n",
       "  </tbody>\n",
       "</table>\n",
       "</div>"
      ],
      "text/plain": [
       "      Name   Age       City\n",
       "0      Tom  28.0    Toronto\n",
       "1      Lee  31.0    Edmonto\n",
       "2     Dave  34.0    Toronto\n",
       "3     Anik  26.0   HongKong\n",
       "4    kamal  30.0        NaN\n",
       "5     Geet   NaN   HongKong\n",
       "6   Steven  43.0    BayArea\n",
       "7      Ram  38.0  Hyderabad\n",
       "8     hari  50.0    newyork\n",
       "9     yami   NaN    newyork\n",
       "10    Anik  26.0   HongKong\n",
       "11   kamal  30.0        NaN\n",
       "12    Geet  22.0   HongKong\n",
       "13  Steven  43.0        NaN\n",
       "14     Ram  38.0  Hyderabad\n",
       "15    hari   NaN    newyork\n",
       "16    yami  27.0    newyork\n",
       "17     Lee  31.0    Edmonto\n",
       "18  Andrew  34.0      Congo\n",
       "19   soham  32.0     Angola\n",
       "20    Grig  26.0    Finland\n",
       "21   Kiara  27.0     London"
      ]
     },
     "execution_count": 42,
     "metadata": {},
     "output_type": "execute_result"
    }
   ],
   "source": [
    "#using Iloc operation\n",
    "\n",
    "df7.iloc[:,1:4]"
   ]
  },
  {
   "cell_type": "code",
   "execution_count": 43,
   "id": "154cba5c",
   "metadata": {},
   "outputs": [
    {
     "data": {
      "text/html": [
       "<div>\n",
       "<style scoped>\n",
       "    .dataframe tbody tr th:only-of-type {\n",
       "        vertical-align: middle;\n",
       "    }\n",
       "\n",
       "    .dataframe tbody tr th {\n",
       "        vertical-align: top;\n",
       "    }\n",
       "\n",
       "    .dataframe thead th {\n",
       "        text-align: right;\n",
       "    }\n",
       "</style>\n",
       "<table border=\"1\" class=\"dataframe\">\n",
       "  <thead>\n",
       "    <tr style=\"text-align: right;\">\n",
       "      <th></th>\n",
       "      <th>SNo</th>\n",
       "      <th>Name</th>\n",
       "      <th>Age</th>\n",
       "      <th>City</th>\n",
       "      <th>Country</th>\n",
       "      <th>Salary</th>\n",
       "    </tr>\n",
       "  </thead>\n",
       "  <tbody>\n",
       "    <tr>\n",
       "      <th>0</th>\n",
       "      <td>1</td>\n",
       "      <td>Tom</td>\n",
       "      <td>28.0</td>\n",
       "      <td>Toronto</td>\n",
       "      <td>Canada</td>\n",
       "      <td>20000.0</td>\n",
       "    </tr>\n",
       "    <tr>\n",
       "      <th>1</th>\n",
       "      <td>2</td>\n",
       "      <td>Lee</td>\n",
       "      <td>31.0</td>\n",
       "      <td>Edmonto</td>\n",
       "      <td>Canada</td>\n",
       "      <td>3900.0</td>\n",
       "    </tr>\n",
       "    <tr>\n",
       "      <th>2</th>\n",
       "      <td>3</td>\n",
       "      <td>Dave</td>\n",
       "      <td>34.0</td>\n",
       "      <td>Toronto</td>\n",
       "      <td>Canada</td>\n",
       "      <td>8000.0</td>\n",
       "    </tr>\n",
       "    <tr>\n",
       "      <th>3</th>\n",
       "      <td>4</td>\n",
       "      <td>Anik</td>\n",
       "      <td>26.0</td>\n",
       "      <td>HongKong</td>\n",
       "      <td>Asia</td>\n",
       "      <td>66672.0</td>\n",
       "    </tr>\n",
       "    <tr>\n",
       "      <th>4</th>\n",
       "      <td>5</td>\n",
       "      <td>kamal</td>\n",
       "      <td>30.0</td>\n",
       "      <td>NaN</td>\n",
       "      <td>America</td>\n",
       "      <td>NaN</td>\n",
       "    </tr>\n",
       "  </tbody>\n",
       "</table>\n",
       "</div>"
      ],
      "text/plain": [
       "   SNo   Name   Age      City  Country   Salary\n",
       "0    1    Tom  28.0   Toronto   Canada  20000.0\n",
       "1    2    Lee  31.0   Edmonto   Canada   3900.0\n",
       "2    3   Dave  34.0   Toronto   Canada   8000.0\n",
       "3    4   Anik  26.0  HongKong     Asia  66672.0\n",
       "4    5  kamal  30.0       NaN  America      NaN"
      ]
     },
     "execution_count": 43,
     "metadata": {},
     "output_type": "execute_result"
    }
   ],
   "source": [
    "df7.head()"
   ]
  },
  {
   "cell_type": "code",
   "execution_count": 44,
   "id": "77fc3e5b",
   "metadata": {},
   "outputs": [
    {
     "data": {
      "text/html": [
       "<div>\n",
       "<style scoped>\n",
       "    .dataframe tbody tr th:only-of-type {\n",
       "        vertical-align: middle;\n",
       "    }\n",
       "\n",
       "    .dataframe tbody tr th {\n",
       "        vertical-align: top;\n",
       "    }\n",
       "\n",
       "    .dataframe thead th {\n",
       "        text-align: right;\n",
       "    }\n",
       "</style>\n",
       "<table border=\"1\" class=\"dataframe\">\n",
       "  <thead>\n",
       "    <tr style=\"text-align: right;\">\n",
       "      <th></th>\n",
       "      <th>SNo</th>\n",
       "      <th>Name</th>\n",
       "      <th>Age</th>\n",
       "      <th>City</th>\n",
       "      <th>Country</th>\n",
       "      <th>Salary</th>\n",
       "    </tr>\n",
       "  </thead>\n",
       "  <tbody>\n",
       "    <tr>\n",
       "      <th>17</th>\n",
       "      <td>19</td>\n",
       "      <td>Lee</td>\n",
       "      <td>31.0</td>\n",
       "      <td>Edmonto</td>\n",
       "      <td>Canada</td>\n",
       "      <td>NaN</td>\n",
       "    </tr>\n",
       "    <tr>\n",
       "      <th>18</th>\n",
       "      <td>20</td>\n",
       "      <td>Andrew</td>\n",
       "      <td>34.0</td>\n",
       "      <td>Congo</td>\n",
       "      <td>Africa</td>\n",
       "      <td>34432.0</td>\n",
       "    </tr>\n",
       "    <tr>\n",
       "      <th>19</th>\n",
       "      <td>21</td>\n",
       "      <td>soham</td>\n",
       "      <td>32.0</td>\n",
       "      <td>Angola</td>\n",
       "      <td>Africa</td>\n",
       "      <td>34534.0</td>\n",
       "    </tr>\n",
       "    <tr>\n",
       "      <th>20</th>\n",
       "      <td>22</td>\n",
       "      <td>Grig</td>\n",
       "      <td>26.0</td>\n",
       "      <td>Finland</td>\n",
       "      <td>Europe</td>\n",
       "      <td>33451.0</td>\n",
       "    </tr>\n",
       "    <tr>\n",
       "      <th>21</th>\n",
       "      <td>23</td>\n",
       "      <td>Kiara</td>\n",
       "      <td>27.0</td>\n",
       "      <td>London</td>\n",
       "      <td>Europe</td>\n",
       "      <td>NaN</td>\n",
       "    </tr>\n",
       "  </tbody>\n",
       "</table>\n",
       "</div>"
      ],
      "text/plain": [
       "    SNo    Name   Age     City Country   Salary\n",
       "17   19     Lee  31.0  Edmonto  Canada      NaN\n",
       "18   20  Andrew  34.0    Congo  Africa  34432.0\n",
       "19   21   soham  32.0   Angola  Africa  34534.0\n",
       "20   22    Grig  26.0  Finland  Europe  33451.0\n",
       "21   23   Kiara  27.0   London  Europe      NaN"
      ]
     },
     "execution_count": 44,
     "metadata": {},
     "output_type": "execute_result"
    }
   ],
   "source": [
    "df7.tail()"
   ]
  },
  {
   "cell_type": "code",
   "execution_count": 45,
   "id": "60bd080b",
   "metadata": {},
   "outputs": [
    {
     "data": {
      "text/plain": [
       "SNo        22\n",
       "Name       22\n",
       "Age        19\n",
       "City       19\n",
       "Country    22\n",
       "Salary     19\n",
       "dtype: int64"
      ]
     },
     "execution_count": 45,
     "metadata": {},
     "output_type": "execute_result"
    }
   ],
   "source": [
    "#it will show u how many rows are present there\n",
    "\n",
    "df7.count()"
   ]
  },
  {
   "cell_type": "code",
   "execution_count": 46,
   "id": "9127c2b6",
   "metadata": {},
   "outputs": [
    {
     "data": {
      "text/plain": [
       "22"
      ]
     },
     "execution_count": 46,
     "metadata": {},
     "output_type": "execute_result"
    }
   ],
   "source": [
    "#to view the count of particular row\n",
    "\n",
    "df['Name'].count()"
   ]
  },
  {
   "cell_type": "code",
   "execution_count": 47,
   "id": "4fabf781",
   "metadata": {},
   "outputs": [
    {
     "data": {
      "text/plain": [
       "array(['Tom', 'Lee', 'Dave', 'Anik', 'kamal', 'Geet', 'Steven', 'Ram',\n",
       "       'hari', 'yami', 'Andrew', 'soham', 'Grig', 'Kiara'], dtype=object)"
      ]
     },
     "execution_count": 47,
     "metadata": {},
     "output_type": "execute_result"
    }
   ],
   "source": [
    "#unique() function will show u unique entries of the data in particular column\n",
    "\n",
    "df7['Name'].unique()"
   ]
  },
  {
   "cell_type": "code",
   "execution_count": 48,
   "id": "5429faeb",
   "metadata": {},
   "outputs": [
    {
     "data": {
      "text/plain": [
       "14"
      ]
     },
     "execution_count": 48,
     "metadata": {},
     "output_type": "execute_result"
    }
   ],
   "source": [
    "#nunique gives number of count of unique values\n",
    "\n",
    "df7['Name'].nunique()"
   ]
  },
  {
   "cell_type": "code",
   "execution_count": 49,
   "id": "c9dbdbd8",
   "metadata": {},
   "outputs": [
    {
     "name": "stdout",
     "output_type": "stream",
     "text": [
      "count      22\n",
      "unique     14\n",
      "top       Lee\n",
      "freq        2\n",
      "Name: Name, dtype: object\n"
     ]
    }
   ],
   "source": [
    "#describe() will give u statistical summary\n",
    "\n",
    "print(df7['Name'].describe())"
   ]
  },
  {
   "cell_type": "code",
   "execution_count": 50,
   "id": "81f53a3a",
   "metadata": {},
   "outputs": [
    {
     "data": {
      "text/html": [
       "<div>\n",
       "<style scoped>\n",
       "    .dataframe tbody tr th:only-of-type {\n",
       "        vertical-align: middle;\n",
       "    }\n",
       "\n",
       "    .dataframe tbody tr th {\n",
       "        vertical-align: top;\n",
       "    }\n",
       "\n",
       "    .dataframe thead th {\n",
       "        text-align: right;\n",
       "    }\n",
       "</style>\n",
       "<table border=\"1\" class=\"dataframe\">\n",
       "  <thead>\n",
       "    <tr style=\"text-align: right;\">\n",
       "      <th></th>\n",
       "      <th>SNo</th>\n",
       "      <th>Age</th>\n",
       "      <th>Salary</th>\n",
       "    </tr>\n",
       "  </thead>\n",
       "  <tbody>\n",
       "    <tr>\n",
       "      <th>count</th>\n",
       "      <td>22.000000</td>\n",
       "      <td>19.000000</td>\n",
       "      <td>19.000000</td>\n",
       "    </tr>\n",
       "    <tr>\n",
       "      <th>mean</th>\n",
       "      <td>12.090909</td>\n",
       "      <td>32.421053</td>\n",
       "      <td>33739.947368</td>\n",
       "    </tr>\n",
       "    <tr>\n",
       "      <th>std</th>\n",
       "      <td>6.927578</td>\n",
       "      <td>7.174924</td>\n",
       "      <td>23151.188084</td>\n",
       "    </tr>\n",
       "    <tr>\n",
       "      <th>min</th>\n",
       "      <td>1.000000</td>\n",
       "      <td>22.000000</td>\n",
       "      <td>3900.000000</td>\n",
       "    </tr>\n",
       "    <tr>\n",
       "      <th>25%</th>\n",
       "      <td>6.250000</td>\n",
       "      <td>27.000000</td>\n",
       "      <td>8888.000000</td>\n",
       "    </tr>\n",
       "    <tr>\n",
       "      <th>50%</th>\n",
       "      <td>12.500000</td>\n",
       "      <td>31.000000</td>\n",
       "      <td>33451.000000</td>\n",
       "    </tr>\n",
       "    <tr>\n",
       "      <th>75%</th>\n",
       "      <td>17.750000</td>\n",
       "      <td>36.000000</td>\n",
       "      <td>54666.000000</td>\n",
       "    </tr>\n",
       "    <tr>\n",
       "      <th>max</th>\n",
       "      <td>23.000000</td>\n",
       "      <td>50.000000</td>\n",
       "      <td>67666.000000</td>\n",
       "    </tr>\n",
       "  </tbody>\n",
       "</table>\n",
       "</div>"
      ],
      "text/plain": [
       "             SNo        Age        Salary\n",
       "count  22.000000  19.000000     19.000000\n",
       "mean   12.090909  32.421053  33739.947368\n",
       "std     6.927578   7.174924  23151.188084\n",
       "min     1.000000  22.000000   3900.000000\n",
       "25%     6.250000  27.000000   8888.000000\n",
       "50%    12.500000  31.000000  33451.000000\n",
       "75%    17.750000  36.000000  54666.000000\n",
       "max    23.000000  50.000000  67666.000000"
      ]
     },
     "execution_count": 50,
     "metadata": {},
     "output_type": "execute_result"
    }
   ],
   "source": [
    "df7.describe()"
   ]
  },
  {
   "cell_type": "code",
   "execution_count": 51,
   "id": "173829c5",
   "metadata": {},
   "outputs": [
    {
     "data": {
      "text/html": [
       "<div>\n",
       "<style scoped>\n",
       "    .dataframe tbody tr th:only-of-type {\n",
       "        vertical-align: middle;\n",
       "    }\n",
       "\n",
       "    .dataframe tbody tr th {\n",
       "        vertical-align: top;\n",
       "    }\n",
       "\n",
       "    .dataframe thead th {\n",
       "        text-align: right;\n",
       "    }\n",
       "</style>\n",
       "<table border=\"1\" class=\"dataframe\">\n",
       "  <thead>\n",
       "    <tr style=\"text-align: right;\">\n",
       "      <th></th>\n",
       "      <th>SNo</th>\n",
       "      <th>Name</th>\n",
       "      <th>Age</th>\n",
       "      <th>City</th>\n",
       "      <th>Country</th>\n",
       "      <th>Salary</th>\n",
       "    </tr>\n",
       "  </thead>\n",
       "  <tbody>\n",
       "    <tr>\n",
       "      <th>count</th>\n",
       "      <td>22.000000</td>\n",
       "      <td>22</td>\n",
       "      <td>19.000000</td>\n",
       "      <td>19</td>\n",
       "      <td>22</td>\n",
       "      <td>19.000000</td>\n",
       "    </tr>\n",
       "    <tr>\n",
       "      <th>unique</th>\n",
       "      <td>NaN</td>\n",
       "      <td>14</td>\n",
       "      <td>NaN</td>\n",
       "      <td>10</td>\n",
       "      <td>5</td>\n",
       "      <td>NaN</td>\n",
       "    </tr>\n",
       "    <tr>\n",
       "      <th>top</th>\n",
       "      <td>NaN</td>\n",
       "      <td>Lee</td>\n",
       "      <td>NaN</td>\n",
       "      <td>HongKong</td>\n",
       "      <td>America</td>\n",
       "      <td>NaN</td>\n",
       "    </tr>\n",
       "    <tr>\n",
       "      <th>freq</th>\n",
       "      <td>NaN</td>\n",
       "      <td>2</td>\n",
       "      <td>NaN</td>\n",
       "      <td>4</td>\n",
       "      <td>8</td>\n",
       "      <td>NaN</td>\n",
       "    </tr>\n",
       "    <tr>\n",
       "      <th>mean</th>\n",
       "      <td>12.090909</td>\n",
       "      <td>NaN</td>\n",
       "      <td>32.421053</td>\n",
       "      <td>NaN</td>\n",
       "      <td>NaN</td>\n",
       "      <td>33739.947368</td>\n",
       "    </tr>\n",
       "    <tr>\n",
       "      <th>std</th>\n",
       "      <td>6.927578</td>\n",
       "      <td>NaN</td>\n",
       "      <td>7.174924</td>\n",
       "      <td>NaN</td>\n",
       "      <td>NaN</td>\n",
       "      <td>23151.188084</td>\n",
       "    </tr>\n",
       "    <tr>\n",
       "      <th>min</th>\n",
       "      <td>1.000000</td>\n",
       "      <td>NaN</td>\n",
       "      <td>22.000000</td>\n",
       "      <td>NaN</td>\n",
       "      <td>NaN</td>\n",
       "      <td>3900.000000</td>\n",
       "    </tr>\n",
       "    <tr>\n",
       "      <th>25%</th>\n",
       "      <td>6.250000</td>\n",
       "      <td>NaN</td>\n",
       "      <td>27.000000</td>\n",
       "      <td>NaN</td>\n",
       "      <td>NaN</td>\n",
       "      <td>8888.000000</td>\n",
       "    </tr>\n",
       "    <tr>\n",
       "      <th>50%</th>\n",
       "      <td>12.500000</td>\n",
       "      <td>NaN</td>\n",
       "      <td>31.000000</td>\n",
       "      <td>NaN</td>\n",
       "      <td>NaN</td>\n",
       "      <td>33451.000000</td>\n",
       "    </tr>\n",
       "    <tr>\n",
       "      <th>75%</th>\n",
       "      <td>17.750000</td>\n",
       "      <td>NaN</td>\n",
       "      <td>36.000000</td>\n",
       "      <td>NaN</td>\n",
       "      <td>NaN</td>\n",
       "      <td>54666.000000</td>\n",
       "    </tr>\n",
       "    <tr>\n",
       "      <th>max</th>\n",
       "      <td>23.000000</td>\n",
       "      <td>NaN</td>\n",
       "      <td>50.000000</td>\n",
       "      <td>NaN</td>\n",
       "      <td>NaN</td>\n",
       "      <td>67666.000000</td>\n",
       "    </tr>\n",
       "  </tbody>\n",
       "</table>\n",
       "</div>"
      ],
      "text/plain": [
       "              SNo Name        Age      City  Country        Salary\n",
       "count   22.000000   22  19.000000        19       22     19.000000\n",
       "unique        NaN   14        NaN        10        5           NaN\n",
       "top           NaN  Lee        NaN  HongKong  America           NaN\n",
       "freq          NaN    2        NaN         4        8           NaN\n",
       "mean    12.090909  NaN  32.421053       NaN      NaN  33739.947368\n",
       "std      6.927578  NaN   7.174924       NaN      NaN  23151.188084\n",
       "min      1.000000  NaN  22.000000       NaN      NaN   3900.000000\n",
       "25%      6.250000  NaN  27.000000       NaN      NaN   8888.000000\n",
       "50%     12.500000  NaN  31.000000       NaN      NaN  33451.000000\n",
       "75%     17.750000  NaN  36.000000       NaN      NaN  54666.000000\n",
       "max     23.000000  NaN  50.000000       NaN      NaN  67666.000000"
      ]
     },
     "execution_count": 51,
     "metadata": {},
     "output_type": "execute_result"
    }
   ],
   "source": [
    "#to add string data in describe function, there is a parameter which is \"include\".\n",
    "\n",
    "df7.describe(include=\"all\")"
   ]
  },
  {
   "cell_type": "code",
   "execution_count": 52,
   "id": "82f6fea4",
   "metadata": {},
   "outputs": [
    {
     "data": {
      "text/plain": [
       "Index(['SNo', 'Name', 'Age', 'City', 'Country', 'Salary'], dtype='object')"
      ]
     },
     "execution_count": 52,
     "metadata": {},
     "output_type": "execute_result"
    }
   ],
   "source": [
    "#to view column names\n",
    "\n",
    "df7.columns"
   ]
  },
  {
   "cell_type": "code",
   "execution_count": 56,
   "id": "13770713",
   "metadata": {},
   "outputs": [
    {
     "data": {
      "text/html": [
       "<div>\n",
       "<style scoped>\n",
       "    .dataframe tbody tr th:only-of-type {\n",
       "        vertical-align: middle;\n",
       "    }\n",
       "\n",
       "    .dataframe tbody tr th {\n",
       "        vertical-align: top;\n",
       "    }\n",
       "\n",
       "    .dataframe thead th {\n",
       "        text-align: right;\n",
       "    }\n",
       "</style>\n",
       "<table border=\"1\" class=\"dataframe\">\n",
       "  <thead>\n",
       "    <tr style=\"text-align: right;\">\n",
       "      <th></th>\n",
       "      <th>SNo</th>\n",
       "      <th>Name</th>\n",
       "      <th>Age</th>\n",
       "      <th>City</th>\n",
       "      <th>Country</th>\n",
       "      <th>Salary</th>\n",
       "    </tr>\n",
       "  </thead>\n",
       "  <tbody>\n",
       "    <tr>\n",
       "      <th>0</th>\n",
       "      <td>1</td>\n",
       "      <td>Tom</td>\n",
       "      <td>28.0</td>\n",
       "      <td>Toronto</td>\n",
       "      <td>Canada</td>\n",
       "      <td>20000.0</td>\n",
       "    </tr>\n",
       "    <tr>\n",
       "      <th>1</th>\n",
       "      <td>2</td>\n",
       "      <td>Lee</td>\n",
       "      <td>31.0</td>\n",
       "      <td>Edmonto</td>\n",
       "      <td>Canada</td>\n",
       "      <td>3900.0</td>\n",
       "    </tr>\n",
       "    <tr>\n",
       "      <th>2</th>\n",
       "      <td>3</td>\n",
       "      <td>Dave</td>\n",
       "      <td>34.0</td>\n",
       "      <td>Toronto</td>\n",
       "      <td>Canada</td>\n",
       "      <td>8000.0</td>\n",
       "    </tr>\n",
       "    <tr>\n",
       "      <th>3</th>\n",
       "      <td>4</td>\n",
       "      <td>Anik</td>\n",
       "      <td>26.0</td>\n",
       "      <td>HongKong</td>\n",
       "      <td>Asia</td>\n",
       "      <td>66672.0</td>\n",
       "    </tr>\n",
       "    <tr>\n",
       "      <th>4</th>\n",
       "      <td>5</td>\n",
       "      <td>kamal</td>\n",
       "      <td>30.0</td>\n",
       "      <td>NaN</td>\n",
       "      <td>America</td>\n",
       "      <td>NaN</td>\n",
       "    </tr>\n",
       "    <tr>\n",
       "      <th>5</th>\n",
       "      <td>6</td>\n",
       "      <td>Geet</td>\n",
       "      <td>NaN</td>\n",
       "      <td>HongKong</td>\n",
       "      <td>Asia</td>\n",
       "      <td>30007.0</td>\n",
       "    </tr>\n",
       "    <tr>\n",
       "      <th>6</th>\n",
       "      <td>7</td>\n",
       "      <td>Steven</td>\n",
       "      <td>43.0</td>\n",
       "      <td>BayArea</td>\n",
       "      <td>America</td>\n",
       "      <td>8300.0</td>\n",
       "    </tr>\n",
       "    <tr>\n",
       "      <th>7</th>\n",
       "      <td>8</td>\n",
       "      <td>Ram</td>\n",
       "      <td>38.0</td>\n",
       "      <td>Hyderabad</td>\n",
       "      <td>Asia</td>\n",
       "      <td>54666.0</td>\n",
       "    </tr>\n",
       "    <tr>\n",
       "      <th>8</th>\n",
       "      <td>9</td>\n",
       "      <td>hari</td>\n",
       "      <td>50.0</td>\n",
       "      <td>newyork</td>\n",
       "      <td>America</td>\n",
       "      <td>67666.0</td>\n",
       "    </tr>\n",
       "    <tr>\n",
       "      <th>9</th>\n",
       "      <td>11</td>\n",
       "      <td>yami</td>\n",
       "      <td>NaN</td>\n",
       "      <td>newyork</td>\n",
       "      <td>America</td>\n",
       "      <td>8888.0</td>\n",
       "    </tr>\n",
       "    <tr>\n",
       "      <th>10</th>\n",
       "      <td>12</td>\n",
       "      <td>Anik</td>\n",
       "      <td>26.0</td>\n",
       "      <td>HongKong</td>\n",
       "      <td>Asia</td>\n",
       "      <td>66672.0</td>\n",
       "    </tr>\n",
       "    <tr>\n",
       "      <th>11</th>\n",
       "      <td>13</td>\n",
       "      <td>kamal</td>\n",
       "      <td>30.0</td>\n",
       "      <td>NaN</td>\n",
       "      <td>America</td>\n",
       "      <td>34344.0</td>\n",
       "    </tr>\n",
       "    <tr>\n",
       "      <th>12</th>\n",
       "      <td>14</td>\n",
       "      <td>Geet</td>\n",
       "      <td>22.0</td>\n",
       "      <td>HongKong</td>\n",
       "      <td>Asia</td>\n",
       "      <td>30007.0</td>\n",
       "    </tr>\n",
       "    <tr>\n",
       "      <th>13</th>\n",
       "      <td>15</td>\n",
       "      <td>Steven</td>\n",
       "      <td>43.0</td>\n",
       "      <td>NaN</td>\n",
       "      <td>America</td>\n",
       "      <td>8300.0</td>\n",
       "    </tr>\n",
       "    <tr>\n",
       "      <th>14</th>\n",
       "      <td>16</td>\n",
       "      <td>Ram</td>\n",
       "      <td>38.0</td>\n",
       "      <td>Hyderabad</td>\n",
       "      <td>Asia</td>\n",
       "      <td>54666.0</td>\n",
       "    </tr>\n",
       "    <tr>\n",
       "      <th>15</th>\n",
       "      <td>17</td>\n",
       "      <td>hari</td>\n",
       "      <td>NaN</td>\n",
       "      <td>newyork</td>\n",
       "      <td>America</td>\n",
       "      <td>67666.0</td>\n",
       "    </tr>\n",
       "    <tr>\n",
       "      <th>16</th>\n",
       "      <td>18</td>\n",
       "      <td>yami</td>\n",
       "      <td>27.0</td>\n",
       "      <td>newyork</td>\n",
       "      <td>America</td>\n",
       "      <td>8888.0</td>\n",
       "    </tr>\n",
       "    <tr>\n",
       "      <th>17</th>\n",
       "      <td>19</td>\n",
       "      <td>Lee</td>\n",
       "      <td>31.0</td>\n",
       "      <td>Edmonto</td>\n",
       "      <td>Canada</td>\n",
       "      <td>NaN</td>\n",
       "    </tr>\n",
       "    <tr>\n",
       "      <th>21</th>\n",
       "      <td>23</td>\n",
       "      <td>Kiara</td>\n",
       "      <td>27.0</td>\n",
       "      <td>London</td>\n",
       "      <td>Europe</td>\n",
       "      <td>NaN</td>\n",
       "    </tr>\n",
       "  </tbody>\n",
       "</table>\n",
       "</div>"
      ],
      "text/plain": [
       "    SNo    Name   Age       City  Country   Salary\n",
       "0     1     Tom  28.0    Toronto   Canada  20000.0\n",
       "1     2     Lee  31.0    Edmonto   Canada   3900.0\n",
       "2     3    Dave  34.0    Toronto   Canada   8000.0\n",
       "3     4    Anik  26.0   HongKong     Asia  66672.0\n",
       "4     5   kamal  30.0        NaN  America      NaN\n",
       "5     6    Geet   NaN   HongKong     Asia  30007.0\n",
       "6     7  Steven  43.0    BayArea  America   8300.0\n",
       "7     8     Ram  38.0  Hyderabad     Asia  54666.0\n",
       "8     9    hari  50.0    newyork  America  67666.0\n",
       "9    11    yami   NaN    newyork  America   8888.0\n",
       "10   12    Anik  26.0   HongKong     Asia  66672.0\n",
       "11   13   kamal  30.0        NaN  America  34344.0\n",
       "12   14    Geet  22.0   HongKong     Asia  30007.0\n",
       "13   15  Steven  43.0        NaN  America   8300.0\n",
       "14   16     Ram  38.0  Hyderabad     Asia  54666.0\n",
       "15   17    hari   NaN    newyork  America  67666.0\n",
       "16   18    yami  27.0    newyork  America   8888.0\n",
       "17   19     Lee  31.0    Edmonto   Canada      NaN\n",
       "21   23   Kiara  27.0     London   Europe      NaN"
      ]
     },
     "execution_count": 56,
     "metadata": {},
     "output_type": "execute_result"
    }
   ],
   "source": [
    "#to drop any rows\n",
    "\n",
    "df.drop([18,19,20],axis=0) #axis 0 =rows"
   ]
  },
  {
   "cell_type": "code",
   "execution_count": 57,
   "id": "75f223e2",
   "metadata": {},
   "outputs": [],
   "source": [
    "#to save the changes in original file\n",
    "\n",
    "df.drop([1,2],axis=0,inplace=True)"
   ]
  },
  {
   "cell_type": "code",
   "execution_count": 58,
   "id": "cb805ab6",
   "metadata": {},
   "outputs": [
    {
     "data": {
      "text/html": [
       "<div>\n",
       "<style scoped>\n",
       "    .dataframe tbody tr th:only-of-type {\n",
       "        vertical-align: middle;\n",
       "    }\n",
       "\n",
       "    .dataframe tbody tr th {\n",
       "        vertical-align: top;\n",
       "    }\n",
       "\n",
       "    .dataframe thead th {\n",
       "        text-align: right;\n",
       "    }\n",
       "</style>\n",
       "<table border=\"1\" class=\"dataframe\">\n",
       "  <thead>\n",
       "    <tr style=\"text-align: right;\">\n",
       "      <th></th>\n",
       "      <th>SNo</th>\n",
       "      <th>Name</th>\n",
       "      <th>Age</th>\n",
       "      <th>City</th>\n",
       "      <th>Country</th>\n",
       "      <th>Salary</th>\n",
       "    </tr>\n",
       "  </thead>\n",
       "  <tbody>\n",
       "    <tr>\n",
       "      <th>0</th>\n",
       "      <td>1</td>\n",
       "      <td>Tom</td>\n",
       "      <td>28.0</td>\n",
       "      <td>Toronto</td>\n",
       "      <td>Canada</td>\n",
       "      <td>20000.0</td>\n",
       "    </tr>\n",
       "    <tr>\n",
       "      <th>3</th>\n",
       "      <td>4</td>\n",
       "      <td>Anik</td>\n",
       "      <td>26.0</td>\n",
       "      <td>HongKong</td>\n",
       "      <td>Asia</td>\n",
       "      <td>66672.0</td>\n",
       "    </tr>\n",
       "    <tr>\n",
       "      <th>4</th>\n",
       "      <td>5</td>\n",
       "      <td>kamal</td>\n",
       "      <td>30.0</td>\n",
       "      <td>NaN</td>\n",
       "      <td>America</td>\n",
       "      <td>NaN</td>\n",
       "    </tr>\n",
       "    <tr>\n",
       "      <th>5</th>\n",
       "      <td>6</td>\n",
       "      <td>Geet</td>\n",
       "      <td>NaN</td>\n",
       "      <td>HongKong</td>\n",
       "      <td>Asia</td>\n",
       "      <td>30007.0</td>\n",
       "    </tr>\n",
       "    <tr>\n",
       "      <th>6</th>\n",
       "      <td>7</td>\n",
       "      <td>Steven</td>\n",
       "      <td>43.0</td>\n",
       "      <td>BayArea</td>\n",
       "      <td>America</td>\n",
       "      <td>8300.0</td>\n",
       "    </tr>\n",
       "    <tr>\n",
       "      <th>7</th>\n",
       "      <td>8</td>\n",
       "      <td>Ram</td>\n",
       "      <td>38.0</td>\n",
       "      <td>Hyderabad</td>\n",
       "      <td>Asia</td>\n",
       "      <td>54666.0</td>\n",
       "    </tr>\n",
       "    <tr>\n",
       "      <th>8</th>\n",
       "      <td>9</td>\n",
       "      <td>hari</td>\n",
       "      <td>50.0</td>\n",
       "      <td>newyork</td>\n",
       "      <td>America</td>\n",
       "      <td>67666.0</td>\n",
       "    </tr>\n",
       "    <tr>\n",
       "      <th>9</th>\n",
       "      <td>11</td>\n",
       "      <td>yami</td>\n",
       "      <td>NaN</td>\n",
       "      <td>newyork</td>\n",
       "      <td>America</td>\n",
       "      <td>8888.0</td>\n",
       "    </tr>\n",
       "    <tr>\n",
       "      <th>10</th>\n",
       "      <td>12</td>\n",
       "      <td>Anik</td>\n",
       "      <td>26.0</td>\n",
       "      <td>HongKong</td>\n",
       "      <td>Asia</td>\n",
       "      <td>66672.0</td>\n",
       "    </tr>\n",
       "    <tr>\n",
       "      <th>11</th>\n",
       "      <td>13</td>\n",
       "      <td>kamal</td>\n",
       "      <td>30.0</td>\n",
       "      <td>NaN</td>\n",
       "      <td>America</td>\n",
       "      <td>34344.0</td>\n",
       "    </tr>\n",
       "    <tr>\n",
       "      <th>12</th>\n",
       "      <td>14</td>\n",
       "      <td>Geet</td>\n",
       "      <td>22.0</td>\n",
       "      <td>HongKong</td>\n",
       "      <td>Asia</td>\n",
       "      <td>30007.0</td>\n",
       "    </tr>\n",
       "    <tr>\n",
       "      <th>13</th>\n",
       "      <td>15</td>\n",
       "      <td>Steven</td>\n",
       "      <td>43.0</td>\n",
       "      <td>NaN</td>\n",
       "      <td>America</td>\n",
       "      <td>8300.0</td>\n",
       "    </tr>\n",
       "    <tr>\n",
       "      <th>14</th>\n",
       "      <td>16</td>\n",
       "      <td>Ram</td>\n",
       "      <td>38.0</td>\n",
       "      <td>Hyderabad</td>\n",
       "      <td>Asia</td>\n",
       "      <td>54666.0</td>\n",
       "    </tr>\n",
       "    <tr>\n",
       "      <th>15</th>\n",
       "      <td>17</td>\n",
       "      <td>hari</td>\n",
       "      <td>NaN</td>\n",
       "      <td>newyork</td>\n",
       "      <td>America</td>\n",
       "      <td>67666.0</td>\n",
       "    </tr>\n",
       "    <tr>\n",
       "      <th>16</th>\n",
       "      <td>18</td>\n",
       "      <td>yami</td>\n",
       "      <td>27.0</td>\n",
       "      <td>newyork</td>\n",
       "      <td>America</td>\n",
       "      <td>8888.0</td>\n",
       "    </tr>\n",
       "    <tr>\n",
       "      <th>17</th>\n",
       "      <td>19</td>\n",
       "      <td>Lee</td>\n",
       "      <td>31.0</td>\n",
       "      <td>Edmonto</td>\n",
       "      <td>Canada</td>\n",
       "      <td>NaN</td>\n",
       "    </tr>\n",
       "    <tr>\n",
       "      <th>18</th>\n",
       "      <td>20</td>\n",
       "      <td>Andrew</td>\n",
       "      <td>34.0</td>\n",
       "      <td>Congo</td>\n",
       "      <td>Africa</td>\n",
       "      <td>34432.0</td>\n",
       "    </tr>\n",
       "    <tr>\n",
       "      <th>19</th>\n",
       "      <td>21</td>\n",
       "      <td>soham</td>\n",
       "      <td>32.0</td>\n",
       "      <td>Angola</td>\n",
       "      <td>Africa</td>\n",
       "      <td>34534.0</td>\n",
       "    </tr>\n",
       "    <tr>\n",
       "      <th>20</th>\n",
       "      <td>22</td>\n",
       "      <td>Grig</td>\n",
       "      <td>26.0</td>\n",
       "      <td>Finland</td>\n",
       "      <td>Europe</td>\n",
       "      <td>33451.0</td>\n",
       "    </tr>\n",
       "    <tr>\n",
       "      <th>21</th>\n",
       "      <td>23</td>\n",
       "      <td>Kiara</td>\n",
       "      <td>27.0</td>\n",
       "      <td>London</td>\n",
       "      <td>Europe</td>\n",
       "      <td>NaN</td>\n",
       "    </tr>\n",
       "  </tbody>\n",
       "</table>\n",
       "</div>"
      ],
      "text/plain": [
       "    SNo    Name   Age       City  Country   Salary\n",
       "0     1     Tom  28.0    Toronto   Canada  20000.0\n",
       "3     4    Anik  26.0   HongKong     Asia  66672.0\n",
       "4     5   kamal  30.0        NaN  America      NaN\n",
       "5     6    Geet   NaN   HongKong     Asia  30007.0\n",
       "6     7  Steven  43.0    BayArea  America   8300.0\n",
       "7     8     Ram  38.0  Hyderabad     Asia  54666.0\n",
       "8     9    hari  50.0    newyork  America  67666.0\n",
       "9    11    yami   NaN    newyork  America   8888.0\n",
       "10   12    Anik  26.0   HongKong     Asia  66672.0\n",
       "11   13   kamal  30.0        NaN  America  34344.0\n",
       "12   14    Geet  22.0   HongKong     Asia  30007.0\n",
       "13   15  Steven  43.0        NaN  America   8300.0\n",
       "14   16     Ram  38.0  Hyderabad     Asia  54666.0\n",
       "15   17    hari   NaN    newyork  America  67666.0\n",
       "16   18    yami  27.0    newyork  America   8888.0\n",
       "17   19     Lee  31.0    Edmonto   Canada      NaN\n",
       "18   20  Andrew  34.0      Congo   Africa  34432.0\n",
       "19   21   soham  32.0     Angola   Africa  34534.0\n",
       "20   22    Grig  26.0    Finland   Europe  33451.0\n",
       "21   23   Kiara  27.0     London   Europe      NaN"
      ]
     },
     "execution_count": 58,
     "metadata": {},
     "output_type": "execute_result"
    }
   ],
   "source": [
    "df"
   ]
  },
  {
   "cell_type": "code",
   "execution_count": 59,
   "id": "3d50506d",
   "metadata": {},
   "outputs": [],
   "source": [
    "#to delete any column \n",
    "\n",
    "df.drop([\"Age\"],axis=1,inplace=True)"
   ]
  },
  {
   "cell_type": "code",
   "execution_count": 60,
   "id": "15f139ce",
   "metadata": {},
   "outputs": [
    {
     "data": {
      "text/html": [
       "<div>\n",
       "<style scoped>\n",
       "    .dataframe tbody tr th:only-of-type {\n",
       "        vertical-align: middle;\n",
       "    }\n",
       "\n",
       "    .dataframe tbody tr th {\n",
       "        vertical-align: top;\n",
       "    }\n",
       "\n",
       "    .dataframe thead th {\n",
       "        text-align: right;\n",
       "    }\n",
       "</style>\n",
       "<table border=\"1\" class=\"dataframe\">\n",
       "  <thead>\n",
       "    <tr style=\"text-align: right;\">\n",
       "      <th></th>\n",
       "      <th>SNo</th>\n",
       "      <th>Name</th>\n",
       "      <th>City</th>\n",
       "      <th>Country</th>\n",
       "      <th>Salary</th>\n",
       "    </tr>\n",
       "  </thead>\n",
       "  <tbody>\n",
       "    <tr>\n",
       "      <th>0</th>\n",
       "      <td>1</td>\n",
       "      <td>Tom</td>\n",
       "      <td>Toronto</td>\n",
       "      <td>Canada</td>\n",
       "      <td>20000.0</td>\n",
       "    </tr>\n",
       "    <tr>\n",
       "      <th>3</th>\n",
       "      <td>4</td>\n",
       "      <td>Anik</td>\n",
       "      <td>HongKong</td>\n",
       "      <td>Asia</td>\n",
       "      <td>66672.0</td>\n",
       "    </tr>\n",
       "    <tr>\n",
       "      <th>4</th>\n",
       "      <td>5</td>\n",
       "      <td>kamal</td>\n",
       "      <td>NaN</td>\n",
       "      <td>America</td>\n",
       "      <td>NaN</td>\n",
       "    </tr>\n",
       "    <tr>\n",
       "      <th>5</th>\n",
       "      <td>6</td>\n",
       "      <td>Geet</td>\n",
       "      <td>HongKong</td>\n",
       "      <td>Asia</td>\n",
       "      <td>30007.0</td>\n",
       "    </tr>\n",
       "    <tr>\n",
       "      <th>6</th>\n",
       "      <td>7</td>\n",
       "      <td>Steven</td>\n",
       "      <td>BayArea</td>\n",
       "      <td>America</td>\n",
       "      <td>8300.0</td>\n",
       "    </tr>\n",
       "    <tr>\n",
       "      <th>7</th>\n",
       "      <td>8</td>\n",
       "      <td>Ram</td>\n",
       "      <td>Hyderabad</td>\n",
       "      <td>Asia</td>\n",
       "      <td>54666.0</td>\n",
       "    </tr>\n",
       "    <tr>\n",
       "      <th>8</th>\n",
       "      <td>9</td>\n",
       "      <td>hari</td>\n",
       "      <td>newyork</td>\n",
       "      <td>America</td>\n",
       "      <td>67666.0</td>\n",
       "    </tr>\n",
       "    <tr>\n",
       "      <th>9</th>\n",
       "      <td>11</td>\n",
       "      <td>yami</td>\n",
       "      <td>newyork</td>\n",
       "      <td>America</td>\n",
       "      <td>8888.0</td>\n",
       "    </tr>\n",
       "    <tr>\n",
       "      <th>10</th>\n",
       "      <td>12</td>\n",
       "      <td>Anik</td>\n",
       "      <td>HongKong</td>\n",
       "      <td>Asia</td>\n",
       "      <td>66672.0</td>\n",
       "    </tr>\n",
       "    <tr>\n",
       "      <th>11</th>\n",
       "      <td>13</td>\n",
       "      <td>kamal</td>\n",
       "      <td>NaN</td>\n",
       "      <td>America</td>\n",
       "      <td>34344.0</td>\n",
       "    </tr>\n",
       "    <tr>\n",
       "      <th>12</th>\n",
       "      <td>14</td>\n",
       "      <td>Geet</td>\n",
       "      <td>HongKong</td>\n",
       "      <td>Asia</td>\n",
       "      <td>30007.0</td>\n",
       "    </tr>\n",
       "    <tr>\n",
       "      <th>13</th>\n",
       "      <td>15</td>\n",
       "      <td>Steven</td>\n",
       "      <td>NaN</td>\n",
       "      <td>America</td>\n",
       "      <td>8300.0</td>\n",
       "    </tr>\n",
       "    <tr>\n",
       "      <th>14</th>\n",
       "      <td>16</td>\n",
       "      <td>Ram</td>\n",
       "      <td>Hyderabad</td>\n",
       "      <td>Asia</td>\n",
       "      <td>54666.0</td>\n",
       "    </tr>\n",
       "    <tr>\n",
       "      <th>15</th>\n",
       "      <td>17</td>\n",
       "      <td>hari</td>\n",
       "      <td>newyork</td>\n",
       "      <td>America</td>\n",
       "      <td>67666.0</td>\n",
       "    </tr>\n",
       "    <tr>\n",
       "      <th>16</th>\n",
       "      <td>18</td>\n",
       "      <td>yami</td>\n",
       "      <td>newyork</td>\n",
       "      <td>America</td>\n",
       "      <td>8888.0</td>\n",
       "    </tr>\n",
       "    <tr>\n",
       "      <th>17</th>\n",
       "      <td>19</td>\n",
       "      <td>Lee</td>\n",
       "      <td>Edmonto</td>\n",
       "      <td>Canada</td>\n",
       "      <td>NaN</td>\n",
       "    </tr>\n",
       "    <tr>\n",
       "      <th>18</th>\n",
       "      <td>20</td>\n",
       "      <td>Andrew</td>\n",
       "      <td>Congo</td>\n",
       "      <td>Africa</td>\n",
       "      <td>34432.0</td>\n",
       "    </tr>\n",
       "    <tr>\n",
       "      <th>19</th>\n",
       "      <td>21</td>\n",
       "      <td>soham</td>\n",
       "      <td>Angola</td>\n",
       "      <td>Africa</td>\n",
       "      <td>34534.0</td>\n",
       "    </tr>\n",
       "    <tr>\n",
       "      <th>20</th>\n",
       "      <td>22</td>\n",
       "      <td>Grig</td>\n",
       "      <td>Finland</td>\n",
       "      <td>Europe</td>\n",
       "      <td>33451.0</td>\n",
       "    </tr>\n",
       "    <tr>\n",
       "      <th>21</th>\n",
       "      <td>23</td>\n",
       "      <td>Kiara</td>\n",
       "      <td>London</td>\n",
       "      <td>Europe</td>\n",
       "      <td>NaN</td>\n",
       "    </tr>\n",
       "  </tbody>\n",
       "</table>\n",
       "</div>"
      ],
      "text/plain": [
       "    SNo    Name       City  Country   Salary\n",
       "0     1     Tom    Toronto   Canada  20000.0\n",
       "3     4    Anik   HongKong     Asia  66672.0\n",
       "4     5   kamal        NaN  America      NaN\n",
       "5     6    Geet   HongKong     Asia  30007.0\n",
       "6     7  Steven    BayArea  America   8300.0\n",
       "7     8     Ram  Hyderabad     Asia  54666.0\n",
       "8     9    hari    newyork  America  67666.0\n",
       "9    11    yami    newyork  America   8888.0\n",
       "10   12    Anik   HongKong     Asia  66672.0\n",
       "11   13   kamal        NaN  America  34344.0\n",
       "12   14    Geet   HongKong     Asia  30007.0\n",
       "13   15  Steven        NaN  America   8300.0\n",
       "14   16     Ram  Hyderabad     Asia  54666.0\n",
       "15   17    hari    newyork  America  67666.0\n",
       "16   18    yami    newyork  America   8888.0\n",
       "17   19     Lee    Edmonto   Canada      NaN\n",
       "18   20  Andrew      Congo   Africa  34432.0\n",
       "19   21   soham     Angola   Africa  34534.0\n",
       "20   22    Grig    Finland   Europe  33451.0\n",
       "21   23   Kiara     London   Europe      NaN"
      ]
     },
     "execution_count": 60,
     "metadata": {},
     "output_type": "execute_result"
    }
   ],
   "source": [
    "df"
   ]
  },
  {
   "cell_type": "code",
   "execution_count": 62,
   "id": "8cd0ca26",
   "metadata": {},
   "outputs": [],
   "source": [
    "#to drop all the rows having nan data\n",
    "\n",
    "df.dropna(axis=0,inplace=True)"
   ]
  },
  {
   "cell_type": "code",
   "execution_count": 63,
   "id": "ee83a7ca",
   "metadata": {},
   "outputs": [
    {
     "data": {
      "text/html": [
       "<div>\n",
       "<style scoped>\n",
       "    .dataframe tbody tr th:only-of-type {\n",
       "        vertical-align: middle;\n",
       "    }\n",
       "\n",
       "    .dataframe tbody tr th {\n",
       "        vertical-align: top;\n",
       "    }\n",
       "\n",
       "    .dataframe thead th {\n",
       "        text-align: right;\n",
       "    }\n",
       "</style>\n",
       "<table border=\"1\" class=\"dataframe\">\n",
       "  <thead>\n",
       "    <tr style=\"text-align: right;\">\n",
       "      <th></th>\n",
       "      <th>SNo</th>\n",
       "      <th>Name</th>\n",
       "      <th>City</th>\n",
       "      <th>Country</th>\n",
       "      <th>Salary</th>\n",
       "    </tr>\n",
       "  </thead>\n",
       "  <tbody>\n",
       "    <tr>\n",
       "      <th>0</th>\n",
       "      <td>1</td>\n",
       "      <td>Tom</td>\n",
       "      <td>Toronto</td>\n",
       "      <td>Canada</td>\n",
       "      <td>20000.0</td>\n",
       "    </tr>\n",
       "    <tr>\n",
       "      <th>3</th>\n",
       "      <td>4</td>\n",
       "      <td>Anik</td>\n",
       "      <td>HongKong</td>\n",
       "      <td>Asia</td>\n",
       "      <td>66672.0</td>\n",
       "    </tr>\n",
       "    <tr>\n",
       "      <th>5</th>\n",
       "      <td>6</td>\n",
       "      <td>Geet</td>\n",
       "      <td>HongKong</td>\n",
       "      <td>Asia</td>\n",
       "      <td>30007.0</td>\n",
       "    </tr>\n",
       "    <tr>\n",
       "      <th>6</th>\n",
       "      <td>7</td>\n",
       "      <td>Steven</td>\n",
       "      <td>BayArea</td>\n",
       "      <td>America</td>\n",
       "      <td>8300.0</td>\n",
       "    </tr>\n",
       "    <tr>\n",
       "      <th>7</th>\n",
       "      <td>8</td>\n",
       "      <td>Ram</td>\n",
       "      <td>Hyderabad</td>\n",
       "      <td>Asia</td>\n",
       "      <td>54666.0</td>\n",
       "    </tr>\n",
       "    <tr>\n",
       "      <th>8</th>\n",
       "      <td>9</td>\n",
       "      <td>hari</td>\n",
       "      <td>newyork</td>\n",
       "      <td>America</td>\n",
       "      <td>67666.0</td>\n",
       "    </tr>\n",
       "    <tr>\n",
       "      <th>9</th>\n",
       "      <td>11</td>\n",
       "      <td>yami</td>\n",
       "      <td>newyork</td>\n",
       "      <td>America</td>\n",
       "      <td>8888.0</td>\n",
       "    </tr>\n",
       "    <tr>\n",
       "      <th>10</th>\n",
       "      <td>12</td>\n",
       "      <td>Anik</td>\n",
       "      <td>HongKong</td>\n",
       "      <td>Asia</td>\n",
       "      <td>66672.0</td>\n",
       "    </tr>\n",
       "    <tr>\n",
       "      <th>12</th>\n",
       "      <td>14</td>\n",
       "      <td>Geet</td>\n",
       "      <td>HongKong</td>\n",
       "      <td>Asia</td>\n",
       "      <td>30007.0</td>\n",
       "    </tr>\n",
       "    <tr>\n",
       "      <th>14</th>\n",
       "      <td>16</td>\n",
       "      <td>Ram</td>\n",
       "      <td>Hyderabad</td>\n",
       "      <td>Asia</td>\n",
       "      <td>54666.0</td>\n",
       "    </tr>\n",
       "    <tr>\n",
       "      <th>15</th>\n",
       "      <td>17</td>\n",
       "      <td>hari</td>\n",
       "      <td>newyork</td>\n",
       "      <td>America</td>\n",
       "      <td>67666.0</td>\n",
       "    </tr>\n",
       "    <tr>\n",
       "      <th>16</th>\n",
       "      <td>18</td>\n",
       "      <td>yami</td>\n",
       "      <td>newyork</td>\n",
       "      <td>America</td>\n",
       "      <td>8888.0</td>\n",
       "    </tr>\n",
       "    <tr>\n",
       "      <th>18</th>\n",
       "      <td>20</td>\n",
       "      <td>Andrew</td>\n",
       "      <td>Congo</td>\n",
       "      <td>Africa</td>\n",
       "      <td>34432.0</td>\n",
       "    </tr>\n",
       "    <tr>\n",
       "      <th>19</th>\n",
       "      <td>21</td>\n",
       "      <td>soham</td>\n",
       "      <td>Angola</td>\n",
       "      <td>Africa</td>\n",
       "      <td>34534.0</td>\n",
       "    </tr>\n",
       "    <tr>\n",
       "      <th>20</th>\n",
       "      <td>22</td>\n",
       "      <td>Grig</td>\n",
       "      <td>Finland</td>\n",
       "      <td>Europe</td>\n",
       "      <td>33451.0</td>\n",
       "    </tr>\n",
       "  </tbody>\n",
       "</table>\n",
       "</div>"
      ],
      "text/plain": [
       "    SNo    Name       City  Country   Salary\n",
       "0     1     Tom    Toronto   Canada  20000.0\n",
       "3     4    Anik   HongKong     Asia  66672.0\n",
       "5     6    Geet   HongKong     Asia  30007.0\n",
       "6     7  Steven    BayArea  America   8300.0\n",
       "7     8     Ram  Hyderabad     Asia  54666.0\n",
       "8     9    hari    newyork  America  67666.0\n",
       "9    11    yami    newyork  America   8888.0\n",
       "10   12    Anik   HongKong     Asia  66672.0\n",
       "12   14    Geet   HongKong     Asia  30007.0\n",
       "14   16     Ram  Hyderabad     Asia  54666.0\n",
       "15   17    hari    newyork  America  67666.0\n",
       "16   18    yami    newyork  America   8888.0\n",
       "18   20  Andrew      Congo   Africa  34432.0\n",
       "19   21   soham     Angola   Africa  34534.0\n",
       "20   22    Grig    Finland   Europe  33451.0"
      ]
     },
     "execution_count": 63,
     "metadata": {},
     "output_type": "execute_result"
    }
   ],
   "source": [
    "df"
   ]
  },
  {
   "cell_type": "code",
   "execution_count": null,
   "id": "40d0dd92",
   "metadata": {},
   "outputs": [],
   "source": []
  },
  {
   "cell_type": "markdown",
   "id": "3af3c71c",
   "metadata": {},
   "source": [
    "## Data Munging"
   ]
  },
  {
   "cell_type": "raw",
   "id": "a6d143af",
   "metadata": {},
   "source": [
    "#reading the file in one format and saving it to another format is called data munging\n",
    "\n",
    "import pandas as pd\n",
    "\n",
    "country=pd.read_csv(\"empl.csv\",index_column=0)\n",
    "\n",
    "country.to_html(\"empltest.html\")"
   ]
  },
  {
   "cell_type": "markdown",
   "id": "87a7e2a4",
   "metadata": {},
   "source": [
    "# 27th May`Live Class`"
   ]
  },
  {
   "cell_type": "markdown",
   "id": "34373f31",
   "metadata": {},
   "source": [
    "## Date Time Function in Pandas"
   ]
  },
  {
   "cell_type": "code",
   "execution_count": 2,
   "id": "e2482ee9",
   "metadata": {},
   "outputs": [
    {
     "data": {
      "text/html": [
       "<div>\n",
       "<style scoped>\n",
       "    .dataframe tbody tr th:only-of-type {\n",
       "        vertical-align: middle;\n",
       "    }\n",
       "\n",
       "    .dataframe tbody tr th {\n",
       "        vertical-align: top;\n",
       "    }\n",
       "\n",
       "    .dataframe thead th {\n",
       "        text-align: right;\n",
       "    }\n",
       "</style>\n",
       "<table border=\"1\" class=\"dataframe\">\n",
       "  <thead>\n",
       "    <tr style=\"text-align: right;\">\n",
       "      <th></th>\n",
       "      <th>Name</th>\n",
       "      <th>HireDate</th>\n",
       "      <th>Salary</th>\n",
       "      <th>SickDaysremaining</th>\n",
       "    </tr>\n",
       "  </thead>\n",
       "  <tbody>\n",
       "    <tr>\n",
       "      <th>0</th>\n",
       "      <td>Graham Chapman</td>\n",
       "      <td>03/15/14</td>\n",
       "      <td>50000.0</td>\n",
       "      <td>10</td>\n",
       "    </tr>\n",
       "    <tr>\n",
       "      <th>1</th>\n",
       "      <td>John Cleese</td>\n",
       "      <td>06/01/15</td>\n",
       "      <td>65000.0</td>\n",
       "      <td>8</td>\n",
       "    </tr>\n",
       "    <tr>\n",
       "      <th>2</th>\n",
       "      <td>Eric Idle</td>\n",
       "      <td>05/12/14</td>\n",
       "      <td>45000.0</td>\n",
       "      <td>10</td>\n",
       "    </tr>\n",
       "    <tr>\n",
       "      <th>3</th>\n",
       "      <td>Terry Jones</td>\n",
       "      <td>11/01/13</td>\n",
       "      <td>70000.0</td>\n",
       "      <td>3</td>\n",
       "    </tr>\n",
       "    <tr>\n",
       "      <th>4</th>\n",
       "      <td>Terry Gilliam</td>\n",
       "      <td>08/12/14</td>\n",
       "      <td>48000.0</td>\n",
       "      <td>7</td>\n",
       "    </tr>\n",
       "    <tr>\n",
       "      <th>5</th>\n",
       "      <td>Michael Palin</td>\n",
       "      <td>05/23/13</td>\n",
       "      <td>66000.0</td>\n",
       "      <td>8</td>\n",
       "    </tr>\n",
       "  </tbody>\n",
       "</table>\n",
       "</div>"
      ],
      "text/plain": [
       "             Name  HireDate   Salary  SickDaysremaining\n",
       "0  Graham Chapman  03/15/14  50000.0                 10\n",
       "1     John Cleese  06/01/15  65000.0                  8\n",
       "2       Eric Idle  05/12/14  45000.0                 10\n",
       "3     Terry Jones  11/01/13  70000.0                  3\n",
       "4   Terry Gilliam  08/12/14  48000.0                  7\n",
       "5   Michael Palin  05/23/13  66000.0                  8"
      ]
     },
     "execution_count": 2,
     "metadata": {},
     "output_type": "execute_result"
    }
   ],
   "source": [
    "import pandas as pd\n",
    "\n",
    "df=pd.read_csv('hrdata.csv')\n",
    "df"
   ]
  },
  {
   "cell_type": "code",
   "execution_count": 4,
   "id": "e4e4e263",
   "metadata": {},
   "outputs": [
    {
     "data": {
      "text/plain": [
       "0   2023-03-27\n",
       "dtype: datetime64[ns]"
      ]
     },
     "execution_count": 4,
     "metadata": {},
     "output_type": "execute_result"
    }
   ],
   "source": [
    "d=pd.to_datetime({'year':[2023],'month':[3],'day':[27]})\n",
    "d"
   ]
  },
  {
   "cell_type": "code",
   "execution_count": 5,
   "id": "b3f725fb",
   "metadata": {},
   "outputs": [
    {
     "data": {
      "text/html": [
       "<div>\n",
       "<style scoped>\n",
       "    .dataframe tbody tr th:only-of-type {\n",
       "        vertical-align: middle;\n",
       "    }\n",
       "\n",
       "    .dataframe tbody tr th {\n",
       "        vertical-align: top;\n",
       "    }\n",
       "\n",
       "    .dataframe thead th {\n",
       "        text-align: right;\n",
       "    }\n",
       "</style>\n",
       "<table border=\"1\" class=\"dataframe\">\n",
       "  <thead>\n",
       "    <tr style=\"text-align: right;\">\n",
       "      <th></th>\n",
       "      <th>Name</th>\n",
       "      <th>HireDate</th>\n",
       "      <th>Salary</th>\n",
       "      <th>SickDaysremaining</th>\n",
       "    </tr>\n",
       "  </thead>\n",
       "  <tbody>\n",
       "    <tr>\n",
       "      <th>0</th>\n",
       "      <td>Graham Chapman</td>\n",
       "      <td>2014-03-15</td>\n",
       "      <td>50000.0</td>\n",
       "      <td>10</td>\n",
       "    </tr>\n",
       "    <tr>\n",
       "      <th>1</th>\n",
       "      <td>John Cleese</td>\n",
       "      <td>2015-06-01</td>\n",
       "      <td>65000.0</td>\n",
       "      <td>8</td>\n",
       "    </tr>\n",
       "    <tr>\n",
       "      <th>2</th>\n",
       "      <td>Eric Idle</td>\n",
       "      <td>2014-05-12</td>\n",
       "      <td>45000.0</td>\n",
       "      <td>10</td>\n",
       "    </tr>\n",
       "    <tr>\n",
       "      <th>3</th>\n",
       "      <td>Terry Jones</td>\n",
       "      <td>2013-11-01</td>\n",
       "      <td>70000.0</td>\n",
       "      <td>3</td>\n",
       "    </tr>\n",
       "    <tr>\n",
       "      <th>4</th>\n",
       "      <td>Terry Gilliam</td>\n",
       "      <td>2014-08-12</td>\n",
       "      <td>48000.0</td>\n",
       "      <td>7</td>\n",
       "    </tr>\n",
       "    <tr>\n",
       "      <th>5</th>\n",
       "      <td>Michael Palin</td>\n",
       "      <td>2013-05-23</td>\n",
       "      <td>66000.0</td>\n",
       "      <td>8</td>\n",
       "    </tr>\n",
       "  </tbody>\n",
       "</table>\n",
       "</div>"
      ],
      "text/plain": [
       "             Name   HireDate   Salary  SickDaysremaining\n",
       "0  Graham Chapman 2014-03-15  50000.0                 10\n",
       "1     John Cleese 2015-06-01  65000.0                  8\n",
       "2       Eric Idle 2014-05-12  45000.0                 10\n",
       "3     Terry Jones 2013-11-01  70000.0                  3\n",
       "4   Terry Gilliam 2014-08-12  48000.0                  7\n",
       "5   Michael Palin 2013-05-23  66000.0                  8"
      ]
     },
     "execution_count": 5,
     "metadata": {},
     "output_type": "execute_result"
    }
   ],
   "source": [
    "#inside pandas to datetime function are present\n",
    "\n",
    "df['HireDate']=pd.to_datetime(df['HireDate'])\n",
    "\n",
    "df"
   ]
  },
  {
   "cell_type": "code",
   "execution_count": 6,
   "id": "cf3aa528",
   "metadata": {},
   "outputs": [],
   "source": [
    "#import pandas\n",
    "#pandas.date_range"
   ]
  },
  {
   "cell_type": "code",
   "execution_count": 10,
   "id": "34e07ac4",
   "metadata": {},
   "outputs": [
    {
     "data": {
      "text/plain": [
       "DatetimeIndex(['2023-05-28', '2023-05-29', '2023-05-30', '2023-05-31',\n",
       "               '2023-06-01', '2023-06-02', '2023-06-03', '2023-06-04',\n",
       "               '2023-06-05', '2023-06-06', '2023-06-07', '2023-06-08',\n",
       "               '2023-06-09', '2023-06-10', '2023-06-11', '2023-06-12',\n",
       "               '2023-06-13', '2023-06-14', '2023-06-15', '2023-06-16',\n",
       "               '2023-06-17', '2023-06-18'],\n",
       "              dtype='datetime64[ns]', freq='D')"
      ]
     },
     "execution_count": 10,
     "metadata": {},
     "output_type": "execute_result"
    }
   ],
   "source": [
    "#date format mm/dd/yyyy\n",
    "\n",
    "daterange=pd.date_range(start='05/28/2023', end='06/18/2023', freq='D')\n",
    "\n",
    "daterange"
   ]
  },
  {
   "cell_type": "code",
   "execution_count": 9,
   "id": "2a79d5f3",
   "metadata": {},
   "outputs": [
    {
     "data": {
      "text/plain": [
       "DatetimeIndex(['2023-05-31', '2023-06-30', '2023-07-31', '2023-08-31',\n",
       "               '2023-09-30', '2023-10-31', '2023-11-30'],\n",
       "              dtype='datetime64[ns]', freq='M')"
      ]
     },
     "execution_count": 9,
     "metadata": {},
     "output_type": "execute_result"
    }
   ],
   "source": [
    "daterange=pd.date_range(start='05/28/2023',end='12/18/2023',freq='M')\n",
    "\n",
    "daterange"
   ]
  },
  {
   "cell_type": "code",
   "execution_count": 11,
   "id": "1e9a8d6a",
   "metadata": {},
   "outputs": [],
   "source": [
    "#pd.to_timedelta?"
   ]
  },
  {
   "cell_type": "code",
   "execution_count": 13,
   "id": "701f452c",
   "metadata": {},
   "outputs": [
    {
     "name": "stdout",
     "output_type": "stream",
     "text": [
      "2023-05-28 13:26:41.162008\n",
      "2023-06-12 13:26:41.162008\n"
     ]
    }
   ],
   "source": [
    "import datetime\n",
    "\n",
    "dt=datetime.datetime.now()\n",
    "print(dt)\n",
    "#date after 10 days\n",
    "\n",
    "#timedelta -> represent a duration, the time difference between two dates or times.\n",
    "print(dt+pd.to_timedelta(15,unit='D'))"
   ]
  },
  {
   "cell_type": "code",
   "execution_count": 14,
   "id": "40df499c",
   "metadata": {},
   "outputs": [
    {
     "name": "stdout",
     "output_type": "stream",
     "text": [
      "             Name   HireDate   Salary  SickDaysremaining  Day  Month  Year\n",
      "0  Graham Chapman 2014-03-15  50000.0                 10   15      3  2014\n",
      "1     John Cleese 2015-06-01  65000.0                  8    1      6  2015\n",
      "2       Eric Idle 2014-05-12  45000.0                 10   12      5  2014\n",
      "3     Terry Jones 2013-11-01  70000.0                  3    1     11  2013\n",
      "4   Terry Gilliam 2014-08-12  48000.0                  7   12      8  2014\n",
      "5   Michael Palin 2013-05-23  66000.0                  8   23      5  2013\n"
     ]
    }
   ],
   "source": [
    "#adding new column day, month, year in dataframe with dt attribute\n",
    "\n",
    "df['Day']=df['HireDate'].dt.day\n",
    "df['Month']=df['HireDate'].dt.month\n",
    "df['Year']=df['HireDate'].dt.year\n",
    "\n",
    "print(df)"
   ]
  },
  {
   "cell_type": "markdown",
   "id": "f6a05c35",
   "metadata": {},
   "source": [
    "# Pandas SQL"
   ]
  },
  {
   "cell_type": "code",
   "execution_count": 15,
   "id": "0744dae6",
   "metadata": {},
   "outputs": [
    {
     "name": "stdout",
     "output_type": "stream",
     "text": [
      "    SNo    Name   Age       City  Country   Salary\n",
      "0     1     Tom  28.0    Toronto   Canada  20000.0\n",
      "1     2     Lee  31.0    Edmonto   Canada   3900.0\n",
      "2     3    Dave  34.0    Toronto   Canada   8000.0\n",
      "3     4    Anik  26.0   HongKong     Asia  66672.0\n",
      "4     5   kamal  30.0        NaN  America      NaN\n",
      "5     6    Geet   NaN   HongKong     Asia  30007.0\n",
      "6     7  Steven  43.0    BayArea  America   8300.0\n",
      "7     8     Ram  38.0  Hyderabad     Asia  54666.0\n",
      "8     9    hari  50.0    newyork  America  67666.0\n",
      "9    11    yami   NaN    newyork  America   8888.0\n",
      "10   12    Anik  26.0   HongKong     Asia  66672.0\n",
      "11   13   kamal  30.0        NaN  America  34344.0\n",
      "12   14    Geet  22.0   HongKong     Asia  30007.0\n",
      "13   15  Steven  43.0        NaN  America   8300.0\n",
      "14   16     Ram  38.0  Hyderabad     Asia  54666.0\n",
      "15   17    hari   NaN    newyork  America  67666.0\n",
      "16   18    yami  27.0    newyork  America   8888.0\n",
      "17   19     Lee  31.0    Edmonto   Canada      NaN\n",
      "18   20  Andrew  34.0      Congo   Africa  34432.0\n",
      "19   21   soham  32.0     Angola   Africa  34534.0\n",
      "20   22    Grig  26.0    Finland   Europe  33451.0\n",
      "21   23   Kiara  27.0     London   Europe      NaN\n"
     ]
    }
   ],
   "source": [
    "df=pd.read_csv('empl.csv')\n",
    "print(df)"
   ]
  },
  {
   "cell_type": "code",
   "execution_count": 17,
   "id": "5f55a913",
   "metadata": {},
   "outputs": [
    {
     "data": {
      "text/html": [
       "<div>\n",
       "<style scoped>\n",
       "    .dataframe tbody tr th:only-of-type {\n",
       "        vertical-align: middle;\n",
       "    }\n",
       "\n",
       "    .dataframe tbody tr th {\n",
       "        vertical-align: top;\n",
       "    }\n",
       "\n",
       "    .dataframe thead th {\n",
       "        text-align: right;\n",
       "    }\n",
       "</style>\n",
       "<table border=\"1\" class=\"dataframe\">\n",
       "  <thead>\n",
       "    <tr style=\"text-align: right;\">\n",
       "      <th></th>\n",
       "      <th>Name</th>\n",
       "    </tr>\n",
       "  </thead>\n",
       "  <tbody>\n",
       "    <tr>\n",
       "      <th>0</th>\n",
       "      <td>Tom</td>\n",
       "    </tr>\n",
       "    <tr>\n",
       "      <th>1</th>\n",
       "      <td>Lee</td>\n",
       "    </tr>\n",
       "    <tr>\n",
       "      <th>2</th>\n",
       "      <td>Dave</td>\n",
       "    </tr>\n",
       "    <tr>\n",
       "      <th>3</th>\n",
       "      <td>Anik</td>\n",
       "    </tr>\n",
       "    <tr>\n",
       "      <th>4</th>\n",
       "      <td>kamal</td>\n",
       "    </tr>\n",
       "    <tr>\n",
       "      <th>5</th>\n",
       "      <td>Geet</td>\n",
       "    </tr>\n",
       "    <tr>\n",
       "      <th>6</th>\n",
       "      <td>Steven</td>\n",
       "    </tr>\n",
       "    <tr>\n",
       "      <th>7</th>\n",
       "      <td>Ram</td>\n",
       "    </tr>\n",
       "    <tr>\n",
       "      <th>8</th>\n",
       "      <td>hari</td>\n",
       "    </tr>\n",
       "    <tr>\n",
       "      <th>9</th>\n",
       "      <td>yami</td>\n",
       "    </tr>\n",
       "    <tr>\n",
       "      <th>10</th>\n",
       "      <td>Anik</td>\n",
       "    </tr>\n",
       "    <tr>\n",
       "      <th>11</th>\n",
       "      <td>kamal</td>\n",
       "    </tr>\n",
       "    <tr>\n",
       "      <th>12</th>\n",
       "      <td>Geet</td>\n",
       "    </tr>\n",
       "    <tr>\n",
       "      <th>13</th>\n",
       "      <td>Steven</td>\n",
       "    </tr>\n",
       "    <tr>\n",
       "      <th>14</th>\n",
       "      <td>Ram</td>\n",
       "    </tr>\n",
       "    <tr>\n",
       "      <th>15</th>\n",
       "      <td>hari</td>\n",
       "    </tr>\n",
       "    <tr>\n",
       "      <th>16</th>\n",
       "      <td>yami</td>\n",
       "    </tr>\n",
       "    <tr>\n",
       "      <th>17</th>\n",
       "      <td>Lee</td>\n",
       "    </tr>\n",
       "    <tr>\n",
       "      <th>18</th>\n",
       "      <td>Andrew</td>\n",
       "    </tr>\n",
       "    <tr>\n",
       "      <th>19</th>\n",
       "      <td>soham</td>\n",
       "    </tr>\n",
       "    <tr>\n",
       "      <th>20</th>\n",
       "      <td>Grig</td>\n",
       "    </tr>\n",
       "    <tr>\n",
       "      <th>21</th>\n",
       "      <td>Kiara</td>\n",
       "    </tr>\n",
       "  </tbody>\n",
       "</table>\n",
       "</div>"
      ],
      "text/plain": [
       "      Name\n",
       "0      Tom\n",
       "1      Lee\n",
       "2     Dave\n",
       "3     Anik\n",
       "4    kamal\n",
       "5     Geet\n",
       "6   Steven\n",
       "7      Ram\n",
       "8     hari\n",
       "9     yami\n",
       "10    Anik\n",
       "11   kamal\n",
       "12    Geet\n",
       "13  Steven\n",
       "14     Ram\n",
       "15    hari\n",
       "16    yami\n",
       "17     Lee\n",
       "18  Andrew\n",
       "19   soham\n",
       "20    Grig\n",
       "21   Kiara"
      ]
     },
     "execution_count": 17,
     "metadata": {},
     "output_type": "execute_result"
    }
   ],
   "source": [
    "#same statement can be written in MySql database by select name from table/(here dataframe)\n",
    "\n",
    "df1=pd.DataFrame(data=df,columns=['Name'])\n",
    "df1"
   ]
  },
  {
   "cell_type": "code",
   "execution_count": 18,
   "id": "b3536988",
   "metadata": {},
   "outputs": [
    {
     "data": {
      "text/html": [
       "<div>\n",
       "<style scoped>\n",
       "    .dataframe tbody tr th:only-of-type {\n",
       "        vertical-align: middle;\n",
       "    }\n",
       "\n",
       "    .dataframe tbody tr th {\n",
       "        vertical-align: top;\n",
       "    }\n",
       "\n",
       "    .dataframe thead th {\n",
       "        text-align: right;\n",
       "    }\n",
       "</style>\n",
       "<table border=\"1\" class=\"dataframe\">\n",
       "  <thead>\n",
       "    <tr style=\"text-align: right;\">\n",
       "      <th></th>\n",
       "      <th>Name</th>\n",
       "      <th>Age</th>\n",
       "    </tr>\n",
       "  </thead>\n",
       "  <tbody>\n",
       "    <tr>\n",
       "      <th>0</th>\n",
       "      <td>Tom</td>\n",
       "      <td>28.0</td>\n",
       "    </tr>\n",
       "    <tr>\n",
       "      <th>1</th>\n",
       "      <td>Lee</td>\n",
       "      <td>31.0</td>\n",
       "    </tr>\n",
       "    <tr>\n",
       "      <th>2</th>\n",
       "      <td>Dave</td>\n",
       "      <td>34.0</td>\n",
       "    </tr>\n",
       "    <tr>\n",
       "      <th>3</th>\n",
       "      <td>Anik</td>\n",
       "      <td>26.0</td>\n",
       "    </tr>\n",
       "    <tr>\n",
       "      <th>4</th>\n",
       "      <td>kamal</td>\n",
       "      <td>30.0</td>\n",
       "    </tr>\n",
       "    <tr>\n",
       "      <th>5</th>\n",
       "      <td>Geet</td>\n",
       "      <td>NaN</td>\n",
       "    </tr>\n",
       "    <tr>\n",
       "      <th>6</th>\n",
       "      <td>Steven</td>\n",
       "      <td>43.0</td>\n",
       "    </tr>\n",
       "    <tr>\n",
       "      <th>7</th>\n",
       "      <td>Ram</td>\n",
       "      <td>38.0</td>\n",
       "    </tr>\n",
       "    <tr>\n",
       "      <th>8</th>\n",
       "      <td>hari</td>\n",
       "      <td>50.0</td>\n",
       "    </tr>\n",
       "    <tr>\n",
       "      <th>9</th>\n",
       "      <td>yami</td>\n",
       "      <td>NaN</td>\n",
       "    </tr>\n",
       "    <tr>\n",
       "      <th>10</th>\n",
       "      <td>Anik</td>\n",
       "      <td>26.0</td>\n",
       "    </tr>\n",
       "    <tr>\n",
       "      <th>11</th>\n",
       "      <td>kamal</td>\n",
       "      <td>30.0</td>\n",
       "    </tr>\n",
       "    <tr>\n",
       "      <th>12</th>\n",
       "      <td>Geet</td>\n",
       "      <td>22.0</td>\n",
       "    </tr>\n",
       "    <tr>\n",
       "      <th>13</th>\n",
       "      <td>Steven</td>\n",
       "      <td>43.0</td>\n",
       "    </tr>\n",
       "    <tr>\n",
       "      <th>14</th>\n",
       "      <td>Ram</td>\n",
       "      <td>38.0</td>\n",
       "    </tr>\n",
       "    <tr>\n",
       "      <th>15</th>\n",
       "      <td>hari</td>\n",
       "      <td>NaN</td>\n",
       "    </tr>\n",
       "    <tr>\n",
       "      <th>16</th>\n",
       "      <td>yami</td>\n",
       "      <td>27.0</td>\n",
       "    </tr>\n",
       "    <tr>\n",
       "      <th>17</th>\n",
       "      <td>Lee</td>\n",
       "      <td>31.0</td>\n",
       "    </tr>\n",
       "    <tr>\n",
       "      <th>18</th>\n",
       "      <td>Andrew</td>\n",
       "      <td>34.0</td>\n",
       "    </tr>\n",
       "    <tr>\n",
       "      <th>19</th>\n",
       "      <td>soham</td>\n",
       "      <td>32.0</td>\n",
       "    </tr>\n",
       "    <tr>\n",
       "      <th>20</th>\n",
       "      <td>Grig</td>\n",
       "      <td>26.0</td>\n",
       "    </tr>\n",
       "    <tr>\n",
       "      <th>21</th>\n",
       "      <td>Kiara</td>\n",
       "      <td>27.0</td>\n",
       "    </tr>\n",
       "  </tbody>\n",
       "</table>\n",
       "</div>"
      ],
      "text/plain": [
       "      Name   Age\n",
       "0      Tom  28.0\n",
       "1      Lee  31.0\n",
       "2     Dave  34.0\n",
       "3     Anik  26.0\n",
       "4    kamal  30.0\n",
       "5     Geet   NaN\n",
       "6   Steven  43.0\n",
       "7      Ram  38.0\n",
       "8     hari  50.0\n",
       "9     yami   NaN\n",
       "10    Anik  26.0\n",
       "11   kamal  30.0\n",
       "12    Geet  22.0\n",
       "13  Steven  43.0\n",
       "14     Ram  38.0\n",
       "15    hari   NaN\n",
       "16    yami  27.0\n",
       "17     Lee  31.0\n",
       "18  Andrew  34.0\n",
       "19   soham  32.0\n",
       "20    Grig  26.0\n",
       "21   Kiara  27.0"
      ]
     },
     "execution_count": 18,
     "metadata": {},
     "output_type": "execute_result"
    }
   ],
   "source": [
    "#same statement can be written in MySql database by select name from table/(here dataframe)\n",
    "\n",
    "#if you want to view two columns\n",
    "\n",
    "df1=pd.DataFrame(data=df,columns=['Name','Age'])\n",
    "df1"
   ]
  },
  {
   "cell_type": "code",
   "execution_count": 19,
   "id": "c9e7782d",
   "metadata": {},
   "outputs": [
    {
     "data": {
      "text/html": [
       "<div>\n",
       "<style scoped>\n",
       "    .dataframe tbody tr th:only-of-type {\n",
       "        vertical-align: middle;\n",
       "    }\n",
       "\n",
       "    .dataframe tbody tr th {\n",
       "        vertical-align: top;\n",
       "    }\n",
       "\n",
       "    .dataframe thead th {\n",
       "        text-align: right;\n",
       "    }\n",
       "</style>\n",
       "<table border=\"1\" class=\"dataframe\">\n",
       "  <thead>\n",
       "    <tr style=\"text-align: right;\">\n",
       "      <th></th>\n",
       "      <th>Name</th>\n",
       "      <th>Age</th>\n",
       "      <th>Salary</th>\n",
       "    </tr>\n",
       "  </thead>\n",
       "  <tbody>\n",
       "    <tr>\n",
       "      <th>0</th>\n",
       "      <td>Tom</td>\n",
       "      <td>28.0</td>\n",
       "      <td>20000.0</td>\n",
       "    </tr>\n",
       "    <tr>\n",
       "      <th>1</th>\n",
       "      <td>Lee</td>\n",
       "      <td>31.0</td>\n",
       "      <td>3900.0</td>\n",
       "    </tr>\n",
       "    <tr>\n",
       "      <th>2</th>\n",
       "      <td>Dave</td>\n",
       "      <td>34.0</td>\n",
       "      <td>8000.0</td>\n",
       "    </tr>\n",
       "    <tr>\n",
       "      <th>3</th>\n",
       "      <td>Anik</td>\n",
       "      <td>26.0</td>\n",
       "      <td>66672.0</td>\n",
       "    </tr>\n",
       "    <tr>\n",
       "      <th>4</th>\n",
       "      <td>kamal</td>\n",
       "      <td>30.0</td>\n",
       "      <td>NaN</td>\n",
       "    </tr>\n",
       "  </tbody>\n",
       "</table>\n",
       "</div>"
      ],
      "text/plain": [
       "    Name   Age   Salary\n",
       "0    Tom  28.0  20000.0\n",
       "1    Lee  31.0   3900.0\n",
       "2   Dave  34.0   8000.0\n",
       "3   Anik  26.0  66672.0\n",
       "4  kamal  30.0      NaN"
      ]
     },
     "execution_count": 19,
     "metadata": {},
     "output_type": "execute_result"
    }
   ],
   "source": [
    "#select name, age,salary from hrdata limit 5\n",
    "\n",
    "df[['Name','Age','Salary']].head(5)"
   ]
  },
  {
   "cell_type": "code",
   "execution_count": 21,
   "id": "d2584020",
   "metadata": {},
   "outputs": [
    {
     "data": {
      "text/html": [
       "<div>\n",
       "<style scoped>\n",
       "    .dataframe tbody tr th:only-of-type {\n",
       "        vertical-align: middle;\n",
       "    }\n",
       "\n",
       "    .dataframe tbody tr th {\n",
       "        vertical-align: top;\n",
       "    }\n",
       "\n",
       "    .dataframe thead th {\n",
       "        text-align: right;\n",
       "    }\n",
       "</style>\n",
       "<table border=\"1\" class=\"dataframe\">\n",
       "  <thead>\n",
       "    <tr style=\"text-align: right;\">\n",
       "      <th></th>\n",
       "      <th>SNo</th>\n",
       "      <th>Name</th>\n",
       "      <th>Age</th>\n",
       "      <th>City</th>\n",
       "      <th>Country</th>\n",
       "      <th>Salary</th>\n",
       "    </tr>\n",
       "  </thead>\n",
       "  <tbody>\n",
       "    <tr>\n",
       "      <th>8</th>\n",
       "      <td>9</td>\n",
       "      <td>hari</td>\n",
       "      <td>50.0</td>\n",
       "      <td>newyork</td>\n",
       "      <td>America</td>\n",
       "      <td>67666.0</td>\n",
       "    </tr>\n",
       "    <tr>\n",
       "      <th>9</th>\n",
       "      <td>11</td>\n",
       "      <td>yami</td>\n",
       "      <td>NaN</td>\n",
       "      <td>newyork</td>\n",
       "      <td>America</td>\n",
       "      <td>8888.0</td>\n",
       "    </tr>\n",
       "    <tr>\n",
       "      <th>15</th>\n",
       "      <td>17</td>\n",
       "      <td>hari</td>\n",
       "      <td>NaN</td>\n",
       "      <td>newyork</td>\n",
       "      <td>America</td>\n",
       "      <td>67666.0</td>\n",
       "    </tr>\n",
       "    <tr>\n",
       "      <th>16</th>\n",
       "      <td>18</td>\n",
       "      <td>yami</td>\n",
       "      <td>27.0</td>\n",
       "      <td>newyork</td>\n",
       "      <td>America</td>\n",
       "      <td>8888.0</td>\n",
       "    </tr>\n",
       "  </tbody>\n",
       "</table>\n",
       "</div>"
      ],
      "text/plain": [
       "    SNo  Name   Age     City  Country   Salary\n",
       "8     9  hari  50.0  newyork  America  67666.0\n",
       "9    11  yami   NaN  newyork  America   8888.0\n",
       "15   17  hari   NaN  newyork  America  67666.0\n",
       "16   18  yami  27.0  newyork  America   8888.0"
      ]
     },
     "execution_count": 21,
     "metadata": {},
     "output_type": "execute_result"
    }
   ],
   "source": [
    "#select * from hrdata/df where City=='Newyork'\n",
    "\n",
    "df[df['City']=='newyork']"
   ]
  },
  {
   "cell_type": "code",
   "execution_count": 23,
   "id": "8eb5f12a",
   "metadata": {},
   "outputs": [
    {
     "data": {
      "text/html": [
       "<div>\n",
       "<style scoped>\n",
       "    .dataframe tbody tr th:only-of-type {\n",
       "        vertical-align: middle;\n",
       "    }\n",
       "\n",
       "    .dataframe tbody tr th {\n",
       "        vertical-align: top;\n",
       "    }\n",
       "\n",
       "    .dataframe thead th {\n",
       "        text-align: right;\n",
       "    }\n",
       "</style>\n",
       "<table border=\"1\" class=\"dataframe\">\n",
       "  <thead>\n",
       "    <tr style=\"text-align: right;\">\n",
       "      <th></th>\n",
       "      <th>SNo</th>\n",
       "      <th>Name</th>\n",
       "      <th>Age</th>\n",
       "      <th>City</th>\n",
       "      <th>Country</th>\n",
       "      <th>Salary</th>\n",
       "    </tr>\n",
       "  </thead>\n",
       "  <tbody>\n",
       "    <tr>\n",
       "      <th>8</th>\n",
       "      <td>9</td>\n",
       "      <td>hari</td>\n",
       "      <td>50.0</td>\n",
       "      <td>newyork</td>\n",
       "      <td>America</td>\n",
       "      <td>67666.0</td>\n",
       "    </tr>\n",
       "    <tr>\n",
       "      <th>15</th>\n",
       "      <td>17</td>\n",
       "      <td>hari</td>\n",
       "      <td>NaN</td>\n",
       "      <td>newyork</td>\n",
       "      <td>America</td>\n",
       "      <td>67666.0</td>\n",
       "    </tr>\n",
       "  </tbody>\n",
       "</table>\n",
       "</div>"
      ],
      "text/plain": [
       "    SNo  Name   Age     City  Country   Salary\n",
       "8     9  hari  50.0  newyork  America  67666.0\n",
       "15   17  hari   NaN  newyork  America  67666.0"
      ]
     },
     "execution_count": 23,
     "metadata": {},
     "output_type": "execute_result"
    }
   ],
   "source": [
    "#select * from hrdata WHERE City = 'nwyork' And Salary >50000\n",
    "\n",
    "df[(df['City']=='newyork')&(df['Salary']>50000)]"
   ]
  },
  {
   "cell_type": "code",
   "execution_count": 24,
   "id": "a14d0e89",
   "metadata": {},
   "outputs": [
    {
     "data": {
      "text/html": [
       "<div>\n",
       "<style scoped>\n",
       "    .dataframe tbody tr th:only-of-type {\n",
       "        vertical-align: middle;\n",
       "    }\n",
       "\n",
       "    .dataframe tbody tr th {\n",
       "        vertical-align: top;\n",
       "    }\n",
       "\n",
       "    .dataframe thead th {\n",
       "        text-align: right;\n",
       "    }\n",
       "</style>\n",
       "<table border=\"1\" class=\"dataframe\">\n",
       "  <thead>\n",
       "    <tr style=\"text-align: right;\">\n",
       "      <th></th>\n",
       "      <th>SNo</th>\n",
       "      <th>Name</th>\n",
       "      <th>Age</th>\n",
       "      <th>City</th>\n",
       "      <th>Country</th>\n",
       "      <th>Salary</th>\n",
       "    </tr>\n",
       "  </thead>\n",
       "  <tbody>\n",
       "    <tr>\n",
       "      <th>3</th>\n",
       "      <td>4</td>\n",
       "      <td>Anik</td>\n",
       "      <td>26.0</td>\n",
       "      <td>HongKong</td>\n",
       "      <td>Asia</td>\n",
       "      <td>66672.0</td>\n",
       "    </tr>\n",
       "    <tr>\n",
       "      <th>7</th>\n",
       "      <td>8</td>\n",
       "      <td>Ram</td>\n",
       "      <td>38.0</td>\n",
       "      <td>Hyderabad</td>\n",
       "      <td>Asia</td>\n",
       "      <td>54666.0</td>\n",
       "    </tr>\n",
       "    <tr>\n",
       "      <th>8</th>\n",
       "      <td>9</td>\n",
       "      <td>hari</td>\n",
       "      <td>50.0</td>\n",
       "      <td>newyork</td>\n",
       "      <td>America</td>\n",
       "      <td>67666.0</td>\n",
       "    </tr>\n",
       "    <tr>\n",
       "      <th>10</th>\n",
       "      <td>12</td>\n",
       "      <td>Anik</td>\n",
       "      <td>26.0</td>\n",
       "      <td>HongKong</td>\n",
       "      <td>Asia</td>\n",
       "      <td>66672.0</td>\n",
       "    </tr>\n",
       "    <tr>\n",
       "      <th>14</th>\n",
       "      <td>16</td>\n",
       "      <td>Ram</td>\n",
       "      <td>38.0</td>\n",
       "      <td>Hyderabad</td>\n",
       "      <td>Asia</td>\n",
       "      <td>54666.0</td>\n",
       "    </tr>\n",
       "    <tr>\n",
       "      <th>15</th>\n",
       "      <td>17</td>\n",
       "      <td>hari</td>\n",
       "      <td>NaN</td>\n",
       "      <td>newyork</td>\n",
       "      <td>America</td>\n",
       "      <td>67666.0</td>\n",
       "    </tr>\n",
       "    <tr>\n",
       "      <th>18</th>\n",
       "      <td>20</td>\n",
       "      <td>Andrew</td>\n",
       "      <td>34.0</td>\n",
       "      <td>Congo</td>\n",
       "      <td>Africa</td>\n",
       "      <td>34432.0</td>\n",
       "    </tr>\n",
       "    <tr>\n",
       "      <th>19</th>\n",
       "      <td>21</td>\n",
       "      <td>soham</td>\n",
       "      <td>32.0</td>\n",
       "      <td>Angola</td>\n",
       "      <td>Africa</td>\n",
       "      <td>34534.0</td>\n",
       "    </tr>\n",
       "  </tbody>\n",
       "</table>\n",
       "</div>"
      ],
      "text/plain": [
       "    SNo    Name   Age       City  Country   Salary\n",
       "3     4    Anik  26.0   HongKong     Asia  66672.0\n",
       "7     8     Ram  38.0  Hyderabad     Asia  54666.0\n",
       "8     9    hari  50.0    newyork  America  67666.0\n",
       "10   12    Anik  26.0   HongKong     Asia  66672.0\n",
       "14   16     Ram  38.0  Hyderabad     Asia  54666.0\n",
       "15   17    hari   NaN    newyork  America  67666.0\n",
       "18   20  Andrew  34.0      Congo   Africa  34432.0\n",
       "19   21   soham  32.0     Angola   Africa  34534.0"
      ]
     },
     "execution_count": 24,
     "metadata": {},
     "output_type": "execute_result"
    }
   ],
   "source": [
    "#select * from df where country == Africa OR  salary >50000\n",
    "\n",
    "df[(df['Country']=='Africa') | (df['Salary']>50000)]"
   ]
  },
  {
   "cell_type": "code",
   "execution_count": 25,
   "id": "b880a163",
   "metadata": {},
   "outputs": [
    {
     "data": {
      "text/html": [
       "<div>\n",
       "<style scoped>\n",
       "    .dataframe tbody tr th:only-of-type {\n",
       "        vertical-align: middle;\n",
       "    }\n",
       "\n",
       "    .dataframe tbody tr th {\n",
       "        vertical-align: top;\n",
       "    }\n",
       "\n",
       "    .dataframe thead th {\n",
       "        text-align: right;\n",
       "    }\n",
       "</style>\n",
       "<table border=\"1\" class=\"dataframe\">\n",
       "  <thead>\n",
       "    <tr style=\"text-align: right;\">\n",
       "      <th></th>\n",
       "      <th>SNo</th>\n",
       "      <th>Name</th>\n",
       "      <th>Age</th>\n",
       "      <th>City</th>\n",
       "      <th>Country</th>\n",
       "      <th>Salary</th>\n",
       "    </tr>\n",
       "  </thead>\n",
       "  <tbody>\n",
       "    <tr>\n",
       "      <th>4</th>\n",
       "      <td>5</td>\n",
       "      <td>kamal</td>\n",
       "      <td>30.0</td>\n",
       "      <td>NaN</td>\n",
       "      <td>America</td>\n",
       "      <td>NaN</td>\n",
       "    </tr>\n",
       "    <tr>\n",
       "      <th>17</th>\n",
       "      <td>19</td>\n",
       "      <td>Lee</td>\n",
       "      <td>31.0</td>\n",
       "      <td>Edmonto</td>\n",
       "      <td>Canada</td>\n",
       "      <td>NaN</td>\n",
       "    </tr>\n",
       "    <tr>\n",
       "      <th>21</th>\n",
       "      <td>23</td>\n",
       "      <td>Kiara</td>\n",
       "      <td>27.0</td>\n",
       "      <td>London</td>\n",
       "      <td>Europe</td>\n",
       "      <td>NaN</td>\n",
       "    </tr>\n",
       "  </tbody>\n",
       "</table>\n",
       "</div>"
      ],
      "text/plain": [
       "    SNo   Name   Age     City  Country  Salary\n",
       "4     5  kamal  30.0      NaN  America     NaN\n",
       "17   19    Lee  31.0  Edmonto   Canada     NaN\n",
       "21   23  Kiara  27.0   London   Europe     NaN"
      ]
     },
     "execution_count": 25,
     "metadata": {},
     "output_type": "execute_result"
    }
   ],
   "source": [
    "#select*From df where column is Null;\n",
    "df[df['Salary'].isna()]"
   ]
  },
  {
   "cell_type": "code",
   "execution_count": 26,
   "id": "841ab7a0",
   "metadata": {},
   "outputs": [
    {
     "data": {
      "text/html": [
       "<div>\n",
       "<style scoped>\n",
       "    .dataframe tbody tr th:only-of-type {\n",
       "        vertical-align: middle;\n",
       "    }\n",
       "\n",
       "    .dataframe tbody tr th {\n",
       "        vertical-align: top;\n",
       "    }\n",
       "\n",
       "    .dataframe thead th {\n",
       "        text-align: right;\n",
       "    }\n",
       "</style>\n",
       "<table border=\"1\" class=\"dataframe\">\n",
       "  <thead>\n",
       "    <tr style=\"text-align: right;\">\n",
       "      <th></th>\n",
       "      <th>SNo</th>\n",
       "      <th>Name</th>\n",
       "      <th>Age</th>\n",
       "      <th>City</th>\n",
       "      <th>Country</th>\n",
       "      <th>Salary</th>\n",
       "    </tr>\n",
       "  </thead>\n",
       "  <tbody>\n",
       "    <tr>\n",
       "      <th>0</th>\n",
       "      <td>1</td>\n",
       "      <td>Tom</td>\n",
       "      <td>28.0</td>\n",
       "      <td>Toronto</td>\n",
       "      <td>Canada</td>\n",
       "      <td>20000.0</td>\n",
       "    </tr>\n",
       "    <tr>\n",
       "      <th>1</th>\n",
       "      <td>2</td>\n",
       "      <td>Lee</td>\n",
       "      <td>31.0</td>\n",
       "      <td>Edmonto</td>\n",
       "      <td>Canada</td>\n",
       "      <td>3900.0</td>\n",
       "    </tr>\n",
       "    <tr>\n",
       "      <th>2</th>\n",
       "      <td>3</td>\n",
       "      <td>Dave</td>\n",
       "      <td>34.0</td>\n",
       "      <td>Toronto</td>\n",
       "      <td>Canada</td>\n",
       "      <td>8000.0</td>\n",
       "    </tr>\n",
       "    <tr>\n",
       "      <th>3</th>\n",
       "      <td>4</td>\n",
       "      <td>Anik</td>\n",
       "      <td>26.0</td>\n",
       "      <td>HongKong</td>\n",
       "      <td>Asia</td>\n",
       "      <td>66672.0</td>\n",
       "    </tr>\n",
       "    <tr>\n",
       "      <th>5</th>\n",
       "      <td>6</td>\n",
       "      <td>Geet</td>\n",
       "      <td>NaN</td>\n",
       "      <td>HongKong</td>\n",
       "      <td>Asia</td>\n",
       "      <td>30007.0</td>\n",
       "    </tr>\n",
       "    <tr>\n",
       "      <th>6</th>\n",
       "      <td>7</td>\n",
       "      <td>Steven</td>\n",
       "      <td>43.0</td>\n",
       "      <td>BayArea</td>\n",
       "      <td>America</td>\n",
       "      <td>8300.0</td>\n",
       "    </tr>\n",
       "    <tr>\n",
       "      <th>7</th>\n",
       "      <td>8</td>\n",
       "      <td>Ram</td>\n",
       "      <td>38.0</td>\n",
       "      <td>Hyderabad</td>\n",
       "      <td>Asia</td>\n",
       "      <td>54666.0</td>\n",
       "    </tr>\n",
       "    <tr>\n",
       "      <th>8</th>\n",
       "      <td>9</td>\n",
       "      <td>hari</td>\n",
       "      <td>50.0</td>\n",
       "      <td>newyork</td>\n",
       "      <td>America</td>\n",
       "      <td>67666.0</td>\n",
       "    </tr>\n",
       "    <tr>\n",
       "      <th>9</th>\n",
       "      <td>11</td>\n",
       "      <td>yami</td>\n",
       "      <td>NaN</td>\n",
       "      <td>newyork</td>\n",
       "      <td>America</td>\n",
       "      <td>8888.0</td>\n",
       "    </tr>\n",
       "    <tr>\n",
       "      <th>10</th>\n",
       "      <td>12</td>\n",
       "      <td>Anik</td>\n",
       "      <td>26.0</td>\n",
       "      <td>HongKong</td>\n",
       "      <td>Asia</td>\n",
       "      <td>66672.0</td>\n",
       "    </tr>\n",
       "    <tr>\n",
       "      <th>11</th>\n",
       "      <td>13</td>\n",
       "      <td>kamal</td>\n",
       "      <td>30.0</td>\n",
       "      <td>NaN</td>\n",
       "      <td>America</td>\n",
       "      <td>34344.0</td>\n",
       "    </tr>\n",
       "    <tr>\n",
       "      <th>12</th>\n",
       "      <td>14</td>\n",
       "      <td>Geet</td>\n",
       "      <td>22.0</td>\n",
       "      <td>HongKong</td>\n",
       "      <td>Asia</td>\n",
       "      <td>30007.0</td>\n",
       "    </tr>\n",
       "    <tr>\n",
       "      <th>13</th>\n",
       "      <td>15</td>\n",
       "      <td>Steven</td>\n",
       "      <td>43.0</td>\n",
       "      <td>NaN</td>\n",
       "      <td>America</td>\n",
       "      <td>8300.0</td>\n",
       "    </tr>\n",
       "    <tr>\n",
       "      <th>14</th>\n",
       "      <td>16</td>\n",
       "      <td>Ram</td>\n",
       "      <td>38.0</td>\n",
       "      <td>Hyderabad</td>\n",
       "      <td>Asia</td>\n",
       "      <td>54666.0</td>\n",
       "    </tr>\n",
       "    <tr>\n",
       "      <th>15</th>\n",
       "      <td>17</td>\n",
       "      <td>hari</td>\n",
       "      <td>NaN</td>\n",
       "      <td>newyork</td>\n",
       "      <td>America</td>\n",
       "      <td>67666.0</td>\n",
       "    </tr>\n",
       "    <tr>\n",
       "      <th>16</th>\n",
       "      <td>18</td>\n",
       "      <td>yami</td>\n",
       "      <td>27.0</td>\n",
       "      <td>newyork</td>\n",
       "      <td>America</td>\n",
       "      <td>8888.0</td>\n",
       "    </tr>\n",
       "    <tr>\n",
       "      <th>18</th>\n",
       "      <td>20</td>\n",
       "      <td>Andrew</td>\n",
       "      <td>34.0</td>\n",
       "      <td>Congo</td>\n",
       "      <td>Africa</td>\n",
       "      <td>34432.0</td>\n",
       "    </tr>\n",
       "    <tr>\n",
       "      <th>19</th>\n",
       "      <td>21</td>\n",
       "      <td>soham</td>\n",
       "      <td>32.0</td>\n",
       "      <td>Angola</td>\n",
       "      <td>Africa</td>\n",
       "      <td>34534.0</td>\n",
       "    </tr>\n",
       "    <tr>\n",
       "      <th>20</th>\n",
       "      <td>22</td>\n",
       "      <td>Grig</td>\n",
       "      <td>26.0</td>\n",
       "      <td>Finland</td>\n",
       "      <td>Europe</td>\n",
       "      <td>33451.0</td>\n",
       "    </tr>\n",
       "  </tbody>\n",
       "</table>\n",
       "</div>"
      ],
      "text/plain": [
       "    SNo    Name   Age       City  Country   Salary\n",
       "0     1     Tom  28.0    Toronto   Canada  20000.0\n",
       "1     2     Lee  31.0    Edmonto   Canada   3900.0\n",
       "2     3    Dave  34.0    Toronto   Canada   8000.0\n",
       "3     4    Anik  26.0   HongKong     Asia  66672.0\n",
       "5     6    Geet   NaN   HongKong     Asia  30007.0\n",
       "6     7  Steven  43.0    BayArea  America   8300.0\n",
       "7     8     Ram  38.0  Hyderabad     Asia  54666.0\n",
       "8     9    hari  50.0    newyork  America  67666.0\n",
       "9    11    yami   NaN    newyork  America   8888.0\n",
       "10   12    Anik  26.0   HongKong     Asia  66672.0\n",
       "11   13   kamal  30.0        NaN  America  34344.0\n",
       "12   14    Geet  22.0   HongKong     Asia  30007.0\n",
       "13   15  Steven  43.0        NaN  America   8300.0\n",
       "14   16     Ram  38.0  Hyderabad     Asia  54666.0\n",
       "15   17    hari   NaN    newyork  America  67666.0\n",
       "16   18    yami  27.0    newyork  America   8888.0\n",
       "18   20  Andrew  34.0      Congo   Africa  34432.0\n",
       "19   21   soham  32.0     Angola   Africa  34534.0\n",
       "20   22    Grig  26.0    Finland   Europe  33451.0"
      ]
     },
     "execution_count": 26,
     "metadata": {},
     "output_type": "execute_result"
    }
   ],
   "source": [
    "#select * from frame where col is not null;\n",
    "\n",
    "df[df['Salary'].notna()]"
   ]
  },
  {
   "cell_type": "code",
   "execution_count": 27,
   "id": "33374207",
   "metadata": {},
   "outputs": [
    {
     "name": "stdout",
     "output_type": "stream",
     "text": [
      "    SNo    Name   Age       City  Country   Salary\n",
      "0     1     Tom  28.0    Toronto   Canada  20000.0\n",
      "1     2     Lee  31.0    Edmonto   Canada   3900.0\n",
      "2     3    Dave  34.0    Toronto   Canada   8000.0\n",
      "3     4    Anik  26.0   HongKong     Asia  66672.0\n",
      "6     7  Steven  43.0    BayArea  America   8300.0\n",
      "7     8     Ram  38.0  Hyderabad     Asia  54666.0\n",
      "8     9    hari  50.0    newyork  America  67666.0\n",
      "10   12    Anik  26.0   HongKong     Asia  66672.0\n",
      "12   14    Geet  22.0   HongKong     Asia  30007.0\n",
      "14   16     Ram  38.0  Hyderabad     Asia  54666.0\n",
      "16   18    yami  27.0    newyork  America   8888.0\n",
      "18   20  Andrew  34.0      Congo   Africa  34432.0\n",
      "19   21   soham  32.0     Angola   Africa  34534.0\n",
      "20   22    Grig  26.0    Finland   Europe  33451.0\n"
     ]
    }
   ],
   "source": [
    "#axis=0 signifies rows default\n",
    "\n",
    "#df5=df.dropna()\n",
    "#df.dropna(axis=0, inplace=True) -> will take changes in original dataframe\n",
    "\n",
    "df5=df.dropna()\n",
    "print(df5)"
   ]
  },
  {
   "cell_type": "code",
   "execution_count": 29,
   "id": "9e381eb2",
   "metadata": {},
   "outputs": [
    {
     "data": {
      "text/plain": [
       "SNo        0\n",
       "Name       0\n",
       "Age        3\n",
       "City       3\n",
       "Country    0\n",
       "Salary     3\n",
       "dtype: int64"
      ]
     },
     "execution_count": 29,
     "metadata": {},
     "output_type": "execute_result"
    }
   ],
   "source": [
    "df.isnull().sum()"
   ]
  },
  {
   "cell_type": "code",
   "execution_count": 30,
   "id": "dfecd591",
   "metadata": {},
   "outputs": [
    {
     "data": {
      "text/plain": [
       "SNo        0\n",
       "Name       0\n",
       "Age        0\n",
       "City       0\n",
       "Country    0\n",
       "Salary     0\n",
       "dtype: int64"
      ]
     },
     "execution_count": 30,
     "metadata": {},
     "output_type": "execute_result"
    }
   ],
   "source": [
    "df5.isnull().sum()"
   ]
  },
  {
   "cell_type": "markdown",
   "id": "338bf0e6",
   "metadata": {},
   "source": [
    "## Join in Pandas"
   ]
  },
  {
   "cell_type": "markdown",
   "id": "3057c46c",
   "metadata": {},
   "source": [
    "SQL Joins -> Joins can be perfomed with concat, merge and join operation in Pandas"
   ]
  },
  {
   "cell_type": "code",
   "execution_count": 32,
   "id": "51029cd3",
   "metadata": {},
   "outputs": [
    {
     "data": {
      "text/html": [
       "<div>\n",
       "<style scoped>\n",
       "    .dataframe tbody tr th:only-of-type {\n",
       "        vertical-align: middle;\n",
       "    }\n",
       "\n",
       "    .dataframe tbody tr th {\n",
       "        vertical-align: top;\n",
       "    }\n",
       "\n",
       "    .dataframe thead th {\n",
       "        text-align: right;\n",
       "    }\n",
       "</style>\n",
       "<table border=\"1\" class=\"dataframe\">\n",
       "  <thead>\n",
       "    <tr style=\"text-align: right;\">\n",
       "      <th></th>\n",
       "      <th>Subject_Id</th>\n",
       "      <th>first_name</th>\n",
       "      <th>last_name</th>\n",
       "    </tr>\n",
       "  </thead>\n",
       "  <tbody>\n",
       "    <tr>\n",
       "      <th>0</th>\n",
       "      <td>1</td>\n",
       "      <td>Avijit</td>\n",
       "      <td>Sur</td>\n",
       "    </tr>\n",
       "    <tr>\n",
       "      <th>1</th>\n",
       "      <td>2</td>\n",
       "      <td>Amita</td>\n",
       "      <td>Das Sur</td>\n",
       "    </tr>\n",
       "    <tr>\n",
       "      <th>2</th>\n",
       "      <td>3</td>\n",
       "      <td>Amy</td>\n",
       "      <td>Das</td>\n",
       "    </tr>\n",
       "    <tr>\n",
       "      <th>3</th>\n",
       "      <td>4</td>\n",
       "      <td>Asur</td>\n",
       "      <td>Sur</td>\n",
       "    </tr>\n",
       "    <tr>\n",
       "      <th>4</th>\n",
       "      <td>5</td>\n",
       "      <td>Avi</td>\n",
       "      <td>Das</td>\n",
       "    </tr>\n",
       "  </tbody>\n",
       "</table>\n",
       "</div>"
      ],
      "text/plain": [
       "  Subject_Id first_name last_name\n",
       "0          1     Avijit       Sur\n",
       "1          2      Amita   Das Sur\n",
       "2          3        Amy       Das\n",
       "3          4       Asur       Sur\n",
       "4          5        Avi       Das"
      ]
     },
     "execution_count": 32,
     "metadata": {},
     "output_type": "execute_result"
    }
   ],
   "source": [
    "raw_data={'Subject_Id':['1','2','3','4','5'],\n",
    "         'first_name':['Avijit','Amita','Amy','Asur','Avi'],\n",
    "         'last_name': ['Sur','Das Sur','Das','Sur','Das']}\n",
    "\n",
    "df1=pd.DataFrame(raw_data, columns=['Subject_Id','first_name','last_name'])\n",
    "df1"
   ]
  },
  {
   "cell_type": "code",
   "execution_count": 33,
   "id": "21ef760f",
   "metadata": {},
   "outputs": [
    {
     "data": {
      "text/html": [
       "<div>\n",
       "<style scoped>\n",
       "    .dataframe tbody tr th:only-of-type {\n",
       "        vertical-align: middle;\n",
       "    }\n",
       "\n",
       "    .dataframe tbody tr th {\n",
       "        vertical-align: top;\n",
       "    }\n",
       "\n",
       "    .dataframe thead th {\n",
       "        text-align: right;\n",
       "    }\n",
       "</style>\n",
       "<table border=\"1\" class=\"dataframe\">\n",
       "  <thead>\n",
       "    <tr style=\"text-align: right;\">\n",
       "      <th></th>\n",
       "      <th>Subject_Id</th>\n",
       "      <th>first_name</th>\n",
       "      <th>last_name</th>\n",
       "    </tr>\n",
       "  </thead>\n",
       "  <tbody>\n",
       "    <tr>\n",
       "      <th>0</th>\n",
       "      <td>4</td>\n",
       "      <td>Diya</td>\n",
       "      <td>Sur</td>\n",
       "    </tr>\n",
       "    <tr>\n",
       "      <th>1</th>\n",
       "      <td>5</td>\n",
       "      <td>Tiya</td>\n",
       "      <td>Das Sur</td>\n",
       "    </tr>\n",
       "    <tr>\n",
       "      <th>2</th>\n",
       "      <td>6</td>\n",
       "      <td>Kiya</td>\n",
       "      <td>Das</td>\n",
       "    </tr>\n",
       "    <tr>\n",
       "      <th>3</th>\n",
       "      <td>7</td>\n",
       "      <td>Siya</td>\n",
       "      <td>Sur</td>\n",
       "    </tr>\n",
       "    <tr>\n",
       "      <th>4</th>\n",
       "      <td>8</td>\n",
       "      <td>Piya</td>\n",
       "      <td>Das</td>\n",
       "    </tr>\n",
       "  </tbody>\n",
       "</table>\n",
       "</div>"
      ],
      "text/plain": [
       "  Subject_Id first_name last_name\n",
       "0          4       Diya       Sur\n",
       "1          5       Tiya   Das Sur\n",
       "2          6       Kiya       Das\n",
       "3          7       Siya       Sur\n",
       "4          8       Piya       Das"
      ]
     },
     "execution_count": 33,
     "metadata": {},
     "output_type": "execute_result"
    }
   ],
   "source": [
    "#creating second dataframe\n",
    "\n",
    "raw_data={'Subject_Id':['4','5','6','7','8'],\n",
    "         'first_name':['Diya','Tiya','Kiya','Siya','Piya'],\n",
    "         'last_name': ['Sur','Das Sur','Das','Sur','Das']}\n",
    "\n",
    "df2=pd.DataFrame(raw_data, columns=['Subject_Id','first_name','last_name'])\n",
    "df2"
   ]
  },
  {
   "cell_type": "markdown",
   "id": "c8cba01a",
   "metadata": {},
   "source": [
    "**Union all operations**\n",
    "\n",
    "SELECT* FROM df1 UNION ALL Select * FROM df2;\n",
    "\n",
    "Concatenation basically glues the dataframe together.You can select the dimension on which you want to concatenate. For that, just use 'pd.concat' and pass in the list of dataframes to concat together. Consider the below example.\n",
    "\n",
    "Concatenation in dataframe concat the different dataframe along with the rows and columns.\n",
    "\n",
    "concat the two dataframes along rows, by default axis=0 that is rows"
   ]
  },
  {
   "cell_type": "code",
   "execution_count": 35,
   "id": "418100e9",
   "metadata": {},
   "outputs": [
    {
     "data": {
      "text/html": [
       "<div>\n",
       "<style scoped>\n",
       "    .dataframe tbody tr th:only-of-type {\n",
       "        vertical-align: middle;\n",
       "    }\n",
       "\n",
       "    .dataframe tbody tr th {\n",
       "        vertical-align: top;\n",
       "    }\n",
       "\n",
       "    .dataframe thead th {\n",
       "        text-align: right;\n",
       "    }\n",
       "</style>\n",
       "<table border=\"1\" class=\"dataframe\">\n",
       "  <thead>\n",
       "    <tr style=\"text-align: right;\">\n",
       "      <th></th>\n",
       "      <th>Subject_Id</th>\n",
       "      <th>first_name</th>\n",
       "      <th>last_name</th>\n",
       "    </tr>\n",
       "  </thead>\n",
       "  <tbody>\n",
       "    <tr>\n",
       "      <th>0</th>\n",
       "      <td>1</td>\n",
       "      <td>Avijit</td>\n",
       "      <td>Sur</td>\n",
       "    </tr>\n",
       "    <tr>\n",
       "      <th>1</th>\n",
       "      <td>2</td>\n",
       "      <td>Amita</td>\n",
       "      <td>Das Sur</td>\n",
       "    </tr>\n",
       "    <tr>\n",
       "      <th>2</th>\n",
       "      <td>3</td>\n",
       "      <td>Amy</td>\n",
       "      <td>Das</td>\n",
       "    </tr>\n",
       "    <tr>\n",
       "      <th>3</th>\n",
       "      <td>4</td>\n",
       "      <td>Asur</td>\n",
       "      <td>Sur</td>\n",
       "    </tr>\n",
       "    <tr>\n",
       "      <th>4</th>\n",
       "      <td>5</td>\n",
       "      <td>Avi</td>\n",
       "      <td>Das</td>\n",
       "    </tr>\n",
       "    <tr>\n",
       "      <th>0</th>\n",
       "      <td>4</td>\n",
       "      <td>Diya</td>\n",
       "      <td>Sur</td>\n",
       "    </tr>\n",
       "    <tr>\n",
       "      <th>1</th>\n",
       "      <td>5</td>\n",
       "      <td>Tiya</td>\n",
       "      <td>Das Sur</td>\n",
       "    </tr>\n",
       "    <tr>\n",
       "      <th>2</th>\n",
       "      <td>6</td>\n",
       "      <td>Kiya</td>\n",
       "      <td>Das</td>\n",
       "    </tr>\n",
       "    <tr>\n",
       "      <th>3</th>\n",
       "      <td>7</td>\n",
       "      <td>Siya</td>\n",
       "      <td>Sur</td>\n",
       "    </tr>\n",
       "    <tr>\n",
       "      <th>4</th>\n",
       "      <td>8</td>\n",
       "      <td>Piya</td>\n",
       "      <td>Das</td>\n",
       "    </tr>\n",
       "  </tbody>\n",
       "</table>\n",
       "</div>"
      ],
      "text/plain": [
       "  Subject_Id first_name last_name\n",
       "0          1     Avijit       Sur\n",
       "1          2      Amita   Das Sur\n",
       "2          3        Amy       Das\n",
       "3          4       Asur       Sur\n",
       "4          5        Avi       Das\n",
       "0          4       Diya       Sur\n",
       "1          5       Tiya   Das Sur\n",
       "2          6       Kiya       Das\n",
       "3          7       Siya       Sur\n",
       "4          8       Piya       Das"
      ]
     },
     "execution_count": 35,
     "metadata": {},
     "output_type": "execute_result"
    }
   ],
   "source": [
    "df_new=pd.concat([df1,df2])\n",
    "\n",
    "df_new"
   ]
  },
  {
   "cell_type": "code",
   "execution_count": 36,
   "id": "76e43e8c",
   "metadata": {},
   "outputs": [
    {
     "data": {
      "text/html": [
       "<div>\n",
       "<style scoped>\n",
       "    .dataframe tbody tr th:only-of-type {\n",
       "        vertical-align: middle;\n",
       "    }\n",
       "\n",
       "    .dataframe tbody tr th {\n",
       "        vertical-align: top;\n",
       "    }\n",
       "\n",
       "    .dataframe thead th {\n",
       "        text-align: right;\n",
       "    }\n",
       "</style>\n",
       "<table border=\"1\" class=\"dataframe\">\n",
       "  <thead>\n",
       "    <tr style=\"text-align: right;\">\n",
       "      <th></th>\n",
       "      <th>Subject_Id</th>\n",
       "      <th>first_name</th>\n",
       "      <th>last_name</th>\n",
       "    </tr>\n",
       "  </thead>\n",
       "  <tbody>\n",
       "    <tr>\n",
       "      <th>0</th>\n",
       "      <td>1</td>\n",
       "      <td>Avijit</td>\n",
       "      <td>Sur</td>\n",
       "    </tr>\n",
       "    <tr>\n",
       "      <th>1</th>\n",
       "      <td>2</td>\n",
       "      <td>Amita</td>\n",
       "      <td>Das Sur</td>\n",
       "    </tr>\n",
       "    <tr>\n",
       "      <th>2</th>\n",
       "      <td>3</td>\n",
       "      <td>Amy</td>\n",
       "      <td>Das</td>\n",
       "    </tr>\n",
       "    <tr>\n",
       "      <th>3</th>\n",
       "      <td>4</td>\n",
       "      <td>Asur</td>\n",
       "      <td>Sur</td>\n",
       "    </tr>\n",
       "    <tr>\n",
       "      <th>4</th>\n",
       "      <td>5</td>\n",
       "      <td>Avi</td>\n",
       "      <td>Das</td>\n",
       "    </tr>\n",
       "    <tr>\n",
       "      <th>5</th>\n",
       "      <td>4</td>\n",
       "      <td>Diya</td>\n",
       "      <td>Sur</td>\n",
       "    </tr>\n",
       "    <tr>\n",
       "      <th>6</th>\n",
       "      <td>5</td>\n",
       "      <td>Tiya</td>\n",
       "      <td>Das Sur</td>\n",
       "    </tr>\n",
       "    <tr>\n",
       "      <th>7</th>\n",
       "      <td>6</td>\n",
       "      <td>Kiya</td>\n",
       "      <td>Das</td>\n",
       "    </tr>\n",
       "    <tr>\n",
       "      <th>8</th>\n",
       "      <td>7</td>\n",
       "      <td>Siya</td>\n",
       "      <td>Sur</td>\n",
       "    </tr>\n",
       "    <tr>\n",
       "      <th>9</th>\n",
       "      <td>8</td>\n",
       "      <td>Piya</td>\n",
       "      <td>Das</td>\n",
       "    </tr>\n",
       "  </tbody>\n",
       "</table>\n",
       "</div>"
      ],
      "text/plain": [
       "  Subject_Id first_name last_name\n",
       "0          1     Avijit       Sur\n",
       "1          2      Amita   Das Sur\n",
       "2          3        Amy       Das\n",
       "3          4       Asur       Sur\n",
       "4          5        Avi       Das\n",
       "5          4       Diya       Sur\n",
       "6          5       Tiya   Das Sur\n",
       "7          6       Kiya       Das\n",
       "8          7       Siya       Sur\n",
       "9          8       Piya       Das"
      ]
     },
     "execution_count": 36,
     "metadata": {},
     "output_type": "execute_result"
    }
   ],
   "source": [
    "df_new=pd.concat([df1,df2], ignore_index=True)\n",
    "\n",
    "df_new"
   ]
  },
  {
   "cell_type": "code",
   "execution_count": 38,
   "id": "24d532a5",
   "metadata": {},
   "outputs": [
    {
     "data": {
      "text/html": [
       "<div>\n",
       "<style scoped>\n",
       "    .dataframe tbody tr th:only-of-type {\n",
       "        vertical-align: middle;\n",
       "    }\n",
       "\n",
       "    .dataframe tbody tr th {\n",
       "        vertical-align: top;\n",
       "    }\n",
       "\n",
       "    .dataframe thead th {\n",
       "        text-align: right;\n",
       "    }\n",
       "</style>\n",
       "<table border=\"1\" class=\"dataframe\">\n",
       "  <thead>\n",
       "    <tr style=\"text-align: right;\">\n",
       "      <th></th>\n",
       "      <th>Subject_Id</th>\n",
       "      <th>test_Id</th>\n",
       "    </tr>\n",
       "  </thead>\n",
       "  <tbody>\n",
       "    <tr>\n",
       "      <th>0</th>\n",
       "      <td>1</td>\n",
       "      <td>51</td>\n",
       "    </tr>\n",
       "    <tr>\n",
       "      <th>1</th>\n",
       "      <td>2</td>\n",
       "      <td>15</td>\n",
       "    </tr>\n",
       "    <tr>\n",
       "      <th>2</th>\n",
       "      <td>3</td>\n",
       "      <td>51</td>\n",
       "    </tr>\n",
       "    <tr>\n",
       "      <th>3</th>\n",
       "      <td>4</td>\n",
       "      <td>61</td>\n",
       "    </tr>\n",
       "    <tr>\n",
       "      <th>4</th>\n",
       "      <td>5</td>\n",
       "      <td>16</td>\n",
       "    </tr>\n",
       "    <tr>\n",
       "      <th>5</th>\n",
       "      <td>6</td>\n",
       "      <td>61</td>\n",
       "    </tr>\n",
       "    <tr>\n",
       "      <th>6</th>\n",
       "      <td>7</td>\n",
       "      <td>15</td>\n",
       "    </tr>\n",
       "    <tr>\n",
       "      <th>7</th>\n",
       "      <td>8</td>\n",
       "      <td>14</td>\n",
       "    </tr>\n",
       "    <tr>\n",
       "      <th>8</th>\n",
       "      <td>9</td>\n",
       "      <td>16</td>\n",
       "    </tr>\n",
       "    <tr>\n",
       "      <th>9</th>\n",
       "      <td>10</td>\n",
       "      <td>1</td>\n",
       "    </tr>\n",
       "  </tbody>\n",
       "</table>\n",
       "</div>"
      ],
      "text/plain": [
       "  Subject_Id  test_Id\n",
       "0          1       51\n",
       "1          2       15\n",
       "2          3       51\n",
       "3          4       61\n",
       "4          5       16\n",
       "5          6       61\n",
       "6          7       15\n",
       "7          8       14\n",
       "8          9       16\n",
       "9         10        1"
      ]
     },
     "execution_count": 38,
     "metadata": {},
     "output_type": "execute_result"
    }
   ],
   "source": [
    "#creating 3rd dataframe\n",
    "\n",
    "raw_data={'Subject_Id':['1','2','3','4','5','6','7','8','9','10'],\n",
    "         'test_Id':[51,15,51,61,16,61,15,14,16,1]}\n",
    "df3=pd.DataFrame(raw_data,columns=['Subject_Id','test_Id'])\n",
    "\n",
    "df3"
   ]
  },
  {
   "cell_type": "markdown",
   "id": "89d1e464",
   "metadata": {},
   "source": [
    "**Inner Join**\n",
    "Select * FROM df1 INNER JOIN df2 ON df1.key=df2.key"
   ]
  },
  {
   "cell_type": "code",
   "execution_count": 39,
   "id": "f7a6205c",
   "metadata": {},
   "outputs": [
    {
     "data": {
      "text/html": [
       "<div>\n",
       "<style scoped>\n",
       "    .dataframe tbody tr th:only-of-type {\n",
       "        vertical-align: middle;\n",
       "    }\n",
       "\n",
       "    .dataframe tbody tr th {\n",
       "        vertical-align: top;\n",
       "    }\n",
       "\n",
       "    .dataframe thead th {\n",
       "        text-align: right;\n",
       "    }\n",
       "</style>\n",
       "<table border=\"1\" class=\"dataframe\">\n",
       "  <thead>\n",
       "    <tr style=\"text-align: right;\">\n",
       "      <th></th>\n",
       "      <th>Subject_Id</th>\n",
       "      <th>first_name</th>\n",
       "      <th>last_name</th>\n",
       "      <th>test_Id</th>\n",
       "    </tr>\n",
       "  </thead>\n",
       "  <tbody>\n",
       "    <tr>\n",
       "      <th>0</th>\n",
       "      <td>1</td>\n",
       "      <td>Avijit</td>\n",
       "      <td>Sur</td>\n",
       "      <td>51</td>\n",
       "    </tr>\n",
       "    <tr>\n",
       "      <th>1</th>\n",
       "      <td>2</td>\n",
       "      <td>Amita</td>\n",
       "      <td>Das Sur</td>\n",
       "      <td>15</td>\n",
       "    </tr>\n",
       "    <tr>\n",
       "      <th>2</th>\n",
       "      <td>3</td>\n",
       "      <td>Amy</td>\n",
       "      <td>Das</td>\n",
       "      <td>51</td>\n",
       "    </tr>\n",
       "    <tr>\n",
       "      <th>3</th>\n",
       "      <td>4</td>\n",
       "      <td>Asur</td>\n",
       "      <td>Sur</td>\n",
       "      <td>61</td>\n",
       "    </tr>\n",
       "    <tr>\n",
       "      <th>4</th>\n",
       "      <td>4</td>\n",
       "      <td>Diya</td>\n",
       "      <td>Sur</td>\n",
       "      <td>61</td>\n",
       "    </tr>\n",
       "    <tr>\n",
       "      <th>5</th>\n",
       "      <td>5</td>\n",
       "      <td>Avi</td>\n",
       "      <td>Das</td>\n",
       "      <td>16</td>\n",
       "    </tr>\n",
       "    <tr>\n",
       "      <th>6</th>\n",
       "      <td>5</td>\n",
       "      <td>Tiya</td>\n",
       "      <td>Das Sur</td>\n",
       "      <td>16</td>\n",
       "    </tr>\n",
       "    <tr>\n",
       "      <th>7</th>\n",
       "      <td>6</td>\n",
       "      <td>Kiya</td>\n",
       "      <td>Das</td>\n",
       "      <td>61</td>\n",
       "    </tr>\n",
       "    <tr>\n",
       "      <th>8</th>\n",
       "      <td>7</td>\n",
       "      <td>Siya</td>\n",
       "      <td>Sur</td>\n",
       "      <td>15</td>\n",
       "    </tr>\n",
       "    <tr>\n",
       "      <th>9</th>\n",
       "      <td>8</td>\n",
       "      <td>Piya</td>\n",
       "      <td>Das</td>\n",
       "      <td>14</td>\n",
       "    </tr>\n",
       "  </tbody>\n",
       "</table>\n",
       "</div>"
      ],
      "text/plain": [
       "  Subject_Id first_name last_name  test_Id\n",
       "0          1     Avijit       Sur       51\n",
       "1          2      Amita   Das Sur       15\n",
       "2          3        Amy       Das       51\n",
       "3          4       Asur       Sur       61\n",
       "4          4       Diya       Sur       61\n",
       "5          5        Avi       Das       16\n",
       "6          5       Tiya   Das Sur       16\n",
       "7          6       Kiya       Das       61\n",
       "8          7       Siya       Sur       15\n",
       "9          8       Piya       Das       14"
      ]
     },
     "execution_count": 39,
     "metadata": {},
     "output_type": "execute_result"
    }
   ],
   "source": [
    "#merge two data frames \n",
    "\n",
    "pd.merge(df_new,df3)"
   ]
  },
  {
   "cell_type": "code",
   "execution_count": 42,
   "id": "afccde87",
   "metadata": {},
   "outputs": [
    {
     "data": {
      "text/html": [
       "<div>\n",
       "<style scoped>\n",
       "    .dataframe tbody tr th:only-of-type {\n",
       "        vertical-align: middle;\n",
       "    }\n",
       "\n",
       "    .dataframe tbody tr th {\n",
       "        vertical-align: top;\n",
       "    }\n",
       "\n",
       "    .dataframe thead th {\n",
       "        text-align: right;\n",
       "    }\n",
       "</style>\n",
       "<table border=\"1\" class=\"dataframe\">\n",
       "  <thead>\n",
       "    <tr style=\"text-align: right;\">\n",
       "      <th></th>\n",
       "      <th>Subject_Id</th>\n",
       "      <th>first_name</th>\n",
       "      <th>last_name</th>\n",
       "      <th>test_Id</th>\n",
       "    </tr>\n",
       "  </thead>\n",
       "  <tbody>\n",
       "    <tr>\n",
       "      <th>0</th>\n",
       "      <td>1</td>\n",
       "      <td>Avijit</td>\n",
       "      <td>Sur</td>\n",
       "      <td>51</td>\n",
       "    </tr>\n",
       "    <tr>\n",
       "      <th>1</th>\n",
       "      <td>2</td>\n",
       "      <td>Amita</td>\n",
       "      <td>Das Sur</td>\n",
       "      <td>15</td>\n",
       "    </tr>\n",
       "    <tr>\n",
       "      <th>2</th>\n",
       "      <td>3</td>\n",
       "      <td>Amy</td>\n",
       "      <td>Das</td>\n",
       "      <td>51</td>\n",
       "    </tr>\n",
       "    <tr>\n",
       "      <th>3</th>\n",
       "      <td>4</td>\n",
       "      <td>Asur</td>\n",
       "      <td>Sur</td>\n",
       "      <td>61</td>\n",
       "    </tr>\n",
       "    <tr>\n",
       "      <th>4</th>\n",
       "      <td>4</td>\n",
       "      <td>Diya</td>\n",
       "      <td>Sur</td>\n",
       "      <td>61</td>\n",
       "    </tr>\n",
       "    <tr>\n",
       "      <th>5</th>\n",
       "      <td>5</td>\n",
       "      <td>Avi</td>\n",
       "      <td>Das</td>\n",
       "      <td>16</td>\n",
       "    </tr>\n",
       "    <tr>\n",
       "      <th>6</th>\n",
       "      <td>5</td>\n",
       "      <td>Tiya</td>\n",
       "      <td>Das Sur</td>\n",
       "      <td>16</td>\n",
       "    </tr>\n",
       "    <tr>\n",
       "      <th>7</th>\n",
       "      <td>6</td>\n",
       "      <td>Kiya</td>\n",
       "      <td>Das</td>\n",
       "      <td>61</td>\n",
       "    </tr>\n",
       "    <tr>\n",
       "      <th>8</th>\n",
       "      <td>7</td>\n",
       "      <td>Siya</td>\n",
       "      <td>Sur</td>\n",
       "      <td>15</td>\n",
       "    </tr>\n",
       "    <tr>\n",
       "      <th>9</th>\n",
       "      <td>8</td>\n",
       "      <td>Piya</td>\n",
       "      <td>Das</td>\n",
       "      <td>14</td>\n",
       "    </tr>\n",
       "  </tbody>\n",
       "</table>\n",
       "</div>"
      ],
      "text/plain": [
       "  Subject_Id first_name last_name  test_Id\n",
       "0          1     Avijit       Sur       51\n",
       "1          2      Amita   Das Sur       15\n",
       "2          3        Amy       Das       51\n",
       "3          4       Asur       Sur       61\n",
       "4          4       Diya       Sur       61\n",
       "5          5        Avi       Das       16\n",
       "6          5       Tiya   Das Sur       16\n",
       "7          6       Kiya       Das       61\n",
       "8          7       Siya       Sur       15\n",
       "9          8       Piya       Das       14"
      ]
     },
     "execution_count": 42,
     "metadata": {},
     "output_type": "execute_result"
    }
   ],
   "source": [
    "#merge two data frames along the subject_id Values\n",
    "\n",
    "pd.merge(df_new,df3, on='Subject_Id')"
   ]
  },
  {
   "cell_type": "code",
   "execution_count": 44,
   "id": "b173dc3a",
   "metadata": {},
   "outputs": [
    {
     "data": {
      "text/html": [
       "<div>\n",
       "<style scoped>\n",
       "    .dataframe tbody tr th:only-of-type {\n",
       "        vertical-align: middle;\n",
       "    }\n",
       "\n",
       "    .dataframe tbody tr th {\n",
       "        vertical-align: top;\n",
       "    }\n",
       "\n",
       "    .dataframe thead th {\n",
       "        text-align: right;\n",
       "    }\n",
       "</style>\n",
       "<table border=\"1\" class=\"dataframe\">\n",
       "  <thead>\n",
       "    <tr style=\"text-align: right;\">\n",
       "      <th></th>\n",
       "      <th>Subject_Id</th>\n",
       "      <th>first_name_x</th>\n",
       "      <th>last_name_x</th>\n",
       "      <th>first_name_y</th>\n",
       "      <th>last_name_y</th>\n",
       "    </tr>\n",
       "  </thead>\n",
       "  <tbody>\n",
       "    <tr>\n",
       "      <th>0</th>\n",
       "      <td>4</td>\n",
       "      <td>Asur</td>\n",
       "      <td>Sur</td>\n",
       "      <td>Diya</td>\n",
       "      <td>Sur</td>\n",
       "    </tr>\n",
       "    <tr>\n",
       "      <th>1</th>\n",
       "      <td>5</td>\n",
       "      <td>Avi</td>\n",
       "      <td>Das</td>\n",
       "      <td>Tiya</td>\n",
       "      <td>Das Sur</td>\n",
       "    </tr>\n",
       "  </tbody>\n",
       "</table>\n",
       "</div>"
      ],
      "text/plain": [
       "  Subject_Id first_name_x last_name_x first_name_y last_name_y\n",
       "0          4         Asur         Sur         Diya         Sur\n",
       "1          5          Avi         Das         Tiya     Das Sur"
      ]
     },
     "execution_count": 44,
     "metadata": {},
     "output_type": "execute_result"
    }
   ],
   "source": [
    "#Merge with Inner join\n",
    "\n",
    "#inner join produes only the set of records that matches in both table 1 and table 2,\n",
    "\n",
    "pd.merge(df1,df2, on='Subject_Id', how='inner')"
   ]
  },
  {
   "cell_type": "code",
   "execution_count": 45,
   "id": "d1ed8822",
   "metadata": {},
   "outputs": [
    {
     "data": {
      "text/html": [
       "<div>\n",
       "<style scoped>\n",
       "    .dataframe tbody tr th:only-of-type {\n",
       "        vertical-align: middle;\n",
       "    }\n",
       "\n",
       "    .dataframe tbody tr th {\n",
       "        vertical-align: top;\n",
       "    }\n",
       "\n",
       "    .dataframe thead th {\n",
       "        text-align: right;\n",
       "    }\n",
       "</style>\n",
       "<table border=\"1\" class=\"dataframe\">\n",
       "  <thead>\n",
       "    <tr style=\"text-align: right;\">\n",
       "      <th></th>\n",
       "      <th>Subject_Id</th>\n",
       "      <th>first_name_x</th>\n",
       "      <th>last_name_x</th>\n",
       "      <th>first_name_y</th>\n",
       "      <th>last_name_y</th>\n",
       "    </tr>\n",
       "  </thead>\n",
       "  <tbody>\n",
       "    <tr>\n",
       "      <th>0</th>\n",
       "      <td>1</td>\n",
       "      <td>Avijit</td>\n",
       "      <td>Sur</td>\n",
       "      <td>NaN</td>\n",
       "      <td>NaN</td>\n",
       "    </tr>\n",
       "    <tr>\n",
       "      <th>1</th>\n",
       "      <td>2</td>\n",
       "      <td>Amita</td>\n",
       "      <td>Das Sur</td>\n",
       "      <td>NaN</td>\n",
       "      <td>NaN</td>\n",
       "    </tr>\n",
       "    <tr>\n",
       "      <th>2</th>\n",
       "      <td>3</td>\n",
       "      <td>Amy</td>\n",
       "      <td>Das</td>\n",
       "      <td>NaN</td>\n",
       "      <td>NaN</td>\n",
       "    </tr>\n",
       "    <tr>\n",
       "      <th>3</th>\n",
       "      <td>4</td>\n",
       "      <td>Asur</td>\n",
       "      <td>Sur</td>\n",
       "      <td>Diya</td>\n",
       "      <td>Sur</td>\n",
       "    </tr>\n",
       "    <tr>\n",
       "      <th>4</th>\n",
       "      <td>5</td>\n",
       "      <td>Avi</td>\n",
       "      <td>Das</td>\n",
       "      <td>Tiya</td>\n",
       "      <td>Das Sur</td>\n",
       "    </tr>\n",
       "    <tr>\n",
       "      <th>5</th>\n",
       "      <td>6</td>\n",
       "      <td>NaN</td>\n",
       "      <td>NaN</td>\n",
       "      <td>Kiya</td>\n",
       "      <td>Das</td>\n",
       "    </tr>\n",
       "    <tr>\n",
       "      <th>6</th>\n",
       "      <td>7</td>\n",
       "      <td>NaN</td>\n",
       "      <td>NaN</td>\n",
       "      <td>Siya</td>\n",
       "      <td>Sur</td>\n",
       "    </tr>\n",
       "    <tr>\n",
       "      <th>7</th>\n",
       "      <td>8</td>\n",
       "      <td>NaN</td>\n",
       "      <td>NaN</td>\n",
       "      <td>Piya</td>\n",
       "      <td>Das</td>\n",
       "    </tr>\n",
       "  </tbody>\n",
       "</table>\n",
       "</div>"
      ],
      "text/plain": [
       "  Subject_Id first_name_x last_name_x first_name_y last_name_y\n",
       "0          1       Avijit         Sur          NaN         NaN\n",
       "1          2        Amita     Das Sur          NaN         NaN\n",
       "2          3          Amy         Das          NaN         NaN\n",
       "3          4         Asur         Sur         Diya         Sur\n",
       "4          5          Avi         Das         Tiya     Das Sur\n",
       "5          6          NaN         NaN         Kiya         Das\n",
       "6          7          NaN         NaN         Siya         Sur\n",
       "7          8          NaN         NaN         Piya         Das"
      ]
     },
     "execution_count": 45,
     "metadata": {},
     "output_type": "execute_result"
    }
   ],
   "source": [
    "#Merge with Outer join\n",
    "#Full outer join produces the set of all the records of Table 1 and Table 2 with matching records from both sides where available\n",
    "#if there is no matching, the missing values will contain null values\n",
    "\n",
    "pd.merge(df1,df2, on='Subject_Id', how='outer')"
   ]
  },
  {
   "cell_type": "code",
   "execution_count": null,
   "id": "108e764a",
   "metadata": {},
   "outputs": [],
   "source": []
  }
 ],
 "metadata": {
  "kernelspec": {
   "display_name": "Python 3 (ipykernel)",
   "language": "python",
   "name": "python3"
  },
  "language_info": {
   "codemirror_mode": {
    "name": "ipython",
    "version": 3
   },
   "file_extension": ".py",
   "mimetype": "text/x-python",
   "name": "python",
   "nbconvert_exporter": "python",
   "pygments_lexer": "ipython3",
   "version": "3.9.13"
  }
 },
 "nbformat": 4,
 "nbformat_minor": 5
}
