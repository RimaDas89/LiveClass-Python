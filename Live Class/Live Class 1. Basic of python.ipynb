{
 "cells": [
  {
   "cell_type": "markdown",
   "id": "c1c29b22",
   "metadata": {},
   "source": [
    "## Numbers and normal arithmetic operations"
   ]
  },
  {
   "cell_type": "code",
   "execution_count": 1,
   "id": "6faa48c4",
   "metadata": {},
   "outputs": [
    {
     "data": {
      "text/plain": [
       "2"
      ]
     },
     "execution_count": 1,
     "metadata": {},
     "output_type": "execute_result"
    }
   ],
   "source": [
    "#normal Addition\n",
    "1+1"
   ]
  },
  {
   "cell_type": "code",
   "execution_count": 2,
   "id": "d2f6b5b8",
   "metadata": {},
   "outputs": [
    {
     "data": {
      "text/plain": [
       "1"
      ]
     },
     "execution_count": 2,
     "metadata": {},
     "output_type": "execute_result"
    }
   ],
   "source": [
    "#normal subtraction\n",
    "2-1"
   ]
  },
  {
   "cell_type": "code",
   "execution_count": 3,
   "id": "4d0ed46f",
   "metadata": {},
   "outputs": [
    {
     "data": {
      "text/plain": [
       "6"
      ]
     },
     "execution_count": 3,
     "metadata": {},
     "output_type": "execute_result"
    }
   ],
   "source": [
    "#normal Multiplication\n",
    "2*3"
   ]
  },
  {
   "cell_type": "code",
   "execution_count": 4,
   "id": "5d6a30f9",
   "metadata": {},
   "outputs": [
    {
     "data": {
      "text/plain": [
       "5.0"
      ]
     },
     "execution_count": 4,
     "metadata": {},
     "output_type": "execute_result"
    }
   ],
   "source": [
    "#normal Divide\n",
    "10/2"
   ]
  },
  {
   "cell_type": "code",
   "execution_count": 5,
   "id": "a1fa1ae7",
   "metadata": {},
   "outputs": [
    {
     "data": {
      "text/plain": [
       "5"
      ]
     },
     "execution_count": 5,
     "metadata": {},
     "output_type": "execute_result"
    }
   ],
   "source": [
    "#Floor Division is reprensted by // and if we use floor division it will cut the decimal part \n",
    "\n",
    "10//2"
   ]
  },
  {
   "cell_type": "code",
   "execution_count": 6,
   "id": "a1209640",
   "metadata": {},
   "outputs": [
    {
     "data": {
      "text/plain": [
       "8"
      ]
     },
     "execution_count": 6,
     "metadata": {},
     "output_type": "execute_result"
    }
   ],
   "source": [
    "#Power Function is represnted by ** sign\n",
    "\n",
    "2**3"
   ]
  },
  {
   "cell_type": "markdown",
   "id": "9f3dc303",
   "metadata": {},
   "source": [
    "## Variables"
   ]
  },
  {
   "cell_type": "markdown",
   "id": "bf05fe1c",
   "metadata": {},
   "source": [
    "variables are container which is used to store any data"
   ]
  },
  {
   "cell_type": "code",
   "execution_count": 8,
   "id": "b8e2ee19",
   "metadata": {},
   "outputs": [
    {
     "data": {
      "text/plain": [
       "50"
      ]
     },
     "execution_count": 8,
     "metadata": {},
     "output_type": "execute_result"
    }
   ],
   "source": [
    "a=50\n",
    "\n",
    "a"
   ]
  },
  {
   "cell_type": "code",
   "execution_count": 9,
   "id": "c4343d17",
   "metadata": {},
   "outputs": [
    {
     "data": {
      "text/plain": [
       "10"
      ]
     },
     "execution_count": 9,
     "metadata": {},
     "output_type": "execute_result"
    }
   ],
   "source": [
    "b=10\n",
    "b"
   ]
  },
  {
   "cell_type": "code",
   "execution_count": 10,
   "id": "24fd2f9c",
   "metadata": {},
   "outputs": [
    {
     "data": {
      "text/plain": [
       "60"
      ]
     },
     "execution_count": 10,
     "metadata": {},
     "output_type": "execute_result"
    }
   ],
   "source": [
    "c=a+b\n",
    "c"
   ]
  },
  {
   "cell_type": "code",
   "execution_count": 11,
   "id": "0c79bfe4",
   "metadata": {},
   "outputs": [
    {
     "data": {
      "text/plain": [
       "40"
      ]
     },
     "execution_count": 11,
     "metadata": {},
     "output_type": "execute_result"
    }
   ],
   "source": [
    "d=a-b\n",
    "d"
   ]
  },
  {
   "cell_type": "code",
   "execution_count": 12,
   "id": "3f8a1ed0",
   "metadata": {},
   "outputs": [
    {
     "data": {
      "text/plain": [
       "500"
      ]
     },
     "execution_count": 12,
     "metadata": {},
     "output_type": "execute_result"
    }
   ],
   "source": [
    "e=a*b\n",
    "e"
   ]
  },
  {
   "cell_type": "code",
   "execution_count": 13,
   "id": "8244c666",
   "metadata": {},
   "outputs": [
    {
     "name": "stdout",
     "output_type": "stream",
     "text": [
      "area of rectangle = 200\n"
     ]
    }
   ],
   "source": [
    "#Area of rectangle\n",
    "\n",
    "Length=10\n",
    "Width=20\n",
    "\n",
    "Area=Length*Width\n",
    "print(\"area of rectangle =\",Area)"
   ]
  },
  {
   "cell_type": "code",
   "execution_count": 14,
   "id": "ab5bba69",
   "metadata": {},
   "outputs": [
    {
     "data": {
      "text/plain": [
       "6"
      ]
     },
     "execution_count": 14,
     "metadata": {},
     "output_type": "execute_result"
    }
   ],
   "source": [
    "#Len Function will give us the length of the string\n",
    "len(\"Mumbai\")"
   ]
  },
  {
   "cell_type": "markdown",
   "id": "6f0dd2ec",
   "metadata": {},
   "source": [
    "## Comparison Operator"
   ]
  },
  {
   "cell_type": "markdown",
   "id": "085c14eb",
   "metadata": {},
   "source": [
    "Comparison operators are used to compare two values"
   ]
  },
  {
   "cell_type": "raw",
   "id": "d264a591",
   "metadata": {},
   "source": [
    " == Equal\n",
    " != Not Equal\n",
    " > Greater than\n",
    " < Less than\n",
    " >= Greater than or equal to\n",
    " <= Less than or equalto"
   ]
  },
  {
   "cell_type": "code",
   "execution_count": 22,
   "id": "7f8ba2eb",
   "metadata": {},
   "outputs": [
    {
     "data": {
      "text/plain": [
       "True"
      ]
     },
     "execution_count": 22,
     "metadata": {},
     "output_type": "execute_result"
    }
   ],
   "source": [
    "100==100"
   ]
  },
  {
   "cell_type": "code",
   "execution_count": 16,
   "id": "aee87b3c",
   "metadata": {},
   "outputs": [
    {
     "data": {
      "text/plain": [
       "True"
      ]
     },
     "execution_count": 16,
     "metadata": {},
     "output_type": "execute_result"
    }
   ],
   "source": [
    "100>80"
   ]
  },
  {
   "cell_type": "code",
   "execution_count": 17,
   "id": "dd054ab8",
   "metadata": {},
   "outputs": [
    {
     "data": {
      "text/plain": [
       "True"
      ]
     },
     "execution_count": 17,
     "metadata": {},
     "output_type": "execute_result"
    }
   ],
   "source": [
    "90<500"
   ]
  },
  {
   "cell_type": "code",
   "execution_count": 18,
   "id": "d42d1367",
   "metadata": {},
   "outputs": [
    {
     "data": {
      "text/plain": [
       "True"
      ]
     },
     "execution_count": 18,
     "metadata": {},
     "output_type": "execute_result"
    }
   ],
   "source": [
    "40!=50"
   ]
  },
  {
   "cell_type": "code",
   "execution_count": 19,
   "id": "a2f71d99",
   "metadata": {},
   "outputs": [
    {
     "data": {
      "text/plain": [
       "True"
      ]
     },
     "execution_count": 19,
     "metadata": {},
     "output_type": "execute_result"
    }
   ],
   "source": [
    "100<=100"
   ]
  },
  {
   "cell_type": "code",
   "execution_count": 24,
   "id": "3a4c2e86",
   "metadata": {},
   "outputs": [
    {
     "data": {
      "text/plain": [
       "False"
      ]
     },
     "execution_count": 24,
     "metadata": {},
     "output_type": "execute_result"
    }
   ],
   "source": [
    "50>=100"
   ]
  },
  {
   "cell_type": "markdown",
   "id": "11722563",
   "metadata": {},
   "source": [
    "## String Concetenation"
   ]
  },
  {
   "cell_type": "markdown",
   "id": "3f463f2e",
   "metadata": {},
   "source": [
    "String concatenation means add strings together.\n",
    "\n",
    "Use the `+` character to add a variable to another variable:"
   ]
  },
  {
   "cell_type": "code",
   "execution_count": 25,
   "id": "8c424f5d",
   "metadata": {},
   "outputs": [
    {
     "data": {
      "text/plain": [
       "'hello Python'"
      ]
     },
     "execution_count": 25,
     "metadata": {},
     "output_type": "execute_result"
    }
   ],
   "source": [
    "\"hello\"+\" Python\""
   ]
  },
  {
   "cell_type": "code",
   "execution_count": 26,
   "id": "afe96889",
   "metadata": {},
   "outputs": [
    {
     "data": {
      "text/plain": [
       "'Elon Mask Ceo of Twitter.'"
      ]
     },
     "execution_count": 26,
     "metadata": {},
     "output_type": "execute_result"
    }
   ],
   "source": [
    "\"Elon\" + \" Mask\"+\" Ceo of\"+\" Twitter.\""
   ]
  },
  {
   "cell_type": "code",
   "execution_count": 27,
   "id": "1767f74b",
   "metadata": {},
   "outputs": [
    {
     "data": {
      "text/plain": [
       "'88'"
      ]
     },
     "execution_count": 27,
     "metadata": {},
     "output_type": "execute_result"
    }
   ],
   "source": [
    "\"8\"+\"8\""
   ]
  },
  {
   "cell_type": "code",
   "execution_count": 28,
   "id": "a71814d9",
   "metadata": {},
   "outputs": [
    {
     "name": "stdout",
     "output_type": "stream",
     "text": [
      "Python is awesome\n"
     ]
    }
   ],
   "source": [
    "x = \"Python is \"\n",
    "y = \"awesome\"\n",
    "z =  x + y\n",
    "print(z)"
   ]
  },
  {
   "cell_type": "markdown",
   "id": "5f11bbbf",
   "metadata": {},
   "source": [
    "## Data Types (char/string, Integer, Float, boolean)"
   ]
  },
  {
   "cell_type": "markdown",
   "id": "6eae9ffb",
   "metadata": {},
   "source": [
    "In programming, data type is an important concept.\n",
    "\n",
    "Variables can store data of different types, and different types can do different things."
   ]
  },
  {
   "cell_type": "code",
   "execution_count": 30,
   "id": "52b18685",
   "metadata": {},
   "outputs": [
    {
     "name": "stdout",
     "output_type": "stream",
     "text": [
      "Avijit\n"
     ]
    }
   ],
   "source": [
    "name=\"Avijit\"\n",
    "print(name)"
   ]
  },
  {
   "cell_type": "code",
   "execution_count": 32,
   "id": "50da7669",
   "metadata": {},
   "outputs": [
    {
     "data": {
      "text/plain": [
       "102.5"
      ]
     },
     "execution_count": 32,
     "metadata": {},
     "output_type": "execute_result"
    }
   ],
   "source": [
    "tem=102.5\n",
    "tem"
   ]
  },
  {
   "cell_type": "code",
   "execution_count": 34,
   "id": "0bfcbc39",
   "metadata": {},
   "outputs": [
    {
     "data": {
      "text/plain": [
       "37"
      ]
     },
     "execution_count": 34,
     "metadata": {},
     "output_type": "execute_result"
    }
   ],
   "source": [
    "Age=37\n",
    "Age"
   ]
  },
  {
   "cell_type": "code",
   "execution_count": 37,
   "id": "149b1ad4",
   "metadata": {},
   "outputs": [
    {
     "data": {
      "text/plain": [
       "str"
      ]
     },
     "execution_count": 37,
     "metadata": {},
     "output_type": "execute_result"
    }
   ],
   "source": [
    "#Type () helps us to lknow the datatype of the variable\n",
    "\n",
    "type(name)"
   ]
  },
  {
   "cell_type": "code",
   "execution_count": 38,
   "id": "919e9e2d",
   "metadata": {},
   "outputs": [
    {
     "data": {
      "text/plain": [
       "float"
      ]
     },
     "execution_count": 38,
     "metadata": {},
     "output_type": "execute_result"
    }
   ],
   "source": [
    "type(tem)"
   ]
  },
  {
   "cell_type": "code",
   "execution_count": 39,
   "id": "2baca088",
   "metadata": {},
   "outputs": [
    {
     "data": {
      "text/plain": [
       "int"
      ]
     },
     "execution_count": 39,
     "metadata": {},
     "output_type": "execute_result"
    }
   ],
   "source": [
    "type(Age)"
   ]
  },
  {
   "cell_type": "markdown",
   "id": "6274529c",
   "metadata": {},
   "source": [
    "### Converting Datatype"
   ]
  },
  {
   "cell_type": "code",
   "execution_count": 40,
   "id": "c4e424f7",
   "metadata": {},
   "outputs": [
    {
     "data": {
      "text/plain": [
       "int"
      ]
     },
     "execution_count": 40,
     "metadata": {},
     "output_type": "execute_result"
    }
   ],
   "source": [
    "A=5\n",
    "type(A)"
   ]
  },
  {
   "cell_type": "code",
   "execution_count": 41,
   "id": "6881cafe",
   "metadata": {},
   "outputs": [
    {
     "data": {
      "text/plain": [
       "float"
      ]
     },
     "execution_count": 41,
     "metadata": {},
     "output_type": "execute_result"
    }
   ],
   "source": [
    "#converting int to float\n",
    "\n",
    "af=float(A)\n",
    "\n",
    "type(af)"
   ]
  },
  {
   "cell_type": "code",
   "execution_count": 42,
   "id": "48a64556",
   "metadata": {},
   "outputs": [
    {
     "data": {
      "text/plain": [
       "str"
      ]
     },
     "execution_count": 42,
     "metadata": {},
     "output_type": "execute_result"
    }
   ],
   "source": [
    "# to convert any datatype in python, it should be hold in a new variable, suppose\n",
    "\n",
    "X=\"20\"\n",
    "\n",
    "type(x)"
   ]
  },
  {
   "cell_type": "code",
   "execution_count": 43,
   "id": "7a472552",
   "metadata": {},
   "outputs": [
    {
     "data": {
      "text/plain": [
       "20"
      ]
     },
     "execution_count": 43,
     "metadata": {},
     "output_type": "execute_result"
    }
   ],
   "source": [
    "#to Convert the datatype we need to hold the value in any new variable, such as\n",
    "\n",
    "Integer=int(X)\n",
    "Integer"
   ]
  },
  {
   "cell_type": "code",
   "execution_count": 44,
   "id": "af8908af",
   "metadata": {},
   "outputs": [
    {
     "data": {
      "text/plain": [
       "int"
      ]
     },
     "execution_count": 44,
     "metadata": {},
     "output_type": "execute_result"
    }
   ],
   "source": [
    "type(Integer)"
   ]
  },
  {
   "cell_type": "code",
   "execution_count": 45,
   "id": "d6feb395",
   "metadata": {},
   "outputs": [
    {
     "data": {
      "text/plain": [
       "'56'"
      ]
     },
     "execution_count": 45,
     "metadata": {},
     "output_type": "execute_result"
    }
   ],
   "source": [
    "m= \"5\"\n",
    "n= \"6\"\n",
    "\n",
    "m+n"
   ]
  },
  {
   "cell_type": "markdown",
   "id": "a11de9a6",
   "metadata": {},
   "source": [
    "In typecasting we have to write the value int(m)+int(n) or you can convert the m and n seperately then do the mathematical operation:\n",
    "\n",
    "**int(m)+int(n)**"
   ]
  },
  {
   "cell_type": "code",
   "execution_count": 46,
   "id": "ceeefc41",
   "metadata": {},
   "outputs": [
    {
     "data": {
      "text/plain": [
       "11"
      ]
     },
     "execution_count": 46,
     "metadata": {},
     "output_type": "execute_result"
    }
   ],
   "source": [
    "int(m)+int(n)"
   ]
  },
  {
   "cell_type": "markdown",
   "id": "53062249",
   "metadata": {},
   "source": [
    "## User Input"
   ]
  },
  {
   "cell_type": "code",
   "execution_count": 48,
   "id": "41c7ac93",
   "metadata": {},
   "outputs": [
    {
     "name": "stdout",
     "output_type": "stream",
     "text": [
      "Enter any country name :UAE\n"
     ]
    },
    {
     "data": {
      "text/plain": [
       "'UAE'"
      ]
     },
     "execution_count": 48,
     "metadata": {},
     "output_type": "execute_result"
    }
   ],
   "source": [
    "country = input(\"Enter any country name :\")\n",
    "country"
   ]
  },
  {
   "cell_type": "code",
   "execution_count": 49,
   "id": "daf4fac7",
   "metadata": {},
   "outputs": [
    {
     "name": "stdout",
     "output_type": "stream",
     "text": [
      "Enter first number24\n"
     ]
    },
    {
     "data": {
      "text/plain": [
       "'24'"
      ]
     },
     "execution_count": 49,
     "metadata": {},
     "output_type": "execute_result"
    }
   ],
   "source": [
    "x=input(\"Enter first number\")\n",
    "x"
   ]
  },
  {
   "cell_type": "code",
   "execution_count": 50,
   "id": "0bc4384d",
   "metadata": {},
   "outputs": [
    {
     "name": "stdout",
     "output_type": "stream",
     "text": [
      "Enter second number23\n"
     ]
    },
    {
     "data": {
      "text/plain": [
       "'23'"
      ]
     },
     "execution_count": 50,
     "metadata": {},
     "output_type": "execute_result"
    }
   ],
   "source": [
    "y=input(\"Enter second number\")\n",
    "y"
   ]
  },
  {
   "cell_type": "code",
   "execution_count": 51,
   "id": "88c1ac46",
   "metadata": {},
   "outputs": [
    {
     "data": {
      "text/plain": [
       "47"
      ]
     },
     "execution_count": 51,
     "metadata": {},
     "output_type": "execute_result"
    }
   ],
   "source": [
    "\"\"\"to do the addition of user input number we need to convert the values in integar(int)\n",
    "as user input in python always takes values in string\"\"\"\n",
    "\n",
    "int(x)+int(y)"
   ]
  },
  {
   "cell_type": "code",
   "execution_count": 52,
   "id": "7f3d7bb7",
   "metadata": {},
   "outputs": [
    {
     "name": "stdout",
     "output_type": "stream",
     "text": [
      "Enter first number24\n",
      "Enter second number23\n"
     ]
    },
    {
     "data": {
      "text/plain": [
       "47"
      ]
     },
     "execution_count": 52,
     "metadata": {},
     "output_type": "execute_result"
    }
   ],
   "source": [
    "#another way of doing it is:\n",
    "\n",
    "x=int(input(\"Enter first number\"))\n",
    "y=int(input(\"Enter second number\"))\n",
    "\n",
    "x+y"
   ]
  },
  {
   "cell_type": "code",
   "execution_count": 53,
   "id": "8eef23b2",
   "metadata": {},
   "outputs": [
    {
     "name": "stdout",
     "output_type": "stream",
     "text": [
      "Enter length 23\n",
      "Length= 23\n",
      "Enter Breadth 24\n",
      "Breadth 24\n",
      "Area of the rectancle is 552\n"
     ]
    }
   ],
   "source": [
    "#Area of rectangle taking user input\n",
    "\n",
    "Length=int(input(\"Enter length \"))\n",
    "print(\"Length=\",Length)\n",
    "\n",
    "Breadth=int(input(\"Enter Breadth \"))\n",
    "print(\"Breadth\",Breadth)\n",
    "\n",
    "area=Length*Breadth\n",
    "print(\"Area of the rectancle is\",area)"
   ]
  },
  {
   "cell_type": "code",
   "execution_count": 54,
   "id": "b5b94b3c",
   "metadata": {},
   "outputs": [
    {
     "name": "stdout",
     "output_type": "stream",
     "text": [
      "enter the radius12\n",
      "Radius of circle is  12 Area of Circle is 452.16\n"
     ]
    }
   ],
   "source": [
    "#Area of circle\n",
    "\n",
    "radius=int(input(\"enter the radius\"))\n",
    "pi=3.14\n",
    "area_of_circle=pi*(radius**2)\n",
    "print(\"Radius of circle is \",radius,\"Area of Circle is\",area_of_circle)"
   ]
  },
  {
   "cell_type": "code",
   "execution_count": 55,
   "id": "c8fbc288",
   "metadata": {},
   "outputs": [
    {
     "data": {
      "text/plain": [
       "452.16"
      ]
     },
     "execution_count": 55,
     "metadata": {},
     "output_type": "execute_result"
    }
   ],
   "source": [
    "#round function helps to control after decimal values\n",
    "\n",
    "round(area_of_circle,2)"
   ]
  },
  {
   "cell_type": "code",
   "execution_count": 56,
   "id": "e5b5e104",
   "metadata": {},
   "outputs": [
    {
     "name": "stdout",
     "output_type": "stream",
     "text": [
      "75.36\n",
      "75.36\n"
     ]
    }
   ],
   "source": [
    "#circumference_of_circle=2pir\n",
    "\n",
    "cirmcumference=2*pi*radius\n",
    "print(cirmcumference)\n",
    "print(round(cirmcumference,2))"
   ]
  }
 ],
 "metadata": {
  "kernelspec": {
   "display_name": "Python 3 (ipykernel)",
   "language": "python",
   "name": "python3"
  },
  "language_info": {
   "codemirror_mode": {
    "name": "ipython",
    "version": 3
   },
   "file_extension": ".py",
   "mimetype": "text/x-python",
   "name": "python",
   "nbconvert_exporter": "python",
   "pygments_lexer": "ipython3",
   "version": "3.9.13"
  }
 },
 "nbformat": 4,
 "nbformat_minor": 5
}
