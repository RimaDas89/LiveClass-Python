{
 "cells": [
  {
   "cell_type": "code",
   "execution_count": 1,
   "id": "07d2c874",
   "metadata": {},
   "outputs": [
    {
     "name": "stdout",
     "output_type": "stream",
     "text": [
      "good\n"
     ]
    }
   ],
   "source": [
    "marks=72\n",
    "\n",
    "if(marks>50):\n",
    "    print(\"good\")\n",
    "    \n",
    "else:\n",
    "    print(\"Average\")"
   ]
  },
  {
   "cell_type": "code",
   "execution_count": 2,
   "id": "f74ba5f4",
   "metadata": {},
   "outputs": [
    {
     "name": "stdout",
     "output_type": "stream",
     "text": [
      "Average\n"
     ]
    }
   ],
   "source": [
    "marks=20\n",
    "\n",
    "if(marks>50):\n",
    "    print(\"good\")\n",
    "    \n",
    "else:\n",
    "    print(\"Average\")"
   ]
  },
  {
   "cell_type": "code",
   "execution_count": 3,
   "id": "e9fb1731",
   "metadata": {},
   "outputs": [
    {
     "name": "stdout",
     "output_type": "stream",
     "text": [
      "Enter any marks 23\n",
      "Average\n"
     ]
    }
   ],
   "source": [
    "#if/ else taking user input\n",
    "\n",
    "marks=int(input('Enter any marks '))\n",
    "\n",
    "if(marks>50):\n",
    "    print(\"good\")\n",
    "    \n",
    "else:\n",
    "    print(\"Average\")"
   ]
  },
  {
   "cell_type": "code",
   "execution_count": 4,
   "id": "f305d7c4",
   "metadata": {},
   "outputs": [
    {
     "name": "stdout",
     "output_type": "stream",
     "text": [
      "Number is Even\n"
     ]
    }
   ],
   "source": [
    "i=20\n",
    "\n",
    "if(i%2==0):\n",
    "    print('Number is Even')\n",
    "\n",
    "else:\n",
    "    print('Number is ODD')"
   ]
  },
  {
   "cell_type": "code",
   "execution_count": 5,
   "id": "cc597ba2",
   "metadata": {},
   "outputs": [
    {
     "name": "stdout",
     "output_type": "stream",
     "text": [
      "Enter any number 24\n",
      "Number is Even\n"
     ]
    }
   ],
   "source": [
    "#if/ else taking user input\n",
    "\n",
    "i=int(input('Enter any number '))\n",
    "\n",
    "if(i%2==0):\n",
    "    print('Number is Even')\n",
    "\n",
    "else:\n",
    "    print('Number is ODD')"
   ]
  },
  {
   "cell_type": "code",
   "execution_count": 6,
   "id": "60aa70a7",
   "metadata": {},
   "outputs": [
    {
     "name": "stdout",
     "output_type": "stream",
     "text": [
      "Enter any number 5\n",
      "Number is ODD\n"
     ]
    }
   ],
   "source": [
    "#if/ else taking user input\n",
    "\n",
    "i=int(input('Enter any number '))\n",
    "\n",
    "if(i%2!=0):\n",
    "    print('Number is ODD')\n",
    "\n",
    "else:\n",
    "    print('Number is Even')"
   ]
  },
  {
   "cell_type": "code",
   "execution_count": 7,
   "id": "779aa9f5",
   "metadata": {},
   "outputs": [
    {
     "name": "stdout",
     "output_type": "stream",
     "text": [
      "enter any number 56\n",
      "Poor\n"
     ]
    }
   ],
   "source": [
    "marks=int(input(\"enter any number \"))\n",
    "\n",
    "if(marks>90):\n",
    "    print(\"Excellent\")\n",
    "\n",
    "elif(marks>80 and marks<=90):\n",
    "    print(\"Very good\")\n",
    "\n",
    "elif(marks>70 and marks<=80):\n",
    "    print(\"good\")\n",
    "    \n",
    "elif(marks>60 and marks<=70):\n",
    "    print(\"Average\")\n",
    "\n",
    "else:\n",
    "    print(\"Poor\")"
   ]
  },
  {
   "cell_type": "code",
   "execution_count": 8,
   "id": "7d295aad",
   "metadata": {},
   "outputs": [
    {
     "name": "stdout",
     "output_type": "stream",
     "text": [
      "Apple\n",
      "Mango\n",
      "Lichi\n",
      "Grapes\n"
     ]
    }
   ],
   "source": [
    "for i in [\"Apple\",\"Mango\",\"Lichi\",\"Grapes\"]:\n",
    "    print(i)"
   ]
  },
  {
   "cell_type": "code",
   "execution_count": 9,
   "id": "5cf33bf0",
   "metadata": {},
   "outputs": [
    {
     "name": "stdout",
     "output_type": "stream",
     "text": [
      "Apple\n",
      "Mango\n",
      "Lichi\n"
     ]
    }
   ],
   "source": [
    "#break will end the iteration of the loop in between\n",
    "\n",
    "for i in [\"Apple\",\"Mango\",\"Lichi\",\"Grapes\",\"orange\",\"pineapple\"]:\n",
    "    if(i==\"Grapes\"):\n",
    "        break\n",
    "    print(i)"
   ]
  },
  {
   "cell_type": "code",
   "execution_count": 10,
   "id": "a6cd631a",
   "metadata": {},
   "outputs": [
    {
     "name": "stdout",
     "output_type": "stream",
     "text": [
      "Apple\n",
      "Mango\n",
      "Lichi\n",
      "orange\n",
      "pineapple\n"
     ]
    }
   ],
   "source": [
    "#continue  it will continue to the next iterartion\n",
    "\n",
    "for i in [\"Apple\",\"Mango\",\"Lichi\",\"Grapes\",\"orange\",\"pineapple\"]:\n",
    "    if(i==\"Grapes\"):\n",
    "        continue\n",
    "    print(i)"
   ]
  },
  {
   "cell_type": "code",
   "execution_count": 11,
   "id": "622c3daa",
   "metadata": {},
   "outputs": [
    {
     "name": "stdout",
     "output_type": "stream",
     "text": [
      "red apple\n",
      "red banana\n",
      "red cherry\n",
      "big apple\n",
      "big banana\n",
      "big cherry\n",
      "tasty apple\n",
      "tasty banana\n",
      "tasty cherry\n"
     ]
    }
   ],
   "source": [
    "#nested Loop\n",
    "\n",
    "adj = [\"red\", \"big\", \"tasty\"]\n",
    "fruits = [\"apple\", \"banana\", \"cherry\"]\n",
    "\n",
    "for x in adj:\n",
    "  for y in fruits:\n",
    "    print(x, y)"
   ]
  },
  {
   "cell_type": "markdown",
   "id": "470bfaf9",
   "metadata": {},
   "source": [
    "#### The pass Statement"
   ]
  },
  {
   "cell_type": "markdown",
   "id": "f85a946b",
   "metadata": {},
   "source": [
    "for loops cannot be empty, but if you for some reason have a for loop with no content, put in the pass statement to avoid getting an error."
   ]
  },
  {
   "cell_type": "code",
   "execution_count": 12,
   "id": "43540a5c",
   "metadata": {},
   "outputs": [],
   "source": [
    "for x in [0, 1, 2]:\n",
    "  pass"
   ]
  },
  {
   "cell_type": "code",
   "execution_count": null,
   "id": "2a14f865",
   "metadata": {},
   "outputs": [],
   "source": []
  }
 ],
 "metadata": {
  "kernelspec": {
   "display_name": "Python 3 (ipykernel)",
   "language": "python",
   "name": "python3"
  },
  "language_info": {
   "codemirror_mode": {
    "name": "ipython",
    "version": 3
   },
   "file_extension": ".py",
   "mimetype": "text/x-python",
   "name": "python",
   "nbconvert_exporter": "python",
   "pygments_lexer": "ipython3",
   "version": "3.9.13"
  }
 },
 "nbformat": 4,
 "nbformat_minor": 5
}
