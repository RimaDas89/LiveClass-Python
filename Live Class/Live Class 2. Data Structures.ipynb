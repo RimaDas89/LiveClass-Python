{
 "cells": [
  {
   "cell_type": "markdown",
   "id": "70a03d04",
   "metadata": {},
   "source": [
    "# Data Structures"
   ]
  },
  {
   "cell_type": "markdown",
   "id": "f155accc",
   "metadata": {},
   "source": [
    "There are four collection data types in the Python programming language:\n",
    "\n",
    "* List is a collection which is ordered and changeable. Allows duplicate members.\n",
    "* Tuple is a collection which is ordered and unchangeable. Allows duplicate members.\n",
    "* Set is a collection which is unordered, unchangeable*, and unindexed. No duplicate members.\n",
    "* Dictionary is a collection which is ordered** and changeable. No duplicate members."
   ]
  },
  {
   "cell_type": "markdown",
   "id": "d466dc45",
   "metadata": {},
   "source": [
    "# List"
   ]
  },
  {
   "cell_type": "markdown",
   "id": "686ca27e",
   "metadata": {},
   "source": [
    "* Lists are used to store multiple items in a single variable.\n",
    "* Lists are created using square brackets\n",
    "* List items are ordered, changeable, allow duplicate values and indexed."
   ]
  },
  {
   "cell_type": "code",
   "execution_count": 1,
   "id": "6c7243a2",
   "metadata": {},
   "outputs": [
    {
     "data": {
      "text/plain": [
       "[1, 2, 3]"
      ]
     },
     "execution_count": 1,
     "metadata": {},
     "output_type": "execute_result"
    }
   ],
   "source": [
    "#Homogeneous list\n",
    "List1=[1,2,3]\n",
    "List1"
   ]
  },
  {
   "cell_type": "code",
   "execution_count": 2,
   "id": "34014592",
   "metadata": {},
   "outputs": [
    {
     "data": {
      "text/plain": [
       "[1, 2, 3, 4, 4]"
      ]
     },
     "execution_count": 2,
     "metadata": {},
     "output_type": "execute_result"
    }
   ],
   "source": [
    "List2=[1,2,3,4,4]\n",
    "List2"
   ]
  },
  {
   "cell_type": "code",
   "execution_count": 3,
   "id": "eaec9306",
   "metadata": {},
   "outputs": [
    {
     "data": {
      "text/plain": [
       "[87, 89, 55, 11, 44]"
      ]
     },
     "execution_count": 3,
     "metadata": {},
     "output_type": "execute_result"
    }
   ],
   "source": [
    "List4=[87,89,55,11,44]\n",
    "List4"
   ]
  },
  {
   "cell_type": "code",
   "execution_count": 4,
   "id": "04c93edf",
   "metadata": {},
   "outputs": [
    {
     "data": {
      "text/plain": [
       "[11.11, 22.22, 33.33, 89.22]"
      ]
     },
     "execution_count": 4,
     "metadata": {},
     "output_type": "execute_result"
    }
   ],
   "source": [
    "L1=[11.11,22.22,33.33,89.22]\n",
    "L1"
   ]
  },
  {
   "cell_type": "code",
   "execution_count": 5,
   "id": "a60a2cdb",
   "metadata": {},
   "outputs": [
    {
     "data": {
      "text/plain": [
       "['a', 'b', 'c', 'd', 'e', 'f']"
      ]
     },
     "execution_count": 5,
     "metadata": {},
     "output_type": "execute_result"
    }
   ],
   "source": [
    "L2=[\"a\",\"b\",\"c\",\"d\",\"e\",\"f\"]\n",
    "L2"
   ]
  },
  {
   "cell_type": "code",
   "execution_count": 6,
   "id": "052ec163",
   "metadata": {},
   "outputs": [
    {
     "data": {
      "text/plain": [
       "['apple', 'grapes', 'Kiwi', 'mango']"
      ]
     },
     "execution_count": 6,
     "metadata": {},
     "output_type": "execute_result"
    }
   ],
   "source": [
    "fruitlist=[\"apple\",\"grapes\",\"Kiwi\",\"mango\"]\n",
    "fruitlist"
   ]
  },
  {
   "cell_type": "code",
   "execution_count": 7,
   "id": "baa8a6b5",
   "metadata": {},
   "outputs": [
    {
     "data": {
      "text/plain": [
       "4"
      ]
     },
     "execution_count": 7,
     "metadata": {},
     "output_type": "execute_result"
    }
   ],
   "source": [
    "#len function gives the length of the list\n",
    "len(fruitlist)"
   ]
  },
  {
   "cell_type": "code",
   "execution_count": 8,
   "id": "e0cc0b03",
   "metadata": {},
   "outputs": [
    {
     "data": {
      "text/plain": [
       "[1, 55.99, 'apple', 88, 'l']"
      ]
     },
     "execution_count": 8,
     "metadata": {},
     "output_type": "execute_result"
    }
   ],
   "source": [
    "#heterogeneous list\n",
    "Mixedlist=[1,55.99,\"apple\",88,\"l\"]\n",
    "Mixedlist"
   ]
  },
  {
   "cell_type": "code",
   "execution_count": 9,
   "id": "c525ecb1",
   "metadata": {},
   "outputs": [
    {
     "data": {
      "text/plain": [
       "['apple', 'grapes', 'Kiwi', 'mango']"
      ]
     },
     "execution_count": 9,
     "metadata": {},
     "output_type": "execute_result"
    }
   ],
   "source": [
    "# indexing returns the item\n",
    "fruitlist"
   ]
  },
  {
   "cell_type": "code",
   "execution_count": 10,
   "id": "3c6cf5fd",
   "metadata": {},
   "outputs": [
    {
     "data": {
      "text/plain": [
       "'apple'"
      ]
     },
     "execution_count": 10,
     "metadata": {},
     "output_type": "execute_result"
    }
   ],
   "source": [
    "fruitlist[0]"
   ]
  },
  {
   "cell_type": "code",
   "execution_count": 12,
   "id": "853f2f9a",
   "metadata": {},
   "outputs": [
    {
     "data": {
      "text/plain": [
       "['apple', 'grapes', 'Kiwi', 'mango', 'pineapple', 'pineapple']"
      ]
     },
     "execution_count": 12,
     "metadata": {},
     "output_type": "execute_result"
    }
   ],
   "source": [
    "#to add data in the list we need to perform append function\n",
    "\n",
    "fruitlist.append(\"pineapple\")\n",
    "fruitlist"
   ]
  },
  {
   "cell_type": "code",
   "execution_count": 13,
   "id": "72fb9400",
   "metadata": {},
   "outputs": [],
   "source": [
    "#to add multiple data in list to need to use extend function\n",
    "\n",
    "fruitlist.extend([\"guava\",\"jackfruit\",\"Papaya\"])"
   ]
  },
  {
   "cell_type": "code",
   "execution_count": 14,
   "id": "41582347",
   "metadata": {},
   "outputs": [
    {
     "data": {
      "text/plain": [
       "['apple',\n",
       " 'grapes',\n",
       " 'Kiwi',\n",
       " 'mango',\n",
       " 'pineapple',\n",
       " 'pineapple',\n",
       " 'guava',\n",
       " 'jackfruit',\n",
       " 'Papaya']"
      ]
     },
     "execution_count": 14,
     "metadata": {},
     "output_type": "execute_result"
    }
   ],
   "source": [
    "fruitlist"
   ]
  },
  {
   "cell_type": "markdown",
   "id": "c2e17dcd",
   "metadata": {},
   "source": [
    "**N.B. if we use append method to add more than one data in the list than it will create another list inside the existence list**"
   ]
  },
  {
   "cell_type": "code",
   "execution_count": 16,
   "id": "aafa7efe",
   "metadata": {},
   "outputs": [],
   "source": [
    "#to add the data in certain position (index,\"value\")\n",
    "\n",
    "fruitlist.insert(2,\"lichi\")"
   ]
  },
  {
   "cell_type": "code",
   "execution_count": 17,
   "id": "a0263d4f",
   "metadata": {},
   "outputs": [
    {
     "data": {
      "text/plain": [
       "['apple',\n",
       " 'grapes',\n",
       " 'lichi',\n",
       " 'Kiwi',\n",
       " 'mango',\n",
       " 'pineapple',\n",
       " 'pineapple',\n",
       " 'guava',\n",
       " 'jackfruit',\n",
       " 'Papaya']"
      ]
     },
     "execution_count": 17,
     "metadata": {},
     "output_type": "execute_result"
    }
   ],
   "source": [
    "fruitlist"
   ]
  },
  {
   "cell_type": "code",
   "execution_count": 18,
   "id": "9d12351d",
   "metadata": {},
   "outputs": [
    {
     "data": {
      "text/plain": [
       "['apple',\n",
       " 'grapes',\n",
       " 'lichi',\n",
       " 'Kiwi',\n",
       " 'Dragonfruit',\n",
       " 'mango',\n",
       " 'pineapple',\n",
       " 'pineapple',\n",
       " 'guava',\n",
       " 'jackfruit',\n",
       " 'Papaya']"
      ]
     },
     "execution_count": 18,
     "metadata": {},
     "output_type": "execute_result"
    }
   ],
   "source": [
    "#another Example\n",
    "fruitlist.insert(4,\"Dragonfruit\")\n",
    "fruitlist"
   ]
  },
  {
   "cell_type": "code",
   "execution_count": 19,
   "id": "a8d957d4",
   "metadata": {},
   "outputs": [
    {
     "data": {
      "text/plain": [
       "3"
      ]
     },
     "execution_count": 19,
     "metadata": {},
     "output_type": "execute_result"
    }
   ],
   "source": [
    "#if we would like to view the index of any particular item in the list we can use\n",
    "\n",
    "fruitlist.index(\"Kiwi\")"
   ]
  },
  {
   "cell_type": "code",
   "execution_count": 20,
   "id": "40bd4000",
   "metadata": {},
   "outputs": [
    {
     "data": {
      "text/plain": [
       "['Dragonfruit',\n",
       " 'Kiwi',\n",
       " 'Papaya',\n",
       " 'apple',\n",
       " 'grapes',\n",
       " 'guava',\n",
       " 'jackfruit',\n",
       " 'lichi',\n",
       " 'mango',\n",
       " 'pineapple',\n",
       " 'pineapple']"
      ]
     },
     "execution_count": 20,
     "metadata": {},
     "output_type": "execute_result"
    }
   ],
   "source": [
    "#sort function will sort the data in the list\n",
    "fruitlist.sort()\n",
    "fruitlist"
   ]
  },
  {
   "cell_type": "code",
   "execution_count": 21,
   "id": "e6c154a1",
   "metadata": {},
   "outputs": [
    {
     "data": {
      "text/plain": [
       "['pineapple',\n",
       " 'pineapple',\n",
       " 'mango',\n",
       " 'lichi',\n",
       " 'jackfruit',\n",
       " 'guava',\n",
       " 'grapes',\n",
       " 'apple',\n",
       " 'Papaya',\n",
       " 'Kiwi',\n",
       " 'Dragonfruit']"
      ]
     },
     "execution_count": 21,
     "metadata": {},
     "output_type": "execute_result"
    }
   ],
   "source": [
    "#to view the data in desecnding order in the list\n",
    "fruitlist.reverse()\n",
    "fruitlist"
   ]
  },
  {
   "cell_type": "code",
   "execution_count": 22,
   "id": "50e92e9e",
   "metadata": {},
   "outputs": [
    {
     "data": {
      "text/plain": [
       "'Dragonfruit'"
      ]
     },
     "execution_count": 22,
     "metadata": {},
     "output_type": "execute_result"
    }
   ],
   "source": [
    "#To remove data from the list, we need to use pop function\n",
    "fruitlist.pop()"
   ]
  },
  {
   "cell_type": "code",
   "execution_count": 23,
   "id": "afa5408d",
   "metadata": {},
   "outputs": [
    {
     "data": {
      "text/plain": [
       "'pineapple'"
      ]
     },
     "execution_count": 23,
     "metadata": {},
     "output_type": "execute_result"
    }
   ],
   "source": [
    "#suppose we need to delete data from certain position from the list we need to use index number\n",
    "fruitlist.pop(1)"
   ]
  },
  {
   "cell_type": "code",
   "execution_count": 24,
   "id": "da4fa889",
   "metadata": {},
   "outputs": [],
   "source": [
    "#Another way to remove certain data from the list, we can use remove finction\n",
    "fruitlist.remove(\"guava\")"
   ]
  },
  {
   "cell_type": "code",
   "execution_count": 25,
   "id": "41cdae38",
   "metadata": {},
   "outputs": [
    {
     "data": {
      "text/plain": [
       "['pineapple',\n",
       " 'mango',\n",
       " 'lichi',\n",
       " 'jackfruit',\n",
       " 'grapes',\n",
       " 'apple',\n",
       " 'Papaya',\n",
       " 'Kiwi']"
      ]
     },
     "execution_count": 25,
     "metadata": {},
     "output_type": "execute_result"
    }
   ],
   "source": [
    "fruitlist"
   ]
  },
  {
   "cell_type": "code",
   "execution_count": 26,
   "id": "0a03c06d",
   "metadata": {},
   "outputs": [
    {
     "data": {
      "text/plain": [
       "[]"
      ]
     },
     "execution_count": 26,
     "metadata": {},
     "output_type": "execute_result"
    }
   ],
   "source": [
    "#to remove all the data from the list, we can use clearfunction\n",
    "fruitlist.clear()\n",
    "fruitlist"
   ]
  },
  {
   "cell_type": "code",
   "execution_count": 27,
   "id": "8a4101ac",
   "metadata": {},
   "outputs": [
    {
     "data": {
      "text/plain": [
       "['Mango']"
      ]
     },
     "execution_count": 27,
     "metadata": {},
     "output_type": "execute_result"
    }
   ],
   "source": [
    "#Now if we one to add data insite the list we can use, append or extend function\n",
    "fruitlist.append(\"Mango\")\n",
    "fruitlist"
   ]
  },
  {
   "cell_type": "code",
   "execution_count": 28,
   "id": "be310d4d",
   "metadata": {},
   "outputs": [
    {
     "data": {
      "text/plain": [
       "['Mango', 'Lichi', 'Peach', 'Water_melon', 'Sugar_cane']"
      ]
     },
     "execution_count": 28,
     "metadata": {},
     "output_type": "execute_result"
    }
   ],
   "source": [
    "fruitlist.extend([\"Lichi\",\"Peach\",\"Water_melon\",\"Sugar_cane\"])\n",
    "fruitlist"
   ]
  },
  {
   "cell_type": "code",
   "execution_count": 29,
   "id": "ec70580f",
   "metadata": {},
   "outputs": [
    {
     "data": {
      "text/plain": [
       "['Mango',\n",
       " 'Lichi',\n",
       " 'Peach',\n",
       " 'Water_melon',\n",
       " 'Sugar_cane',\n",
       " 'Banana',\n",
       " 'Cherry',\n",
       " 'Strawberry']"
      ]
     },
     "execution_count": 29,
     "metadata": {},
     "output_type": "execute_result"
    }
   ],
   "source": [
    "fruitlist+[\"Banana\",\"Cherry\",\"Strawberry\"] \n",
    "#this will not change the List, to hold the changes we need to keep it inside variable"
   ]
  },
  {
   "cell_type": "code",
   "execution_count": 30,
   "id": "7459af16",
   "metadata": {},
   "outputs": [
    {
     "data": {
      "text/plain": [
       "['Mango', 'Lichi', 'Peach', 'Water_melon', 'Sugar_cane']"
      ]
     },
     "execution_count": 30,
     "metadata": {},
     "output_type": "execute_result"
    }
   ],
   "source": [
    "fruitlist"
   ]
  },
  {
   "cell_type": "code",
   "execution_count": 31,
   "id": "27e90494",
   "metadata": {},
   "outputs": [
    {
     "data": {
      "text/plain": [
       "['Mango']"
      ]
     },
     "execution_count": 31,
     "metadata": {},
     "output_type": "execute_result"
    }
   ],
   "source": [
    "#Slicing Operation\n",
    "\n",
    "fruitlist[0:1]"
   ]
  },
  {
   "cell_type": "code",
   "execution_count": 32,
   "id": "a188a2c0",
   "metadata": {},
   "outputs": [
    {
     "data": {
      "text/plain": [
       "['Mango', 'Lichi']"
      ]
     },
     "execution_count": 32,
     "metadata": {},
     "output_type": "execute_result"
    }
   ],
   "source": [
    "fruitlist[0:2]"
   ]
  },
  {
   "cell_type": "code",
   "execution_count": 33,
   "id": "0800dc4f",
   "metadata": {},
   "outputs": [
    {
     "data": {
      "text/plain": [
       "['Peach', 'Water_melon', 'Sugar_cane']"
      ]
     },
     "execution_count": 33,
     "metadata": {},
     "output_type": "execute_result"
    }
   ],
   "source": [
    "fruitlist[2:]"
   ]
  },
  {
   "cell_type": "code",
   "execution_count": 34,
   "id": "ac65c467",
   "metadata": {},
   "outputs": [
    {
     "data": {
      "text/plain": [
       "['Water_melon', 'Sugar_cane']"
      ]
     },
     "execution_count": 34,
     "metadata": {},
     "output_type": "execute_result"
    }
   ],
   "source": [
    "fruitlist[3:5]"
   ]
  },
  {
   "cell_type": "code",
   "execution_count": 35,
   "id": "d3190d21",
   "metadata": {},
   "outputs": [
    {
     "data": {
      "text/plain": [
       "['Mango', 'Lichi', 'Peach', 'Water_melon']"
      ]
     },
     "execution_count": 35,
     "metadata": {},
     "output_type": "execute_result"
    }
   ],
   "source": [
    "fruitlist[:4]"
   ]
  },
  {
   "cell_type": "code",
   "execution_count": 36,
   "id": "d8b07863",
   "metadata": {},
   "outputs": [
    {
     "data": {
      "text/plain": [
       "2"
      ]
     },
     "execution_count": 36,
     "metadata": {},
     "output_type": "execute_result"
    }
   ],
   "source": [
    "#to know the index\n",
    "\n",
    "fruitlist.index(\"Peach\")"
   ]
  },
  {
   "cell_type": "code",
   "execution_count": 37,
   "id": "a9c72f19",
   "metadata": {},
   "outputs": [],
   "source": [
    "#to change any data from the particular list we can use.\n",
    "#you can see Peach is replaced with Pear\n",
    "\n",
    "fruitlist[2]=\"Pear\""
   ]
  },
  {
   "cell_type": "code",
   "execution_count": 38,
   "id": "f9d0f04b",
   "metadata": {},
   "outputs": [
    {
     "data": {
      "text/plain": [
       "['Mango', 'Lichi', 'Pear', 'Water_melon', 'Sugar_cane']"
      ]
     },
     "execution_count": 38,
     "metadata": {},
     "output_type": "execute_result"
    }
   ],
   "source": [
    "fruitlist"
   ]
  },
  {
   "cell_type": "code",
   "execution_count": 39,
   "id": "2f7c24ab",
   "metadata": {},
   "outputs": [],
   "source": [
    "#to Delete the entire list with all the data inside it\n",
    "\n",
    "del fruitlist"
   ]
  },
  {
   "cell_type": "code",
   "execution_count": 40,
   "id": "79ea502d",
   "metadata": {},
   "outputs": [
    {
     "ename": "NameError",
     "evalue": "name 'fruitlist' is not defined",
     "output_type": "error",
     "traceback": [
      "\u001b[1;31m---------------------------------------------------------------------------\u001b[0m",
      "\u001b[1;31mNameError\u001b[0m                                 Traceback (most recent call last)",
      "\u001b[1;32m~\\AppData\\Local\\Temp\\ipykernel_13128\\83626785.py\u001b[0m in \u001b[0;36m<module>\u001b[1;34m\u001b[0m\n\u001b[1;32m----> 1\u001b[1;33m \u001b[0mfruitlist\u001b[0m\u001b[1;33m\u001b[0m\u001b[1;33m\u001b[0m\u001b[0m\n\u001b[0m",
      "\u001b[1;31mNameError\u001b[0m: name 'fruitlist' is not defined"
     ]
    }
   ],
   "source": [
    "fruitlist"
   ]
  },
  {
   "cell_type": "markdown",
   "id": "4440846e",
   "metadata": {},
   "source": [
    "**List Methods**\n",
    "\n",
    "* append() Adds an element at the end of the list\n",
    "* clear() Removes all the elements from the list\n",
    "* copy() Returns a copy of the list\n",
    "* count() Returns the number of elements with the specified value\n",
    "* extend() Add the elements of a list (or any iterable), to the end of the current list\n",
    "* index() Returns the index of the first element with the specified value\n",
    "* insert() Adds an element at the specified position\n",
    "* pop() Removes the element at the specified position\n",
    "* remove() Removes the item with the specified value\n",
    "* reverse() Reverses the order of the list\n",
    "* sort() Sorts the list"
   ]
  },
  {
   "cell_type": "markdown",
   "id": "0502d097",
   "metadata": {},
   "source": [
    "# Tuples"
   ]
  },
  {
   "cell_type": "markdown",
   "id": "c6792319",
   "metadata": {},
   "source": [
    "* Tuples are used to store multiple items in a single variable.\n",
    "* Tuples are written with round brackets.\n",
    "* Tuple items are ordered, unchangeable, allow duplicate values and indexed."
   ]
  },
  {
   "cell_type": "code",
   "execution_count": 42,
   "id": "94770522",
   "metadata": {},
   "outputs": [
    {
     "data": {
      "text/plain": [
       "(1, 2, 3, 4, 5)"
      ]
     },
     "execution_count": 42,
     "metadata": {},
     "output_type": "execute_result"
    }
   ],
   "source": [
    "t1=(1,2,3,4,5)\n",
    "t1"
   ]
  },
  {
   "cell_type": "code",
   "execution_count": 43,
   "id": "08147089",
   "metadata": {},
   "outputs": [
    {
     "data": {
      "text/plain": [
       "(11, 44, 66, 88, 34)"
      ]
     },
     "execution_count": 43,
     "metadata": {},
     "output_type": "execute_result"
    }
   ],
   "source": [
    "t2=(11,44,66,88,34)\n",
    "t2"
   ]
  },
  {
   "cell_type": "code",
   "execution_count": 44,
   "id": "2690188e",
   "metadata": {},
   "outputs": [
    {
     "data": {
      "text/plain": [
       "(99, 55, 34, 23, 87, 36)"
      ]
     },
     "execution_count": 44,
     "metadata": {},
     "output_type": "execute_result"
    }
   ],
   "source": [
    "t3=(99,55,34,23,87,36)\n",
    "t3"
   ]
  },
  {
   "cell_type": "code",
   "execution_count": 45,
   "id": "6976d375",
   "metadata": {},
   "outputs": [
    {
     "data": {
      "text/plain": [
       "('a', 'b', 'C')"
      ]
     },
     "execution_count": 45,
     "metadata": {},
     "output_type": "execute_result"
    }
   ],
   "source": [
    "t4=(\"a\",\"b\",\"C\")\n",
    "t4"
   ]
  },
  {
   "cell_type": "code",
   "execution_count": 46,
   "id": "38f06da8",
   "metadata": {},
   "outputs": [
    {
     "data": {
      "text/plain": [
       "36"
      ]
     },
     "execution_count": 46,
     "metadata": {},
     "output_type": "execute_result"
    }
   ],
   "source": [
    "#check index\n",
    "t3[5]"
   ]
  },
  {
   "cell_type": "markdown",
   "id": "904ebffe",
   "metadata": {},
   "source": [
    "**Tuple Methods**\n",
    "* count() Returns the number of times a specified value occurs in a tuple\n",
    "* index() Searches the tuple for a specified value and returns the position of where it was found"
   ]
  },
  {
   "cell_type": "markdown",
   "id": "bd073392",
   "metadata": {},
   "source": [
    "# Dictionaries"
   ]
  },
  {
   "cell_type": "markdown",
   "id": "f9e46558",
   "metadata": {},
   "source": [
    "* Dictionaries are used to store data values in key:value pairs.\n",
    "* A dictionary is a collection which is ordered*, changeable and do not allow duplicates.\n",
    "* Dictionaries are written with curly brackets"
   ]
  },
  {
   "cell_type": "markdown",
   "id": "fa02a583",
   "metadata": {},
   "source": [
    "dict1={key1:Value1, key2:Value2, key2:Value2,}"
   ]
  },
  {
   "cell_type": "code",
   "execution_count": 48,
   "id": "faf1cda9",
   "metadata": {},
   "outputs": [
    {
     "data": {
      "text/plain": [
       "{'id': 1, 'name': 'Avijit', 'grade': 5}"
      ]
     },
     "execution_count": 48,
     "metadata": {},
     "output_type": "execute_result"
    }
   ],
   "source": [
    "dict1={\"id\":1,\"name\":\"Avijit\",\"grade\":5}\n",
    "dict1"
   ]
  },
  {
   "cell_type": "code",
   "execution_count": 49,
   "id": "559c379e",
   "metadata": {},
   "outputs": [
    {
     "data": {
      "text/plain": [
       "dict_keys(['id', 'name', 'grade'])"
      ]
     },
     "execution_count": 49,
     "metadata": {},
     "output_type": "execute_result"
    }
   ],
   "source": [
    "#this function will show only the keys\n",
    "dict1.keys()"
   ]
  },
  {
   "cell_type": "code",
   "execution_count": 50,
   "id": "ef429358",
   "metadata": {},
   "outputs": [
    {
     "data": {
      "text/plain": [
       "dict_values([1, 'Avijit', 5])"
      ]
     },
     "execution_count": 50,
     "metadata": {},
     "output_type": "execute_result"
    }
   ],
   "source": [
    "#this function will show only the values\n",
    "dict1.values()"
   ]
  },
  {
   "cell_type": "code",
   "execution_count": 51,
   "id": "4bba6512",
   "metadata": {},
   "outputs": [
    {
     "data": {
      "text/plain": [
       "dict_items([('id', 1), ('name', 'Avijit'), ('grade', 5)])"
      ]
     },
     "execution_count": 51,
     "metadata": {},
     "output_type": "execute_result"
    }
   ],
   "source": [
    "#this function will show both keys & values\n",
    "dict1.items()"
   ]
  },
  {
   "cell_type": "code",
   "execution_count": 52,
   "id": "ed1b976a",
   "metadata": {},
   "outputs": [
    {
     "data": {
      "text/plain": [
       "5"
      ]
     },
     "execution_count": 52,
     "metadata": {},
     "output_type": "execute_result"
    }
   ],
   "source": [
    "#We can also view particular data with this function\n",
    "dict1[\"grade\"]"
   ]
  },
  {
   "cell_type": "code",
   "execution_count": 53,
   "id": "dc1478d2",
   "metadata": {},
   "outputs": [
    {
     "data": {
      "text/plain": [
       "{'id': 1, 'name': 'Avijit', 'grade': 9}"
      ]
     },
     "execution_count": 53,
     "metadata": {},
     "output_type": "execute_result"
    }
   ],
   "source": [
    "#dictionaries are mutable, so you acn edit any data inside it\n",
    "dict1[\"grade\"]=9\n",
    "dict1"
   ]
  },
  {
   "cell_type": "code",
   "execution_count": 54,
   "id": "f46888a5",
   "metadata": {},
   "outputs": [
    {
     "data": {
      "text/plain": [
       "{'id': 1, 'name': 'Avijit', 'grade': 9, 'fees': 2000}"
      ]
     },
     "execution_count": 54,
     "metadata": {},
     "output_type": "execute_result"
    }
   ],
   "source": [
    "#to update any dictionary\n",
    "dict1.update({\"fees\":2000})\n",
    "dict1"
   ]
  },
  {
   "cell_type": "code",
   "execution_count": 55,
   "id": "0c7c8576",
   "metadata": {},
   "outputs": [
    {
     "data": {
      "text/plain": [
       "'Avijit'"
      ]
     },
     "execution_count": 55,
     "metadata": {},
     "output_type": "execute_result"
    }
   ],
   "source": [
    "#We can also print the result using the values\n",
    "\n",
    "dict1[\"name\"]"
   ]
  },
  {
   "cell_type": "code",
   "execution_count": 56,
   "id": "831da3f2",
   "metadata": {},
   "outputs": [
    {
     "name": "stdout",
     "output_type": "stream",
     "text": [
      "dict1[name]: Avijit\n"
     ]
    }
   ],
   "source": [
    "print(\"dict1[name]:\",dict1[\"name\"])"
   ]
  },
  {
   "cell_type": "code",
   "execution_count": 57,
   "id": "0632f126",
   "metadata": {},
   "outputs": [
    {
     "data": {
      "text/plain": [
       "2000"
      ]
     },
     "execution_count": 57,
     "metadata": {},
     "output_type": "execute_result"
    }
   ],
   "source": [
    "#to delete particular key from the dictionary, we need to use pop or del operation\n",
    "dict1.pop(\"fees\")"
   ]
  },
  {
   "cell_type": "code",
   "execution_count": 58,
   "id": "b1f6c11b",
   "metadata": {},
   "outputs": [
    {
     "data": {
      "text/plain": [
       "{'id': 1, 'name': 'Avijit', 'grade': 9}"
      ]
     },
     "execution_count": 58,
     "metadata": {},
     "output_type": "execute_result"
    }
   ],
   "source": [
    "dict1"
   ]
  },
  {
   "cell_type": "code",
   "execution_count": 59,
   "id": "cc74e960",
   "metadata": {},
   "outputs": [
    {
     "data": {
      "text/plain": [
       "{'id': 1, 'name': 'Avijit'}"
      ]
     },
     "execution_count": 59,
     "metadata": {},
     "output_type": "execute_result"
    }
   ],
   "source": [
    "del dict1[\"grade\"]\n",
    "\n",
    "dict1"
   ]
  },
  {
   "cell_type": "code",
   "execution_count": 60,
   "id": "6ef9dc75",
   "metadata": {},
   "outputs": [
    {
     "data": {
      "text/plain": [
       "{}"
      ]
     },
     "execution_count": 60,
     "metadata": {},
     "output_type": "execute_result"
    }
   ],
   "source": [
    "dict1.clear()\n",
    "\n",
    "dict1"
   ]
  },
  {
   "cell_type": "code",
   "execution_count": 61,
   "id": "d979fc99",
   "metadata": {},
   "outputs": [
    {
     "ename": "NameError",
     "evalue": "name 'dict1' is not defined",
     "output_type": "error",
     "traceback": [
      "\u001b[1;31m---------------------------------------------------------------------------\u001b[0m",
      "\u001b[1;31mNameError\u001b[0m                                 Traceback (most recent call last)",
      "\u001b[1;32m~\\AppData\\Local\\Temp\\ipykernel_13128\\1486349146.py\u001b[0m in \u001b[0;36m<module>\u001b[1;34m\u001b[0m\n\u001b[0;32m      1\u001b[0m \u001b[1;32mdel\u001b[0m \u001b[0mdict1\u001b[0m\u001b[1;33m\u001b[0m\u001b[1;33m\u001b[0m\u001b[0m\n\u001b[1;32m----> 2\u001b[1;33m \u001b[0mdict1\u001b[0m\u001b[1;33m\u001b[0m\u001b[1;33m\u001b[0m\u001b[0m\n\u001b[0m",
      "\u001b[1;31mNameError\u001b[0m: name 'dict1' is not defined"
     ]
    }
   ],
   "source": [
    "del dict1\n",
    "dict1"
   ]
  },
  {
   "cell_type": "code",
   "execution_count": 62,
   "id": "8fe7abb3",
   "metadata": {},
   "outputs": [
    {
     "data": {
      "text/plain": [
       "{'id': [1, 2, 3], 'name': ['Amita', 'Avijit', 'Amy'], 'grade': [9, 8, 7]}"
      ]
     },
     "execution_count": 62,
     "metadata": {},
     "output_type": "execute_result"
    }
   ],
   "source": [
    "#to add collection of data in dictionary\n",
    "dict={\"id\":[1,2,3],\"name\":[\"Amita\",\"Avijit\",\"Amy\"],\"grade\":[9,8,7]}\n",
    "dict"
   ]
  },
  {
   "cell_type": "code",
   "execution_count": 63,
   "id": "5cf1f35b",
   "metadata": {},
   "outputs": [
    {
     "data": {
      "text/plain": [
       "[1, 2, 3]"
      ]
     },
     "execution_count": 63,
     "metadata": {},
     "output_type": "execute_result"
    }
   ],
   "source": [
    "dict[\"id\"]"
   ]
  },
  {
   "cell_type": "code",
   "execution_count": 64,
   "id": "33b8056b",
   "metadata": {},
   "outputs": [
    {
     "data": {
      "text/plain": [
       "['Amita', 'Avijit', 'Amy']"
      ]
     },
     "execution_count": 64,
     "metadata": {},
     "output_type": "execute_result"
    }
   ],
   "source": [
    "dict[\"name\"]"
   ]
  },
  {
   "cell_type": "code",
   "execution_count": 65,
   "id": "1050f3b7",
   "metadata": {},
   "outputs": [
    {
     "data": {
      "text/plain": [
       "3"
      ]
     },
     "execution_count": 65,
     "metadata": {},
     "output_type": "execute_result"
    }
   ],
   "source": [
    "dict[\"id\"][2]"
   ]
  },
  {
   "cell_type": "code",
   "execution_count": 66,
   "id": "6ab651f4",
   "metadata": {},
   "outputs": [
    {
     "data": {
      "text/plain": [
       "{'id': [1, 2, 3], 'name': ['Amita', 'Avijit', 'Rima'], 'grade': [9, 8, 7]}"
      ]
     },
     "execution_count": 66,
     "metadata": {},
     "output_type": "execute_result"
    }
   ],
   "source": [
    "#to update the dictionary we can use below function\n",
    "\n",
    "dict[\"name\"][2]=\"Rima\"\n",
    "dict"
   ]
  },
  {
   "cell_type": "code",
   "execution_count": 67,
   "id": "52157629",
   "metadata": {},
   "outputs": [],
   "source": [
    "dict[\"grade\"][0]=10"
   ]
  },
  {
   "cell_type": "code",
   "execution_count": 68,
   "id": "54ecf0a8",
   "metadata": {},
   "outputs": [
    {
     "data": {
      "text/plain": [
       "{'id': [1, 2, 3], 'name': ['Amita', 'Avijit', 'Rima'], 'grade': [10, 8, 7]}"
      ]
     },
     "execution_count": 68,
     "metadata": {},
     "output_type": "execute_result"
    }
   ],
   "source": [
    "dict"
   ]
  },
  {
   "cell_type": "code",
   "execution_count": 69,
   "id": "00091445",
   "metadata": {},
   "outputs": [
    {
     "data": {
      "text/plain": [
       "[10, 8, 7]"
      ]
     },
     "execution_count": 69,
     "metadata": {},
     "output_type": "execute_result"
    }
   ],
   "source": [
    "#we can use pop operation to delete\n",
    "dict.pop(\"grade\")"
   ]
  },
  {
   "cell_type": "code",
   "execution_count": 70,
   "id": "e6105b64",
   "metadata": {},
   "outputs": [
    {
     "data": {
      "text/plain": [
       "{'id': [1, 2, 3], 'name': ['Amita', 'Avijit', 'Rima']}"
      ]
     },
     "execution_count": 70,
     "metadata": {},
     "output_type": "execute_result"
    }
   ],
   "source": [
    "dict"
   ]
  },
  {
   "cell_type": "code",
   "execution_count": 71,
   "id": "526e318b",
   "metadata": {},
   "outputs": [],
   "source": [
    "del dict"
   ]
  },
  {
   "cell_type": "code",
   "execution_count": 73,
   "id": "3e245120",
   "metadata": {},
   "outputs": [],
   "source": [
    "#another list\n",
    "\n",
    "p={10:\"java\",20:\"php\",30:\"python\"}"
   ]
  },
  {
   "cell_type": "code",
   "execution_count": 74,
   "id": "5c67d096",
   "metadata": {},
   "outputs": [
    {
     "data": {
      "text/plain": [
       "{10: 'java', 20: 'php', 30: 'python'}"
      ]
     },
     "execution_count": 74,
     "metadata": {},
     "output_type": "execute_result"
    }
   ],
   "source": [
    "p"
   ]
  },
  {
   "cell_type": "code",
   "execution_count": 75,
   "id": "0abb4eec",
   "metadata": {},
   "outputs": [],
   "source": [
    "p.update({40:\"html\"})"
   ]
  },
  {
   "cell_type": "code",
   "execution_count": 76,
   "id": "89591f55",
   "metadata": {},
   "outputs": [
    {
     "data": {
      "text/plain": [
       "{10: 'java', 20: 'php', 30: 'python', 40: 'html'}"
      ]
     },
     "execution_count": 76,
     "metadata": {},
     "output_type": "execute_result"
    }
   ],
   "source": [
    "p"
   ]
  },
  {
   "cell_type": "code",
   "execution_count": 77,
   "id": "a9c604d7",
   "metadata": {},
   "outputs": [
    {
     "data": {
      "text/plain": [
       "'html'"
      ]
     },
     "execution_count": 77,
     "metadata": {},
     "output_type": "execute_result"
    }
   ],
   "source": [
    "#if we want to view the value of any data\n",
    "p[40]"
   ]
  },
  {
   "cell_type": "code",
   "execution_count": 78,
   "id": "ccf1b30b",
   "metadata": {},
   "outputs": [],
   "source": [
    "#if we want to update it, we can use this function\n",
    "p[40]=\"wordpress\""
   ]
  },
  {
   "cell_type": "code",
   "execution_count": 79,
   "id": "0edb7130",
   "metadata": {},
   "outputs": [
    {
     "data": {
      "text/plain": [
       "{10: 'java', 20: 'php', 30: 'python', 40: 'wordpress'}"
      ]
     },
     "execution_count": 79,
     "metadata": {},
     "output_type": "execute_result"
    }
   ],
   "source": [
    "p"
   ]
  },
  {
   "cell_type": "code",
   "execution_count": 80,
   "id": "6a9ea038",
   "metadata": {},
   "outputs": [
    {
     "data": {
      "text/plain": [
       "'java'"
      ]
     },
     "execution_count": 80,
     "metadata": {},
     "output_type": "execute_result"
    }
   ],
   "source": [
    "#to delete we can use pop\n",
    "\n",
    "p.pop(10)"
   ]
  },
  {
   "cell_type": "code",
   "execution_count": 81,
   "id": "a8f3eae4",
   "metadata": {},
   "outputs": [
    {
     "data": {
      "text/plain": [
       "{20: 'php', 30: 'python', 40: 'wordpress'}"
      ]
     },
     "execution_count": 81,
     "metadata": {},
     "output_type": "execute_result"
    }
   ],
   "source": [
    "p"
   ]
  },
  {
   "cell_type": "code",
   "execution_count": 82,
   "id": "b4d9e013",
   "metadata": {},
   "outputs": [],
   "source": [
    "p.clear()"
   ]
  },
  {
   "cell_type": "code",
   "execution_count": 83,
   "id": "a5285074",
   "metadata": {},
   "outputs": [
    {
     "data": {
      "text/plain": [
       "{}"
      ]
     },
     "execution_count": 83,
     "metadata": {},
     "output_type": "execute_result"
    }
   ],
   "source": [
    "p"
   ]
  },
  {
   "cell_type": "code",
   "execution_count": 84,
   "id": "bfea6dd4",
   "metadata": {},
   "outputs": [
    {
     "ename": "NameError",
     "evalue": "name 'p' is not defined",
     "output_type": "error",
     "traceback": [
      "\u001b[1;31m---------------------------------------------------------------------------\u001b[0m",
      "\u001b[1;31mNameError\u001b[0m                                 Traceback (most recent call last)",
      "\u001b[1;32m~\\AppData\\Local\\Temp\\ipykernel_13128\\2392041283.py\u001b[0m in \u001b[0;36m<module>\u001b[1;34m\u001b[0m\n\u001b[0;32m      1\u001b[0m \u001b[1;32mdel\u001b[0m \u001b[0mp\u001b[0m\u001b[1;33m\u001b[0m\u001b[1;33m\u001b[0m\u001b[0m\n\u001b[1;32m----> 2\u001b[1;33m \u001b[0mp\u001b[0m\u001b[1;33m\u001b[0m\u001b[1;33m\u001b[0m\u001b[0m\n\u001b[0m",
      "\u001b[1;31mNameError\u001b[0m: name 'p' is not defined"
     ]
    }
   ],
   "source": [
    "del p\n",
    "p"
   ]
  },
  {
   "cell_type": "markdown",
   "id": "27005c93",
   "metadata": {},
   "source": [
    "**Dictionary Methods**\n",
    "* clear()\tRemoves all the elements from the dictionary\n",
    "* copy()\tReturns a copy of the dictionary\n",
    "* fromkeys()\tReturns a dictionary with the specified keys and value\n",
    "* get()\tReturns the value of the specified key\n",
    "* items()\tReturns a list containing a tuple for each key value pair\n",
    "* keys()\tReturns a list containing the dictionary's keys\n",
    "* pop()\tRemoves the element with the specified key\n",
    "* popitem()\tRemoves the last inserted key-value pair\n",
    "* setdefault()\tReturns the value of the specified key. If the key does not exist: insert the key, with the specified value\n",
    "* update()\tUpdates the dictionary with the specified key-value pairs\n",
    "* values()\tReturns a list of all the values in the dictionary"
   ]
  },
  {
   "cell_type": "markdown",
   "id": "ccf04fc6",
   "metadata": {},
   "source": [
    "# Sets"
   ]
  },
  {
   "cell_type": "markdown",
   "id": "c7ff3bfe",
   "metadata": {},
   "source": [
    "* sets are unordered collection of data set\n",
    "* sets are not indexed No duplicates allowed it is immutable(non editable)"
   ]
  },
  {
   "cell_type": "code",
   "execution_count": 85,
   "id": "74518bf4",
   "metadata": {},
   "outputs": [
    {
     "data": {
      "text/plain": [
       "{1, 2, 3}"
      ]
     },
     "execution_count": 85,
     "metadata": {},
     "output_type": "execute_result"
    }
   ],
   "source": [
    "s1={1,2,3}\n",
    "s1"
   ]
  },
  {
   "cell_type": "code",
   "execution_count": 86,
   "id": "a1594a09",
   "metadata": {},
   "outputs": [
    {
     "data": {
      "text/plain": [
       "{10, 23, 24, 55, 69, 87, 89}"
      ]
     },
     "execution_count": 86,
     "metadata": {},
     "output_type": "execute_result"
    }
   ],
   "source": [
    "#set dont allow dupicate values, for eg: u will see only once 10 is added\n",
    "s2={10,55,69,87,89,10,24,23,10}\n",
    "s2"
   ]
  },
  {
   "cell_type": "code",
   "execution_count": 87,
   "id": "ca89f4c2",
   "metadata": {},
   "outputs": [
    {
     "ename": "TypeError",
     "evalue": "'set' object is not subscriptable",
     "output_type": "error",
     "traceback": [
      "\u001b[1;31m---------------------------------------------------------------------------\u001b[0m",
      "\u001b[1;31mTypeError\u001b[0m                                 Traceback (most recent call last)",
      "\u001b[1;32m~\\AppData\\Local\\Temp\\ipykernel_13128\\3186627875.py\u001b[0m in \u001b[0;36m<module>\u001b[1;34m\u001b[0m\n\u001b[0;32m      1\u001b[0m \u001b[1;31m#dont allow index, it will through error\u001b[0m\u001b[1;33m\u001b[0m\u001b[1;33m\u001b[0m\u001b[0m\n\u001b[1;32m----> 2\u001b[1;33m \u001b[0ms2\u001b[0m\u001b[1;33m[\u001b[0m\u001b[1;36m0\u001b[0m\u001b[1;33m]\u001b[0m\u001b[1;33m\u001b[0m\u001b[1;33m\u001b[0m\u001b[0m\n\u001b[0m",
      "\u001b[1;31mTypeError\u001b[0m: 'set' object is not subscriptable"
     ]
    }
   ],
   "source": [
    "#dont allow index, it will through error\n",
    "s2[0]"
   ]
  },
  {
   "cell_type": "code",
   "execution_count": 88,
   "id": "db4e7b95",
   "metadata": {},
   "outputs": [
    {
     "data": {
      "text/plain": [
       "{10, 23, 24, 55, 69, 87, 89}"
      ]
     },
     "execution_count": 88,
     "metadata": {},
     "output_type": "execute_result"
    }
   ],
   "source": [
    "s2"
   ]
  },
  {
   "cell_type": "code",
   "execution_count": 89,
   "id": "ccb8e13e",
   "metadata": {},
   "outputs": [
    {
     "ename": "TypeError",
     "evalue": "'set' object does not support item assignment",
     "output_type": "error",
     "traceback": [
      "\u001b[1;31m---------------------------------------------------------------------------\u001b[0m",
      "\u001b[1;31mTypeError\u001b[0m                                 Traceback (most recent call last)",
      "\u001b[1;32m~\\AppData\\Local\\Temp\\ipykernel_13128\\176039379.py\u001b[0m in \u001b[0;36m<module>\u001b[1;34m\u001b[0m\n\u001b[0;32m      1\u001b[0m \u001b[1;31m#it wont be allow to update as well in set\u001b[0m\u001b[1;33m\u001b[0m\u001b[1;33m\u001b[0m\u001b[0m\n\u001b[1;32m----> 2\u001b[1;33m \u001b[0ms2\u001b[0m\u001b[1;33m[\u001b[0m\u001b[1;36m4\u001b[0m\u001b[1;33m]\u001b[0m\u001b[1;33m=\u001b[0m\u001b[1;36m500\u001b[0m\u001b[1;33m\u001b[0m\u001b[1;33m\u001b[0m\u001b[0m\n\u001b[0m",
      "\u001b[1;31mTypeError\u001b[0m: 'set' object does not support item assignment"
     ]
    }
   ],
   "source": [
    "#it wont be allow to update as well in set\n",
    "s2[4]=500"
   ]
  },
  {
   "cell_type": "code",
   "execution_count": 90,
   "id": "ea5cf31b",
   "metadata": {},
   "outputs": [
    {
     "data": {
      "text/plain": [
       "{10, 23, 24, 55, 69, 87, 89}"
      ]
     },
     "execution_count": 90,
     "metadata": {},
     "output_type": "execute_result"
    }
   ],
   "source": [
    "s2"
   ]
  },
  {
   "cell_type": "code",
   "execution_count": 91,
   "id": "209f0d85",
   "metadata": {},
   "outputs": [
    {
     "data": {
      "text/plain": [
       "set"
      ]
     },
     "execution_count": 91,
     "metadata": {},
     "output_type": "execute_result"
    }
   ],
   "source": [
    "type(s2)"
   ]
  },
  {
   "cell_type": "code",
   "execution_count": 92,
   "id": "ff3c1b65",
   "metadata": {},
   "outputs": [
    {
     "data": {
      "text/plain": [
       "{10, 23, 24, 69, 87, 89}"
      ]
     },
     "execution_count": 92,
     "metadata": {},
     "output_type": "execute_result"
    }
   ],
   "source": [
    "s2.remove(55)\n",
    "s2"
   ]
  },
  {
   "cell_type": "code",
   "execution_count": 93,
   "id": "525daba7",
   "metadata": {},
   "outputs": [
    {
     "data": {
      "text/plain": [
       "89"
      ]
     },
     "execution_count": 93,
     "metadata": {},
     "output_type": "execute_result"
    }
   ],
   "source": [
    "s2.pop()"
   ]
  },
  {
   "cell_type": "code",
   "execution_count": 94,
   "id": "98ad74c3",
   "metadata": {},
   "outputs": [
    {
     "ename": "NameError",
     "evalue": "name 's2' is not defined",
     "output_type": "error",
     "traceback": [
      "\u001b[1;31m---------------------------------------------------------------------------\u001b[0m",
      "\u001b[1;31mNameError\u001b[0m                                 Traceback (most recent call last)",
      "\u001b[1;32m~\\AppData\\Local\\Temp\\ipykernel_13128\\4057164302.py\u001b[0m in \u001b[0;36m<module>\u001b[1;34m\u001b[0m\n\u001b[0;32m      1\u001b[0m \u001b[1;32mdel\u001b[0m \u001b[0ms2\u001b[0m\u001b[1;33m\u001b[0m\u001b[1;33m\u001b[0m\u001b[0m\n\u001b[0;32m      2\u001b[0m \u001b[1;33m\u001b[0m\u001b[0m\n\u001b[1;32m----> 3\u001b[1;33m \u001b[0ms2\u001b[0m\u001b[1;33m\u001b[0m\u001b[1;33m\u001b[0m\u001b[0m\n\u001b[0m",
      "\u001b[1;31mNameError\u001b[0m: name 's2' is not defined"
     ]
    }
   ],
   "source": [
    "del s2\n",
    "\n",
    "s2"
   ]
  },
  {
   "cell_type": "markdown",
   "id": "eab9c3de",
   "metadata": {},
   "source": [
    "**Set Methods**\n",
    "\n",
    "* add()\tAdds an element to the set\n",
    "* clear()\tRemoves all the elements from the set\n",
    "* copy()\tReturns a copy of the set\n",
    "* difference()\tReturns a set containing the difference between two or more sets\n",
    "* difference_update()\tRemoves the items in this set that are also included in another, specified set\n",
    "* discard()\tRemove the specified item\n",
    "* intersection()\tReturns a set, that is the intersection of two other sets\n",
    "* intersection_update()\tRemoves the items in this set that are not present in other, specified set(s)\n",
    "* isdisjoint()\tReturns whether two sets have a intersection or not\n",
    "* issubset()\tReturns whether another set contains this set or not\n",
    "* issuperset()\tReturns whether this set contains another set or not\n",
    "* pop()\tRemoves an element from the set\n",
    "* remove()\tRemoves the specified element\n",
    "* symmetric_difference()\tReturns a set with the symmetric differences of two sets\n",
    "* symmetric_difference_update()\tinserts the symmetric differences from this set and another\n",
    "* union()\tReturn a set containing the union of sets\n",
    "* update()\tUpdate the set with the union of this set and others"
   ]
  },
  {
   "cell_type": "code",
   "execution_count": null,
   "id": "e1eeb8fa",
   "metadata": {},
   "outputs": [],
   "source": []
  }
 ],
 "metadata": {
  "kernelspec": {
   "display_name": "Python 3 (ipykernel)",
   "language": "python",
   "name": "python3"
  },
  "language_info": {
   "codemirror_mode": {
    "name": "ipython",
    "version": 3
   },
   "file_extension": ".py",
   "mimetype": "text/x-python",
   "name": "python",
   "nbconvert_exporter": "python",
   "pygments_lexer": "ipython3",
   "version": "3.9.13"
  }
 },
 "nbformat": 4,
 "nbformat_minor": 5
}
