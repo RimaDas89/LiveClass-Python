{
 "cells": [
  {
   "cell_type": "markdown",
   "id": "0a8323e7",
   "metadata": {},
   "source": [
    "There are 3 types of functions:\n",
    "\n",
    "1. Built-in / pre-defined\n",
    "2. User defined function\n",
    "3. lambda / anonymus function"
   ]
  },
  {
   "cell_type": "markdown",
   "id": "47e9ac2d",
   "metadata": {},
   "source": [
    "# User Defined Functions"
   ]
  },
  {
   "cell_type": "markdown",
   "id": "73eed695",
   "metadata": {},
   "source": [
    "Rules to create user defined function are:\n",
    "\n",
    "1. Defination of function\n",
    "2. Calling a function"
   ]
  },
  {
   "cell_type": "code",
   "execution_count": 1,
   "id": "1d51c7b8",
   "metadata": {},
   "outputs": [],
   "source": [
    "#define function:\n",
    "\n",
    "def function1():\n",
    "    print(\"Hello, Function\")"
   ]
  },
  {
   "cell_type": "code",
   "execution_count": 2,
   "id": "e20ef296",
   "metadata": {},
   "outputs": [
    {
     "name": "stdout",
     "output_type": "stream",
     "text": [
      "Hello, Function\n"
     ]
    }
   ],
   "source": [
    "#call a function:\n",
    "\n",
    "function1()"
   ]
  },
  {
   "cell_type": "code",
   "execution_count": 3,
   "id": "fb7d3f48",
   "metadata": {},
   "outputs": [],
   "source": [
    "#addition function example for user defined function\n",
    "\n",
    "def addfunction():\n",
    "    a=10\n",
    "    b=20\n",
    "    c=a+b\n",
    "    print(\"The value of c is \",c)"
   ]
  },
  {
   "cell_type": "code",
   "execution_count": 4,
   "id": "b0b26f05",
   "metadata": {},
   "outputs": [
    {
     "name": "stdout",
     "output_type": "stream",
     "text": [
      "The value of c is  30\n"
     ]
    }
   ],
   "source": [
    "addfunction()"
   ]
  },
  {
   "cell_type": "code",
   "execution_count": 5,
   "id": "548cf138",
   "metadata": {},
   "outputs": [],
   "source": [
    "#subtract function example for user defined function:\n",
    "\n",
    "def subtract():\n",
    "    a=10\n",
    "    b=5\n",
    "    c=a-b\n",
    "    print(\"The value of c is \",c)"
   ]
  },
  {
   "cell_type": "code",
   "execution_count": 6,
   "id": "72cc671b",
   "metadata": {},
   "outputs": [
    {
     "name": "stdout",
     "output_type": "stream",
     "text": [
      "The value of c is  5\n"
     ]
    }
   ],
   "source": [
    "subtract()"
   ]
  },
  {
   "cell_type": "code",
   "execution_count": 7,
   "id": "101b4e2b",
   "metadata": {},
   "outputs": [],
   "source": [
    "#square root function example for user defined function:\n",
    "\n",
    "def squareroot():\n",
    "    x=625\n",
    "    y=x**(1/2)\n",
    "    print(\"y= \",y)"
   ]
  },
  {
   "cell_type": "code",
   "execution_count": 8,
   "id": "fc22d340",
   "metadata": {},
   "outputs": [
    {
     "name": "stdout",
     "output_type": "stream",
     "text": [
      "y=  25.0\n"
     ]
    }
   ],
   "source": [
    "squareroot()"
   ]
  },
  {
   "cell_type": "code",
   "execution_count": 9,
   "id": "a1078429",
   "metadata": {},
   "outputs": [],
   "source": [
    "#area of circle\n",
    "\n",
    "def areaofcircle():\n",
    "    pi=3.14\n",
    "    radius=3.14\n",
    "    area=pi*(radius**2)\n",
    "    print(\"Area of circle is \",area)"
   ]
  },
  {
   "cell_type": "code",
   "execution_count": 10,
   "id": "49528f2b",
   "metadata": {},
   "outputs": [
    {
     "name": "stdout",
     "output_type": "stream",
     "text": [
      "Area of circle is  30.959144000000002\n"
     ]
    }
   ],
   "source": [
    "areaofcircle()"
   ]
  },
  {
   "cell_type": "code",
   "execution_count": 11,
   "id": "de5c5cc0",
   "metadata": {},
   "outputs": [],
   "source": [
    "#taking user input addition function example for user defined function\n",
    "\n",
    "def addfunction():\n",
    "    a=int(input(\"enter the value of a : \"))\n",
    "    b=int(input(\"enter the value of b : \"))\n",
    "    c=a+b\n",
    "    print(\"The value of c is \",c)"
   ]
  },
  {
   "cell_type": "code",
   "execution_count": 12,
   "id": "619efc45",
   "metadata": {},
   "outputs": [
    {
     "name": "stdout",
     "output_type": "stream",
     "text": [
      "enter the value of a : 5\n",
      "enter the value of b : 6\n",
      "The value of c is  11\n"
     ]
    }
   ],
   "source": [
    "addfunction()"
   ]
  },
  {
   "cell_type": "code",
   "execution_count": 13,
   "id": "322ab657",
   "metadata": {},
   "outputs": [],
   "source": [
    "#area of circle taking user input\n",
    "\n",
    "def areaofcircle():\n",
    "    pi=3.14\n",
    "    radius=float(input(\"enter the raduis\"))\n",
    "    area=pi*(radius**2)\n",
    "    print(\"Area of circle is \",area)"
   ]
  },
  {
   "cell_type": "code",
   "execution_count": 14,
   "id": "f7827384",
   "metadata": {},
   "outputs": [
    {
     "name": "stdout",
     "output_type": "stream",
     "text": [
      "enter the raduis2\n",
      "Area of circle is  12.56\n"
     ]
    }
   ],
   "source": [
    "areaofcircle()"
   ]
  },
  {
   "cell_type": "markdown",
   "id": "1dcc2aed",
   "metadata": {},
   "source": [
    "## Parametric Function"
   ]
  },
  {
   "cell_type": "code",
   "execution_count": 15,
   "id": "7d48ffdc",
   "metadata": {},
   "outputs": [],
   "source": [
    "#simplest parameter\n",
    "\n",
    "def addf(a,b):\n",
    "    c=a+b\n",
    "    print(\"c= \",c)"
   ]
  },
  {
   "cell_type": "code",
   "execution_count": 16,
   "id": "55446cce",
   "metadata": {},
   "outputs": [
    {
     "name": "stdout",
     "output_type": "stream",
     "text": [
      "c=  15\n"
     ]
    }
   ],
   "source": [
    "a=5\n",
    "b=10\n",
    "addf(a,b)"
   ]
  },
  {
   "cell_type": "code",
   "execution_count": 17,
   "id": "fa2147ee",
   "metadata": {},
   "outputs": [],
   "source": [
    "#we can also do this\n",
    "\n",
    "def subt(c,d):\n",
    "    subtract=c-d\n",
    "    print(\"subtraction= \",subtract)"
   ]
  },
  {
   "cell_type": "code",
   "execution_count": 18,
   "id": "3053bf3d",
   "metadata": {},
   "outputs": [
    {
     "name": "stdout",
     "output_type": "stream",
     "text": [
      "subtraction=  50\n"
     ]
    }
   ],
   "source": [
    "c=100\n",
    "d=50\n",
    "\n",
    "subt(c,d)"
   ]
  },
  {
   "cell_type": "code",
   "execution_count": 19,
   "id": "3d99f993",
   "metadata": {},
   "outputs": [],
   "source": [
    "#more simple way:\n",
    "\n",
    "def multi(m1,m2):\n",
    "    print(\"Multiply= \",m1*m2)"
   ]
  },
  {
   "cell_type": "code",
   "execution_count": 20,
   "id": "c61cdddd",
   "metadata": {},
   "outputs": [
    {
     "name": "stdout",
     "output_type": "stream",
     "text": [
      "Multiply=  24642\n"
     ]
    }
   ],
   "source": [
    "m1=111\n",
    "m2=222\n",
    "\n",
    "multi(m1,m2)"
   ]
  },
  {
   "cell_type": "code",
   "execution_count": 21,
   "id": "91bf0f68",
   "metadata": {},
   "outputs": [
    {
     "name": "stdout",
     "output_type": "stream",
     "text": [
      "Multiply=  90\n"
     ]
    }
   ],
   "source": [
    "#directly even we can call the function:\n",
    "\n",
    "multi(45,2)"
   ]
  },
  {
   "cell_type": "code",
   "execution_count": 22,
   "id": "6e2ffa2f",
   "metadata": {},
   "outputs": [],
   "source": [
    "#add function using 3 variables:\n",
    "\n",
    "def add(a,b,c):\n",
    "    print:(\"Add=\",a+b+c)"
   ]
  },
  {
   "cell_type": "code",
   "execution_count": 23,
   "id": "99de3763",
   "metadata": {},
   "outputs": [],
   "source": [
    "#directly calling the function adding values\n",
    "\n",
    "add(10,30,59)"
   ]
  },
  {
   "cell_type": "code",
   "execution_count": 24,
   "id": "ddc44170",
   "metadata": {},
   "outputs": [],
   "source": [
    "#multiple calculation:\n",
    "\n",
    "def test(x,y):\n",
    "    add=x+y\n",
    "    print(\"Add=\",add)\n",
    "    sub=x-y\n",
    "    print(\"Subtraction=\",sub)\n",
    "    mul=x*y\n",
    "    print(\"Multiplication\",mul)"
   ]
  },
  {
   "cell_type": "code",
   "execution_count": 25,
   "id": "73341886",
   "metadata": {},
   "outputs": [
    {
     "name": "stdout",
     "output_type": "stream",
     "text": [
      "Add= 52\n",
      "Subtraction= 48\n",
      "Multiplication 100\n"
     ]
    }
   ],
   "source": [
    "test(50,2)"
   ]
  },
  {
   "cell_type": "code",
   "execution_count": 26,
   "id": "1834903d",
   "metadata": {},
   "outputs": [],
   "source": [
    "#in parametric function, you need to desgn the code first then u can take user input:\n",
    "\n",
    "def areaofrec(length,breadth):\n",
    "    area=length*breadth\n",
    "    print(\"Area of rectangle= \",area)"
   ]
  },
  {
   "cell_type": "code",
   "execution_count": 27,
   "id": "3d6d8945",
   "metadata": {},
   "outputs": [
    {
     "name": "stdout",
     "output_type": "stream",
     "text": [
      "enter length35\n",
      "enter breadth36\n",
      "Area of rectangle=  1260\n"
     ]
    }
   ],
   "source": [
    "length=int(input(\"enter length\"))\n",
    "breadth=int(input(\"enter breadth\"))\n",
    "\n",
    "areaofrec(length,breadth)"
   ]
  },
  {
   "cell_type": "markdown",
   "id": "454bbded",
   "metadata": {},
   "source": [
    "## Arguments"
   ]
  },
  {
   "cell_type": "markdown",
   "id": "c5634daa",
   "metadata": {},
   "source": [
    "Information can be passed into functions as arguments.\n",
    "\n",
    "Arguments are specified after the function name, inside the parentheses. You can add as many arguments as you want, just separate them with a comma."
   ]
  },
  {
   "cell_type": "code",
   "execution_count": 28,
   "id": "e335423f",
   "metadata": {},
   "outputs": [],
   "source": [
    "def addf(*args):\n",
    "    print(sum(args))"
   ]
  },
  {
   "cell_type": "code",
   "execution_count": 29,
   "id": "fdf152ad",
   "metadata": {},
   "outputs": [
    {
     "name": "stdout",
     "output_type": "stream",
     "text": [
      "3\n"
     ]
    }
   ],
   "source": [
    "addf(1,2)"
   ]
  },
  {
   "cell_type": "code",
   "execution_count": 30,
   "id": "c3d29353",
   "metadata": {},
   "outputs": [
    {
     "name": "stdout",
     "output_type": "stream",
     "text": [
      "6\n"
     ]
    }
   ],
   "source": [
    "addf(1,2,3)"
   ]
  },
  {
   "cell_type": "code",
   "execution_count": 31,
   "id": "55eef6e0",
   "metadata": {},
   "outputs": [],
   "source": [
    "# another way using * numbers:\n",
    "\n",
    "def min(*num):\n",
    "    print(min(num))"
   ]
  },
  {
   "cell_type": "code",
   "execution_count": 1,
   "id": "7fc5828b",
   "metadata": {},
   "outputs": [
    {
     "data": {
      "text/plain": [
       "1"
      ]
     },
     "execution_count": 1,
     "metadata": {},
     "output_type": "execute_result"
    }
   ],
   "source": [
    "min(1,45,9)"
   ]
  },
  {
   "cell_type": "code",
   "execution_count": 2,
   "id": "a467936f",
   "metadata": {},
   "outputs": [],
   "source": [
    "#def with max funct:\n",
    "\n",
    "def max(*a):\n",
    "    print(max(a))"
   ]
  },
  {
   "cell_type": "code",
   "execution_count": 1,
   "id": "550661d6",
   "metadata": {},
   "outputs": [
    {
     "data": {
      "text/plain": [
       "88"
      ]
     },
     "execution_count": 1,
     "metadata": {},
     "output_type": "execute_result"
    }
   ],
   "source": [
    "max(45,69,88,55,2)"
   ]
  },
  {
   "cell_type": "code",
   "execution_count": 2,
   "id": "42189f73",
   "metadata": {},
   "outputs": [],
   "source": [
    "def test_func(*numbers):\n",
    "    total=0\n",
    "    for i in numbers:\n",
    "        total=total+i\n",
    "    print(total)"
   ]
  },
  {
   "cell_type": "code",
   "execution_count": 3,
   "id": "f4e3a6c9",
   "metadata": {},
   "outputs": [
    {
     "name": "stdout",
     "output_type": "stream",
     "text": [
      "70\n"
     ]
    }
   ],
   "source": [
    "test_func(10,20,40)"
   ]
  },
  {
   "cell_type": "code",
   "execution_count": 4,
   "id": "ecc3bf6a",
   "metadata": {},
   "outputs": [
    {
     "name": "stdout",
     "output_type": "stream",
     "text": [
      "120\n"
     ]
    }
   ],
   "source": [
    "test_func(10,20,40,50)"
   ]
  },
  {
   "cell_type": "markdown",
   "id": "66d1e94e",
   "metadata": {},
   "source": [
    "## **kwargs(keyword arguments)"
   ]
  },
  {
   "cell_type": "code",
   "execution_count": 5,
   "id": "c0dbce2d",
   "metadata": {},
   "outputs": [],
   "source": [
    "def fuc(**kwargs):\n",
    "    result=\" \"\n",
    "    for i in kwargs.values():\n",
    "        result=result+i\n",
    "    print(result)"
   ]
  },
  {
   "cell_type": "code",
   "execution_count": 6,
   "id": "cb71362e",
   "metadata": {},
   "outputs": [
    {
     "name": "stdout",
     "output_type": "stream",
     "text": [
      " AppleIphonemacbook\n"
     ]
    }
   ],
   "source": [
    "fuc(a=\"Apple\",b=\"Iphone\",c=\"macbook\" )"
   ]
  },
  {
   "cell_type": "code",
   "execution_count": 10,
   "id": "560dd713",
   "metadata": {},
   "outputs": [],
   "source": [
    "def concatenate(**words):\n",
    "    result=\"\"\n",
    "    for arg in words.values():\n",
    "        result+= arg\n",
    "        return result"
   ]
  },
  {
   "cell_type": "code",
   "execution_count": 11,
   "id": "14d1a01a",
   "metadata": {},
   "outputs": [
    {
     "name": "stdout",
     "output_type": "stream",
     "text": [
      "Avijit\n"
     ]
    }
   ],
   "source": [
    "print(concatenate(a=\"Avijit\", b=\"is\", c=\"my\", d=\"husband\"))"
   ]
  },
  {
   "cell_type": "code",
   "execution_count": null,
   "id": "84262bb2",
   "metadata": {},
   "outputs": [],
   "source": []
  }
 ],
 "metadata": {
  "kernelspec": {
   "display_name": "Python 3 (ipykernel)",
   "language": "python",
   "name": "python3"
  },
  "language_info": {
   "codemirror_mode": {
    "name": "ipython",
    "version": 3
   },
   "file_extension": ".py",
   "mimetype": "text/x-python",
   "name": "python",
   "nbconvert_exporter": "python",
   "pygments_lexer": "ipython3",
   "version": "3.9.13"
  }
 },
 "nbformat": 4,
 "nbformat_minor": 5
}
