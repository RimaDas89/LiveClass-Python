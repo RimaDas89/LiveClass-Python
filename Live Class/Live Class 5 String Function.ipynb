{
 "cells": [
  {
   "cell_type": "code",
   "execution_count": 1,
   "id": "bd2e054a",
   "metadata": {},
   "outputs": [],
   "source": [
    "a=\"datascience\""
   ]
  },
  {
   "cell_type": "code",
   "execution_count": 2,
   "id": "a3d75057",
   "metadata": {},
   "outputs": [
    {
     "data": {
      "text/plain": [
       "'DATASCIENCE'"
      ]
     },
     "execution_count": 2,
     "metadata": {},
     "output_type": "execute_result"
    }
   ],
   "source": [
    "#it wont change the data in uppercase permanently\n",
    "a.upper()"
   ]
  },
  {
   "cell_type": "code",
   "execution_count": 3,
   "id": "fad3c1b9",
   "metadata": {},
   "outputs": [],
   "source": [
    "b=\"AVIJIT\""
   ]
  },
  {
   "cell_type": "code",
   "execution_count": 4,
   "id": "987480fa",
   "metadata": {},
   "outputs": [
    {
     "data": {
      "text/plain": [
       "'avijit'"
      ]
     },
     "execution_count": 4,
     "metadata": {},
     "output_type": "execute_result"
    }
   ],
   "source": [
    "#it wont change the data in Lowercase permanently\n",
    "b.lower()"
   ]
  },
  {
   "cell_type": "code",
   "execution_count": 5,
   "id": "f23b0cea",
   "metadata": {},
   "outputs": [],
   "source": [
    "#it wont change the data in SWApcase permanently\n",
    "c=\"NetfliX\""
   ]
  },
  {
   "cell_type": "code",
   "execution_count": 6,
   "id": "f3dbf032",
   "metadata": {},
   "outputs": [
    {
     "data": {
      "text/plain": [
       "'nETFLIx'"
      ]
     },
     "execution_count": 6,
     "metadata": {},
     "output_type": "execute_result"
    }
   ],
   "source": [
    "c.swapcase()"
   ]
  },
  {
   "cell_type": "code",
   "execution_count": 7,
   "id": "cbe47368",
   "metadata": {},
   "outputs": [],
   "source": [
    "d=\"Avijit is my husband\""
   ]
  },
  {
   "cell_type": "code",
   "execution_count": 8,
   "id": "7369558b",
   "metadata": {},
   "outputs": [
    {
     "data": {
      "text/plain": [
       "['Avijit', 'is', 'my', 'husband']"
      ]
     },
     "execution_count": 8,
     "metadata": {},
     "output_type": "execute_result"
    }
   ],
   "source": [
    "#it will split the entire sentence\n",
    "d.split()"
   ]
  },
  {
   "cell_type": "code",
   "execution_count": 9,
   "id": "386bc708",
   "metadata": {},
   "outputs": [
    {
     "data": {
      "text/plain": [
       "'Avijit is my husband'"
      ]
     },
     "execution_count": 9,
     "metadata": {},
     "output_type": "execute_result"
    }
   ],
   "source": [
    "d.capitalize()"
   ]
  },
  {
   "cell_type": "code",
   "execution_count": 10,
   "id": "7366b5cd",
   "metadata": {},
   "outputs": [
    {
     "data": {
      "text/plain": [
       "'Avijit Is My Husband'"
      ]
     },
     "execution_count": 10,
     "metadata": {},
     "output_type": "execute_result"
    }
   ],
   "source": [
    "d.title()"
   ]
  },
  {
   "cell_type": "code",
   "execution_count": 11,
   "id": "dafd52af",
   "metadata": {},
   "outputs": [
    {
     "data": {
      "text/plain": [
       "True"
      ]
     },
     "execution_count": 11,
     "metadata": {},
     "output_type": "execute_result"
    }
   ],
   "source": [
    "#The isalpha() method returns True if all the characters are alphabet letters (a-z).\n",
    "\n",
    "c.isalpha()"
   ]
  },
  {
   "cell_type": "code",
   "execution_count": 12,
   "id": "7b39892f",
   "metadata": {},
   "outputs": [
    {
     "data": {
      "text/plain": [
       "'Avijit is deeply madly in love with me'"
      ]
     },
     "execution_count": 12,
     "metadata": {},
     "output_type": "execute_result"
    }
   ],
   "source": [
    "A=\"Avijit is deeply madly in love with me\"\n",
    "A"
   ]
  },
  {
   "cell_type": "code",
   "execution_count": 13,
   "id": "0f6fe376",
   "metadata": {},
   "outputs": [
    {
     "data": {
      "text/plain": [
       "True"
      ]
     },
     "execution_count": 13,
     "metadata": {},
     "output_type": "execute_result"
    }
   ],
   "source": [
    "A.startswith('Avijit')"
   ]
  },
  {
   "cell_type": "code",
   "execution_count": 14,
   "id": "9ae2d217",
   "metadata": {},
   "outputs": [
    {
     "data": {
      "text/plain": [
       "False"
      ]
     },
     "execution_count": 14,
     "metadata": {},
     "output_type": "execute_result"
    }
   ],
   "source": [
    "A.endswith(\"love\")"
   ]
  },
  {
   "cell_type": "code",
   "execution_count": 15,
   "id": "da862561",
   "metadata": {},
   "outputs": [
    {
     "data": {
      "text/plain": [
       "'begining'"
      ]
     },
     "execution_count": 15,
     "metadata": {},
     "output_type": "execute_result"
    }
   ],
   "source": [
    "#islower(), isupper() will show us whether the string is upper or lower case\n",
    "\n",
    "new=\"begining\"\n",
    "new"
   ]
  },
  {
   "cell_type": "code",
   "execution_count": 16,
   "id": "6b8f1641",
   "metadata": {},
   "outputs": [
    {
     "data": {
      "text/plain": [
       "True"
      ]
     },
     "execution_count": 16,
     "metadata": {},
     "output_type": "execute_result"
    }
   ],
   "source": [
    "new.islower()"
   ]
  },
  {
   "cell_type": "code",
   "execution_count": 17,
   "id": "8c1bc93a",
   "metadata": {},
   "outputs": [
    {
     "data": {
      "text/plain": [
       "False"
      ]
     },
     "execution_count": 17,
     "metadata": {},
     "output_type": "execute_result"
    }
   ],
   "source": [
    "new.isupper()"
   ]
  },
  {
   "cell_type": "code",
   "execution_count": 18,
   "id": "aabc15bc",
   "metadata": {},
   "outputs": [
    {
     "data": {
      "text/plain": [
       "True"
      ]
     },
     "execution_count": 18,
     "metadata": {},
     "output_type": "execute_result"
    }
   ],
   "source": [
    "#isaplha() & isdigit will show whether there is alphabets or digit inside it\n",
    "\n",
    "new.isalpha()"
   ]
  },
  {
   "cell_type": "code",
   "execution_count": 19,
   "id": "de5858b5",
   "metadata": {},
   "outputs": [
    {
     "data": {
      "text/plain": [
       "False"
      ]
     },
     "execution_count": 19,
     "metadata": {},
     "output_type": "execute_result"
    }
   ],
   "source": [
    "new.isdigit()"
   ]
  },
  {
   "cell_type": "code",
   "execution_count": 20,
   "id": "171244ff",
   "metadata": {},
   "outputs": [
    {
     "data": {
      "text/plain": [
       "'Avijit123'"
      ]
     },
     "execution_count": 20,
     "metadata": {},
     "output_type": "execute_result"
    }
   ],
   "source": [
    "new1=\"Avijit123\"\n",
    "new1"
   ]
  },
  {
   "cell_type": "code",
   "execution_count": 21,
   "id": "b910dba2",
   "metadata": {},
   "outputs": [
    {
     "data": {
      "text/plain": [
       "True"
      ]
     },
     "execution_count": 21,
     "metadata": {},
     "output_type": "execute_result"
    }
   ],
   "source": [
    "#isalnum stands for alphabet and numeric vaues\n",
    "\n",
    "new1.isalnum()"
   ]
  },
  {
   "cell_type": "code",
   "execution_count": 22,
   "id": "1df447c1",
   "metadata": {},
   "outputs": [
    {
     "data": {
      "text/plain": [
       "26"
      ]
     },
     "execution_count": 22,
     "metadata": {},
     "output_type": "execute_result"
    }
   ],
   "source": [
    "#find will look for the word where it is located\n",
    "\n",
    "A.find(\"love\")"
   ]
  },
  {
   "cell_type": "code",
   "execution_count": 23,
   "id": "656cc440",
   "metadata": {},
   "outputs": [
    {
     "data": {
      "text/plain": [
       "31"
      ]
     },
     "execution_count": 23,
     "metadata": {},
     "output_type": "execute_result"
    }
   ],
   "source": [
    "#find will look for the word where it is located With Range\n",
    "\n",
    "A.find(\"with\",20,45)"
   ]
  },
  {
   "cell_type": "code",
   "execution_count": 24,
   "id": "f665f237",
   "metadata": {},
   "outputs": [
    {
     "data": {
      "text/plain": [
       "5"
      ]
     },
     "execution_count": 24,
     "metadata": {},
     "output_type": "execute_result"
    }
   ],
   "source": [
    "#how many times i is present in the variable A\n",
    "\n",
    "A.count(\"i\")"
   ]
  },
  {
   "cell_type": "code",
   "execution_count": 25,
   "id": "1fa44a00",
   "metadata": {},
   "outputs": [],
   "source": [
    "#replace function will replace the old word with new\n",
    "\n",
    "A=\"Avijit is deeply madly in love with me\""
   ]
  },
  {
   "cell_type": "code",
   "execution_count": 26,
   "id": "2fa25d06",
   "metadata": {},
   "outputs": [
    {
     "data": {
      "text/plain": [
       "'Avijit is deeply madly in love with amy'"
      ]
     },
     "execution_count": 26,
     "metadata": {},
     "output_type": "execute_result"
    }
   ],
   "source": [
    "A.replace('me','amy')"
   ]
  },
  {
   "cell_type": "markdown",
   "id": "694626e8",
   "metadata": {},
   "source": [
    "### The join()"
   ]
  },
  {
   "cell_type": "markdown",
   "id": "42df66ec",
   "metadata": {},
   "source": [
    "The join() string method returns by joining all the elements of an iterable(list,string,tuples), separated by a string separator"
   ]
  },
  {
   "cell_type": "code",
   "execution_count": 27,
   "id": "7ef36329",
   "metadata": {},
   "outputs": [
    {
     "data": {
      "text/plain": [
       "['Avijit', 'is', 'emotionally', 'physically', 'attracted', 'to', 'me']"
      ]
     },
     "execution_count": 27,
     "metadata": {},
     "output_type": "execute_result"
    }
   ],
   "source": [
    "text=[\"Avijit\",\"is\",\"emotionally\",\"physically\",\"attracted\",\"to\",\"me\"]\n",
    "text"
   ]
  },
  {
   "cell_type": "code",
   "execution_count": 28,
   "id": "3ee23327",
   "metadata": {},
   "outputs": [
    {
     "data": {
      "text/plain": [
       "'Avijitisemotionallyphysicallyattractedtome'"
      ]
     },
     "execution_count": 28,
     "metadata": {},
     "output_type": "execute_result"
    }
   ],
   "source": [
    "#join element oftext with no space\n",
    "\n",
    "\"\".join(text)"
   ]
  },
  {
   "cell_type": "code",
   "execution_count": 29,
   "id": "a0d07dbd",
   "metadata": {},
   "outputs": [
    {
     "data": {
      "text/plain": [
       "'Avijit is emotionally physically attracted to me'"
      ]
     },
     "execution_count": 29,
     "metadata": {},
     "output_type": "execute_result"
    }
   ],
   "source": [
    "#join element oftext with space\n",
    "\n",
    "\" \".join(text)"
   ]
  },
  {
   "cell_type": "code",
   "execution_count": 30,
   "id": "af73c650",
   "metadata": {},
   "outputs": [
    {
     "name": "stdout",
     "output_type": "stream",
     "text": [
      "Matched\n"
     ]
    }
   ],
   "source": [
    "#casefold ignores the matching of words by lowercase or uppercase\n",
    "\n",
    "string1=\"Tesla\"\n",
    "string2=\"tesla\"\n",
    "\n",
    "if string1.casefold()==string2.casefold():\n",
    "    print(\"Matched\")\n",
    "else:\n",
    "    print(\"not matched\")"
   ]
  },
  {
   "cell_type": "code",
   "execution_count": null,
   "id": "70246601",
   "metadata": {},
   "outputs": [],
   "source": []
  }
 ],
 "metadata": {
  "kernelspec": {
   "display_name": "Python 3 (ipykernel)",
   "language": "python",
   "name": "python3"
  },
  "language_info": {
   "codemirror_mode": {
    "name": "ipython",
    "version": 3
   },
   "file_extension": ".py",
   "mimetype": "text/x-python",
   "name": "python",
   "nbconvert_exporter": "python",
   "pygments_lexer": "ipython3",
   "version": "3.9.13"
  }
 },
 "nbformat": 4,
 "nbformat_minor": 5
}
